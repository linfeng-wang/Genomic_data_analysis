{
 "cells": [
  {
   "cell_type": "code",
   "execution_count": 1,
   "metadata": {},
   "outputs": [],
   "source": [
    "from unittest import result\n",
    "from icecream import ic\n",
    "import numpy as np\n",
    "import pandas as pd\n",
    "import plotly.graph_objects as go\n",
    "from plotly.subplots import make_subplots\n",
    "import matplotlib.pyplot as plt\n",
    "import os\n",
    "import json\n",
    "import subprocess\n",
    "import itertools\n",
    "from statistics import mean\n",
    "from sklearn.metrics import mean_squared_error\n",
    "import re\n",
    "import tqdm\n",
    "import glob\n",
    "from sklearn.metrics import mean_squared_error\n"
   ]
  },
  {
   "cell_type": "code",
   "execution_count": 10,
   "metadata": {},
   "outputs": [],
   "source": [
    "quanttb_output = glob.glob('mixed_infection_output/*.txt')\n",
    "MSE_quantb= {'0595':[],'1090':[],'1585':[],'2080':[],'2575':[],'3070':[],'3565':[],'4060':[],'4555':[],'5050':[]}\n",
    "\n",
    "for x in quanttb_output:\n",
    "    df = pd.read_csv(x)\n",
    "    # print(x)\n",
    "    ratio = x.split('-')[2].split('.')[0]\n",
    "    string1 = slice(0,2)\n",
    "    string2 = slice(2,4)\n",
    "    r1, r2 = int(ratio[string1])/100, int(ratio[string2])/100\n",
    "    if r1 >= r2:\n",
    "        pass\n",
    "    else:\n",
    "        r1, r2 = r2, r1        \n",
    "\n",
    "    quanttb = df[' relabundance'].values.tolist()\n",
    "    if len(quanttb) == 1:\n",
    "        quanttb.append(0)\n",
    "    quanttb = quanttb[:2]\n",
    "\n",
    "    MSE_quantb[ratio].append(mean_squared_error([r1, r2], quanttb))\n",
    "\n",
    "for k,v in MSE_quantb.items():\n",
    "    MSE_quantb[k] = mean(v)"
   ]
  },
  {
   "cell_type": "code",
   "execution_count": null,
   "metadata": {},
   "outputs": [],
   "source": [
    "tbp_output = glob.glob('/mnt/storage7/lwang/trial_tb_philippines/data/processed/seqtk_new/tb-profiler/results/*.results.json')\n",
    "\n",
    "FOLDER_PATH = \"/mnt/storage7/lwang/trial_tb_philippines/pipelines/Genomic_data_analysis/Executable_eval/results/insilico_mix_new_0.99/mixture_results/profiles\"\n",
    "NAME_PATH = '/mnt/storage7/lwang/trial_tb_philippines/pipelines/Genomic_data_analysis/Executable_eval/results/insilico_mix/mixture_results/'\n",
    "        \n",
    "from sklearn.metrics import mean_squared_error\n",
    "\n",
    "designed_ratio = [[0.05,0.95],[0.10,0.90],[0.15,0.85],[0.20,0.80],[0.25,0.75],[0.30,0.70],[0.35,0.65],[0.40,0.60],[0.45,0.55],[0.50,0.50],[0.55,0.45],[0.60,0.40],[0.65,0.35],[0.70,0.30],[0.75,0.25],[0.80,0.20],[0.85,0.15],[0.90,0.10]]\n",
    "MSE_tbp= {'0595':[],'1090':[],'1585':[],'2080':[],'2575':[],'3070':[],'3565':[],'4060':[],'4555':[],'5050':[]}\n",
    "\n",
    "tb = []\n",
    "mse_tb = []\n",
    "labels = ['0595','1090','1585','2080','2575','3070','3565','4060','4555','5050']\n",
    "\n",
    "for x in tbp_output:\n",
    "    ratio = x.split('-')[3].split('.')[0]\n",
    "    string1 = slice(0,2)\n",
    "    string2 = slice(2,4)\n",
    "    r1, r2 = int(ratio[string1])/100, int(ratio[string2])/100\n",
    "    if r1 >= r2:\n",
    "        pass\n",
    "    else:\n",
    "        r1, r2 = r2, r1       \n",
    "    \n",
    "    \n",
    "    FILE_PATH = x\n",
    "    json_results = json.load(open(FILE_PATH))\n",
    "    tb_pred =[]  # put lineage 1 and lineage 4 in here - the labels uses ratio of lineage4-lineage1 but the output of gmm model always outputs the lineage with higher proportion first\n",
    "    sublin = json_results['sublin'].split(';')\n",
    "    tbp_freq = []\n",
    "\n",
    "    for s in sublin:\n",
    "        for x in json_results['lineage']:\n",
    "            if x['lin'] == s:\n",
    "                tbp_freq.append(x['frac'])\n",
    "    if len(tbp_freq) == 1:\n",
    "        tbp_freq.append(0)\n",
    "    if tbp_freq[0] > tbp_freq[1]:\n",
    "        pass\n",
    "    else:\n",
    "        tbp_freq[0], tbp_freq[1] = tbp_freq[1], tbp_freq[0]            \n",
    "    \n",
    "    MSE_tbp[ratio].append(mean_squared_error([r1, r2], tbp_freq))\n",
    "    \n",
    "for k,v in MSE_tbp.items():\n",
    "    print(v)\n",
    "    MSE_tbp[k] = mean(v)\n",
    "\n"
   ]
  },
  {
   "cell_type": "code",
   "execution_count": 55,
   "metadata": {},
   "outputs": [
    {
     "data": {
      "application/vnd.plotly.v1+json": {
       "config": {
        "plotlyServerURL": "https://plot.ly"
       },
       "data": [
        {
         "line": {
          "color": "blue"
         },
         "mode": "lines",
         "name": "Quant-tb",
         "type": "scatter",
         "x": [
          "0595",
          "1090",
          "1585",
          "2080",
          "2575",
          "3070",
          "3565",
          "4060",
          "4555",
          "5050"
         ],
         "y": [
          0.12555908333333332,
          0.13148775000000001,
          0.10212645833333332,
          0.09251683333333334,
          0.07052220833333334,
          0.04985266666666666,
          0.036381333333333335,
          0.027539041666666663,
          0.028147125,
          0.03362879166666667
         ]
        },
        {
         "line": {
          "color": "red"
         },
         "mode": "lines",
         "name": "tb-profiler",
         "type": "scatter",
         "x": [
          "0595",
          "1090",
          "1585",
          "2080",
          "2575",
          "3070",
          "3565",
          "4060",
          "4555",
          "5050"
         ],
         "y": [
          0.0014953353251176992,
          0.004678297342092617,
          0.006681049154086279,
          0.009050922856231816,
          0.014965761451748332,
          0.01490266319264917,
          0.01400692515146657,
          0.012942947613258989,
          0.017124694959364972,
          0.02642348394320341
         ]
        }
       ],
       "layout": {
        "font": {
         "color": "RebeccaPurple",
         "family": "Courier New, monospace",
         "size": 18
        },
        "template": {
         "data": {
          "bar": [
           {
            "error_x": {
             "color": "#2a3f5f"
            },
            "error_y": {
             "color": "#2a3f5f"
            },
            "marker": {
             "line": {
              "color": "#E5ECF6",
              "width": 0.5
             },
             "pattern": {
              "fillmode": "overlay",
              "size": 10,
              "solidity": 0.2
             }
            },
            "type": "bar"
           }
          ],
          "barpolar": [
           {
            "marker": {
             "line": {
              "color": "#E5ECF6",
              "width": 0.5
             },
             "pattern": {
              "fillmode": "overlay",
              "size": 10,
              "solidity": 0.2
             }
            },
            "type": "barpolar"
           }
          ],
          "carpet": [
           {
            "aaxis": {
             "endlinecolor": "#2a3f5f",
             "gridcolor": "white",
             "linecolor": "white",
             "minorgridcolor": "white",
             "startlinecolor": "#2a3f5f"
            },
            "baxis": {
             "endlinecolor": "#2a3f5f",
             "gridcolor": "white",
             "linecolor": "white",
             "minorgridcolor": "white",
             "startlinecolor": "#2a3f5f"
            },
            "type": "carpet"
           }
          ],
          "choropleth": [
           {
            "colorbar": {
             "outlinewidth": 0,
             "ticks": ""
            },
            "type": "choropleth"
           }
          ],
          "contour": [
           {
            "colorbar": {
             "outlinewidth": 0,
             "ticks": ""
            },
            "colorscale": [
             [
              0,
              "#0d0887"
             ],
             [
              0.1111111111111111,
              "#46039f"
             ],
             [
              0.2222222222222222,
              "#7201a8"
             ],
             [
              0.3333333333333333,
              "#9c179e"
             ],
             [
              0.4444444444444444,
              "#bd3786"
             ],
             [
              0.5555555555555556,
              "#d8576b"
             ],
             [
              0.6666666666666666,
              "#ed7953"
             ],
             [
              0.7777777777777778,
              "#fb9f3a"
             ],
             [
              0.8888888888888888,
              "#fdca26"
             ],
             [
              1,
              "#f0f921"
             ]
            ],
            "type": "contour"
           }
          ],
          "contourcarpet": [
           {
            "colorbar": {
             "outlinewidth": 0,
             "ticks": ""
            },
            "type": "contourcarpet"
           }
          ],
          "heatmap": [
           {
            "colorbar": {
             "outlinewidth": 0,
             "ticks": ""
            },
            "colorscale": [
             [
              0,
              "#0d0887"
             ],
             [
              0.1111111111111111,
              "#46039f"
             ],
             [
              0.2222222222222222,
              "#7201a8"
             ],
             [
              0.3333333333333333,
              "#9c179e"
             ],
             [
              0.4444444444444444,
              "#bd3786"
             ],
             [
              0.5555555555555556,
              "#d8576b"
             ],
             [
              0.6666666666666666,
              "#ed7953"
             ],
             [
              0.7777777777777778,
              "#fb9f3a"
             ],
             [
              0.8888888888888888,
              "#fdca26"
             ],
             [
              1,
              "#f0f921"
             ]
            ],
            "type": "heatmap"
           }
          ],
          "heatmapgl": [
           {
            "colorbar": {
             "outlinewidth": 0,
             "ticks": ""
            },
            "colorscale": [
             [
              0,
              "#0d0887"
             ],
             [
              0.1111111111111111,
              "#46039f"
             ],
             [
              0.2222222222222222,
              "#7201a8"
             ],
             [
              0.3333333333333333,
              "#9c179e"
             ],
             [
              0.4444444444444444,
              "#bd3786"
             ],
             [
              0.5555555555555556,
              "#d8576b"
             ],
             [
              0.6666666666666666,
              "#ed7953"
             ],
             [
              0.7777777777777778,
              "#fb9f3a"
             ],
             [
              0.8888888888888888,
              "#fdca26"
             ],
             [
              1,
              "#f0f921"
             ]
            ],
            "type": "heatmapgl"
           }
          ],
          "histogram": [
           {
            "marker": {
             "pattern": {
              "fillmode": "overlay",
              "size": 10,
              "solidity": 0.2
             }
            },
            "type": "histogram"
           }
          ],
          "histogram2d": [
           {
            "colorbar": {
             "outlinewidth": 0,
             "ticks": ""
            },
            "colorscale": [
             [
              0,
              "#0d0887"
             ],
             [
              0.1111111111111111,
              "#46039f"
             ],
             [
              0.2222222222222222,
              "#7201a8"
             ],
             [
              0.3333333333333333,
              "#9c179e"
             ],
             [
              0.4444444444444444,
              "#bd3786"
             ],
             [
              0.5555555555555556,
              "#d8576b"
             ],
             [
              0.6666666666666666,
              "#ed7953"
             ],
             [
              0.7777777777777778,
              "#fb9f3a"
             ],
             [
              0.8888888888888888,
              "#fdca26"
             ],
             [
              1,
              "#f0f921"
             ]
            ],
            "type": "histogram2d"
           }
          ],
          "histogram2dcontour": [
           {
            "colorbar": {
             "outlinewidth": 0,
             "ticks": ""
            },
            "colorscale": [
             [
              0,
              "#0d0887"
             ],
             [
              0.1111111111111111,
              "#46039f"
             ],
             [
              0.2222222222222222,
              "#7201a8"
             ],
             [
              0.3333333333333333,
              "#9c179e"
             ],
             [
              0.4444444444444444,
              "#bd3786"
             ],
             [
              0.5555555555555556,
              "#d8576b"
             ],
             [
              0.6666666666666666,
              "#ed7953"
             ],
             [
              0.7777777777777778,
              "#fb9f3a"
             ],
             [
              0.8888888888888888,
              "#fdca26"
             ],
             [
              1,
              "#f0f921"
             ]
            ],
            "type": "histogram2dcontour"
           }
          ],
          "mesh3d": [
           {
            "colorbar": {
             "outlinewidth": 0,
             "ticks": ""
            },
            "type": "mesh3d"
           }
          ],
          "parcoords": [
           {
            "line": {
             "colorbar": {
              "outlinewidth": 0,
              "ticks": ""
             }
            },
            "type": "parcoords"
           }
          ],
          "pie": [
           {
            "automargin": true,
            "type": "pie"
           }
          ],
          "scatter": [
           {
            "marker": {
             "colorbar": {
              "outlinewidth": 0,
              "ticks": ""
             }
            },
            "type": "scatter"
           }
          ],
          "scatter3d": [
           {
            "line": {
             "colorbar": {
              "outlinewidth": 0,
              "ticks": ""
             }
            },
            "marker": {
             "colorbar": {
              "outlinewidth": 0,
              "ticks": ""
             }
            },
            "type": "scatter3d"
           }
          ],
          "scattercarpet": [
           {
            "marker": {
             "colorbar": {
              "outlinewidth": 0,
              "ticks": ""
             }
            },
            "type": "scattercarpet"
           }
          ],
          "scattergeo": [
           {
            "marker": {
             "colorbar": {
              "outlinewidth": 0,
              "ticks": ""
             }
            },
            "type": "scattergeo"
           }
          ],
          "scattergl": [
           {
            "marker": {
             "colorbar": {
              "outlinewidth": 0,
              "ticks": ""
             }
            },
            "type": "scattergl"
           }
          ],
          "scattermapbox": [
           {
            "marker": {
             "colorbar": {
              "outlinewidth": 0,
              "ticks": ""
             }
            },
            "type": "scattermapbox"
           }
          ],
          "scatterpolar": [
           {
            "marker": {
             "colorbar": {
              "outlinewidth": 0,
              "ticks": ""
             }
            },
            "type": "scatterpolar"
           }
          ],
          "scatterpolargl": [
           {
            "marker": {
             "colorbar": {
              "outlinewidth": 0,
              "ticks": ""
             }
            },
            "type": "scatterpolargl"
           }
          ],
          "scatterternary": [
           {
            "marker": {
             "colorbar": {
              "outlinewidth": 0,
              "ticks": ""
             }
            },
            "type": "scatterternary"
           }
          ],
          "surface": [
           {
            "colorbar": {
             "outlinewidth": 0,
             "ticks": ""
            },
            "colorscale": [
             [
              0,
              "#0d0887"
             ],
             [
              0.1111111111111111,
              "#46039f"
             ],
             [
              0.2222222222222222,
              "#7201a8"
             ],
             [
              0.3333333333333333,
              "#9c179e"
             ],
             [
              0.4444444444444444,
              "#bd3786"
             ],
             [
              0.5555555555555556,
              "#d8576b"
             ],
             [
              0.6666666666666666,
              "#ed7953"
             ],
             [
              0.7777777777777778,
              "#fb9f3a"
             ],
             [
              0.8888888888888888,
              "#fdca26"
             ],
             [
              1,
              "#f0f921"
             ]
            ],
            "type": "surface"
           }
          ],
          "table": [
           {
            "cells": {
             "fill": {
              "color": "#EBF0F8"
             },
             "line": {
              "color": "white"
             }
            },
            "header": {
             "fill": {
              "color": "#C8D4E3"
             },
             "line": {
              "color": "white"
             }
            },
            "type": "table"
           }
          ]
         },
         "layout": {
          "annotationdefaults": {
           "arrowcolor": "#2a3f5f",
           "arrowhead": 0,
           "arrowwidth": 1
          },
          "autotypenumbers": "strict",
          "coloraxis": {
           "colorbar": {
            "outlinewidth": 0,
            "ticks": ""
           }
          },
          "colorscale": {
           "diverging": [
            [
             0,
             "#8e0152"
            ],
            [
             0.1,
             "#c51b7d"
            ],
            [
             0.2,
             "#de77ae"
            ],
            [
             0.3,
             "#f1b6da"
            ],
            [
             0.4,
             "#fde0ef"
            ],
            [
             0.5,
             "#f7f7f7"
            ],
            [
             0.6,
             "#e6f5d0"
            ],
            [
             0.7,
             "#b8e186"
            ],
            [
             0.8,
             "#7fbc41"
            ],
            [
             0.9,
             "#4d9221"
            ],
            [
             1,
             "#276419"
            ]
           ],
           "sequential": [
            [
             0,
             "#0d0887"
            ],
            [
             0.1111111111111111,
             "#46039f"
            ],
            [
             0.2222222222222222,
             "#7201a8"
            ],
            [
             0.3333333333333333,
             "#9c179e"
            ],
            [
             0.4444444444444444,
             "#bd3786"
            ],
            [
             0.5555555555555556,
             "#d8576b"
            ],
            [
             0.6666666666666666,
             "#ed7953"
            ],
            [
             0.7777777777777778,
             "#fb9f3a"
            ],
            [
             0.8888888888888888,
             "#fdca26"
            ],
            [
             1,
             "#f0f921"
            ]
           ],
           "sequentialminus": [
            [
             0,
             "#0d0887"
            ],
            [
             0.1111111111111111,
             "#46039f"
            ],
            [
             0.2222222222222222,
             "#7201a8"
            ],
            [
             0.3333333333333333,
             "#9c179e"
            ],
            [
             0.4444444444444444,
             "#bd3786"
            ],
            [
             0.5555555555555556,
             "#d8576b"
            ],
            [
             0.6666666666666666,
             "#ed7953"
            ],
            [
             0.7777777777777778,
             "#fb9f3a"
            ],
            [
             0.8888888888888888,
             "#fdca26"
            ],
            [
             1,
             "#f0f921"
            ]
           ]
          },
          "colorway": [
           "#636efa",
           "#EF553B",
           "#00cc96",
           "#ab63fa",
           "#FFA15A",
           "#19d3f3",
           "#FF6692",
           "#B6E880",
           "#FF97FF",
           "#FECB52"
          ],
          "font": {
           "color": "#2a3f5f"
          },
          "geo": {
           "bgcolor": "white",
           "lakecolor": "white",
           "landcolor": "#E5ECF6",
           "showlakes": true,
           "showland": true,
           "subunitcolor": "white"
          },
          "hoverlabel": {
           "align": "left"
          },
          "hovermode": "closest",
          "mapbox": {
           "style": "light"
          },
          "paper_bgcolor": "white",
          "plot_bgcolor": "#E5ECF6",
          "polar": {
           "angularaxis": {
            "gridcolor": "white",
            "linecolor": "white",
            "ticks": ""
           },
           "bgcolor": "#E5ECF6",
           "radialaxis": {
            "gridcolor": "white",
            "linecolor": "white",
            "ticks": ""
           }
          },
          "scene": {
           "xaxis": {
            "backgroundcolor": "#E5ECF6",
            "gridcolor": "white",
            "gridwidth": 2,
            "linecolor": "white",
            "showbackground": true,
            "ticks": "",
            "zerolinecolor": "white"
           },
           "yaxis": {
            "backgroundcolor": "#E5ECF6",
            "gridcolor": "white",
            "gridwidth": 2,
            "linecolor": "white",
            "showbackground": true,
            "ticks": "",
            "zerolinecolor": "white"
           },
           "zaxis": {
            "backgroundcolor": "#E5ECF6",
            "gridcolor": "white",
            "gridwidth": 2,
            "linecolor": "white",
            "showbackground": true,
            "ticks": "",
            "zerolinecolor": "white"
           }
          },
          "shapedefaults": {
           "line": {
            "color": "#2a3f5f"
           }
          },
          "ternary": {
           "aaxis": {
            "gridcolor": "white",
            "linecolor": "white",
            "ticks": ""
           },
           "baxis": {
            "gridcolor": "white",
            "linecolor": "white",
            "ticks": ""
           },
           "bgcolor": "#E5ECF6",
           "caxis": {
            "gridcolor": "white",
            "linecolor": "white",
            "ticks": ""
           }
          },
          "title": {
           "x": 0.05
          },
          "xaxis": {
           "automargin": true,
           "gridcolor": "white",
           "linecolor": "white",
           "ticks": "",
           "title": {
            "standoff": 15
           },
           "zerolinecolor": "white",
           "zerolinewidth": 2
          },
          "yaxis": {
           "automargin": true,
           "gridcolor": "white",
           "linecolor": "white",
           "ticks": "",
           "title": {
            "standoff": 15
           },
           "zerolinecolor": "white",
           "zerolinewidth": 2
          }
         }
        },
        "title": {
         "text": "In Silico model prediction MSE"
        },
        "xaxis": {
         "title": {
          "text": "Strain Mix Ratio"
         }
        },
        "yaxis": {
         "title": {
          "text": "MSE"
         }
        }
       }
      },
      "text/html": [
       "<div>                            <div id=\"fb5f1f53-18fc-4a33-ae9b-ff4c95e63c44\" class=\"plotly-graph-div\" style=\"height:525px; width:100%;\"></div>            <script type=\"text/javascript\">                require([\"plotly\"], function(Plotly) {                    window.PLOTLYENV=window.PLOTLYENV || {};                                    if (document.getElementById(\"fb5f1f53-18fc-4a33-ae9b-ff4c95e63c44\")) {                    Plotly.newPlot(                        \"fb5f1f53-18fc-4a33-ae9b-ff4c95e63c44\",                        [{\"line\":{\"color\":\"blue\"},\"mode\":\"lines\",\"name\":\"Quant-tb\",\"x\":[\"0595\",\"1090\",\"1585\",\"2080\",\"2575\",\"3070\",\"3565\",\"4060\",\"4555\",\"5050\"],\"y\":[0.12555908333333332,0.13148775000000001,0.10212645833333332,0.09251683333333334,0.07052220833333334,0.04985266666666666,0.036381333333333335,0.027539041666666663,0.028147125,0.03362879166666667],\"type\":\"scatter\"},{\"line\":{\"color\":\"red\"},\"mode\":\"lines\",\"name\":\"tb-profiler\",\"x\":[\"0595\",\"1090\",\"1585\",\"2080\",\"2575\",\"3070\",\"3565\",\"4060\",\"4555\",\"5050\"],\"y\":[0.0014953353251176992,0.004678297342092617,0.006681049154086279,0.009050922856231816,0.014965761451748332,0.01490266319264917,0.01400692515146657,0.012942947613258989,0.017124694959364972,0.02642348394320341],\"type\":\"scatter\"}],                        {\"template\":{\"data\":{\"bar\":[{\"error_x\":{\"color\":\"#2a3f5f\"},\"error_y\":{\"color\":\"#2a3f5f\"},\"marker\":{\"line\":{\"color\":\"#E5ECF6\",\"width\":0.5},\"pattern\":{\"fillmode\":\"overlay\",\"size\":10,\"solidity\":0.2}},\"type\":\"bar\"}],\"barpolar\":[{\"marker\":{\"line\":{\"color\":\"#E5ECF6\",\"width\":0.5},\"pattern\":{\"fillmode\":\"overlay\",\"size\":10,\"solidity\":0.2}},\"type\":\"barpolar\"}],\"carpet\":[{\"aaxis\":{\"endlinecolor\":\"#2a3f5f\",\"gridcolor\":\"white\",\"linecolor\":\"white\",\"minorgridcolor\":\"white\",\"startlinecolor\":\"#2a3f5f\"},\"baxis\":{\"endlinecolor\":\"#2a3f5f\",\"gridcolor\":\"white\",\"linecolor\":\"white\",\"minorgridcolor\":\"white\",\"startlinecolor\":\"#2a3f5f\"},\"type\":\"carpet\"}],\"choropleth\":[{\"colorbar\":{\"outlinewidth\":0,\"ticks\":\"\"},\"type\":\"choropleth\"}],\"contour\":[{\"colorbar\":{\"outlinewidth\":0,\"ticks\":\"\"},\"colorscale\":[[0.0,\"#0d0887\"],[0.1111111111111111,\"#46039f\"],[0.2222222222222222,\"#7201a8\"],[0.3333333333333333,\"#9c179e\"],[0.4444444444444444,\"#bd3786\"],[0.5555555555555556,\"#d8576b\"],[0.6666666666666666,\"#ed7953\"],[0.7777777777777778,\"#fb9f3a\"],[0.8888888888888888,\"#fdca26\"],[1.0,\"#f0f921\"]],\"type\":\"contour\"}],\"contourcarpet\":[{\"colorbar\":{\"outlinewidth\":0,\"ticks\":\"\"},\"type\":\"contourcarpet\"}],\"heatmap\":[{\"colorbar\":{\"outlinewidth\":0,\"ticks\":\"\"},\"colorscale\":[[0.0,\"#0d0887\"],[0.1111111111111111,\"#46039f\"],[0.2222222222222222,\"#7201a8\"],[0.3333333333333333,\"#9c179e\"],[0.4444444444444444,\"#bd3786\"],[0.5555555555555556,\"#d8576b\"],[0.6666666666666666,\"#ed7953\"],[0.7777777777777778,\"#fb9f3a\"],[0.8888888888888888,\"#fdca26\"],[1.0,\"#f0f921\"]],\"type\":\"heatmap\"}],\"heatmapgl\":[{\"colorbar\":{\"outlinewidth\":0,\"ticks\":\"\"},\"colorscale\":[[0.0,\"#0d0887\"],[0.1111111111111111,\"#46039f\"],[0.2222222222222222,\"#7201a8\"],[0.3333333333333333,\"#9c179e\"],[0.4444444444444444,\"#bd3786\"],[0.5555555555555556,\"#d8576b\"],[0.6666666666666666,\"#ed7953\"],[0.7777777777777778,\"#fb9f3a\"],[0.8888888888888888,\"#fdca26\"],[1.0,\"#f0f921\"]],\"type\":\"heatmapgl\"}],\"histogram\":[{\"marker\":{\"pattern\":{\"fillmode\":\"overlay\",\"size\":10,\"solidity\":0.2}},\"type\":\"histogram\"}],\"histogram2d\":[{\"colorbar\":{\"outlinewidth\":0,\"ticks\":\"\"},\"colorscale\":[[0.0,\"#0d0887\"],[0.1111111111111111,\"#46039f\"],[0.2222222222222222,\"#7201a8\"],[0.3333333333333333,\"#9c179e\"],[0.4444444444444444,\"#bd3786\"],[0.5555555555555556,\"#d8576b\"],[0.6666666666666666,\"#ed7953\"],[0.7777777777777778,\"#fb9f3a\"],[0.8888888888888888,\"#fdca26\"],[1.0,\"#f0f921\"]],\"type\":\"histogram2d\"}],\"histogram2dcontour\":[{\"colorbar\":{\"outlinewidth\":0,\"ticks\":\"\"},\"colorscale\":[[0.0,\"#0d0887\"],[0.1111111111111111,\"#46039f\"],[0.2222222222222222,\"#7201a8\"],[0.3333333333333333,\"#9c179e\"],[0.4444444444444444,\"#bd3786\"],[0.5555555555555556,\"#d8576b\"],[0.6666666666666666,\"#ed7953\"],[0.7777777777777778,\"#fb9f3a\"],[0.8888888888888888,\"#fdca26\"],[1.0,\"#f0f921\"]],\"type\":\"histogram2dcontour\"}],\"mesh3d\":[{\"colorbar\":{\"outlinewidth\":0,\"ticks\":\"\"},\"type\":\"mesh3d\"}],\"parcoords\":[{\"line\":{\"colorbar\":{\"outlinewidth\":0,\"ticks\":\"\"}},\"type\":\"parcoords\"}],\"pie\":[{\"automargin\":true,\"type\":\"pie\"}],\"scatter\":[{\"marker\":{\"colorbar\":{\"outlinewidth\":0,\"ticks\":\"\"}},\"type\":\"scatter\"}],\"scatter3d\":[{\"line\":{\"colorbar\":{\"outlinewidth\":0,\"ticks\":\"\"}},\"marker\":{\"colorbar\":{\"outlinewidth\":0,\"ticks\":\"\"}},\"type\":\"scatter3d\"}],\"scattercarpet\":[{\"marker\":{\"colorbar\":{\"outlinewidth\":0,\"ticks\":\"\"}},\"type\":\"scattercarpet\"}],\"scattergeo\":[{\"marker\":{\"colorbar\":{\"outlinewidth\":0,\"ticks\":\"\"}},\"type\":\"scattergeo\"}],\"scattergl\":[{\"marker\":{\"colorbar\":{\"outlinewidth\":0,\"ticks\":\"\"}},\"type\":\"scattergl\"}],\"scattermapbox\":[{\"marker\":{\"colorbar\":{\"outlinewidth\":0,\"ticks\":\"\"}},\"type\":\"scattermapbox\"}],\"scatterpolar\":[{\"marker\":{\"colorbar\":{\"outlinewidth\":0,\"ticks\":\"\"}},\"type\":\"scatterpolar\"}],\"scatterpolargl\":[{\"marker\":{\"colorbar\":{\"outlinewidth\":0,\"ticks\":\"\"}},\"type\":\"scatterpolargl\"}],\"scatterternary\":[{\"marker\":{\"colorbar\":{\"outlinewidth\":0,\"ticks\":\"\"}},\"type\":\"scatterternary\"}],\"surface\":[{\"colorbar\":{\"outlinewidth\":0,\"ticks\":\"\"},\"colorscale\":[[0.0,\"#0d0887\"],[0.1111111111111111,\"#46039f\"],[0.2222222222222222,\"#7201a8\"],[0.3333333333333333,\"#9c179e\"],[0.4444444444444444,\"#bd3786\"],[0.5555555555555556,\"#d8576b\"],[0.6666666666666666,\"#ed7953\"],[0.7777777777777778,\"#fb9f3a\"],[0.8888888888888888,\"#fdca26\"],[1.0,\"#f0f921\"]],\"type\":\"surface\"}],\"table\":[{\"cells\":{\"fill\":{\"color\":\"#EBF0F8\"},\"line\":{\"color\":\"white\"}},\"header\":{\"fill\":{\"color\":\"#C8D4E3\"},\"line\":{\"color\":\"white\"}},\"type\":\"table\"}]},\"layout\":{\"annotationdefaults\":{\"arrowcolor\":\"#2a3f5f\",\"arrowhead\":0,\"arrowwidth\":1},\"autotypenumbers\":\"strict\",\"coloraxis\":{\"colorbar\":{\"outlinewidth\":0,\"ticks\":\"\"}},\"colorscale\":{\"diverging\":[[0,\"#8e0152\"],[0.1,\"#c51b7d\"],[0.2,\"#de77ae\"],[0.3,\"#f1b6da\"],[0.4,\"#fde0ef\"],[0.5,\"#f7f7f7\"],[0.6,\"#e6f5d0\"],[0.7,\"#b8e186\"],[0.8,\"#7fbc41\"],[0.9,\"#4d9221\"],[1,\"#276419\"]],\"sequential\":[[0.0,\"#0d0887\"],[0.1111111111111111,\"#46039f\"],[0.2222222222222222,\"#7201a8\"],[0.3333333333333333,\"#9c179e\"],[0.4444444444444444,\"#bd3786\"],[0.5555555555555556,\"#d8576b\"],[0.6666666666666666,\"#ed7953\"],[0.7777777777777778,\"#fb9f3a\"],[0.8888888888888888,\"#fdca26\"],[1.0,\"#f0f921\"]],\"sequentialminus\":[[0.0,\"#0d0887\"],[0.1111111111111111,\"#46039f\"],[0.2222222222222222,\"#7201a8\"],[0.3333333333333333,\"#9c179e\"],[0.4444444444444444,\"#bd3786\"],[0.5555555555555556,\"#d8576b\"],[0.6666666666666666,\"#ed7953\"],[0.7777777777777778,\"#fb9f3a\"],[0.8888888888888888,\"#fdca26\"],[1.0,\"#f0f921\"]]},\"colorway\":[\"#636efa\",\"#EF553B\",\"#00cc96\",\"#ab63fa\",\"#FFA15A\",\"#19d3f3\",\"#FF6692\",\"#B6E880\",\"#FF97FF\",\"#FECB52\"],\"font\":{\"color\":\"#2a3f5f\"},\"geo\":{\"bgcolor\":\"white\",\"lakecolor\":\"white\",\"landcolor\":\"#E5ECF6\",\"showlakes\":true,\"showland\":true,\"subunitcolor\":\"white\"},\"hoverlabel\":{\"align\":\"left\"},\"hovermode\":\"closest\",\"mapbox\":{\"style\":\"light\"},\"paper_bgcolor\":\"white\",\"plot_bgcolor\":\"#E5ECF6\",\"polar\":{\"angularaxis\":{\"gridcolor\":\"white\",\"linecolor\":\"white\",\"ticks\":\"\"},\"bgcolor\":\"#E5ECF6\",\"radialaxis\":{\"gridcolor\":\"white\",\"linecolor\":\"white\",\"ticks\":\"\"}},\"scene\":{\"xaxis\":{\"backgroundcolor\":\"#E5ECF6\",\"gridcolor\":\"white\",\"gridwidth\":2,\"linecolor\":\"white\",\"showbackground\":true,\"ticks\":\"\",\"zerolinecolor\":\"white\"},\"yaxis\":{\"backgroundcolor\":\"#E5ECF6\",\"gridcolor\":\"white\",\"gridwidth\":2,\"linecolor\":\"white\",\"showbackground\":true,\"ticks\":\"\",\"zerolinecolor\":\"white\"},\"zaxis\":{\"backgroundcolor\":\"#E5ECF6\",\"gridcolor\":\"white\",\"gridwidth\":2,\"linecolor\":\"white\",\"showbackground\":true,\"ticks\":\"\",\"zerolinecolor\":\"white\"}},\"shapedefaults\":{\"line\":{\"color\":\"#2a3f5f\"}},\"ternary\":{\"aaxis\":{\"gridcolor\":\"white\",\"linecolor\":\"white\",\"ticks\":\"\"},\"baxis\":{\"gridcolor\":\"white\",\"linecolor\":\"white\",\"ticks\":\"\"},\"bgcolor\":\"#E5ECF6\",\"caxis\":{\"gridcolor\":\"white\",\"linecolor\":\"white\",\"ticks\":\"\"}},\"title\":{\"x\":0.05},\"xaxis\":{\"automargin\":true,\"gridcolor\":\"white\",\"linecolor\":\"white\",\"ticks\":\"\",\"title\":{\"standoff\":15},\"zerolinecolor\":\"white\",\"zerolinewidth\":2},\"yaxis\":{\"automargin\":true,\"gridcolor\":\"white\",\"linecolor\":\"white\",\"ticks\":\"\",\"title\":{\"standoff\":15},\"zerolinecolor\":\"white\",\"zerolinewidth\":2}}},\"font\":{\"family\":\"Courier New, monospace\",\"size\":18,\"color\":\"RebeccaPurple\"},\"title\":{\"text\":\"In Silico model prediction MSE\"},\"xaxis\":{\"title\":{\"text\":\"Strain Mix Ratio\"}},\"yaxis\":{\"title\":{\"text\":\"MSE\"}}},                        {\"responsive\": true}                    ).then(function(){\n",
       "                            \n",
       "var gd = document.getElementById('fb5f1f53-18fc-4a33-ae9b-ff4c95e63c44');\n",
       "var x = new MutationObserver(function (mutations, observer) {{\n",
       "        var display = window.getComputedStyle(gd).display;\n",
       "        if (!display || display === 'none') {{\n",
       "            console.log([gd, 'removed!']);\n",
       "            Plotly.purge(gd);\n",
       "            observer.disconnect();\n",
       "        }}\n",
       "}});\n",
       "\n",
       "// Listen for the removal of the full notebook cells\n",
       "var notebookContainer = gd.closest('#notebook-container');\n",
       "if (notebookContainer) {{\n",
       "    x.observe(notebookContainer, {childList: true});\n",
       "}}\n",
       "\n",
       "// Listen for the clearing of the current output cell\n",
       "var outputEl = gd.closest('.output');\n",
       "if (outputEl) {{\n",
       "    x.observe(outputEl, {childList: true});\n",
       "}}\n",
       "\n",
       "                        })                };                });            </script>        </div>"
      ]
     },
     "metadata": {},
     "output_type": "display_data"
    }
   ],
   "source": [
    "fig = go.Figure()\n",
    "# fig.add_trace(go.Scatter(x=labels, y=mse_tb, mode='lines', name = 'TB-profiler', line=dict(color=\"red\")))\n",
    "fig.add_trace(go.Scatter(x=list(MSE_quantb.keys()),y=list(MSE_quantb.values()), mode='lines',name = 'Quant-tb', line=dict(color=\"blue\")))\n",
    "fig.add_trace(go.Scatter(x=list(MSE_tbp.keys()),y=list(MSE_tbp.values()), mode='lines',name = 'tb-profiler', line=dict(color=\"red\")))\n",
    "\n",
    "fig.update_layout(\n",
    "    # xaxis_range = [0.00010475137486554342, 0.02],\n",
    "    title=\"In Silico model prediction MSE\",\n",
    "    xaxis_title=\"Strain Mix Ratio\",\n",
    "    yaxis_title=\"MSE\",\n",
    "    font=dict(\n",
    "        family=\"Courier New, monospace\",\n",
    "        size=18,\n",
    "        color=\"RebeccaPurple\"\n",
    "    )\n",
    ")"
   ]
  },
  {
   "cell_type": "code",
   "execution_count": 13,
   "metadata": {},
   "outputs": [
    {
     "data": {
      "text/plain": [
       "[0.431, 0.569]"
      ]
     },
     "execution_count": 13,
     "metadata": {},
     "output_type": "execute_result"
    }
   ],
   "source": [
    "quanttb"
   ]
  },
  {
   "cell_type": "code",
   "execution_count": null,
   "metadata": {},
   "outputs": [],
   "source": [
    "from sklearn.metrics import mean_squared_error\n",
    "\n",
    "mse_tb = {}\n",
    "mse_gmm = {}\n",
    "\n",
    "\n",
    "for x in json_names:\n",
    "    sample = x.split('-')[2].split('.')[0]\n",
    "    # print(sample)\n",
    "    mse_tb[sample] = []\n",
    "    mse_gmm[sample] = []\n",
    "\n",
    "for x in json_names:\n",
    "    sample = x.split('-')[2].split('.')[0]\n",
    "    # print(sample)\n",
    "\n",
    "    string1 = slice(0,2)\n",
    "    string2 = slice(2,4)\n",
    "    r1, r2 = int(sample[string1])/100, int(sample[string2])/100\n",
    "    \n",
    "    FILE_PATH_MIX = os.path.join(FOLDER_PATH,x)\n",
    "    json_results = json.load(open(FILE_PATH_MIX))\n",
    "    # tb_pred =[]  # put lineage 1 and lineage 4 in here - the labels uses ratio of lineage4-lineage1 but the output of gmm model always outputs the lineage with higher proportion first\n",
    "    # gmm_pred=[]\n",
    "    \n",
    "    tb_temp = []\n",
    "    gmm_temp = []\n",
    "    for x in json_results[\"lineage\"]:\n",
    "        tb_temp.append(x['tb_pred'])\n",
    "        gmm_temp.append(x['gmm_pred'])\n",
    "    if tb_temp[0] > tb_temp[1]: #making sure the smaller number is place in front, aligning with the sample label order\n",
    "        tb_temp[0], tb_temp[1] = tb_temp[1], tb_temp[0]\n",
    "    # print(tb_temp)\n",
    "    # print([r1, r2])\n",
    "    mse = mean_squared_error([r1, r2], tb_temp)\n",
    "    mse_tb[sample].append(mse)\n",
    "    \n",
    "    if gmm_temp[0] > gmm_temp[1]: #making sure the smaller number is place in front, aligning with the sample label order\n",
    "        gmm_temp[0], gmm_temp[1] = gmm_temp[1], gmm_temp[0]\n",
    "    mse = mean_squared_error([r1, r2], gmm_temp)\n",
    "    mse_gmm[sample].append(mse)\n",
    "    \n",
    "    # tb_pred.append(x['tb_pred'])        \n",
    "    # for x in json_results[\"lineage\"]:\n",
    "    #     gmm_pred.append(x['gmm_pred'])\n",
    "    # tb.append(tb_pred)\n",
    "    # gmm.append(gmm_pred) # append the list of lin pred to larger list\n",
    "\n",
    "for k, v in mse_tb.items():\n",
    "    mse_tb[k] = mean(v)\n",
    "\n",
    "for k, v in mse_gmm.items():\n",
    "    mse_gmm[k] = mean(v)"
   ]
  },
  {
   "attachments": {},
   "cell_type": "markdown",
   "metadata": {},
   "source": [
    "# Mixed Clinical samples comparison"
   ]
  },
  {
   "cell_type": "code",
   "execution_count": 2,
   "metadata": {},
   "outputs": [],
   "source": [
    "quanttb_clinical_mix_output = glob.glob('/mnt/storage7/lwang/trial_tb_philippines/pipelines/Genomic_data_analysis/QuantTB/mixed_clinical_samples/results/output/*.txt')\n",
    "\n",
    "mix_list = []\n",
    "\n",
    "for x in quanttb_clinical_mix_output:\n",
    "    df = pd.read_csv(x)\n",
    "    # print(x)\n",
    "    # ratio = x.split('-')[2].split('.')[0]\n",
    "    # string1 = slice(0,2)\n",
    "    # string2 = slice(2,4)\n",
    "    # r1, r2 = int(ratio[string1])/100, int(ratio[string2])/100\n",
    "    # if r1 >= r2:\n",
    "    #     pass\n",
    "    # else:\n",
    "    #     r1, r2 = r2, r1        \n",
    "\n",
    "    list_ = df[' relabundance'].values.tolist()\n",
    "    list_.sort(reverse=True)\n",
    "\n",
    "    mix_list.append(list_)\n",
    "\n",
    "#     quanttb = df[' relabundance'].values.tolist()\n",
    "#     if len(quanttb) == 1:\n",
    "#         quanttb.append(0)\n",
    "#     quanttb = quanttb[:2]\n",
    "\n",
    "#     MSE_quantb[ratio].append(mean_squared_error([r1, r2], quanttb))\n",
    "\n",
    "# for k,v in MSE_quantb.items():\n",
    "#     MSE_quantb[k] = mean(v)"
   ]
  },
  {
   "cell_type": "code",
   "execution_count": 4,
   "metadata": {},
   "outputs": [],
   "source": [
    "clinical_mix_sample_list = []\n",
    "for x in quanttb_clinical_mix_output:\n",
    "    clinical_mix_sample_list.append(x.split('/')[11].split('.')[0])\n"
   ]
  },
  {
   "cell_type": "code",
   "execution_count": 5,
   "metadata": {},
   "outputs": [],
   "source": [
    "gmm_output_path = '/mnt/storage7/lwang/trial_tb_philippines/pipelines/Genomic_data_analysis/Executable_eval/results/multi_infection_clinical/mixture_results/profiles'\n",
    "# gmm_output_path = '/mnt/storage7/lwang/trial_tb_philippines/pipelines/Genomic_data_analysis/Executable_eval/results/2mix_clinical_new_multi/mixture_results/profiles'\n",
    "tb_pred_list = []\n",
    "\n",
    "for x in clinical_mix_sample_list:\n",
    "    FILE_PATH_MIX = os.path.join(gmm_output_path,x)\n",
    "    FILE_PATH_MIX = FILE_PATH_MIX+'.gatk.mix.json'\n",
    "    json_results = json.load(open(FILE_PATH_MIX))\n",
    "\n",
    "    tb_pred = []\n",
    "    for x in json_results['lineage']:\n",
    "        tb_pred.append(x['tb_pred'])\n",
    "    tb_pred.sort(reverse=True)\n",
    "    tb_pred_list.append(tb_pred)"
   ]
  },
  {
   "cell_type": "code",
   "execution_count": 63,
   "metadata": {},
   "outputs": [],
   "source": [
    "# gmm_output_path = '/mnt/storage7/lwang/trial_tb_philippines/pipelines/Genomic_data_analysis/Executable_eval/results/multi_infection_clinical/mixture_results/profiles'\n",
    "# # gmm_output_path = '/mnt/storage7/lwang/trial_tb_philippines/pipelines/Genomic_data_analysis/Executable_eval/results/2mix_clinical_new_multi/mixture_results/profiles'\n",
    "# tb_pred_list = []\n",
    "\n",
    "# for x in clinical_mix_sample_list:\n",
    "#     FILE_PATH_MIX = os.path.join(gmm_output_path,x)\n",
    "#     FILE_PATH_MIX = FILE_PATH_MIX+'.gatk.mix.json'\n",
    "#     json_results = json.load(open(FILE_PATH_MIX))\n",
    "\n",
    "#     tb_pred = []\n",
    "#     for x in json_results['lineage']:\n",
    "#         tb_pred.append(x['tb_pred'])\n",
    "#     tb_pred.sort(reverse=True)\n",
    "#     tb_pred_list.append(tb_pred)"
   ]
  },
  {
   "cell_type": "code",
   "execution_count": 15,
   "metadata": {},
   "outputs": [
    {
     "name": "stdout",
     "output_type": "stream",
     "text": [
      "[2]\n"
     ]
    }
   ],
   "source": [
    "tb_p_mix_no = []\n",
    "for x in tb_pred_list:\n",
    "    tb_p_mix_no.append(len(x))\n",
    "print(np.unique(tb_p_mix_no))"
   ]
  },
  {
   "cell_type": "code",
   "execution_count": 16,
   "metadata": {},
   "outputs": [
    {
     "name": "stdout",
     "output_type": "stream",
     "text": [
      "[2]\n"
     ]
    }
   ],
   "source": [
    "qtb_mix_no = []\n",
    "for x in mix_list:\n",
    "    qtb_mix_no.append(len(x))\n",
    "print(np.unique(tb_p_mix_no))"
   ]
  },
  {
   "cell_type": "code",
   "execution_count": null,
   "metadata": {},
   "outputs": [],
   "source": [
    "tb_p_mix_no"
   ]
  },
  {
   "cell_type": "code",
   "execution_count": 19,
   "metadata": {},
   "outputs": [],
   "source": [
    "list_ = []\n",
    "for x, y in zip(tb_p_mix_no, qtb_mix_no):\n",
    "    if y >= x:\n",
    "        list_.append(True)\n",
    "    else:\n",
    "        list_.append(False)\n"
   ]
  },
  {
   "cell_type": "code",
   "execution_count": 22,
   "metadata": {},
   "outputs": [
    {
     "data": {
      "text/plain": [
       "0.9200743494423792"
      ]
     },
     "execution_count": 22,
     "metadata": {},
     "output_type": "execute_result"
    }
   ],
   "source": [
    "list_.count(True)/len(list_)"
   ]
  },
  {
   "attachments": {},
   "cell_type": "markdown",
   "metadata": {},
   "source": [
    "# Unused"
   ]
  },
  {
   "cell_type": "code",
   "execution_count": 60,
   "metadata": {},
   "outputs": [],
   "source": [
    "list_ = []\n",
    "with open('/mnt/storage7/lwang/trial_tb_philippines/pipelines/Genomic_data_analysis/Executable_eval/results/2mix_clinical_new_multi/mixture_results/profiles/clinical_mixed_sample.txt', 'r') as file:\n",
    "    lines = file.readlines()\n",
    "    for x in lines:\n",
    "        list_.append(x.strip())"
   ]
  },
  {
   "cell_type": "code",
   "execution_count": 61,
   "metadata": {},
   "outputs": [],
   "source": [
    "gmm_output_path = '/mnt/storage7/lwang/trial_tb_philippines/pipelines/Genomic_data_analysis/Executable_eval/results/2mix_clinical_new_multi/mixture_results/profiles'\n",
    "tb_pred_list = []\n",
    "\n",
    "for x in list_:\n",
    "    FILE_PATH_MIX = os.path.join(gmm_output_path,x)\n",
    "    FILE_PATH_MIX = FILE_PATH_MIX+'.gatk.mix.json'\n",
    "    json_results = json.load(open(FILE_PATH_MIX))\n",
    "\n",
    "    tb_pred = []\n",
    "    for x in json_results['lineage']:\n",
    "        tb_pred.append(x['tb_pred'])\n",
    "    tb_pred.sort(reverse=True)\n",
    "    tb_pred_list.append(tb_pred)"
   ]
  },
  {
   "cell_type": "code",
   "execution_count": 62,
   "metadata": {},
   "outputs": [
    {
     "name": "stdout",
     "output_type": "stream",
     "text": [
      "[2]\n"
     ]
    }
   ],
   "source": [
    "tb_p_mix_no = []\n",
    "for x in tb_pred_list:\n",
    "    tb_p_mix_no.append(len(x))\n",
    "print(np.unique(tb_p_mix_no))"
   ]
  }
 ],
 "metadata": {
  "kernelspec": {
   "display_name": "ml-s7",
   "language": "python",
   "name": "python3"
  },
  "language_info": {
   "codemirror_mode": {
    "name": "ipython",
    "version": 3
   },
   "file_extension": ".py",
   "mimetype": "text/x-python",
   "name": "python",
   "nbconvert_exporter": "python",
   "pygments_lexer": "ipython3",
   "version": "3.10.9"
  },
  "orig_nbformat": 4,
  "vscode": {
   "interpreter": {
    "hash": "12d9b80fa252b05f6dc974f9593fbd4d67e5b6232b89f517e1ed4a2121110dce"
   }
  }
 },
 "nbformat": 4,
 "nbformat_minor": 2
}
