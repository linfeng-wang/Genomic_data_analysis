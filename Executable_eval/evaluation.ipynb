{
 "cells": [
  {
   "cell_type": "code",
   "execution_count": 1,
   "metadata": {},
   "outputs": [],
   "source": [
    "from unittest import result\n",
    "from icecream import ic\n",
    "import numpy as np\n",
    "import pandas as pd\n",
    "import plotly.graph_objects as go\n",
    "from plotly.subplots import make_subplots\n",
    "import matplotlib.pyplot as plt\n",
    "import os\n",
    "import json\n",
    "import subprocess\n",
    "import itertools\n",
    "from statistics import mean"
   ]
  },
  {
   "cell_type": "code",
   "execution_count": null,
   "metadata": {},
   "outputs": [],
   "source": [
    "FOLDER_PATH = \"/mnt/storage7/lwang/trial_tb_philippines/pipelines/Genomic_data_analysis/Executable_eval/results\"\n",
    "NAME_FILE='gmm_names.csv'\n",
    "\n",
    "with open(NAME_FILE, 'w') as f:\n",
    "    subprocess.run(f\"cd {FOLDER_PATH}; ls\", shell=True, stdout=f, text=True)\n",
    "\n",
    "with open(NAME_FILE, \"r\") as f:\n",
    "    json_names = []\n",
    "    for line in f:FOLDER_PATH\n",
    "        data_line = line.rstrip().split('\\n')\n",
    "        json_names.append(data_line[0])\n"
   ]
  },
  {
   "cell_type": "code",
   "execution_count": null,
   "metadata": {},
   "outputs": [],
   "source": [
    "unknownDR = []\n",
    "knownDR = []\n",
    "mse = []\n",
    "\n",
    "for x in json_names:\n",
    "    FILE_PATH = os.path.join(FOLDER_PATH, x)\n",
    "    json_results = json.load(open(FILE_PATH))\n",
    "    for x in json_results[\"lineage\"]:\n",
    "        knownDR.extend(list(x[\"resistance_pred\"].keys()))\n",
    "    unknownDR.extend(json_results[\"Unknown50-50DR\"])\n",
    "    mse.append(\"gmm_tb-profiler_MSE\")\n",
    "\n",
    "print(\"Rate of UnknowDR\")\n",
    "print(len(unknownDR)/sum(len(knownDR), len(unknownDR)))\n",
    "print(\"MSE\")\n",
    "print(mean(mse))\n"
   ]
  }
 ],
 "metadata": {
  "kernelspec": {
   "display_name": "Python 3.10.4 ('ml-s7': conda)",
   "language": "python",
   "name": "python3"
  },
  "language_info": {
   "codemirror_mode": {
    "name": "ipython",
    "version": 3
   },
   "file_extension": ".py",
   "mimetype": "text/x-python",
   "name": "python",
   "nbconvert_exporter": "python",
   "pygments_lexer": "ipython3",
   "version": "3.10.4"
  },
  "orig_nbformat": 4,
  "vscode": {
   "interpreter": {
    "hash": "12d9b80fa252b05f6dc974f9593fbd4d67e5b6232b89f517e1ed4a2121110dce"
   }
  }
 },
 "nbformat": 4,
 "nbformat_minor": 2
}
