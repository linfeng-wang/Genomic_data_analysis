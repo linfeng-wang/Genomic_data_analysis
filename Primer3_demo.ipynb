{
 "cells": [
  {
   "cell_type": "markdown",
   "metadata": {},
   "source": [
    "Loading hte necessary libraries..."
   ]
  },
  {
   "cell_type": "code",
   "execution_count": null,
   "metadata": {},
   "outputs": [],
   "source": [
    "from functools import partial\n",
    "from random import choices, randint, randrange, random, sample\n",
    "from typing import List, Optional, Callable, Tuple\n",
    "import numpy as np\n",
    "import pandas as pd\n",
    "from collections import Counter\n",
    "from tqdm import tqdm\n",
    "import time\n",
    "from Bio.SeqUtils import MeltingTemp\n",
    "from Bio import SeqIO\n",
    "from plotly import graph_objects as go\n",
    "import json\n",
    "from imp import reload"
   ]
  },
  {
   "cell_type": "markdown",
   "metadata": {},
   "source": [
    "The code uses the `primer3-py` library to design primers for a specific DNA sequence. The target sequence is provided in `seq_args['SEQUENCE_TEMPLATE']`, and various parameters for primer design are set in `global_args`. The `primer3.bindings.designPrimers()` function is used to trigger the primer design process and obtain the primer information. \n",
    "\n",
    "Let's go through the code step by step: \n",
    "\n"
   ]
  },
  {
   "cell_type": "markdown",
   "metadata": {},
   "source": [
    "1. Setting up the conditions/restrictions for selecting primers"
   ]
  },
  {
   "cell_type": "code",
   "execution_count": null,
   "metadata": {},
   "outputs": [],
   "source": [
    "#Setting Sequence and Global Parameters: \n",
    "\n",
    "seq_args = { \n",
    "\n",
    "    'SEQUENCE_ID': 'BRCA2_SEGMENT', \n",
    "\n",
    "    'SEQUENCE_TEMPLATE': \"GTGGCGCGAGCTTCTGAAACTAGGCGGCAGAGGCGGAGCCGCTGTGGCACTGCTGCGCCTCTGCTGCGCCTCGGGTGTCTTTTGCGGCGGTGGGTCGCCGCCGGGAGAAGCGTGAGGGGACAGATTTGTGACCGGCGCGGTTTTTGTCAGCTTACTCCGGCCAAAAAAGAACTGCACCTCTGGAGCGGGTTAGTGGTGGTGGTAGTGGGT\", \n",
    "\n",
    "    'SEQUENCE_INCLUDED_REGION': [0, 210], \n",
    "\n",
    "} \n",
    "\n",
    " \n",
    "\n",
    "global_args = { \n",
    "\n",
    "    'PRIMER_OPT_SIZE': 20,  # Optimal primer size in base pairs \n",
    "\n",
    "    'PRIMER_PICK_INTERNAL_OLIGO': 1,  # Whether to include internal oligos in primer design (1 for yes, 0 for no) \n",
    "\n",
    "    'PRIMER_INTERNAL_MAX_SELF_END': 8,  # Maximum allowed self-complementarity score at the 3' end of an internal oligo \n",
    "\n",
    "    'PRIMER_MIN_SIZE': 18,  # Minimum primer size in base pairs \n",
    "\n",
    "    'PRIMER_MAX_SIZE': 25,  # Maximum primer size in base pairs \n",
    "\n",
    "    'PRIMER_OPT_TM': 60.0,  # Optimal melting temperature (Tm) of primers in degrees Celsius \n",
    "\n",
    "    'PRIMER_MIN_TM': 57.0,  # Minimum allowed Tm of primers in degrees Celsius \n",
    "\n",
    "    'PRIMER_MAX_TM': 63.0,  # Maximum allowed Tm of primers in degrees Celsius \n",
    "\n",
    "    'PRIMER_MIN_GC': 20.0,  # Minimum allowed GC content percentage of primers \n",
    "\n",
    "    'PRIMER_MAX_GC': 80.0,  # Maximum allowed GC content percentage of primers \n",
    "\n",
    "    'PRIMER_MAX_POLY_X': 100,  # Maximum allowed consecutive identical base repeats (e.g., AAAA) in a primer \n",
    "\n",
    "    'PRIMER_INTERNAL_MAX_POLY_X': 100,  # Maximum allowed consecutive identical base repeats in an internal oligo \n",
    "\n",
    "    'PRIMER_SALT_MONOVALENT': 50.0,  # Concentration of monovalent cations (e.g., Na+) in millimolar \n",
    "\n",
    "    'PRIMER_DNA_CONC': 50.0,  # Concentration of DNA template in nanomolar \n",
    "\n",
    "    'PRIMER_MAX_NS_ACCEPTED': 0,  # Maximum number of ambiguous bases (N) allowed in primers \n",
    "\n",
    "    'PRIMER_MAX_SELF_ANY': 12,  # Maximum allowed self-complementarity score for any part of a primer \n",
    "\n",
    "    'PRIMER_MAX_SELF_END': 8,  # Maximum allowed self-complementarity score at the 3' end of a primer \n",
    "\n",
    "    'PRIMER_PAIR_MAX_COMPL_ANY': 12,  # Maximum allowed complementarity score for any part of a primer pair \n",
    "\n",
    "    'PRIMER_PAIR_MAX_COMPL_END': 8,  # Maximum allowed complementarity score at the 3' end of a primer pair \n",
    "\n",
    "    'PRIMER_PRODUCT_SIZE_RANGE': [[75, 100], [100, 125], [125, 150], [150, 175], [175, 200]],  # Range of desired product sizes in base pairs \n",
    "\n",
    "} "
   ]
  },
  {
   "cell_type": "markdown",
   "metadata": {},
   "source": [
    "Here, `seq_args` contains the information about the target DNA sequence, and `global_args` contains various parameters for primer design, such as the optimal primer size (`PRIMER_OPT_SIZE`), melting temperature range (`PRIMER_MIN_TM` and `PRIMER_MAX_TM`), GC content range (`PRIMER_MIN_GC` and `PRIMER_MAX_GC`), etc. "
   ]
  },
  {
   "cell_type": "markdown",
   "metadata": {},
   "source": [
    "2. Runing Primer Design: "
   ]
  },
  {
   "cell_type": "code",
   "execution_count": null,
   "metadata": {},
   "outputs": [],
   "source": [
    "primer3_result = primer3.bindings.designPrimers(seq_args, global_args) "
   ]
  },
  {
   "cell_type": "markdown",
   "metadata": {},
   "source": [
    "The `primer3.bindings.designPrimers()` function is called with `seq_args` and `global_args` as arguments to initiate the primer \n",
    "design process. The output, `primer3_result`, will contain information about the designed primers, such as sequences, melting \n",
    "temperatures, GC content, and more. "
   ]
  }
 ],
 "metadata": {
  "language_info": {
   "name": "python"
  },
  "orig_nbformat": 4
 },
 "nbformat": 4,
 "nbformat_minor": 2
}
