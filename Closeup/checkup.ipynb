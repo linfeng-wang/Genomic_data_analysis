{
 "cells": [
  {
   "cell_type": "code",
   "execution_count": 54,
   "metadata": {},
   "outputs": [],
   "source": [
    "import pandas as pd\n",
    "import numpy as np\n",
    "import json\n"
   ]
  },
  {
   "attachments": {},
   "cell_type": "markdown",
   "metadata": {},
   "source": [
    "# Close up checking for drug resistance mutations and dr"
   ]
  },
  {
   "cell_type": "code",
   "execution_count": 5,
   "metadata": {},
   "outputs": [],
   "source": [
    "json_results = json.load(open('/mnt/storage7/lwang/trial_tb_philippines/pipelines/Genomic_data_analysis/Closeup/mixture_results/profiles/ERR5897084.gatk.mix.json'))"
   ]
  },
  {
   "cell_type": "code",
   "execution_count": 57,
   "metadata": {},
   "outputs": [],
   "source": [
    "def mix_checkup(json_results): # for old version of gmm output\n",
    "    all_drug = []\n",
    "    for x in json_results['lineage']:\n",
    "        lineage_drug = []\n",
    "        print(x['lin'],'============')\n",
    "        for y in x['resistance_pred']:\n",
    "            # print('nucleotide_change:', y['info']['nucleotide_change'])\n",
    "            # print('protein_change:',y['info']['protein_change'] )\n",
    "            print(y['info']['nucleotide_change'])\n",
    "            print(y['info']['protein_change'] )\n",
    "            print(y['info']['gene'])\n",
    "\n",
    "            print('drugs:')\n",
    "            list_drug = []\n",
    "            for z in y['info']['drugs']:\n",
    "                list_drug.append(z['drug'])\n",
    "            print(list_drug)\n",
    "            lineage_drug.extend(list_drug)\n",
    "            print('------------')\n",
    "        print('lineage_drug:',set(lineage_drug))\n",
    "        all_drug.extend(list(set(lineage_drug)))"
   ]
  },
  {
   "cell_type": "code",
   "execution_count": 23,
   "metadata": {},
   "outputs": [
    {
     "name": "stdout",
     "output_type": "stream",
     "text": [
      "lineage4.9 ============\n",
      "c.281A>G\n",
      "p.Asp94Gly\n",
      "['ofloxacin', 'moxifloxacin', 'levofloxacin', 'fluoroquinolones', 'ciprofloxacin']\n",
      "------------\n",
      "c.359T>G\n",
      "p.Leu120Arg\n",
      "['pyrazinamide']\n",
      "------------\n",
      "c.269C>T\n",
      "p.Ala90Val\n",
      "['ofloxacin', 'moxifloxacin', 'levofloxacin', 'fluoroquinolones', 'ciprofloxacin']\n",
      "------------\n",
      "c.1349C>T\n",
      "p.Ser450Leu\n",
      "['rifampicin']\n",
      "------------\n",
      "c.128A>G\n",
      "p.Lys43Arg\n",
      "['streptomycin']\n",
      "------------\n",
      "n.878G>A\n",
      "\n",
      "['streptomycin']\n",
      "------------\n",
      "n.1401A>G\n",
      "\n",
      "['kanamycin', 'capreomycin', 'aminoglycosides', 'amikacin']\n",
      "------------\n",
      "c.-15C>T\n",
      "\n",
      "['isoniazid', 'ethionamide']\n",
      "------------\n",
      "c.-154G>A\n",
      "\n",
      "['isoniazid', 'ethionamide']\n",
      "------------\n",
      "c.944G>C\n",
      "p.Ser315Thr\n",
      "['isoniazid']\n",
      "------------\n",
      "c.161C>T\n",
      "p.Pro54Leu\n",
      "['pyrazinamide']\n",
      "------------\n",
      "c.916A>G\n",
      "p.Met306Val\n",
      "['ethambutol']\n",
      "------------\n",
      "lineage_drug: {'fluoroquinolones', 'ofloxacin', 'kanamycin', 'ethionamide', 'aminoglycosides', 'ethambutol', 'levofloxacin', 'streptomycin', 'rifampicin', 'isoniazid', 'amikacin', 'pyrazinamide', 'capreomycin', 'moxifloxacin', 'ciprofloxacin'}\n",
      "lineage3 ============\n",
      "c.944G>C\n",
      "p.Ser315Thr\n",
      "['isoniazid']\n",
      "------------\n",
      "lineage_drug: {'isoniazid'}\n"
     ]
    }
   ],
   "source": [
    "json_results = json.load(open('/mnt/storage7/lwang/trial_tb_philippines/pipelines/Genomic_data_analysis/Closeup/mixture_results/profiles/ERR5897084.gatk.mix.json'))\n",
    "mix_checkup(json_results)"
   ]
  },
  {
   "cell_type": "code",
   "execution_count": 59,
   "metadata": {},
   "outputs": [
    {
     "name": "stdout",
     "output_type": "stream",
     "text": [
      "lineage3 ============\n",
      "c.198dupG\n",
      "p.Ile67fs\n",
      "mmpR5\n",
      "drugs:\n",
      "['clofazimine', 'bedaquiline']\n",
      "------------\n",
      "c.1333C>A\n",
      "p.His445Asn\n",
      "rpoB\n",
      "drugs:\n",
      "['rifampicin']\n",
      "------------\n",
      "lineage_drug: {'rifampicin', 'clofazimine', 'bedaquiline'}\n",
      "lineage2.2.1.1 ============\n",
      "c.263A>G\n",
      "p.Lys88Arg\n",
      "rpsL\n",
      "drugs:\n",
      "['streptomycin']\n",
      "------------\n",
      "c.-15C>T\n",
      "\n",
      "fabG1\n",
      "drugs:\n",
      "['isoniazid', 'ethionamide']\n",
      "------------\n",
      "c.1217G>A\n",
      "p.Gly406Asp\n",
      "embB\n",
      "drugs:\n",
      "['ethambutol']\n",
      "------------\n",
      "lineage_drug: {'ethionamide', 'streptomycin', 'isoniazid', 'ethambutol'}\n"
     ]
    }
   ],
   "source": [
    "json_results = json.load(open('/mnt/storage7/lwang/trial_tb_philippines/pipelines/Genomic_data_analysis/Closeup/mixture_results9977/profiles/ERR4829977.gatk.mix.json'))\n",
    "mix_checkup(json_results)"
   ]
  },
  {
   "cell_type": "code",
   "execution_count": 28,
   "metadata": {},
   "outputs": [],
   "source": [
    "json_results = json.load(open('/mnt/storage7/lwang/trial_tb_philippines/pipelines/Genomic_data_analysis/Executable_eval/results/clinical_mix_multi_vcf/mixture_results/profiles/ERR4796347.mix.json'))\n"
   ]
  },
  {
   "cell_type": "code",
   "execution_count": 36,
   "metadata": {},
   "outputs": [
    {
     "name": "stdout",
     "output_type": "stream",
     "text": [
      "lineage1.2.2.2 ============\n",
      "lineage_drug: set()\n",
      "lineage2.2.1 ============\n",
      "lineage_drug: set()\n",
      "lineage3 ============\n",
      "c.269C>T\n",
      "p.Ala90Val\n",
      "gyrA\n",
      "drugs:\n",
      "['ofloxacin', 'moxifloxacin', 'levofloxacin', 'fluoroquinolones', 'ciprofloxacin']\n",
      "------------\n",
      "c.1349C>T\n",
      "p.Ser450Leu\n",
      "rpoB\n",
      "drugs:\n",
      "['rifampicin']\n",
      "------------\n",
      "c.128A>G\n",
      "p.Lys43Arg\n",
      "rpsL\n",
      "drugs:\n",
      "['streptomycin']\n",
      "------------\n",
      "n.1401A>G\n",
      "\n",
      "rrs\n",
      "drugs:\n",
      "['kanamycin', 'capreomycin', 'aminoglycosides', 'amikacin']\n",
      "------------\n",
      "c.-15C>T\n",
      "\n",
      "fabG1\n",
      "drugs:\n",
      "['isoniazid', 'ethionamide']\n",
      "------------\n",
      "c.944G>C\n",
      "p.Ser315Thr\n",
      "katG\n",
      "drugs:\n",
      "['isoniazid']\n",
      "------------\n",
      "c.395G>C\n",
      "p.Gly132Ala\n",
      "pncA\n",
      "drugs:\n",
      "['pyrazinamide']\n",
      "------------\n",
      "c.-10G>C\n",
      "\n",
      "eis\n",
      "drugs:\n",
      "['kanamycin', 'kanamycin']\n",
      "------------\n",
      "c.1490A>G\n",
      "p.Gln497Arg\n",
      "embB\n",
      "drugs:\n",
      "['ethambutol']\n",
      "------------\n",
      "lineage_drug: {'fluoroquinolones', 'ofloxacin', 'kanamycin', 'ethionamide', 'aminoglycosides', 'ethambutol', 'levofloxacin', 'streptomycin', 'rifampicin', 'isoniazid', 'amikacin', 'capreomycin', 'pyrazinamide', 'moxifloxacin', 'ciprofloxacin'}\n"
     ]
    }
   ],
   "source": [
    "def mix_checkup(json_results): # for new version of gmm output\n",
    "    all_drug = []\n",
    "    for x in json_results['lineage']:\n",
    "        lineage_drug = []\n",
    "        print(x['lin'],'============')\n",
    "        for y in x['DR_pred']:\n",
    "            # print('nucleotide_change:', y['info']['nucleotide_change'])\n",
    "            # print('protein_change:',y['info']['protein_change'] )\n",
    "            print(y['info']['nucleotide_change'])\n",
    "            print(y['info']['protein_change'] )\n",
    "            print(y['info']['gene'])\n",
    "            print('drugs:')\n",
    "            list_drug = []\n",
    "            for z in y['info']['drugs']:\n",
    "                list_drug.append(z['drug'])\n",
    "            print(list_drug)\n",
    "            lineage_drug.extend(list_drug)\n",
    "            print('------------')\n",
    "        print('lineage_drug:',set(lineage_drug))\n",
    "        all_drug.extend(list(set(lineage_drug)))\n",
    "        \n",
    "mix_checkup(json_results)"
   ]
  },
  {
   "cell_type": "code",
   "execution_count": null,
   "metadata": {},
   "outputs": [],
   "source": [
    "fluoroquinolones', 'ofloxacin', 'kanamycin', 'ethionamide', 'aminoglycosides', 'ethambutol', 'levofloxacin', 'streptomycin', 'rifampicin', 'isoniazid', 'amikacin', 'capreomycin', 'pyrazinamide', 'moxifloxacin', 'ciprofloxacin"
   ]
  },
  {
   "attachments": {},
   "cell_type": "markdown",
   "metadata": {},
   "source": [
    "## New close up"
   ]
  },
  {
   "cell_type": "code",
   "execution_count": 56,
   "metadata": {},
   "outputs": [
    {
     "name": "stdout",
     "output_type": "stream",
     "text": [
      "lineage3 ============\n",
      "c.198dupG\n",
      "p.Ile67fs\n",
      "drugs:\n",
      "['clofazimine', 'bedaquiline']\n",
      "------------\n",
      "c.1333C>A\n",
      "p.His445Asn\n",
      "drugs:\n",
      "['rifampicin']\n",
      "------------\n",
      "lineage_drug: {'rifampicin', 'clofazimine', 'bedaquiline'}\n",
      "lineage2.2.1.1 ============\n",
      "c.263A>G\n",
      "p.Lys88Arg\n",
      "drugs:\n",
      "['streptomycin']\n",
      "------------\n",
      "c.-15C>T\n",
      "\n",
      "drugs:\n",
      "['isoniazid', 'ethionamide']\n",
      "------------\n",
      "c.1217G>A\n",
      "p.Gly406Asp\n",
      "drugs:\n",
      "['ethambutol']\n",
      "------------\n",
      "lineage_drug: {'ethionamide', 'streptomycin', 'isoniazid', 'ethambutol'}\n"
     ]
    }
   ],
   "source": [
    "json_results = json.load(open('/mnt/storage7/lwang/trial_tb_philippines/pipelines/Genomic_data_analysis/Closeup/mixture_results9977/profiles/ERR4829977.gatk.mix.json'))\n",
    "\n",
    "mix_checkup(json_results)"
   ]
  },
  {
   "cell_type": "code",
   "execution_count": null,
   "metadata": {},
   "outputs": [],
   "source": [
    "'ethionamide', 'streptomycin', 'isoniazid', 'ethambutol','rifampicin', 'clofazimine', 'bedaquiline'"
   ]
  },
  {
   "cell_type": "code",
   "execution_count": 39,
   "metadata": {},
   "outputs": [
    {
     "name": "stdout",
     "output_type": "stream",
     "text": [
      "lineage3.1.2.1 ============\n",
      "c.944G>C\n",
      "p.Ser315Thr\n",
      "katG\n",
      "drugs:\n",
      "['isoniazid']\n",
      "------------\n",
      "c.508G>T\n",
      "p.Glu170*\n",
      "gid\n",
      "drugs:\n",
      "['streptomycin']\n",
      "------------\n",
      "lineage_drug: {'isoniazid', 'streptomycin'}\n",
      "lineage2.2.1 ============\n",
      "c.281A>G\n",
      "p.Asp94Gly\n",
      "gyrA\n",
      "drugs:\n",
      "['ofloxacin', 'moxifloxacin', 'levofloxacin', 'fluoroquinolones', 'ciprofloxacin']\n",
      "------------\n",
      "c.1349C>T\n",
      "p.Ser450Leu\n",
      "rpoB\n",
      "drugs:\n",
      "['rifampicin']\n",
      "------------\n",
      "c.128A>G\n",
      "p.Lys43Arg\n",
      "rpsL\n",
      "drugs:\n",
      "['streptomycin']\n",
      "------------\n",
      "c.460T>C\n",
      "p.Cys154Arg\n",
      "rplC\n",
      "drugs:\n",
      "['linezolid']\n",
      "------------\n",
      "n.1484G>T\n",
      "\n",
      "rrs\n",
      "drugs:\n",
      "['kanamycin', 'capreomycin', 'aminoglycosides', 'amikacin']\n",
      "------------\n",
      "c.-8T>C\n",
      "\n",
      "fabG1\n",
      "drugs:\n",
      "['isoniazid', 'ethionamide']\n",
      "------------\n",
      "c.944G>C\n",
      "p.Ser315Thr\n",
      "katG\n",
      "drugs:\n",
      "['isoniazid']\n",
      "------------\n",
      "c.529A>C\n",
      "p.Thr177Pro\n",
      "pncA\n",
      "drugs:\n",
      "['pyrazinamide']\n",
      "------------\n",
      "c.-16C>T\n",
      "\n",
      "thyX\n",
      "drugs:\n",
      "['para-aminosalicylic_acid']\n",
      "------------\n",
      "c.916A>G\n",
      "p.Met306Val\n",
      "embB\n",
      "drugs:\n",
      "['ethambutol']\n",
      "------------\n",
      "lineage_drug: {'fluoroquinolones', 'ofloxacin', 'kanamycin', 'ethionamide', 'aminoglycosides', 'ethambutol', 'levofloxacin', 'streptomycin', 'rifampicin', 'isoniazid', 'amikacin', 'para-aminosalicylic_acid', 'linezolid', 'capreomycin', 'pyrazinamide', 'moxifloxacin', 'ciprofloxacin'}\n"
     ]
    }
   ],
   "source": [
    "json_results = json.load(open('/mnt/storage7/lwang/trial_tb_philippines/pipelines/Genomic_data_analysis/Executable_eval/results/clinical_mix_multi_vcf/mixture_results/profiles/ERR4797884.mix.json'))\n",
    "\n",
    "mix_checkup(json_results)"
   ]
  },
  {
   "cell_type": "code",
   "execution_count": 44,
   "metadata": {},
   "outputs": [],
   "source": [
    "bla = ['fluoroquinolones', 'ofloxacin', 'kanamycin', 'ethionamide', 'aminoglycosides', 'ethambutol', 'levofloxacin', 'streptomycin', 'rifampicin', 'isoniazid', 'amikacin', 'para-aminosalicylic_acid', 'linezolid', 'capreomycin', 'pyrazinamide', 'moxifloxacin', 'ciprofloxacin']\n",
    "bla.sort()"
   ]
  },
  {
   "cell_type": "code",
   "execution_count": 53,
   "metadata": {},
   "outputs": [
    {
     "data": {
      "text/plain": [
       "['XDR TB']"
      ]
     },
     "execution_count": 53,
     "metadata": {},
     "output_type": "execute_result"
    }
   ],
   "source": [
    "determine_tb_drug_resistance(['fluoroquinolones', 'ofloxacin', 'kanamycin', 'ethionamide', 'aminoglycosides', 'ethambutol', 'levofloxacin', 'streptomycin', 'rifampicin', 'isoniazid', 'amikacin', 'para-aminosalicylic_acid', 'linezolid', 'capreomycin', 'pyrazinamide', 'moxifloxacin', 'ciprofloxacin'])"
   ]
  },
  {
   "cell_type": "code",
   "execution_count": null,
   "metadata": {},
   "outputs": [],
   "source": []
  },
  {
   "cell_type": "code",
   "execution_count": 45,
   "metadata": {},
   "outputs": [
    {
     "data": {
      "text/plain": [
       "['amikacin',\n",
       " 'aminoglycosides',\n",
       " 'capreomycin',\n",
       " 'ciprofloxacin',\n",
       " 'ethambutol',\n",
       " 'ethionamide',\n",
       " 'fluoroquinolones',\n",
       " 'isoniazid',\n",
       " 'kanamycin',\n",
       " 'levofloxacin',\n",
       " 'linezolid',\n",
       " 'moxifloxacin',\n",
       " 'ofloxacin',\n",
       " 'para-aminosalicylic_acid',\n",
       " 'pyrazinamide',\n",
       " 'rifampicin',\n",
       " 'streptomycin']"
      ]
     },
     "execution_count": 45,
     "metadata": {},
     "output_type": "execute_result"
    }
   ],
   "source": [
    "bla"
   ]
  },
  {
   "cell_type": "code",
   "execution_count": 47,
   "metadata": {},
   "outputs": [
    {
     "name": "stdout",
     "output_type": "stream",
     "text": [
      "lineage2.2.1 ============\n",
      "c.269C>T\n",
      "p.Ala90Val\n",
      "gyrA\n",
      "drugs:\n",
      "['ofloxacin', 'moxifloxacin', 'levofloxacin', 'fluoroquinolones', 'ciprofloxacin']\n",
      "------------\n",
      "c.1349C>T\n",
      "p.Ser450Leu\n",
      "rpoB\n",
      "drugs:\n",
      "['rifampicin']\n",
      "------------\n",
      "n.514A>C\n",
      "\n",
      "rrs\n",
      "drugs:\n",
      "['streptomycin']\n",
      "------------\n",
      "c.-15C>T\n",
      "\n",
      "fabG1\n",
      "drugs:\n",
      "['isoniazid', 'ethionamide']\n",
      "------------\n",
      "c.944G>C\n",
      "p.Ser315Thr\n",
      "katG\n",
      "drugs:\n",
      "['isoniazid']\n",
      "------------\n",
      "c.478A>G\n",
      "p.Thr160Ala\n",
      "pncA\n",
      "drugs:\n",
      "['pyrazinamide']\n",
      "------------\n",
      "c.299C>T\n",
      "p.Thr100Ile\n",
      "pncA\n",
      "drugs:\n",
      "['pyrazinamide']\n",
      "------------\n",
      "c.918G>A\n",
      "p.Met306Ile\n",
      "embB\n",
      "drugs:\n",
      "['ethambutol']\n",
      "------------\n",
      "lineage_drug: {'fluoroquinolones', 'ofloxacin', 'ethionamide', 'ethambutol', 'levofloxacin', 'streptomycin', 'rifampicin', 'isoniazid', 'pyrazinamide', 'moxifloxacin', 'ciprofloxacin'}\n",
      "lineage4.3.3 ============\n",
      "lineage_drug: set()\n"
     ]
    }
   ],
   "source": [
    "json_results = json.load(open('/mnt/storage7/lwang/trial_tb_philippines/pipelines/Genomic_data_analysis/Executable_eval/results/clinical_mix_multi_vcf/mixture_results/profiles/ERR7911579.mix.json'))\n",
    "\n",
    "mix_checkup(json_results)"
   ]
  },
  {
   "cell_type": "code",
   "execution_count": null,
   "metadata": {},
   "outputs": [],
   "source": [
    "fluoroquinolones,\n",
    "ofloxacin,\n",
    "ethionamide,\n",
    "ethambutol,\n",
    "levofloxacin,\n",
    "streptomycin,\n",
    "rifampicin,\n",
    "isoniazid,\n",
    "pyrazinamide,\n",
    "moxifloxacin,\n",
    "ciprofloxacin"
   ]
  },
  {
   "cell_type": "code",
   "execution_count": 52,
   "metadata": {},
   "outputs": [],
   "source": [
    "def determine_tb_drug_resistance(drug_list):\n",
    "    \"\"\"\n",
    "    Determines the type of drug resistance in tuberculosis (TB) based on the given list of drugs.\n",
    "\n",
    "    Args:\n",
    "    - drug_list (list): List of drugs to check for resistance.\n",
    "\n",
    "    Returns:\n",
    "    - resistance_type (str): Type of drug resistance (HR-TB, RR-TB, MDR TB, pre-XDR TB, XDR TB, Sensitive, or other).\n",
    "    \"\"\"\n",
    "\n",
    "    isoniazid = ['isoniazid']\n",
    "    rifampicin = ['rifampicin']\n",
    "    fluoroquinolones = ['ofloxacin', 'moxifloxacin', 'levofloxacin', 'ciprofloxacin']\n",
    "    second_line_injectables = ['amikacin', 'kanamycin', 'capreomycin']\n",
    "    bedaquiline_linezolid = ['bedaquiline', 'linezolid']\n",
    "\n",
    "    if all(drug in drug_list for drug in isoniazid) and all(drug in drug_list for drug in rifampicin):\n",
    "        if all(drug in drug_list for drug in fluoroquinolones) and all(drug in drug_list for drug in second_line_injectables):\n",
    "            return ['XDR TB']\n",
    "            # return ['MDR-TB']\n",
    "        elif all(drug in drug_list for drug in fluoroquinolones) or all(drug in drug_list for drug in second_line_injectables):\n",
    "            # return ['MDR-TB']\n",
    "            return ['pre-XDR TB']\n",
    "        else:\n",
    "            return ['MDR-TB']\n",
    "    elif all(drug in drug_list for drug in isoniazid):\n",
    "        return ['HR-TB']\n",
    "    elif all(drug in drug_list for drug in rifampicin):\n",
    "        return ['RR-TB']\n",
    "    elif not drug_list:\n",
    "        return ['Sensitive']\n",
    "    else:\n",
    "        return ['other']\n",
    "        # return [f'other:{drug_list}']"
   ]
  },
  {
   "cell_type": "code",
   "execution_count": 50,
   "metadata": {},
   "outputs": [
    {
     "data": {
      "text/plain": [
       "['MDR-TB']"
      ]
     },
     "execution_count": 50,
     "metadata": {},
     "output_type": "execute_result"
    }
   ],
   "source": [
    "determine_tb_drug_resistance(['fluoroquinolones', 'ofloxacin', 'ethionamide', 'ethambutol', 'levofloxacin', 'streptomycin', 'rifampicin', 'isoniazid', 'pyrazinamide', 'moxifloxacin', 'ciprofloxacin','ofloxacin', 'moxifloxacin', 'levofloxacin', 'fluoroquinolones', 'ciprofloxacin'])"
   ]
  }
 ],
 "metadata": {
  "kernelspec": {
   "display_name": "ml-s7",
   "language": "python",
   "name": "python3"
  },
  "language_info": {
   "codemirror_mode": {
    "name": "ipython",
    "version": 3
   },
   "file_extension": ".py",
   "mimetype": "text/x-python",
   "name": "python",
   "nbconvert_exporter": "python",
   "pygments_lexer": "ipython3",
   "version": "3.10.9"
  },
  "orig_nbformat": 4
 },
 "nbformat": 4,
 "nbformat_minor": 2
}
