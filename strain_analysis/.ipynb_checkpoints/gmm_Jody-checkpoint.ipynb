{
 "cells": [
  {
   "cell_type": "code",
   "execution_count": 7,
   "metadata": {},
   "outputs": [],
   "source": [
    "import numpy as np\n",
    "# import pathogenprofiler as pp\n",
    "from sklearn.mixture import GaussianMixture\n",
    "from sklearn.metrics import mean_squared_error, confusion_matrix, f1_score\n",
    "# import fastq2matrix as fm\n",
    "import plotly.graph_objects as go\n",
    "from plotly.subplots import make_subplots\n",
    "import plotly.express as px\n",
    "import json\n",
    "from scipy.stats import norm\n",
    "import subprocess\n",
    "from scipy.stats import kurtosis, skew\n",
    "import re\n",
    "import os\n",
    "import seaborn as sns\n",
    "import matplotlib.pyplot as plt\n",
    "from cb91visuals import *"
   ]
  },
  {
   "cell_type": "code",
   "execution_count": 80,
   "metadata": {},
   "outputs": [],
   "source": [
    "vcf_file = 'test_data/ERR6634978-ERR6635032-0100.vcf.gz'\n",
    "json_file = 'test_data/ERR6634978-ERR6635032-1090.results.json'"
   ]
  },
  {
   "cell_type": "code",
   "execution_count": 81,
   "metadata": {},
   "outputs": [
    {
     "name": "stdout",
     "output_type": "stream",
     "text": [
      "std0: 0.11129875740351634\n",
      "0.6836992187547083\n",
      "std1: 0.12477868352910905\n",
      "0.2963206504295339\n"
     ]
    },
    {
     "data": {
      "application/vnd.plotly.v1+json": {
       "config": {
        "plotlyServerURL": "https://plot.ly"
       },
       "data": [
        {
         "type": "histogram",
         "x": [
          0.5416666666666666,
          0.25,
          0.26666666666666666,
          0.6666666666666666,
          0.2862903225806452,
          0.301255230125523,
          0.43278688524590164,
          0.3813559322033898,
          0.3881856540084388,
          0.28735632183908044,
          0.15384615384615385,
          0.7262180974477959,
          0.15789473684210525,
          0.13679245283018868,
          0.13425925925925927,
          0.1542056074766355,
          0.41132075471698115,
          0.3438914027149321,
          0.28761061946902655,
          0.2832618025751073,
          0.23893805309734514,
          0.21739130434782608,
          0.16379310344827586,
          0.14601769911504425,
          0.16363636363636364,
          0.1518987341772152,
          0.15021459227467812,
          0.11979166666666667,
          0.6,
          0.6666666666666666,
          0.6,
          0.11363636363636363,
          0.12222222222222222,
          0.13580246913580246,
          0.4817813765182186,
          0.4663677130044843,
          0.5047169811320755,
          0.4712230215827338,
          0.35344827586206895,
          0.6028368794326241,
          0.13636363636363635,
          0.2916666666666667,
          0.4175257731958763,
          0.24324324324324326,
          0.11237785016286644,
          0.7538461538461538,
          0.6203703703703703,
          0.7560975609756098,
          0.26903553299492383,
          0.6923076923076923,
          0.27419354838709675,
          0.39375,
          0.3485915492957746,
          0.27380952380952384,
          0.2764227642276423,
          0.2682926829268293,
          0.1282051282051282,
          0.5822368421052632,
          0.4528301886792453,
          0.42857142857142855,
          0.46866485013623976,
          0.4776536312849162,
          0.46629213483146065,
          0.46438746438746437,
          0.43373493975903615,
          0.45481049562682213,
          0.7631578947368421,
          0.37202380952380953,
          0.2951388888888889,
          0.3151750972762646,
          0.25089605734767023,
          0.23015873015873015,
          0.2,
          0.15555555555555556,
          0.39545454545454545,
          0.42358078602620086,
          0.4307692307692308,
          0.4383561643835616,
          0.44537815126050423,
          0.4401114206128134,
          0.35094339622641507,
          0.3576923076923077,
          0.38235294117647056,
          0.5948275862068966,
          0.12345679012345678,
          0.664179104477612,
          0.288135593220339,
          0.16216216216216217,
          0.897196261682243,
          0.8549618320610687,
          0.14,
          0.19254658385093168,
          0.17027027027027028,
          0.12359550561797752,
          0.696969696969697,
          0.1853932584269663,
          0.4240506329113924,
          0.4152542372881356,
          0.46153846153846156,
          0.14814814814814814,
          0.16447368421052633,
          0.16181229773462782,
          0.15584415584415584,
          0.1830065359477124,
          0.26685393258426965,
          0.283987915407855,
          0.2844574780058651,
          0.2838283828382838,
          0.32802547770700635,
          0.808,
          0.1657142857142857,
          0.3486238532110092,
          0.10820895522388059,
          0.1111111111111111,
          0.31970260223048325,
          0.3878787878787879,
          0.44508670520231214,
          0.48257372654155495,
          0.39271255060728744,
          0.2,
          0.20967741935483872,
          0.25660377358490566,
          0.26356589147286824,
          0.32167832167832167,
          0.339041095890411,
          0.3643122676579926,
          0.458128078817734,
          0.3852040816326531,
          0.3621621621621622
         ],
         "xaxis": "x",
         "yaxis": "y"
        },
        {
         "mode": "lines",
         "type": "scatter",
         "x": [
          0,
          0.010101010101010102,
          0.020202020202020204,
          0.030303030303030304,
          0.04040404040404041,
          0.05050505050505051,
          0.06060606060606061,
          0.07070707070707072,
          0.08080808080808081,
          0.09090909090909091,
          0.10101010101010102,
          0.11111111111111112,
          0.12121212121212122,
          0.13131313131313133,
          0.14141414141414144,
          0.15151515151515152,
          0.16161616161616163,
          0.17171717171717174,
          0.18181818181818182,
          0.19191919191919193,
          0.20202020202020204,
          0.21212121212121213,
          0.22222222222222224,
          0.23232323232323235,
          0.24242424242424243,
          0.25252525252525254,
          0.26262626262626265,
          0.27272727272727276,
          0.2828282828282829,
          0.29292929292929293,
          0.30303030303030304,
          0.31313131313131315,
          0.32323232323232326,
          0.33333333333333337,
          0.3434343434343435,
          0.3535353535353536,
          0.36363636363636365,
          0.37373737373737376,
          0.38383838383838387,
          0.393939393939394,
          0.4040404040404041,
          0.4141414141414142,
          0.42424242424242425,
          0.43434343434343436,
          0.4444444444444445,
          0.4545454545454546,
          0.4646464646464647,
          0.4747474747474748,
          0.48484848484848486,
          0.494949494949495,
          0.5050505050505051,
          0.5151515151515152,
          0.5252525252525253,
          0.5353535353535354,
          0.5454545454545455,
          0.5555555555555556,
          0.5656565656565657,
          0.5757575757575758,
          0.5858585858585859,
          0.595959595959596,
          0.6060606060606061,
          0.6161616161616162,
          0.6262626262626263,
          0.6363636363636365,
          0.6464646464646465,
          0.6565656565656566,
          0.6666666666666667,
          0.6767676767676768,
          0.686868686868687,
          0.696969696969697,
          0.7070707070707072,
          0.7171717171717172,
          0.7272727272727273,
          0.7373737373737375,
          0.7474747474747475,
          0.7575757575757577,
          0.7676767676767677,
          0.7777777777777778,
          0.787878787878788,
          0.797979797979798,
          0.8080808080808082,
          0.8181818181818182,
          0.8282828282828284,
          0.8383838383838385,
          0.8484848484848485,
          0.8585858585858587,
          0.8686868686868687,
          0.8787878787878789,
          0.888888888888889,
          0.8989898989898991,
          0.9090909090909092,
          0.9191919191919192,
          0.9292929292929294,
          0.9393939393939394,
          0.9494949494949496,
          0.9595959595959597,
          0.9696969696969697,
          0.9797979797979799,
          0.98989898989899,
          1
         ],
         "xaxis": "x",
         "y": [
          2.2922968005773538e-08,
          3.986611433793968e-08,
          6.876379700073684e-08,
          1.176355731772122e-07,
          1.995907352772019e-07,
          3.358651670690163e-07,
          5.605475178273839e-07,
          9.278607085687994e-07,
          1.52326694066691e-06,
          2.480230997292714e-06,
          4.0052638131393e-06,
          6.414945996049205e-06,
          1.0190084003846895e-05,
          1.6054079363360758e-05,
          2.5085105319984512e-05,
          3.887490437312186e-05,
          5.9751060869399023e-05,
          9.108456510816248e-05,
          0.00013771043161559193,
          0.000206496060967199,
          0.0003070998367896621,
          0.0004529708777733209,
          0.0006626494761914925,
          0.000961435864024965,
          0.0013835015804087203,
          0.0019745215707747837,
          0.00279490459292344,
          0.003923692586740426,
          0.005463184183141373,
          0.007544311164714691,
          0.010332757203069792,
          0.014035753692152491,
          0.018909416770053603,
          0.02526640256262388,
          0.0334835557002099,
          0.04400911260284975,
          0.057368901537083954,
          0.0741708641599953,
          0.09510711883189493,
          0.12095270727885606,
          0.1525601277175516,
          0.1908487744449738,
          0.23678849054795595,
          0.29137660881479954,
          0.3556081138867255,
          0.43043890775849025,
          0.5167425946238182,
          0.6152617042759916,
          0.7265548205366907,
          0.8509416377311135,
          0.9884484911979087,
          1.138757348822403,
          1.3011615593234462,
          1.4745317818676358,
          1.6572954306083023,
          1.8474326298694856,
          2.0424910812722112,
          2.2396214043926426,
          2.4356334615052626,
          2.6270729709262013,
          2.810316428464623,
          2.9816810832576377,
          3.137545551245081,
          3.274475694395536,
          3.3893497342779306,
          3.479476273691491,
          3.5426990125128475,
          3.5774824746784812,
          3.5829739890603824,
          3.559038431237566,
          3.5062637498071214,
          3.4259369616778046,
          3.3199919846921095,
          3.190932259812797,
          3.041732484780427,
          2.8757248413398155,
          2.6964757805935213,
          2.5076596998090963,
          2.3129356974483333,
          2.115833062672876,
          1.919650301104115,
          1.7273714019344741,
          1.541601807645577,
          1.3645252557801095,
          1.1978814169608558,
          1.042963136865558,
          0.9006311662550469,
          0.7713435748633689,
          0.6551966116021193,
          0.5519735929213951,
          0.4611984522300516,
          0.3821908302854763,
          0.3141199840456713,
          0.2560552897640866,
          0.20701166551996128,
          0.16598879363449104,
          0.1320035465221432,
          0.10411548156251739,
          0.08144565244382755,
          0.06318927652225509
         ],
         "yaxis": "y2"
        },
        {
         "mode": "lines",
         "type": "scatter",
         "x": [
          0,
          0.010101010101010102,
          0.020202020202020204,
          0.030303030303030304,
          0.04040404040404041,
          0.05050505050505051,
          0.06060606060606061,
          0.07070707070707072,
          0.08080808080808081,
          0.09090909090909091,
          0.10101010101010102,
          0.11111111111111112,
          0.12121212121212122,
          0.13131313131313133,
          0.14141414141414144,
          0.15151515151515152,
          0.16161616161616163,
          0.17171717171717174,
          0.18181818181818182,
          0.19191919191919193,
          0.20202020202020204,
          0.21212121212121213,
          0.22222222222222224,
          0.23232323232323235,
          0.24242424242424243,
          0.25252525252525254,
          0.26262626262626265,
          0.27272727272727276,
          0.2828282828282829,
          0.29292929292929293,
          0.30303030303030304,
          0.31313131313131315,
          0.32323232323232326,
          0.33333333333333337,
          0.3434343434343435,
          0.3535353535353536,
          0.36363636363636365,
          0.37373737373737376,
          0.38383838383838387,
          0.393939393939394,
          0.4040404040404041,
          0.4141414141414142,
          0.42424242424242425,
          0.43434343434343436,
          0.4444444444444445,
          0.4545454545454546,
          0.4646464646464647,
          0.4747474747474748,
          0.48484848484848486,
          0.494949494949495,
          0.5050505050505051,
          0.5151515151515152,
          0.5252525252525253,
          0.5353535353535354,
          0.5454545454545455,
          0.5555555555555556,
          0.5656565656565657,
          0.5757575757575758,
          0.5858585858585859,
          0.595959595959596,
          0.6060606060606061,
          0.6161616161616162,
          0.6262626262626263,
          0.6363636363636365,
          0.6464646464646465,
          0.6565656565656566,
          0.6666666666666667,
          0.6767676767676768,
          0.686868686868687,
          0.696969696969697,
          0.7070707070707072,
          0.7171717171717172,
          0.7272727272727273,
          0.7373737373737375,
          0.7474747474747475,
          0.7575757575757577,
          0.7676767676767677,
          0.7777777777777778,
          0.787878787878788,
          0.797979797979798,
          0.8080808080808082,
          0.8181818181818182,
          0.8282828282828284,
          0.8383838383838385,
          0.8484848484848485,
          0.8585858585858587,
          0.8686868686868687,
          0.8787878787878789,
          0.888888888888889,
          0.8989898989898991,
          0.9090909090909092,
          0.9191919191919192,
          0.9292929292929294,
          0.9393939393939394,
          0.9494949494949496,
          0.9595959595959597,
          0.9696969696969697,
          0.9797979797979799,
          0.98989898989899,
          1
         ],
         "xaxis": "x",
         "y": [
          0.1906166924879858,
          0.23026457183391097,
          0.2763422748961804,
          0.3294743010383795,
          0.3902561661998476,
          0.4592318637521916,
          0.5368689234268311,
          0.6235316874913243,
          0.7194536229233738,
          0.824709676842178,
          0.9391898460802154,
          1.0625752561081911,
          1.1943181155883327,
          1.3336269182246043,
          1.4794581936539883,
          1.6305159581093565,
          1.7852597825460579,
          1.9419220854455423,
          2.098534880008861,
          2.2529657770562634,
          2.4029625868811393,
          2.546205400806327,
          2.680364593999377,
          2.8031628036163436,
          2.9124386275638114,
          3.0062095826202886,
          3.082731774441864,
          3.1405537771441394,
          3.1785623995530767,
          3.1960183229481784,
          3.1925800166435963,
          3.1683148506942764,
          3.12369690060822,
          3.0595915439955084,
          2.9772275482984667,
          2.87815790724926,
          2.7642111695066944,
          2.6374353891729765,
          2.5000370946558363,
          2.35431780786423,
          2.202610646999771,
          2.0472194188674067,
          1.8903623641979,
          1.7341223820322733,
          1.5804051516566315,
          1.4309061205866556,
          1.2870868630843701,
          1.1501608627543463,
          1.0210883589802031,
          0.9005795399715383,
          0.7891050792903295,
          0.6869128064077671,
          0.5940491778239784,
          0.5103841709489493,
          0.43563825113202637,
          0.36941015225741164,
          0.31120435014586156,
          0.2604572813817936,
          0.2165615538004418,
          0.17888759527568537,
          0.1468023828275957,
          0.11968507475405195,
          0.09693952725795589,
          0.07800380917456151,
          0.062356931574079365,
          0.04952308301371367,
          0.03907370758030917,
          0.030627784463216495,
          0.023850668376804527,
          0.018451833935422733,
          0.014181838400441741,
          0.010828780209541113,
          0.008214489091350216,
          0.00619064053519538,
          0.00463494546447973,
          0.003447527043533615,
          0.002547561906572909,
          0.0018702334599852088,
          0.0013640205411581839,
          0.0009883255210004537,
          0.000711431550309767,
          0.0005087685345605185,
          0.000361460943898569,
          0.0002551270599600002,
          0.00017889808097264903,
          0.00012462605597132192,
          8.625137594750174e-05,
          5.930307654750165e-05,
          4.050815177388821e-05,
          2.7489171082179467e-05,
          1.8532536812538135e-05,
          1.2412581423201516e-05,
          8.25930227719685e-06,
          5.459823745694129e-06,
          3.5856500125331075e-06,
          2.3394360723432317e-06,
          1.5163815060657635e-06,
          9.76471984528431e-07,
          6.246907969247027e-07,
          3.970310201925069e-07
         ],
         "yaxis": "y2"
        }
       ],
       "layout": {
        "autosize": true,
        "template": {
         "data": {
          "bar": [
           {
            "error_x": {
             "color": "#2a3f5f"
            },
            "error_y": {
             "color": "#2a3f5f"
            },
            "marker": {
             "line": {
              "color": "#E5ECF6",
              "width": 0.5
             },
             "pattern": {
              "fillmode": "overlay",
              "size": 10,
              "solidity": 0.2
             }
            },
            "type": "bar"
           }
          ],
          "barpolar": [
           {
            "marker": {
             "line": {
              "color": "#E5ECF6",
              "width": 0.5
             },
             "pattern": {
              "fillmode": "overlay",
              "size": 10,
              "solidity": 0.2
             }
            },
            "type": "barpolar"
           }
          ],
          "carpet": [
           {
            "aaxis": {
             "endlinecolor": "#2a3f5f",
             "gridcolor": "white",
             "linecolor": "white",
             "minorgridcolor": "white",
             "startlinecolor": "#2a3f5f"
            },
            "baxis": {
             "endlinecolor": "#2a3f5f",
             "gridcolor": "white",
             "linecolor": "white",
             "minorgridcolor": "white",
             "startlinecolor": "#2a3f5f"
            },
            "type": "carpet"
           }
          ],
          "choropleth": [
           {
            "colorbar": {
             "outlinewidth": 0,
             "ticks": ""
            },
            "type": "choropleth"
           }
          ],
          "contour": [
           {
            "colorbar": {
             "outlinewidth": 0,
             "ticks": ""
            },
            "colorscale": [
             [
              0,
              "#0d0887"
             ],
             [
              0.1111111111111111,
              "#46039f"
             ],
             [
              0.2222222222222222,
              "#7201a8"
             ],
             [
              0.3333333333333333,
              "#9c179e"
             ],
             [
              0.4444444444444444,
              "#bd3786"
             ],
             [
              0.5555555555555556,
              "#d8576b"
             ],
             [
              0.6666666666666666,
              "#ed7953"
             ],
             [
              0.7777777777777778,
              "#fb9f3a"
             ],
             [
              0.8888888888888888,
              "#fdca26"
             ],
             [
              1,
              "#f0f921"
             ]
            ],
            "type": "contour"
           }
          ],
          "contourcarpet": [
           {
            "colorbar": {
             "outlinewidth": 0,
             "ticks": ""
            },
            "type": "contourcarpet"
           }
          ],
          "heatmap": [
           {
            "colorbar": {
             "outlinewidth": 0,
             "ticks": ""
            },
            "colorscale": [
             [
              0,
              "#0d0887"
             ],
             [
              0.1111111111111111,
              "#46039f"
             ],
             [
              0.2222222222222222,
              "#7201a8"
             ],
             [
              0.3333333333333333,
              "#9c179e"
             ],
             [
              0.4444444444444444,
              "#bd3786"
             ],
             [
              0.5555555555555556,
              "#d8576b"
             ],
             [
              0.6666666666666666,
              "#ed7953"
             ],
             [
              0.7777777777777778,
              "#fb9f3a"
             ],
             [
              0.8888888888888888,
              "#fdca26"
             ],
             [
              1,
              "#f0f921"
             ]
            ],
            "type": "heatmap"
           }
          ],
          "heatmapgl": [
           {
            "colorbar": {
             "outlinewidth": 0,
             "ticks": ""
            },
            "colorscale": [
             [
              0,
              "#0d0887"
             ],
             [
              0.1111111111111111,
              "#46039f"
             ],
             [
              0.2222222222222222,
              "#7201a8"
             ],
             [
              0.3333333333333333,
              "#9c179e"
             ],
             [
              0.4444444444444444,
              "#bd3786"
             ],
             [
              0.5555555555555556,
              "#d8576b"
             ],
             [
              0.6666666666666666,
              "#ed7953"
             ],
             [
              0.7777777777777778,
              "#fb9f3a"
             ],
             [
              0.8888888888888888,
              "#fdca26"
             ],
             [
              1,
              "#f0f921"
             ]
            ],
            "type": "heatmapgl"
           }
          ],
          "histogram": [
           {
            "marker": {
             "pattern": {
              "fillmode": "overlay",
              "size": 10,
              "solidity": 0.2
             }
            },
            "type": "histogram"
           }
          ],
          "histogram2d": [
           {
            "colorbar": {
             "outlinewidth": 0,
             "ticks": ""
            },
            "colorscale": [
             [
              0,
              "#0d0887"
             ],
             [
              0.1111111111111111,
              "#46039f"
             ],
             [
              0.2222222222222222,
              "#7201a8"
             ],
             [
              0.3333333333333333,
              "#9c179e"
             ],
             [
              0.4444444444444444,
              "#bd3786"
             ],
             [
              0.5555555555555556,
              "#d8576b"
             ],
             [
              0.6666666666666666,
              "#ed7953"
             ],
             [
              0.7777777777777778,
              "#fb9f3a"
             ],
             [
              0.8888888888888888,
              "#fdca26"
             ],
             [
              1,
              "#f0f921"
             ]
            ],
            "type": "histogram2d"
           }
          ],
          "histogram2dcontour": [
           {
            "colorbar": {
             "outlinewidth": 0,
             "ticks": ""
            },
            "colorscale": [
             [
              0,
              "#0d0887"
             ],
             [
              0.1111111111111111,
              "#46039f"
             ],
             [
              0.2222222222222222,
              "#7201a8"
             ],
             [
              0.3333333333333333,
              "#9c179e"
             ],
             [
              0.4444444444444444,
              "#bd3786"
             ],
             [
              0.5555555555555556,
              "#d8576b"
             ],
             [
              0.6666666666666666,
              "#ed7953"
             ],
             [
              0.7777777777777778,
              "#fb9f3a"
             ],
             [
              0.8888888888888888,
              "#fdca26"
             ],
             [
              1,
              "#f0f921"
             ]
            ],
            "type": "histogram2dcontour"
           }
          ],
          "mesh3d": [
           {
            "colorbar": {
             "outlinewidth": 0,
             "ticks": ""
            },
            "type": "mesh3d"
           }
          ],
          "parcoords": [
           {
            "line": {
             "colorbar": {
              "outlinewidth": 0,
              "ticks": ""
             }
            },
            "type": "parcoords"
           }
          ],
          "pie": [
           {
            "automargin": true,
            "type": "pie"
           }
          ],
          "scatter": [
           {
            "marker": {
             "colorbar": {
              "outlinewidth": 0,
              "ticks": ""
             }
            },
            "type": "scatter"
           }
          ],
          "scatter3d": [
           {
            "line": {
             "colorbar": {
              "outlinewidth": 0,
              "ticks": ""
             }
            },
            "marker": {
             "colorbar": {
              "outlinewidth": 0,
              "ticks": ""
             }
            },
            "type": "scatter3d"
           }
          ],
          "scattercarpet": [
           {
            "marker": {
             "colorbar": {
              "outlinewidth": 0,
              "ticks": ""
             }
            },
            "type": "scattercarpet"
           }
          ],
          "scattergeo": [
           {
            "marker": {
             "colorbar": {
              "outlinewidth": 0,
              "ticks": ""
             }
            },
            "type": "scattergeo"
           }
          ],
          "scattergl": [
           {
            "marker": {
             "colorbar": {
              "outlinewidth": 0,
              "ticks": ""
             }
            },
            "type": "scattergl"
           }
          ],
          "scattermapbox": [
           {
            "marker": {
             "colorbar": {
              "outlinewidth": 0,
              "ticks": ""
             }
            },
            "type": "scattermapbox"
           }
          ],
          "scatterpolar": [
           {
            "marker": {
             "colorbar": {
              "outlinewidth": 0,
              "ticks": ""
             }
            },
            "type": "scatterpolar"
           }
          ],
          "scatterpolargl": [
           {
            "marker": {
             "colorbar": {
              "outlinewidth": 0,
              "ticks": ""
             }
            },
            "type": "scatterpolargl"
           }
          ],
          "scatterternary": [
           {
            "marker": {
             "colorbar": {
              "outlinewidth": 0,
              "ticks": ""
             }
            },
            "type": "scatterternary"
           }
          ],
          "surface": [
           {
            "colorbar": {
             "outlinewidth": 0,
             "ticks": ""
            },
            "colorscale": [
             [
              0,
              "#0d0887"
             ],
             [
              0.1111111111111111,
              "#46039f"
             ],
             [
              0.2222222222222222,
              "#7201a8"
             ],
             [
              0.3333333333333333,
              "#9c179e"
             ],
             [
              0.4444444444444444,
              "#bd3786"
             ],
             [
              0.5555555555555556,
              "#d8576b"
             ],
             [
              0.6666666666666666,
              "#ed7953"
             ],
             [
              0.7777777777777778,
              "#fb9f3a"
             ],
             [
              0.8888888888888888,
              "#fdca26"
             ],
             [
              1,
              "#f0f921"
             ]
            ],
            "type": "surface"
           }
          ],
          "table": [
           {
            "cells": {
             "fill": {
              "color": "#EBF0F8"
             },
             "line": {
              "color": "white"
             }
            },
            "header": {
             "fill": {
              "color": "#C8D4E3"
             },
             "line": {
              "color": "white"
             }
            },
            "type": "table"
           }
          ]
         },
         "layout": {
          "annotationdefaults": {
           "arrowcolor": "#2a3f5f",
           "arrowhead": 0,
           "arrowwidth": 1
          },
          "autotypenumbers": "strict",
          "coloraxis": {
           "colorbar": {
            "outlinewidth": 0,
            "ticks": ""
           }
          },
          "colorscale": {
           "diverging": [
            [
             0,
             "#8e0152"
            ],
            [
             0.1,
             "#c51b7d"
            ],
            [
             0.2,
             "#de77ae"
            ],
            [
             0.3,
             "#f1b6da"
            ],
            [
             0.4,
             "#fde0ef"
            ],
            [
             0.5,
             "#f7f7f7"
            ],
            [
             0.6,
             "#e6f5d0"
            ],
            [
             0.7,
             "#b8e186"
            ],
            [
             0.8,
             "#7fbc41"
            ],
            [
             0.9,
             "#4d9221"
            ],
            [
             1,
             "#276419"
            ]
           ],
           "sequential": [
            [
             0,
             "#0d0887"
            ],
            [
             0.1111111111111111,
             "#46039f"
            ],
            [
             0.2222222222222222,
             "#7201a8"
            ],
            [
             0.3333333333333333,
             "#9c179e"
            ],
            [
             0.4444444444444444,
             "#bd3786"
            ],
            [
             0.5555555555555556,
             "#d8576b"
            ],
            [
             0.6666666666666666,
             "#ed7953"
            ],
            [
             0.7777777777777778,
             "#fb9f3a"
            ],
            [
             0.8888888888888888,
             "#fdca26"
            ],
            [
             1,
             "#f0f921"
            ]
           ],
           "sequentialminus": [
            [
             0,
             "#0d0887"
            ],
            [
             0.1111111111111111,
             "#46039f"
            ],
            [
             0.2222222222222222,
             "#7201a8"
            ],
            [
             0.3333333333333333,
             "#9c179e"
            ],
            [
             0.4444444444444444,
             "#bd3786"
            ],
            [
             0.5555555555555556,
             "#d8576b"
            ],
            [
             0.6666666666666666,
             "#ed7953"
            ],
            [
             0.7777777777777778,
             "#fb9f3a"
            ],
            [
             0.8888888888888888,
             "#fdca26"
            ],
            [
             1,
             "#f0f921"
            ]
           ]
          },
          "colorway": [
           "#636efa",
           "#EF553B",
           "#00cc96",
           "#ab63fa",
           "#FFA15A",
           "#19d3f3",
           "#FF6692",
           "#B6E880",
           "#FF97FF",
           "#FECB52"
          ],
          "font": {
           "color": "#2a3f5f"
          },
          "geo": {
           "bgcolor": "white",
           "lakecolor": "white",
           "landcolor": "#E5ECF6",
           "showlakes": true,
           "showland": true,
           "subunitcolor": "white"
          },
          "hoverlabel": {
           "align": "left"
          },
          "hovermode": "closest",
          "mapbox": {
           "style": "light"
          },
          "paper_bgcolor": "white",
          "plot_bgcolor": "#E5ECF6",
          "polar": {
           "angularaxis": {
            "gridcolor": "white",
            "linecolor": "white",
            "ticks": ""
           },
           "bgcolor": "#E5ECF6",
           "radialaxis": {
            "gridcolor": "white",
            "linecolor": "white",
            "ticks": ""
           }
          },
          "scene": {
           "xaxis": {
            "backgroundcolor": "#E5ECF6",
            "gridcolor": "white",
            "gridwidth": 2,
            "linecolor": "white",
            "showbackground": true,
            "ticks": "",
            "zerolinecolor": "white"
           },
           "yaxis": {
            "backgroundcolor": "#E5ECF6",
            "gridcolor": "white",
            "gridwidth": 2,
            "linecolor": "white",
            "showbackground": true,
            "ticks": "",
            "zerolinecolor": "white"
           },
           "zaxis": {
            "backgroundcolor": "#E5ECF6",
            "gridcolor": "white",
            "gridwidth": 2,
            "linecolor": "white",
            "showbackground": true,
            "ticks": "",
            "zerolinecolor": "white"
           }
          },
          "shapedefaults": {
           "line": {
            "color": "#2a3f5f"
           }
          },
          "ternary": {
           "aaxis": {
            "gridcolor": "white",
            "linecolor": "white",
            "ticks": ""
           },
           "baxis": {
            "gridcolor": "white",
            "linecolor": "white",
            "ticks": ""
           },
           "bgcolor": "#E5ECF6",
           "caxis": {
            "gridcolor": "white",
            "linecolor": "white",
            "ticks": ""
           }
          },
          "title": {
           "x": 0.05
          },
          "xaxis": {
           "automargin": true,
           "gridcolor": "white",
           "linecolor": "white",
           "ticks": "",
           "title": {
            "standoff": 15
           },
           "zerolinecolor": "white",
           "zerolinewidth": 2
          },
          "yaxis": {
           "automargin": true,
           "gridcolor": "white",
           "linecolor": "white",
           "ticks": "",
           "title": {
            "standoff": 15
           },
           "zerolinecolor": "white",
           "zerolinewidth": 2
          }
         }
        },
        "xaxis": {
         "anchor": "y",
         "autorange": true,
         "domain": [
          0,
          0.94
         ],
         "range": [
          0,
          1
         ],
         "type": "linear"
        },
        "yaxis": {
         "anchor": "x",
         "autorange": true,
         "domain": [
          0,
          1
         ],
         "range": [
          0,
          34.73684210526316
         ]
        },
        "yaxis2": {
         "anchor": "x",
         "autorange": true,
         "overlaying": "y",
         "range": [
          -0.19905408630688837,
          3.782028098290239
         ],
         "side": "right",
         "type": "linear"
        }
       }
      },
      "image/png": "[encoded data removed]",
      "text/html": [
       "<div>                            <div id=\"d3c3ec83-d365-4033-a8de-afc8e09b6777\" class=\"plotly-graph-div\" style=\"height:525px; width:100%;\"></div>            <script type=\"text/javascript\">                require([\"plotly\"], function(Plotly) {                    window.PLOTLYENV=window.PLOTLYENV || {};                                    if (document.getElementById(\"d3c3ec83-d365-4033-a8de-afc8e09b6777\")) {                    Plotly.newPlot(                        \"d3c3ec83-d365-4033-a8de-afc8e09b6777\",                        [{\"x\":[0.5416666666666666,0.25,0.26666666666666666,0.6666666666666666,0.2862903225806452,0.301255230125523,0.43278688524590164,0.3813559322033898,0.3881856540084388,0.28735632183908044,0.15384615384615385,0.7262180974477959,0.15789473684210525,0.13679245283018868,0.13425925925925927,0.1542056074766355,0.41132075471698115,0.3438914027149321,0.28761061946902655,0.2832618025751073,0.23893805309734514,0.21739130434782608,0.16379310344827586,0.14601769911504425,0.16363636363636364,0.1518987341772152,0.15021459227467812,0.11979166666666667,0.6,0.6666666666666666,0.6,0.11363636363636363,0.12222222222222222,0.13580246913580246,0.4817813765182186,0.4663677130044843,0.5047169811320755,0.4712230215827338,0.35344827586206895,0.6028368794326241,0.13636363636363635,0.2916666666666667,0.4175257731958763,0.24324324324324326,0.11237785016286644,0.7538461538461538,0.6203703703703703,0.7560975609756098,0.26903553299492383,0.6923076923076923,0.27419354838709675,0.39375,0.3485915492957746,0.27380952380952384,0.2764227642276423,0.2682926829268293,0.1282051282051282,0.5822368421052632,0.4528301886792453,0.42857142857142855,0.46866485013623976,0.4776536312849162,0.46629213483146065,0.46438746438746437,0.43373493975903615,0.45481049562682213,0.7631578947368421,0.37202380952380953,0.2951388888888889,0.3151750972762646,0.25089605734767023,0.23015873015873015,0.2,0.15555555555555556,0.39545454545454545,0.42358078602620086,0.4307692307692308,0.4383561643835616,0.44537815126050423,0.4401114206128134,0.35094339622641507,0.3576923076923077,0.38235294117647056,0.5948275862068966,0.12345679012345678,0.664179104477612,0.288135593220339,0.16216216216216217,0.897196261682243,0.8549618320610687,0.14,0.19254658385093168,0.17027027027027028,0.12359550561797752,0.696969696969697,0.1853932584269663,0.4240506329113924,0.4152542372881356,0.46153846153846156,0.14814814814814814,0.16447368421052633,0.16181229773462782,0.15584415584415584,0.1830065359477124,0.26685393258426965,0.283987915407855,0.2844574780058651,0.2838283828382838,0.32802547770700635,0.808,0.1657142857142857,0.3486238532110092,0.10820895522388059,0.1111111111111111,0.31970260223048325,0.3878787878787879,0.44508670520231214,0.48257372654155495,0.39271255060728744,0.2,0.20967741935483872,0.25660377358490566,0.26356589147286824,0.32167832167832167,0.339041095890411,0.3643122676579926,0.458128078817734,0.3852040816326531,0.3621621621621622],\"type\":\"histogram\",\"xaxis\":\"x\",\"yaxis\":\"y\"},{\"mode\":\"lines\",\"x\":[0.0,0.010101010101010102,0.020202020202020204,0.030303030303030304,0.04040404040404041,0.05050505050505051,0.06060606060606061,0.07070707070707072,0.08080808080808081,0.09090909090909091,0.10101010101010102,0.11111111111111112,0.12121212121212122,0.13131313131313133,0.14141414141414144,0.15151515151515152,0.16161616161616163,0.17171717171717174,0.18181818181818182,0.19191919191919193,0.20202020202020204,0.21212121212121213,0.22222222222222224,0.23232323232323235,0.24242424242424243,0.25252525252525254,0.26262626262626265,0.27272727272727276,0.2828282828282829,0.29292929292929293,0.30303030303030304,0.31313131313131315,0.32323232323232326,0.33333333333333337,0.3434343434343435,0.3535353535353536,0.36363636363636365,0.37373737373737376,0.38383838383838387,0.393939393939394,0.4040404040404041,0.4141414141414142,0.42424242424242425,0.43434343434343436,0.4444444444444445,0.4545454545454546,0.4646464646464647,0.4747474747474748,0.48484848484848486,0.494949494949495,0.5050505050505051,0.5151515151515152,0.5252525252525253,0.5353535353535354,0.5454545454545455,0.5555555555555556,0.5656565656565657,0.5757575757575758,0.5858585858585859,0.595959595959596,0.6060606060606061,0.6161616161616162,0.6262626262626263,0.6363636363636365,0.6464646464646465,0.6565656565656566,0.6666666666666667,0.6767676767676768,0.686868686868687,0.696969696969697,0.7070707070707072,0.7171717171717172,0.7272727272727273,0.7373737373737375,0.7474747474747475,0.7575757575757577,0.7676767676767677,0.7777777777777778,0.787878787878788,0.797979797979798,0.8080808080808082,0.8181818181818182,0.8282828282828284,0.8383838383838385,0.8484848484848485,0.8585858585858587,0.8686868686868687,0.8787878787878789,0.888888888888889,0.8989898989898991,0.9090909090909092,0.9191919191919192,0.9292929292929294,0.9393939393939394,0.9494949494949496,0.9595959595959597,0.9696969696969697,0.9797979797979799,0.98989898989899,1.0],\"y\":[2.2922968005773538e-08,3.986611433793968e-08,6.876379700073684e-08,1.176355731772122e-07,1.995907352772019e-07,3.358651670690163e-07,5.605475178273839e-07,9.278607085687994e-07,1.52326694066691e-06,2.480230997292714e-06,4.0052638131393e-06,6.414945996049205e-06,1.0190084003846895e-05,1.6054079363360758e-05,2.5085105319984512e-05,3.887490437312186e-05,5.9751060869399023e-05,9.108456510816248e-05,0.00013771043161559193,0.000206496060967199,0.0003070998367896621,0.0004529708777733209,0.0006626494761914925,0.000961435864024965,0.0013835015804087203,0.0019745215707747837,0.00279490459292344,0.003923692586740426,0.005463184183141373,0.007544311164714691,0.010332757203069792,0.014035753692152491,0.018909416770053603,0.02526640256262388,0.0334835557002099,0.04400911260284975,0.057368901537083954,0.0741708641599953,0.09510711883189493,0.12095270727885606,0.1525601277175516,0.1908487744449738,0.23678849054795595,0.29137660881479954,0.3556081138867255,0.43043890775849025,0.5167425946238182,0.6152617042759916,0.7265548205366907,0.8509416377311135,0.9884484911979087,1.138757348822403,1.3011615593234462,1.4745317818676358,1.6572954306083023,1.8474326298694856,2.0424910812722112,2.2396214043926426,2.4356334615052626,2.6270729709262013,2.810316428464623,2.9816810832576377,3.137545551245081,3.274475694395536,3.3893497342779306,3.479476273691491,3.5426990125128475,3.5774824746784812,3.5829739890603824,3.559038431237566,3.5062637498071214,3.4259369616778046,3.3199919846921095,3.190932259812797,3.041732484780427,2.8757248413398155,2.6964757805935213,2.5076596998090963,2.3129356974483333,2.115833062672876,1.919650301104115,1.7273714019344741,1.541601807645577,1.3645252557801095,1.1978814169608558,1.042963136865558,0.9006311662550469,0.7713435748633689,0.6551966116021193,0.5519735929213951,0.4611984522300516,0.3821908302854763,0.3141199840456713,0.2560552897640866,0.20701166551996128,0.16598879363449104,0.1320035465221432,0.10411548156251739,0.08144565244382755,0.06318927652225509],\"type\":\"scatter\",\"xaxis\":\"x\",\"yaxis\":\"y2\"},{\"mode\":\"lines\",\"x\":[0.0,0.010101010101010102,0.020202020202020204,0.030303030303030304,0.04040404040404041,0.05050505050505051,0.06060606060606061,0.07070707070707072,0.08080808080808081,0.09090909090909091,0.10101010101010102,0.11111111111111112,0.12121212121212122,0.13131313131313133,0.14141414141414144,0.15151515151515152,0.16161616161616163,0.17171717171717174,0.18181818181818182,0.19191919191919193,0.20202020202020204,0.21212121212121213,0.22222222222222224,0.23232323232323235,0.24242424242424243,0.25252525252525254,0.26262626262626265,0.27272727272727276,0.2828282828282829,0.29292929292929293,0.30303030303030304,0.31313131313131315,0.32323232323232326,0.33333333333333337,0.3434343434343435,0.3535353535353536,0.36363636363636365,0.37373737373737376,0.38383838383838387,0.393939393939394,0.4040404040404041,0.4141414141414142,0.42424242424242425,0.43434343434343436,0.4444444444444445,0.4545454545454546,0.4646464646464647,0.4747474747474748,0.48484848484848486,0.494949494949495,0.5050505050505051,0.5151515151515152,0.5252525252525253,0.5353535353535354,0.5454545454545455,0.5555555555555556,0.5656565656565657,0.5757575757575758,0.5858585858585859,0.595959595959596,0.6060606060606061,0.6161616161616162,0.6262626262626263,0.6363636363636365,0.6464646464646465,0.6565656565656566,0.6666666666666667,0.6767676767676768,0.686868686868687,0.696969696969697,0.7070707070707072,0.7171717171717172,0.7272727272727273,0.7373737373737375,0.7474747474747475,0.7575757575757577,0.7676767676767677,0.7777777777777778,0.787878787878788,0.797979797979798,0.8080808080808082,0.8181818181818182,0.8282828282828284,0.8383838383838385,0.8484848484848485,0.8585858585858587,0.8686868686868687,0.8787878787878789,0.888888888888889,0.8989898989898991,0.9090909090909092,0.9191919191919192,0.9292929292929294,0.9393939393939394,0.9494949494949496,0.9595959595959597,0.9696969696969697,0.9797979797979799,0.98989898989899,1.0],\"y\":[0.1906166924879858,0.23026457183391097,0.2763422748961804,0.3294743010383795,0.3902561661998476,0.4592318637521916,0.5368689234268311,0.6235316874913243,0.7194536229233738,0.824709676842178,0.9391898460802154,1.0625752561081911,1.1943181155883327,1.3336269182246043,1.4794581936539883,1.6305159581093565,1.7852597825460579,1.9419220854455423,2.098534880008861,2.2529657770562634,2.4029625868811393,2.546205400806327,2.680364593999377,2.8031628036163436,2.9124386275638114,3.0062095826202886,3.082731774441864,3.1405537771441394,3.1785623995530767,3.1960183229481784,3.1925800166435963,3.1683148506942764,3.12369690060822,3.0595915439955084,2.9772275482984667,2.87815790724926,2.7642111695066944,2.6374353891729765,2.5000370946558363,2.35431780786423,2.202610646999771,2.0472194188674067,1.8903623641979,1.7341223820322733,1.5804051516566315,1.4309061205866556,1.2870868630843701,1.1501608627543463,1.0210883589802031,0.9005795399715383,0.7891050792903295,0.6869128064077671,0.5940491778239784,0.5103841709489493,0.43563825113202637,0.36941015225741164,0.31120435014586156,0.2604572813817936,0.2165615538004418,0.17888759527568537,0.1468023828275957,0.11968507475405195,0.09693952725795589,0.07800380917456151,0.062356931574079365,0.04952308301371367,0.03907370758030917,0.030627784463216495,0.023850668376804527,0.018451833935422733,0.014181838400441741,0.010828780209541113,0.008214489091350216,0.00619064053519538,0.00463494546447973,0.003447527043533615,0.002547561906572909,0.0018702334599852088,0.0013640205411581839,0.0009883255210004537,0.000711431550309767,0.0005087685345605185,0.000361460943898569,0.0002551270599600002,0.00017889808097264903,0.00012462605597132192,8.625137594750174e-05,5.930307654750165e-05,4.050815177388821e-05,2.7489171082179467e-05,1.8532536812538135e-05,1.2412581423201516e-05,8.25930227719685e-06,5.459823745694129e-06,3.5856500125331075e-06,2.3394360723432317e-06,1.5163815060657635e-06,9.76471984528431e-07,6.246907969247027e-07,3.970310201925069e-07],\"type\":\"scatter\",\"xaxis\":\"x\",\"yaxis\":\"y2\"}],                        {\"template\":{\"data\":{\"bar\":[{\"error_x\":{\"color\":\"#2a3f5f\"},\"error_y\":{\"color\":\"#2a3f5f\"},\"marker\":{\"line\":{\"color\":\"#E5ECF6\",\"width\":0.5},\"pattern\":{\"fillmode\":\"overlay\",\"size\":10,\"solidity\":0.2}},\"type\":\"bar\"}],\"barpolar\":[{\"marker\":{\"line\":{\"color\":\"#E5ECF6\",\"width\":0.5},\"pattern\":{\"fillmode\":\"overlay\",\"size\":10,\"solidity\":0.2}},\"type\":\"barpolar\"}],\"carpet\":[{\"aaxis\":{\"endlinecolor\":\"#2a3f5f\",\"gridcolor\":\"white\",\"linecolor\":\"white\",\"minorgridcolor\":\"white\",\"startlinecolor\":\"#2a3f5f\"},\"baxis\":{\"endlinecolor\":\"#2a3f5f\",\"gridcolor\":\"white\",\"linecolor\":\"white\",\"minorgridcolor\":\"white\",\"startlinecolor\":\"#2a3f5f\"},\"type\":\"carpet\"}],\"choropleth\":[{\"colorbar\":{\"outlinewidth\":0,\"ticks\":\"\"},\"type\":\"choropleth\"}],\"contour\":[{\"colorbar\":{\"outlinewidth\":0,\"ticks\":\"\"},\"colorscale\":[[0.0,\"#0d0887\"],[0.1111111111111111,\"#46039f\"],[0.2222222222222222,\"#7201a8\"],[0.3333333333333333,\"#9c179e\"],[0.4444444444444444,\"#bd3786\"],[0.5555555555555556,\"#d8576b\"],[0.6666666666666666,\"#ed7953\"],[0.7777777777777778,\"#fb9f3a\"],[0.8888888888888888,\"#fdca26\"],[1.0,\"#f0f921\"]],\"type\":\"contour\"}],\"contourcarpet\":[{\"colorbar\":{\"outlinewidth\":0,\"ticks\":\"\"},\"type\":\"contourcarpet\"}],\"heatmap\":[{\"colorbar\":{\"outlinewidth\":0,\"ticks\":\"\"},\"colorscale\":[[0.0,\"#0d0887\"],[0.1111111111111111,\"#46039f\"],[0.2222222222222222,\"#7201a8\"],[0.3333333333333333,\"#9c179e\"],[0.4444444444444444,\"#bd3786\"],[0.5555555555555556,\"#d8576b\"],[0.6666666666666666,\"#ed7953\"],[0.7777777777777778,\"#fb9f3a\"],[0.8888888888888888,\"#fdca26\"],[1.0,\"#f0f921\"]],\"type\":\"heatmap\"}],\"heatmapgl\":[{\"colorbar\":{\"outlinewidth\":0,\"ticks\":\"\"},\"colorscale\":[[0.0,\"#0d0887\"],[0.1111111111111111,\"#46039f\"],[0.2222222222222222,\"#7201a8\"],[0.3333333333333333,\"#9c179e\"],[0.4444444444444444,\"#bd3786\"],[0.5555555555555556,\"#d8576b\"],[0.6666666666666666,\"#ed7953\"],[0.7777777777777778,\"#fb9f3a\"],[0.8888888888888888,\"#fdca26\"],[1.0,\"#f0f921\"]],\"type\":\"heatmapgl\"}],\"histogram\":[{\"marker\":{\"pattern\":{\"fillmode\":\"overlay\",\"size\":10,\"solidity\":0.2}},\"type\":\"histogram\"}],\"histogram2d\":[{\"colorbar\":{\"outlinewidth\":0,\"ticks\":\"\"},\"colorscale\":[[0.0,\"#0d0887\"],[0.1111111111111111,\"#46039f\"],[0.2222222222222222,\"#7201a8\"],[0.3333333333333333,\"#9c179e\"],[0.4444444444444444,\"#bd3786\"],[0.5555555555555556,\"#d8576b\"],[0.6666666666666666,\"#ed7953\"],[0.7777777777777778,\"#fb9f3a\"],[0.8888888888888888,\"#fdca26\"],[1.0,\"#f0f921\"]],\"type\":\"histogram2d\"}],\"histogram2dcontour\":[{\"colorbar\":{\"outlinewidth\":0,\"ticks\":\"\"},\"colorscale\":[[0.0,\"#0d0887\"],[0.1111111111111111,\"#46039f\"],[0.2222222222222222,\"#7201a8\"],[0.3333333333333333,\"#9c179e\"],[0.4444444444444444,\"#bd3786\"],[0.5555555555555556,\"#d8576b\"],[0.6666666666666666,\"#ed7953\"],[0.7777777777777778,\"#fb9f3a\"],[0.8888888888888888,\"#fdca26\"],[1.0,\"#f0f921\"]],\"type\":\"histogram2dcontour\"}],\"mesh3d\":[{\"colorbar\":{\"outlinewidth\":0,\"ticks\":\"\"},\"type\":\"mesh3d\"}],\"parcoords\":[{\"line\":{\"colorbar\":{\"outlinewidth\":0,\"ticks\":\"\"}},\"type\":\"parcoords\"}],\"pie\":[{\"automargin\":true,\"type\":\"pie\"}],\"scatter\":[{\"marker\":{\"colorbar\":{\"outlinewidth\":0,\"ticks\":\"\"}},\"type\":\"scatter\"}],\"scatter3d\":[{\"line\":{\"colorbar\":{\"outlinewidth\":0,\"ticks\":\"\"}},\"marker\":{\"colorbar\":{\"outlinewidth\":0,\"ticks\":\"\"}},\"type\":\"scatter3d\"}],\"scattercarpet\":[{\"marker\":{\"colorbar\":{\"outlinewidth\":0,\"ticks\":\"\"}},\"type\":\"scattercarpet\"}],\"scattergeo\":[{\"marker\":{\"colorbar\":{\"outlinewidth\":0,\"ticks\":\"\"}},\"type\":\"scattergeo\"}],\"scattergl\":[{\"marker\":{\"colorbar\":{\"outlinewidth\":0,\"ticks\":\"\"}},\"type\":\"scattergl\"}],\"scattermapbox\":[{\"marker\":{\"colorbar\":{\"outlinewidth\":0,\"ticks\":\"\"}},\"type\":\"scattermapbox\"}],\"scatterpolar\":[{\"marker\":{\"colorbar\":{\"outlinewidth\":0,\"ticks\":\"\"}},\"type\":\"scatterpolar\"}],\"scatterpolargl\":[{\"marker\":{\"colorbar\":{\"outlinewidth\":0,\"ticks\":\"\"}},\"type\":\"scatterpolargl\"}],\"scatterternary\":[{\"marker\":{\"colorbar\":{\"outlinewidth\":0,\"ticks\":\"\"}},\"type\":\"scatterternary\"}],\"surface\":[{\"colorbar\":{\"outlinewidth\":0,\"ticks\":\"\"},\"colorscale\":[[0.0,\"#0d0887\"],[0.1111111111111111,\"#46039f\"],[0.2222222222222222,\"#7201a8\"],[0.3333333333333333,\"#9c179e\"],[0.4444444444444444,\"#bd3786\"],[0.5555555555555556,\"#d8576b\"],[0.6666666666666666,\"#ed7953\"],[0.7777777777777778,\"#fb9f3a\"],[0.8888888888888888,\"#fdca26\"],[1.0,\"#f0f921\"]],\"type\":\"surface\"}],\"table\":[{\"cells\":{\"fill\":{\"color\":\"#EBF0F8\"},\"line\":{\"color\":\"white\"}},\"header\":{\"fill\":{\"color\":\"#C8D4E3\"},\"line\":{\"color\":\"white\"}},\"type\":\"table\"}]},\"layout\":{\"annotationdefaults\":{\"arrowcolor\":\"#2a3f5f\",\"arrowhead\":0,\"arrowwidth\":1},\"autotypenumbers\":\"strict\",\"coloraxis\":{\"colorbar\":{\"outlinewidth\":0,\"ticks\":\"\"}},\"colorscale\":{\"diverging\":[[0,\"#8e0152\"],[0.1,\"#c51b7d\"],[0.2,\"#de77ae\"],[0.3,\"#f1b6da\"],[0.4,\"#fde0ef\"],[0.5,\"#f7f7f7\"],[0.6,\"#e6f5d0\"],[0.7,\"#b8e186\"],[0.8,\"#7fbc41\"],[0.9,\"#4d9221\"],[1,\"#276419\"]],\"sequential\":[[0.0,\"#0d0887\"],[0.1111111111111111,\"#46039f\"],[0.2222222222222222,\"#7201a8\"],[0.3333333333333333,\"#9c179e\"],[0.4444444444444444,\"#bd3786\"],[0.5555555555555556,\"#d8576b\"],[0.6666666666666666,\"#ed7953\"],[0.7777777777777778,\"#fb9f3a\"],[0.8888888888888888,\"#fdca26\"],[1.0,\"#f0f921\"]],\"sequentialminus\":[[0.0,\"#0d0887\"],[0.1111111111111111,\"#46039f\"],[0.2222222222222222,\"#7201a8\"],[0.3333333333333333,\"#9c179e\"],[0.4444444444444444,\"#bd3786\"],[0.5555555555555556,\"#d8576b\"],[0.6666666666666666,\"#ed7953\"],[0.7777777777777778,\"#fb9f3a\"],[0.8888888888888888,\"#fdca26\"],[1.0,\"#f0f921\"]]},\"colorway\":[\"#636efa\",\"#EF553B\",\"#00cc96\",\"#ab63fa\",\"#FFA15A\",\"#19d3f3\",\"#FF6692\",\"#B6E880\",\"#FF97FF\",\"#FECB52\"],\"font\":{\"color\":\"#2a3f5f\"},\"geo\":{\"bgcolor\":\"white\",\"lakecolor\":\"white\",\"landcolor\":\"#E5ECF6\",\"showlakes\":true,\"showland\":true,\"subunitcolor\":\"white\"},\"hoverlabel\":{\"align\":\"left\"},\"hovermode\":\"closest\",\"mapbox\":{\"style\":\"light\"},\"paper_bgcolor\":\"white\",\"plot_bgcolor\":\"#E5ECF6\",\"polar\":{\"angularaxis\":{\"gridcolor\":\"white\",\"linecolor\":\"white\",\"ticks\":\"\"},\"bgcolor\":\"#E5ECF6\",\"radialaxis\":{\"gridcolor\":\"white\",\"linecolor\":\"white\",\"ticks\":\"\"}},\"scene\":{\"xaxis\":{\"backgroundcolor\":\"#E5ECF6\",\"gridcolor\":\"white\",\"gridwidth\":2,\"linecolor\":\"white\",\"showbackground\":true,\"ticks\":\"\",\"zerolinecolor\":\"white\"},\"yaxis\":{\"backgroundcolor\":\"#E5ECF6\",\"gridcolor\":\"white\",\"gridwidth\":2,\"linecolor\":\"white\",\"showbackground\":true,\"ticks\":\"\",\"zerolinecolor\":\"white\"},\"zaxis\":{\"backgroundcolor\":\"#E5ECF6\",\"gridcolor\":\"white\",\"gridwidth\":2,\"linecolor\":\"white\",\"showbackground\":true,\"ticks\":\"\",\"zerolinecolor\":\"white\"}},\"shapedefaults\":{\"line\":{\"color\":\"#2a3f5f\"}},\"ternary\":{\"aaxis\":{\"gridcolor\":\"white\",\"linecolor\":\"white\",\"ticks\":\"\"},\"baxis\":{\"gridcolor\":\"white\",\"linecolor\":\"white\",\"ticks\":\"\"},\"bgcolor\":\"#E5ECF6\",\"caxis\":{\"gridcolor\":\"white\",\"linecolor\":\"white\",\"ticks\":\"\"}},\"title\":{\"x\":0.05},\"xaxis\":{\"automargin\":true,\"gridcolor\":\"white\",\"linecolor\":\"white\",\"ticks\":\"\",\"title\":{\"standoff\":15},\"zerolinecolor\":\"white\",\"zerolinewidth\":2},\"yaxis\":{\"automargin\":true,\"gridcolor\":\"white\",\"linecolor\":\"white\",\"ticks\":\"\",\"title\":{\"standoff\":15},\"zerolinecolor\":\"white\",\"zerolinewidth\":2}}},\"xaxis\":{\"anchor\":\"y\",\"domain\":[0.0,0.94]},\"yaxis\":{\"anchor\":\"x\",\"domain\":[0.0,1.0]},\"yaxis2\":{\"anchor\":\"x\",\"overlaying\":\"y\",\"side\":\"right\"}},                        {\"responsive\": true}                    ).then(function(){\n",
       "                            \n",
       "var gd = document.getElementById('d3c3ec83-d365-4033-a8de-afc8e09b6777');\n",
       "var x = new MutationObserver(function (mutations, observer) {{\n",
       "        var display = window.getComputedStyle(gd).display;\n",
       "        if (!display || display === 'none') {{\n",
       "            console.log([gd, 'removed!']);\n",
       "            Plotly.purge(gd);\n",
       "            observer.disconnect();\n",
       "        }}\n",
       "}});\n",
       "\n",
       "// Listen for the removal of the full notebook cells\n",
       "var notebookContainer = gd.closest('#notebook-container');\n",
       "if (notebookContainer) {{\n",
       "    x.observe(notebookContainer, {childList: true});\n",
       "}}\n",
       "\n",
       "// Listen for the clearing of the current output cell\n",
       "var outputEl = gd.closest('.output');\n",
       "if (outputEl) {{\n",
       "    x.observe(outputEl, {childList: true});\n",
       "}}\n",
       "\n",
       "                        })                };                });            </script>        </div>"
      ]
     },
     "metadata": {},
     "output_type": "display_data"
    }
   ],
   "source": [
    "gm = vcf_to_mix_model(vcf_file,plot=True,tail_cutoff=0.1)\n"
   ]
  },
  {
   "cell_type": "code",
   "execution_count": 108,
   "metadata": {},
   "outputs": [],
   "source": [
    "VCF_FILE_PATH='/mnt/storage7/lwang/trial_tb_philippines/data/processed/seqtk/freebayesVCF/q20'\n",
    "#/mnt/storage7/lwang/trial_tb_philippines/data/processed/seqtk/freebayesVCF/q20\n",
    "JSON_FILE_PATH='/mnt/storage7/lwang/trial_tb_philippines/data/processed/seqtk/freebayesVCF/q20/results'\n",
    "#/mnt/storage7/lwang/trial_tb_philippines/data/processed/seqtk/freebayesVCF/q20/results\n",
    "\n",
    "NAME_FILE='/mnt/storage7/lwang/trial_tb_philippines/data/seqtk/sample_name.txt'"
   ]
  },
  {
   "cell_type": "code",
   "execution_count": 10,
   "metadata": {},
   "outputs": [],
   "source": [
    "def assign_variant_to_distrib(gm,freq,cutoff=0.95):\n",
    "    probs = gm.predict_proba([[freq]])\n",
    "    pred = gm.predict([[freq]])\n",
    "    if probs[0][pred][0]>cutoff:\n",
    "        return pred[0], probs[0][pred][0]\n",
    "    else:                                                                                                                                                                                                                                                                                                                                                                                                                                                                                                                                                                                                                                                                                                                                                                                                                                                                                                                                                                                                                                                                                                                                                                                                                                                                                                                                                                                                                                                                                                                                                                                                                                                                                                                                                                                                                                                                                                                                                                                                                                                                                                                                                                                             \n",
    "        return None, pred[0], probs[0][pred][0]"
   ]
  },
  {
   "cell_type": "code",
   "execution_count": 109,
   "metadata": {},
   "outputs": [
    {
     "name": "stdout",
     "output_type": "stream",
     "text": [
      "([0.8633651551312649, 0.1011378002528445], 0.05056890012642225)\n"
     ]
    }
   ],
   "source": [
    "tb_profiler_predictions = []\n",
    "\n",
    "def tb_profiler_pred(json_file):\n",
    "    output = []\n",
    "    json_results = json.load(open(json_file))\n",
    "    for x in json_results['lineage']:\n",
    "        if re.search(\"^lineage1.2.1$\", x['lin']):\n",
    "            output.append(x['frac'])\n",
    "        if re.search(\"^lineage4.3.4$\", x['lin']):\n",
    "            output.append(x['frac'])\n",
    "        \n",
    "    if len(output) == 1:\n",
    "        output.append(0)\n",
    "    if output[0] < output[1]:\n",
    "        temp = output[0]\n",
    "        output[0] = output[1]\n",
    "        output[1] = temp\n",
    "    if output[0] > output[1]:\n",
    "        cut_off =  output[1]/2\n",
    "    else:\n",
    "        cut_off =  output[-2]/2\n",
    "\n",
    "    return output, cut_off\n",
    "\n",
    "\n",
    "print(tb_profiler_pred(json_file))"
   ]
  },
  {
   "cell_type": "code",
   "execution_count": 110,
   "metadata": {},
   "outputs": [
    {
     "name": "stdout",
     "output_type": "stream",
     "text": [
      "0.9433299899699097 0.05667001003009027\n"
     ]
    },
    {
     "data": {
      "image/png": "[encoded data removed]",
      "text/plain": [
       "<Figure size 432x288 with 1 Axes>"
      ]
     },
     "metadata": {
      "needs_background": "light"
     },
     "output_type": "display_data"
    }
   ],
   "source": [
    "#Kmeans\n",
    "from sklearn.cluster import KMeans\n",
    "\n",
    "model_predictions = []\n",
    "\n",
    "def model_pred(vcf_file, ratio='test', tail_cutoff=0.00):\n",
    "    with open('mix_infection.csv', 'w') as f:\n",
    "        subprocess.run(\"bcftools view -c 1 -m2 -M2 -T ^new_exclusion.bed %s | bcftools query -f '%%POS\\\\t%%REF\\\\t%%ALT[\\\\t%%GT\\\\t%%AD\\\\n]'\" % vcf_file, shell=True, stdout=f, text=True)\n",
    "\n",
    "#count how many column there is in the ROAO_proportion.csv file this is needed in order to read the csv in a a panda dataframe\n",
    "    pos = []\n",
    "    freqs = []\n",
    "    with open('mix_infection.csv', 'r') as f:\n",
    "        for l in f:\n",
    "            row = l.strip().split()\n",
    "            ads = [int(x) for x in row[4].split(\",\")]\n",
    "            afs = [x/sum(ads) for x in ads]\n",
    "            if afs[1]>1-tail_cutoff or afs[1]<tail_cutoff:\n",
    "                continue\n",
    "            pos.append(int(row[0]))\n",
    "            freqs.append(ads)\n",
    "        # freqs = [[0.7],[0.6],[0.4]]\n",
    "        km = KMeans(n_clusters=2, random_state=0, init='random').fit(freqs)\n",
    "        labels = km.predict(freqs)\n",
    "        mu0 = len(labels[labels==0])/len(labels)\n",
    "        mu1 = len(labels[labels==1])/len(labels)\n",
    "\n",
    "        freqs = np.array(freqs)\n",
    "\n",
    "        # fig = px.scatter(x=freqs[:,0] ,y=freqs[:,1], color=labels)\n",
    "\n",
    "    #     fig.update_layout(\n",
    "    #         title=\"K-Means\",\n",
    "    #         xaxis_title=\"Ref haplotype count\",\n",
    "    #         yaxis_title=\"Alt haplotype count\",\n",
    "    #         legend_title=\"\",\n",
    "    #         font=dict(\n",
    "    #             family=\"Courier New, monospace\",\n",
    "    #             size=18,\n",
    "    #             color=\"RebeccaPurple\"\n",
    "    #     )\n",
    "    # )\n",
    "    #     fig.show()\n",
    "        plt.figure()\n",
    "        plt.scatter(freqs[:,0], freqs[:,1], c=labels, s=20, cmap='bwr', alpha=0.3)\n",
    "        plt.title(f\"Kmeans:{ratio}\")\n",
    "        print(mu0, mu1)\n",
    "\n",
    "\n",
    "\n",
    "    if mu0 > mu1:\n",
    "        return [mu0, mu1], km\n",
    "    else:\n",
    "        return [mu1, mu0], km\n",
    "\n",
    "mu, km = model_pred(vcf_file)"
   ]
  },
  {
   "cell_type": "code",
   "execution_count": null,
   "metadata": {},
   "outputs": [],
   "source": []
  },
  {
   "cell_type": "code",
   "execution_count": 111,
   "metadata": {},
   "outputs": [
    {
     "name": "stdout",
     "output_type": "stream",
     "text": [
      "([0.9976613585401825, 0.5891451515923425], GaussianMixture(n_components=2, random_state=0))\n"
     ]
    }
   ],
   "source": [
    "#GMM\n",
    "model_predictions = []\n",
    "\n",
    "def model_pred(vcf_file, ratio='test', tail_cutoff=0.00):\n",
    "    with open('mix_infection.csv', 'w') as f:\n",
    "        subprocess.run(\"bcftools view -c 1 -m2 -M2 -T ^new_exclusion.bed %s | bcftools query -f '%%POS\\\\t%%REF\\\\t%%ALT[\\\\t%%GT\\\\t%%AD\\\\n]'\" % vcf_file, shell=True, stdout=f, text=True)\n",
    "\n",
    "#count how many column there is in the ROAO_proportion.csv file this is needed in order to read the csv in a a panda dataframe\n",
    "    pos = []\n",
    "    freqs = []\n",
    "    scatter = []\n",
    "    with open('mix_infection.csv', 'r') as f:\n",
    "        for l in f:\n",
    "            row = l.strip().split()\n",
    "            ads = [int(x) for x in row[4].split(\",\")]\n",
    "            afs = [x/sum(ads) for x in ads]\n",
    "            if afs[1]>1-tail_cutoff or afs[1]<tail_cutoff:\n",
    "                continue\n",
    "            pos.append(int(row[0]))\n",
    "            scatter.append(ads)\n",
    "            freqs.append([afs[1]])\n",
    "        # freqs = [[0.7],[0.6],[0.4]]    \n",
    "        scatter = np.array(scatter)\n",
    "        gm = GaussianMixture(n_components=2, random_state=0).fit(np.array(freqs).reshape(-1, 1))\n",
    "        mu0 = gm.means_[1][0]\n",
    "        mu1 = gm.means_[0][0]\n",
    "        labels = gm.predict(freqs)\n",
    "        \n",
    "        # mu0_ = len(labels[labels==0])/len(labels)\n",
    "        # mu1_ = len(labels[labels==1])/len(labels)\n",
    "        # plt.figure()\n",
    "        # plt.scatter(scatter[:,0], scatter[:,1], c=labels, s=20, cmap='bwr', alpha=0.3)\n",
    "        # plt.title(f\"GMM: {ratio}, Label: {mu0_}, {mu1_}, Mu: {mu0}, {mu1}\")\n",
    "\n",
    "    if mu0 > mu1:\n",
    "        return [mu0, mu1], gm\n",
    "    else:\n",
    "        return [mu1, mu0], gm\n",
    "\n",
    "\n",
    "\n",
    "print(model_pred(vcf_file))\n"
   ]
  },
  {
   "cell_type": "code",
   "execution_count": 112,
   "metadata": {},
   "outputs": [],
   "source": [
    "def frac_MSE(NAME_FILE=NAME_FILE, JSON_FILE_PATH=JSON_FILE_PATH, VCF_FILE_PATH=VCF_FILE_PATH):\n",
    "    with open(NAME_FILE, 'r') as f:\n",
    "        sample_list = [line.rstrip('\\n') for line in f]\n",
    "\n",
    "    sample_list_json=[]\n",
    "    for i,x in enumerate(sample_list):\n",
    "        x = list(x)\n",
    "        x.append('.results.json')\n",
    "        string = ''.join([letter for letter in x] )\n",
    "        sample_list_json.append(string)\n",
    "    \n",
    "\n",
    "    sample_list_vcf=[]\n",
    "    for i,x in enumerate(sample_list):\n",
    "        x = list(x)\n",
    "        x.append('_q20.recode.vcf.gz')  #change here if using filtered/non-filtered samples\n",
    "        string = ''.join([letter for letter in x] )\n",
    "        sample_list_vcf.append(string)\n",
    "\n",
    "    ratio = []\n",
    "    for i in sample_list_json:\n",
    "        temp = i.split('-')\n",
    "        ratio.append(temp[2])\n",
    "    \n",
    "    ratio1=[]\n",
    "    for i in ratio:\n",
    "        temp = i.split('.')\n",
    "        ratio1.append(temp[0])\n",
    "\n",
    "    ratio = ratio1\n",
    "    tb_profiler_predictions = []\n",
    "    model_predictions = []\n",
    "\n",
    "    for j, vcf, ratio in zip(sample_list_json, sample_list_vcf, ratio):\n",
    "        JSON_FILE = os.path.join(JSON_FILE_PATH, j)\n",
    "        tb_out_, cut_off = tb_profiler_pred(JSON_FILE)\n",
    "\n",
    "        VCF_FILE = os.path.join(VCF_FILE_PATH, vcf)\n",
    "        model_out_, gm = model_pred(vcf_file, ratio, tail_cutoff=cut_off)\n",
    "\n",
    "        tb_profiler_predictions.extend(tb_out_)\n",
    "        model_predictions.extend(model_out_)\n",
    "    \n",
    "    print(tb_profiler_predictions)\n",
    "    print(model_predictions)\n",
    "    mse_ = []\n",
    "    for tb, m in zip (tb_profiler_predictions, model_predictions):\n",
    "        mse_.append(mean_squared_error([tb], [m], squared=False))\n",
    "    print('==========Crappy code!, this is actually MSE score==========')\n",
    "    plot_f1_bar(ratio1, mse_)\n",
    "    \n",
    "    MSE = mean_squared_error(tb_profiler_predictions, model_predictions, squared=False)\n",
    "\n",
    "    return MSE"
   ]
  },
  {
   "cell_type": "markdown",
   "metadata": {},
   "source": [
    "<h1>MSE"
   ]
  },
  {
   "cell_type": "code",
   "execution_count": 113,
   "metadata": {},
   "outputs": [
    {
     "name": "stdout",
     "output_type": "stream",
     "text": [
      "[0.9974779319041615, 0, 0.9240583232077765, 0, 0.9949452401010952, 0, 0.8633651551312649, 0, 0.8129839189994044, 0.141399416909621, 0.7554125219426565, 0.20933977455716588, 0.7028862478777589, 0.24958263772954925, 0.6681818181818182, 0.2986167615947925, 0.6272257323377369, 0.34077750206782464, 0.5873648264086511, 0.3963963963963964, 0.5228684359119141, 0.45028294260307195, 0.5011990407673861, 0.47477064220183485, 0.5432196669310071, 0.43852691218130313, 0.5932203389830508, 0.38841567291311757, 0.6541598694942904, 0.33860045146726864, 0.6951219512195121, 0.2962962962962963, 0.7464788732394366, 0.24119076549210205, 0.7953216374269005, 0.20209287115761937, 0.846089850249584, 0.15904292751583393, 0.9061461794019934, 0.07450980392156863, 0.9465776293823038, 0]\n",
      "[0.9976613585401825, 0.5891451515923425, 0.9976613585401825, 0.5891451515923425, 0.9976613585401825, 0.5891451515923425, 0.9976613585401825, 0.5891451515923425, 0.520716757010037, 0.2598535287644475, 0.47117499048882816, 0.2338470307218626, 0.6782731710664476, 0.31046376404423104, 0.5058184393994483, 0.2910079160089393, 0.5843630648937393, 0.3385729891369223, 0.5758026068769952, 0.3443526631058366, 0.6619111567944794, 0.36488637167568266, 0.6550636560420781, 0.3666533282220765, 0.6619111567944794, 0.36488637167568266, 0.5758026068769952, 0.3443526631058366, 0.6733820609076938, 0.3499777527568193, 0.5053950578117331, 0.28866200481049425, 0.6782157251495523, 0.30534313747657665, 0.6836992187547083, 0.2963206504295339, 0.6837110708075208, 0.2928817472127226, 0.8628592776307911, 0.3042183394204362, 0.9976613585401825, 0.5891451515923425]\n",
      "==========Crappy code!, this is actually MSE score==========\n"
     ]
    },
    {
     "data": {
      "application/vnd.plotly.v1+json": {
       "config": {
        "plotlyServerURL": "https://plot.ly"
       },
       "data": [
        {
         "mode": "lines",
         "type": "scatter",
         "x": [
          "0100",
          "0595",
          "1000",
          "1090",
          "1585",
          "2080",
          "2575",
          "3070",
          "3565",
          "4060",
          "4555",
          "5050",
          "5545",
          "6040",
          "6535",
          "7030",
          "7525",
          "8020",
          "8515",
          "9010",
          "9505"
         ],
         "y": [
          0.00018342663602100018,
          0.5891451515923425,
          0.07360303533240597,
          0.5891451515923425,
          0.002716118439087256,
          0.5891451515923425,
          0.13429620340891757,
          0.5891451515923425,
          0.2922671619893674,
          0.11845411185482652,
          0.28423753145382835,
          0.024507256164696734,
          0.024613076811311307,
          0.06088112631468179,
          0.16236337878236995,
          0.0076088455858531745,
          0.04286266744399758,
          0.002204512930902347,
          0.011562219531655815,
          0.05204373329055978,
          0.1390427208825653,
          0.08539657092738928,
          0.15386461527469197,
          0.10811731397975832,
          0.11869148986347233,
          0.07364054050562047,
          0.017417732106055572,
          0.04406300980728095,
          0.019222191413403422,
          0.011377301289550668,
          0.18972689340777904,
          0.007634291485802025,
          0.06826314808988432,
          0.0641523719844746,
          0.11162241867219225,
          0.09422777927191456,
          0.16237877944206325,
          0.13383881969688866,
          0.04328690177120231,
          0.22970853549886755,
          0.05108372915787862,
          0.5891451515923425
         ]
        }
       ],
       "layout": {
        "autosize": true,
        "font": {
         "color": "RebeccaPurple",
         "family": "Courier New, monospace",
         "size": 18
        },
        "legend": {
         "title": {
          "text": ""
         }
        },
        "template": {
         "data": {
          "bar": [
           {
            "error_x": {
             "color": "#2a3f5f"
            },
            "error_y": {
             "color": "#2a3f5f"
            },
            "marker": {
             "line": {
              "color": "#E5ECF6",
              "width": 0.5
             },
             "pattern": {
              "fillmode": "overlay",
              "size": 10,
              "solidity": 0.2
             }
            },
            "type": "bar"
           }
          ],
          "barpolar": [
           {
            "marker": {
             "line": {
              "color": "#E5ECF6",
              "width": 0.5
             },
             "pattern": {
              "fillmode": "overlay",
              "size": 10,
              "solidity": 0.2
             }
            },
            "type": "barpolar"
           }
          ],
          "carpet": [
           {
            "aaxis": {
             "endlinecolor": "#2a3f5f",
             "gridcolor": "white",
             "linecolor": "white",
             "minorgridcolor": "white",
             "startlinecolor": "#2a3f5f"
            },
            "baxis": {
             "endlinecolor": "#2a3f5f",
             "gridcolor": "white",
             "linecolor": "white",
             "minorgridcolor": "white",
             "startlinecolor": "#2a3f5f"
            },
            "type": "carpet"
           }
          ],
          "choropleth": [
           {
            "colorbar": {
             "outlinewidth": 0,
             "ticks": ""
            },
            "type": "choropleth"
           }
          ],
          "contour": [
           {
            "colorbar": {
             "outlinewidth": 0,
             "ticks": ""
            },
            "colorscale": [
             [
              0,
              "#0d0887"
             ],
             [
              0.1111111111111111,
              "#46039f"
             ],
             [
              0.2222222222222222,
              "#7201a8"
             ],
             [
              0.3333333333333333,
              "#9c179e"
             ],
             [
              0.4444444444444444,
              "#bd3786"
             ],
             [
              0.5555555555555556,
              "#d8576b"
             ],
             [
              0.6666666666666666,
              "#ed7953"
             ],
             [
              0.7777777777777778,
              "#fb9f3a"
             ],
             [
              0.8888888888888888,
              "#fdca26"
             ],
             [
              1,
              "#f0f921"
             ]
            ],
            "type": "contour"
           }
          ],
          "contourcarpet": [
           {
            "colorbar": {
             "outlinewidth": 0,
             "ticks": ""
            },
            "type": "contourcarpet"
           }
          ],
          "heatmap": [
           {
            "colorbar": {
             "outlinewidth": 0,
             "ticks": ""
            },
            "colorscale": [
             [
              0,
              "#0d0887"
             ],
             [
              0.1111111111111111,
              "#46039f"
             ],
             [
              0.2222222222222222,
              "#7201a8"
             ],
             [
              0.3333333333333333,
              "#9c179e"
             ],
             [
              0.4444444444444444,
              "#bd3786"
             ],
             [
              0.5555555555555556,
              "#d8576b"
             ],
             [
              0.6666666666666666,
              "#ed7953"
             ],
             [
              0.7777777777777778,
              "#fb9f3a"
             ],
             [
              0.8888888888888888,
              "#fdca26"
             ],
             [
              1,
              "#f0f921"
             ]
            ],
            "type": "heatmap"
           }
          ],
          "heatmapgl": [
           {
            "colorbar": {
             "outlinewidth": 0,
             "ticks": ""
            },
            "colorscale": [
             [
              0,
              "#0d0887"
             ],
             [
              0.1111111111111111,
              "#46039f"
             ],
             [
              0.2222222222222222,
              "#7201a8"
             ],
             [
              0.3333333333333333,
              "#9c179e"
             ],
             [
              0.4444444444444444,
              "#bd3786"
             ],
             [
              0.5555555555555556,
              "#d8576b"
             ],
             [
              0.6666666666666666,
              "#ed7953"
             ],
             [
              0.7777777777777778,
              "#fb9f3a"
             ],
             [
              0.8888888888888888,
              "#fdca26"
             ],
             [
              1,
              "#f0f921"
             ]
            ],
            "type": "heatmapgl"
           }
          ],
          "histogram": [
           {
            "marker": {
             "pattern": {
              "fillmode": "overlay",
              "size": 10,
              "solidity": 0.2
             }
            },
            "type": "histogram"
           }
          ],
          "histogram2d": [
           {
            "colorbar": {
             "outlinewidth": 0,
             "ticks": ""
            },
            "colorscale": [
             [
              0,
              "#0d0887"
             ],
             [
              0.1111111111111111,
              "#46039f"
             ],
             [
              0.2222222222222222,
              "#7201a8"
             ],
             [
              0.3333333333333333,
              "#9c179e"
             ],
             [
              0.4444444444444444,
              "#bd3786"
             ],
             [
              0.5555555555555556,
              "#d8576b"
             ],
             [
              0.6666666666666666,
              "#ed7953"
             ],
             [
              0.7777777777777778,
              "#fb9f3a"
             ],
             [
              0.8888888888888888,
              "#fdca26"
             ],
             [
              1,
              "#f0f921"
             ]
            ],
            "type": "histogram2d"
           }
          ],
          "histogram2dcontour": [
           {
            "colorbar": {
             "outlinewidth": 0,
             "ticks": ""
            },
            "colorscale": [
             [
              0,
              "#0d0887"
             ],
             [
              0.1111111111111111,
              "#46039f"
             ],
             [
              0.2222222222222222,
              "#7201a8"
             ],
             [
              0.3333333333333333,
              "#9c179e"
             ],
             [
              0.4444444444444444,
              "#bd3786"
             ],
             [
              0.5555555555555556,
              "#d8576b"
             ],
             [
              0.6666666666666666,
              "#ed7953"
             ],
             [
              0.7777777777777778,
              "#fb9f3a"
             ],
             [
              0.8888888888888888,
              "#fdca26"
             ],
             [
              1,
              "#f0f921"
             ]
            ],
            "type": "histogram2dcontour"
           }
          ],
          "mesh3d": [
           {
            "colorbar": {
             "outlinewidth": 0,
             "ticks": ""
            },
            "type": "mesh3d"
           }
          ],
          "parcoords": [
           {
            "line": {
             "colorbar": {
              "outlinewidth": 0,
              "ticks": ""
             }
            },
            "type": "parcoords"
           }
          ],
          "pie": [
           {
            "automargin": true,
            "type": "pie"
           }
          ],
          "scatter": [
           {
            "marker": {
             "colorbar": {
              "outlinewidth": 0,
              "ticks": ""
             }
            },
            "type": "scatter"
           }
          ],
          "scatter3d": [
           {
            "line": {
             "colorbar": {
              "outlinewidth": 0,
              "ticks": ""
             }
            },
            "marker": {
             "colorbar": {
              "outlinewidth": 0,
              "ticks": ""
             }
            },
            "type": "scatter3d"
           }
          ],
          "scattercarpet": [
           {
            "marker": {
             "colorbar": {
              "outlinewidth": 0,
              "ticks": ""
             }
            },
            "type": "scattercarpet"
           }
          ],
          "scattergeo": [
           {
            "marker": {
             "colorbar": {
              "outlinewidth": 0,
              "ticks": ""
             }
            },
            "type": "scattergeo"
           }
          ],
          "scattergl": [
           {
            "marker": {
             "colorbar": {
              "outlinewidth": 0,
              "ticks": ""
             }
            },
            "type": "scattergl"
           }
          ],
          "scattermapbox": [
           {
            "marker": {
             "colorbar": {
              "outlinewidth": 0,
              "ticks": ""
             }
            },
            "type": "scattermapbox"
           }
          ],
          "scatterpolar": [
           {
            "marker": {
             "colorbar": {
              "outlinewidth": 0,
              "ticks": ""
             }
            },
            "type": "scatterpolar"
           }
          ],
          "scatterpolargl": [
           {
            "marker": {
             "colorbar": {
              "outlinewidth": 0,
              "ticks": ""
             }
            },
            "type": "scatterpolargl"
           }
          ],
          "scatterternary": [
           {
            "marker": {
             "colorbar": {
              "outlinewidth": 0,
              "ticks": ""
             }
            },
            "type": "scatterternary"
           }
          ],
          "surface": [
           {
            "colorbar": {
             "outlinewidth": 0,
             "ticks": ""
            },
            "colorscale": [
             [
              0,
              "#0d0887"
             ],
             [
              0.1111111111111111,
              "#46039f"
             ],
             [
              0.2222222222222222,
              "#7201a8"
             ],
             [
              0.3333333333333333,
              "#9c179e"
             ],
             [
              0.4444444444444444,
              "#bd3786"
             ],
             [
              0.5555555555555556,
              "#d8576b"
             ],
             [
              0.6666666666666666,
              "#ed7953"
             ],
             [
              0.7777777777777778,
              "#fb9f3a"
             ],
             [
              0.8888888888888888,
              "#fdca26"
             ],
             [
              1,
              "#f0f921"
             ]
            ],
            "type": "surface"
           }
          ],
          "table": [
           {
            "cells": {
             "fill": {
              "color": "#EBF0F8"
             },
             "line": {
              "color": "white"
             }
            },
            "header": {
             "fill": {
              "color": "#C8D4E3"
             },
             "line": {
              "color": "white"
             }
            },
            "type": "table"
           }
          ]
         },
         "layout": {
          "annotationdefaults": {
           "arrowcolor": "#2a3f5f",
           "arrowhead": 0,
           "arrowwidth": 1
          },
          "autotypenumbers": "strict",
          "coloraxis": {
           "colorbar": {
            "outlinewidth": 0,
            "ticks": ""
           }
          },
          "colorscale": {
           "diverging": [
            [
             0,
             "#8e0152"
            ],
            [
             0.1,
             "#c51b7d"
            ],
            [
             0.2,
             "#de77ae"
            ],
            [
             0.3,
             "#f1b6da"
            ],
            [
             0.4,
             "#fde0ef"
            ],
            [
             0.5,
             "#f7f7f7"
            ],
            [
             0.6,
             "#e6f5d0"
            ],
            [
             0.7,
             "#b8e186"
            ],
            [
             0.8,
             "#7fbc41"
            ],
            [
             0.9,
             "#4d9221"
            ],
            [
             1,
             "#276419"
            ]
           ],
           "sequential": [
            [
             0,
             "#0d0887"
            ],
            [
             0.1111111111111111,
             "#46039f"
            ],
            [
             0.2222222222222222,
             "#7201a8"
            ],
            [
             0.3333333333333333,
             "#9c179e"
            ],
            [
             0.4444444444444444,
             "#bd3786"
            ],
            [
             0.5555555555555556,
             "#d8576b"
            ],
            [
             0.6666666666666666,
             "#ed7953"
            ],
            [
             0.7777777777777778,
             "#fb9f3a"
            ],
            [
             0.8888888888888888,
             "#fdca26"
            ],
            [
             1,
             "#f0f921"
            ]
           ],
           "sequentialminus": [
            [
             0,
             "#0d0887"
            ],
            [
             0.1111111111111111,
             "#46039f"
            ],
            [
             0.2222222222222222,
             "#7201a8"
            ],
            [
             0.3333333333333333,
             "#9c179e"
            ],
            [
             0.4444444444444444,
             "#bd3786"
            ],
            [
             0.5555555555555556,
             "#d8576b"
            ],
            [
             0.6666666666666666,
             "#ed7953"
            ],
            [
             0.7777777777777778,
             "#fb9f3a"
            ],
            [
             0.8888888888888888,
             "#fdca26"
            ],
            [
             1,
             "#f0f921"
            ]
           ]
          },
          "colorway": [
           "#636efa",
           "#EF553B",
           "#00cc96",
           "#ab63fa",
           "#FFA15A",
           "#19d3f3",
           "#FF6692",
           "#B6E880",
           "#FF97FF",
           "#FECB52"
          ],
          "font": {
           "color": "#2a3f5f"
          },
          "geo": {
           "bgcolor": "white",
           "lakecolor": "white",
           "landcolor": "#E5ECF6",
           "showlakes": true,
           "showland": true,
           "subunitcolor": "white"
          },
          "hoverlabel": {
           "align": "left"
          },
          "hovermode": "closest",
          "mapbox": {
           "style": "light"
          },
          "paper_bgcolor": "white",
          "plot_bgcolor": "#E5ECF6",
          "polar": {
           "angularaxis": {
            "gridcolor": "white",
            "linecolor": "white",
            "ticks": ""
           },
           "bgcolor": "#E5ECF6",
           "radialaxis": {
            "gridcolor": "white",
            "linecolor": "white",
            "ticks": ""
           }
          },
          "scene": {
           "xaxis": {
            "backgroundcolor": "#E5ECF6",
            "gridcolor": "white",
            "gridwidth": 2,
            "linecolor": "white",
            "showbackground": true,
            "ticks": "",
            "zerolinecolor": "white"
           },
           "yaxis": {
            "backgroundcolor": "#E5ECF6",
            "gridcolor": "white",
            "gridwidth": 2,
            "linecolor": "white",
            "showbackground": true,
            "ticks": "",
            "zerolinecolor": "white"
           },
           "zaxis": {
            "backgroundcolor": "#E5ECF6",
            "gridcolor": "white",
            "gridwidth": 2,
            "linecolor": "white",
            "showbackground": true,
            "ticks": "",
            "zerolinecolor": "white"
           }
          },
          "shapedefaults": {
           "line": {
            "color": "#2a3f5f"
           }
          },
          "ternary": {
           "aaxis": {
            "gridcolor": "white",
            "linecolor": "white",
            "ticks": ""
           },
           "baxis": {
            "gridcolor": "white",
            "linecolor": "white",
            "ticks": ""
           },
           "bgcolor": "#E5ECF6",
           "caxis": {
            "gridcolor": "white",
            "linecolor": "white",
            "ticks": ""
           }
          },
          "title": {
           "x": 0.05
          },
          "xaxis": {
           "automargin": true,
           "gridcolor": "white",
           "linecolor": "white",
           "ticks": "",
           "title": {
            "standoff": 15
           },
           "zerolinecolor": "white",
           "zerolinewidth": 2
          },
          "yaxis": {
           "automargin": true,
           "gridcolor": "white",
           "linecolor": "white",
           "ticks": "",
           "title": {
            "standoff": 15
           },
           "zerolinecolor": "white",
           "zerolinewidth": 2
          }
         }
        },
        "title": {
         "text": "F1 score"
        },
        "xaxis": {
         "autorange": true,
         "range": [
          0,
          20
         ],
         "title": {
          "text": "Strain Ratio"
         },
         "type": "category"
        },
        "yaxis": {
         "autorange": true,
         "range": [
          -0.03253666919488575,
          0.6218652474232492
         ],
         "title": {
          "text": "F1"
         },
         "type": "linear"
        }
       }
      },
      "image/png": "[encoded data removed]",
      "text/html": [
       "<div>                            <div id=\"5bc3aa0e-1ef6-40dd-a0aa-1d4d963f8f9e\" class=\"plotly-graph-div\" style=\"height:525px; width:100%;\"></div>            <script type=\"text/javascript\">                require([\"plotly\"], function(Plotly) {                    window.PLOTLYENV=window.PLOTLYENV || {};                                    if (document.getElementById(\"5bc3aa0e-1ef6-40dd-a0aa-1d4d963f8f9e\")) {                    Plotly.newPlot(                        \"5bc3aa0e-1ef6-40dd-a0aa-1d4d963f8f9e\",                        [{\"mode\":\"lines\",\"x\":[\"0100\",\"0595\",\"1000\",\"1090\",\"1585\",\"2080\",\"2575\",\"3070\",\"3565\",\"4060\",\"4555\",\"5050\",\"5545\",\"6040\",\"6535\",\"7030\",\"7525\",\"8020\",\"8515\",\"9010\",\"9505\"],\"y\":[0.00018342663602100018,0.5891451515923425,0.07360303533240597,0.5891451515923425,0.002716118439087256,0.5891451515923425,0.13429620340891757,0.5891451515923425,0.2922671619893674,0.11845411185482652,0.28423753145382835,0.024507256164696734,0.024613076811311307,0.06088112631468179,0.16236337878236995,0.0076088455858531745,0.04286266744399758,0.002204512930902347,0.011562219531655815,0.05204373329055978,0.1390427208825653,0.08539657092738928,0.15386461527469197,0.10811731397975832,0.11869148986347233,0.07364054050562047,0.017417732106055572,0.04406300980728095,0.019222191413403422,0.011377301289550668,0.18972689340777904,0.007634291485802025,0.06826314808988432,0.0641523719844746,0.11162241867219225,0.09422777927191456,0.16237877944206325,0.13383881969688866,0.04328690177120231,0.22970853549886755,0.05108372915787862,0.5891451515923425],\"type\":\"scatter\"}],                        {\"template\":{\"data\":{\"bar\":[{\"error_x\":{\"color\":\"#2a3f5f\"},\"error_y\":{\"color\":\"#2a3f5f\"},\"marker\":{\"line\":{\"color\":\"#E5ECF6\",\"width\":0.5},\"pattern\":{\"fillmode\":\"overlay\",\"size\":10,\"solidity\":0.2}},\"type\":\"bar\"}],\"barpolar\":[{\"marker\":{\"line\":{\"color\":\"#E5ECF6\",\"width\":0.5},\"pattern\":{\"fillmode\":\"overlay\",\"size\":10,\"solidity\":0.2}},\"type\":\"barpolar\"}],\"carpet\":[{\"aaxis\":{\"endlinecolor\":\"#2a3f5f\",\"gridcolor\":\"white\",\"linecolor\":\"white\",\"minorgridcolor\":\"white\",\"startlinecolor\":\"#2a3f5f\"},\"baxis\":{\"endlinecolor\":\"#2a3f5f\",\"gridcolor\":\"white\",\"linecolor\":\"white\",\"minorgridcolor\":\"white\",\"startlinecolor\":\"#2a3f5f\"},\"type\":\"carpet\"}],\"choropleth\":[{\"colorbar\":{\"outlinewidth\":0,\"ticks\":\"\"},\"type\":\"choropleth\"}],\"contour\":[{\"colorbar\":{\"outlinewidth\":0,\"ticks\":\"\"},\"colorscale\":[[0.0,\"#0d0887\"],[0.1111111111111111,\"#46039f\"],[0.2222222222222222,\"#7201a8\"],[0.3333333333333333,\"#9c179e\"],[0.4444444444444444,\"#bd3786\"],[0.5555555555555556,\"#d8576b\"],[0.6666666666666666,\"#ed7953\"],[0.7777777777777778,\"#fb9f3a\"],[0.8888888888888888,\"#fdca26\"],[1.0,\"#f0f921\"]],\"type\":\"contour\"}],\"contourcarpet\":[{\"colorbar\":{\"outlinewidth\":0,\"ticks\":\"\"},\"type\":\"contourcarpet\"}],\"heatmap\":[{\"colorbar\":{\"outlinewidth\":0,\"ticks\":\"\"},\"colorscale\":[[0.0,\"#0d0887\"],[0.1111111111111111,\"#46039f\"],[0.2222222222222222,\"#7201a8\"],[0.3333333333333333,\"#9c179e\"],[0.4444444444444444,\"#bd3786\"],[0.5555555555555556,\"#d8576b\"],[0.6666666666666666,\"#ed7953\"],[0.7777777777777778,\"#fb9f3a\"],[0.8888888888888888,\"#fdca26\"],[1.0,\"#f0f921\"]],\"type\":\"heatmap\"}],\"heatmapgl\":[{\"colorbar\":{\"outlinewidth\":0,\"ticks\":\"\"},\"colorscale\":[[0.0,\"#0d0887\"],[0.1111111111111111,\"#46039f\"],[0.2222222222222222,\"#7201a8\"],[0.3333333333333333,\"#9c179e\"],[0.4444444444444444,\"#bd3786\"],[0.5555555555555556,\"#d8576b\"],[0.6666666666666666,\"#ed7953\"],[0.7777777777777778,\"#fb9f3a\"],[0.8888888888888888,\"#fdca26\"],[1.0,\"#f0f921\"]],\"type\":\"heatmapgl\"}],\"histogram\":[{\"marker\":{\"pattern\":{\"fillmode\":\"overlay\",\"size\":10,\"solidity\":0.2}},\"type\":\"histogram\"}],\"histogram2d\":[{\"colorbar\":{\"outlinewidth\":0,\"ticks\":\"\"},\"colorscale\":[[0.0,\"#0d0887\"],[0.1111111111111111,\"#46039f\"],[0.2222222222222222,\"#7201a8\"],[0.3333333333333333,\"#9c179e\"],[0.4444444444444444,\"#bd3786\"],[0.5555555555555556,\"#d8576b\"],[0.6666666666666666,\"#ed7953\"],[0.7777777777777778,\"#fb9f3a\"],[0.8888888888888888,\"#fdca26\"],[1.0,\"#f0f921\"]],\"type\":\"histogram2d\"}],\"histogram2dcontour\":[{\"colorbar\":{\"outlinewidth\":0,\"ticks\":\"\"},\"colorscale\":[[0.0,\"#0d0887\"],[0.1111111111111111,\"#46039f\"],[0.2222222222222222,\"#7201a8\"],[0.3333333333333333,\"#9c179e\"],[0.4444444444444444,\"#bd3786\"],[0.5555555555555556,\"#d8576b\"],[0.6666666666666666,\"#ed7953\"],[0.7777777777777778,\"#fb9f3a\"],[0.8888888888888888,\"#fdca26\"],[1.0,\"#f0f921\"]],\"type\":\"histogram2dcontour\"}],\"mesh3d\":[{\"colorbar\":{\"outlinewidth\":0,\"ticks\":\"\"},\"type\":\"mesh3d\"}],\"parcoords\":[{\"line\":{\"colorbar\":{\"outlinewidth\":0,\"ticks\":\"\"}},\"type\":\"parcoords\"}],\"pie\":[{\"automargin\":true,\"type\":\"pie\"}],\"scatter\":[{\"marker\":{\"colorbar\":{\"outlinewidth\":0,\"ticks\":\"\"}},\"type\":\"scatter\"}],\"scatter3d\":[{\"line\":{\"colorbar\":{\"outlinewidth\":0,\"ticks\":\"\"}},\"marker\":{\"colorbar\":{\"outlinewidth\":0,\"ticks\":\"\"}},\"type\":\"scatter3d\"}],\"scattercarpet\":[{\"marker\":{\"colorbar\":{\"outlinewidth\":0,\"ticks\":\"\"}},\"type\":\"scattercarpet\"}],\"scattergeo\":[{\"marker\":{\"colorbar\":{\"outlinewidth\":0,\"ticks\":\"\"}},\"type\":\"scattergeo\"}],\"scattergl\":[{\"marker\":{\"colorbar\":{\"outlinewidth\":0,\"ticks\":\"\"}},\"type\":\"scattergl\"}],\"scattermapbox\":[{\"marker\":{\"colorbar\":{\"outlinewidth\":0,\"ticks\":\"\"}},\"type\":\"scattermapbox\"}],\"scatterpolar\":[{\"marker\":{\"colorbar\":{\"outlinewidth\":0,\"ticks\":\"\"}},\"type\":\"scatterpolar\"}],\"scatterpolargl\":[{\"marker\":{\"colorbar\":{\"outlinewidth\":0,\"ticks\":\"\"}},\"type\":\"scatterpolargl\"}],\"scatterternary\":[{\"marker\":{\"colorbar\":{\"outlinewidth\":0,\"ticks\":\"\"}},\"type\":\"scatterternary\"}],\"surface\":[{\"colorbar\":{\"outlinewidth\":0,\"ticks\":\"\"},\"colorscale\":[[0.0,\"#0d0887\"],[0.1111111111111111,\"#46039f\"],[0.2222222222222222,\"#7201a8\"],[0.3333333333333333,\"#9c179e\"],[0.4444444444444444,\"#bd3786\"],[0.5555555555555556,\"#d8576b\"],[0.6666666666666666,\"#ed7953\"],[0.7777777777777778,\"#fb9f3a\"],[0.8888888888888888,\"#fdca26\"],[1.0,\"#f0f921\"]],\"type\":\"surface\"}],\"table\":[{\"cells\":{\"fill\":{\"color\":\"#EBF0F8\"},\"line\":{\"color\":\"white\"}},\"header\":{\"fill\":{\"color\":\"#C8D4E3\"},\"line\":{\"color\":\"white\"}},\"type\":\"table\"}]},\"layout\":{\"annotationdefaults\":{\"arrowcolor\":\"#2a3f5f\",\"arrowhead\":0,\"arrowwidth\":1},\"autotypenumbers\":\"strict\",\"coloraxis\":{\"colorbar\":{\"outlinewidth\":0,\"ticks\":\"\"}},\"colorscale\":{\"diverging\":[[0,\"#8e0152\"],[0.1,\"#c51b7d\"],[0.2,\"#de77ae\"],[0.3,\"#f1b6da\"],[0.4,\"#fde0ef\"],[0.5,\"#f7f7f7\"],[0.6,\"#e6f5d0\"],[0.7,\"#b8e186\"],[0.8,\"#7fbc41\"],[0.9,\"#4d9221\"],[1,\"#276419\"]],\"sequential\":[[0.0,\"#0d0887\"],[0.1111111111111111,\"#46039f\"],[0.2222222222222222,\"#7201a8\"],[0.3333333333333333,\"#9c179e\"],[0.4444444444444444,\"#bd3786\"],[0.5555555555555556,\"#d8576b\"],[0.6666666666666666,\"#ed7953\"],[0.7777777777777778,\"#fb9f3a\"],[0.8888888888888888,\"#fdca26\"],[1.0,\"#f0f921\"]],\"sequentialminus\":[[0.0,\"#0d0887\"],[0.1111111111111111,\"#46039f\"],[0.2222222222222222,\"#7201a8\"],[0.3333333333333333,\"#9c179e\"],[0.4444444444444444,\"#bd3786\"],[0.5555555555555556,\"#d8576b\"],[0.6666666666666666,\"#ed7953\"],[0.7777777777777778,\"#fb9f3a\"],[0.8888888888888888,\"#fdca26\"],[1.0,\"#f0f921\"]]},\"colorway\":[\"#636efa\",\"#EF553B\",\"#00cc96\",\"#ab63fa\",\"#FFA15A\",\"#19d3f3\",\"#FF6692\",\"#B6E880\",\"#FF97FF\",\"#FECB52\"],\"font\":{\"color\":\"#2a3f5f\"},\"geo\":{\"bgcolor\":\"white\",\"lakecolor\":\"white\",\"landcolor\":\"#E5ECF6\",\"showlakes\":true,\"showland\":true,\"subunitcolor\":\"white\"},\"hoverlabel\":{\"align\":\"left\"},\"hovermode\":\"closest\",\"mapbox\":{\"style\":\"light\"},\"paper_bgcolor\":\"white\",\"plot_bgcolor\":\"#E5ECF6\",\"polar\":{\"angularaxis\":{\"gridcolor\":\"white\",\"linecolor\":\"white\",\"ticks\":\"\"},\"bgcolor\":\"#E5ECF6\",\"radialaxis\":{\"gridcolor\":\"white\",\"linecolor\":\"white\",\"ticks\":\"\"}},\"scene\":{\"xaxis\":{\"backgroundcolor\":\"#E5ECF6\",\"gridcolor\":\"white\",\"gridwidth\":2,\"linecolor\":\"white\",\"showbackground\":true,\"ticks\":\"\",\"zerolinecolor\":\"white\"},\"yaxis\":{\"backgroundcolor\":\"#E5ECF6\",\"gridcolor\":\"white\",\"gridwidth\":2,\"linecolor\":\"white\",\"showbackground\":true,\"ticks\":\"\",\"zerolinecolor\":\"white\"},\"zaxis\":{\"backgroundcolor\":\"#E5ECF6\",\"gridcolor\":\"white\",\"gridwidth\":2,\"linecolor\":\"white\",\"showbackground\":true,\"ticks\":\"\",\"zerolinecolor\":\"white\"}},\"shapedefaults\":{\"line\":{\"color\":\"#2a3f5f\"}},\"ternary\":{\"aaxis\":{\"gridcolor\":\"white\",\"linecolor\":\"white\",\"ticks\":\"\"},\"baxis\":{\"gridcolor\":\"white\",\"linecolor\":\"white\",\"ticks\":\"\"},\"bgcolor\":\"#E5ECF6\",\"caxis\":{\"gridcolor\":\"white\",\"linecolor\":\"white\",\"ticks\":\"\"}},\"title\":{\"x\":0.05},\"xaxis\":{\"automargin\":true,\"gridcolor\":\"white\",\"linecolor\":\"white\",\"ticks\":\"\",\"title\":{\"standoff\":15},\"zerolinecolor\":\"white\",\"zerolinewidth\":2},\"yaxis\":{\"automargin\":true,\"gridcolor\":\"white\",\"linecolor\":\"white\",\"ticks\":\"\",\"title\":{\"standoff\":15},\"zerolinecolor\":\"white\",\"zerolinewidth\":2}}},\"font\":{\"family\":\"Courier New, monospace\",\"size\":18,\"color\":\"RebeccaPurple\"},\"title\":{\"text\":\"F1 score\"},\"xaxis\":{\"title\":{\"text\":\"Strain Ratio\"}},\"yaxis\":{\"title\":{\"text\":\"F1\"}},\"legend\":{\"title\":{\"text\":\"\"}}},                        {\"responsive\": true}                    ).then(function(){\n",
       "                            \n",
       "var gd = document.getElementById('5bc3aa0e-1ef6-40dd-a0aa-1d4d963f8f9e');\n",
       "var x = new MutationObserver(function (mutations, observer) {{\n",
       "        var display = window.getComputedStyle(gd).display;\n",
       "        if (!display || display === 'none') {{\n",
       "            console.log([gd, 'removed!']);\n",
       "            Plotly.purge(gd);\n",
       "            observer.disconnect();\n",
       "        }}\n",
       "}});\n",
       "\n",
       "// Listen for the removal of the full notebook cells\n",
       "var notebookContainer = gd.closest('#notebook-container');\n",
       "if (notebookContainer) {{\n",
       "    x.observe(notebookContainer, {childList: true});\n",
       "}}\n",
       "\n",
       "// Listen for the clearing of the current output cell\n",
       "var outputEl = gd.closest('.output');\n",
       "if (outputEl) {{\n",
       "    x.observe(outputEl, {childList: true});\n",
       "}}\n",
       "\n",
       "                        })                };                });            </script>        </div>"
      ]
     },
     "metadata": {},
     "output_type": "display_data"
    },
    {
     "name": "stdout",
     "output_type": "stream",
     "text": [
      "0.23027523721782164\n"
     ]
    }
   ],
   "source": [
    "print(frac_MSE(NAME_FILE=NAME_FILE, JSON_FILE_PATH=JSON_FILE_PATH, VCF_FILE_PATH=VCF_FILE_PATH))"
   ]
  },
  {
   "cell_type": "code",
   "execution_count": 114,
   "metadata": {},
   "outputs": [
    {
     "name": "stdout",
     "output_type": "stream",
     "text": [
      "12\n",
      "12\n"
     ]
    },
    {
     "data": {
      "text/plain": [
       "0.08232703363298553"
      ]
     },
     "execution_count": 114,
     "metadata": {},
     "output_type": "execute_result"
    }
   ],
   "source": [
    "#removing the 0100 and 1000 6040, 5050case\n",
    "y_true = [0.8633651551312649, 0.1011378002528445, 0.7554125219426565, 0.20933977455716588, 0.6681818181818182, 0.2986167615947925, \n",
    "          # 0.5873648264086511, 0.3963963963963964, 0.5011990407673861, 0.47477064220183485, 0.5932203389830508, 0.38841567291311757, \n",
    "          0.6951219512195121, 0.2962962962962963, 0.7953216374269005, 0.20057803468208094, 0.9061461794019934, 0.12028608582574772]\n",
    "y_pred = [0.7660500659768188, 0.23408824816297552, 0.7659220199852712, 0.2368329200364438, 0.7633326746158897, 0.248175728926683, \n",
    "          # 0.7502904174077132, 0.2759160643977226, 0.7268216992632079, 0.3190932149543465, 0.7520835761491568, 0.2726061158130421, \n",
    "          0.7637465557502369, 0.24760025372757327, 0.7659445772369651, 0.2352338544977916, 0.7660500659768188, 0.23408824816297552]\n",
    "print(len(y_true))\n",
    "print(len(y_pred))\n",
    "mean_squared_error(y_true, y_pred, squared=False)"
   ]
  },
  {
   "cell_type": "markdown",
   "metadata": {},
   "source": [
    "<h1>Confusion matrix"
   ]
  },
  {
   "cell_type": "code",
   "execution_count": 115,
   "metadata": {},
   "outputs": [],
   "source": [
    "def confusion_map(y, y_pred, title):\n",
    "    cf_matrix = confusion_matrix(y, y_pred)\n",
    "    \n",
    "    group_names = ['True Neg','False Pos','False Neg','True Pos']\n",
    "    group_counts = [\"{0:0.0f}\".format(value) for value in\n",
    "                    cf_matrix.flatten()]\n",
    "    group_percentages = [\"{0:.2%}\".format(value) for value in\n",
    "                         cf_matrix.flatten()/np.sum(cf_matrix)]\n",
    "    labels = [f'{v1}\\n{v2}\\n{v3}' for v1, v2, v3 in zip(group_names,group_counts,group_percentages)]\n",
    "    labels = np.asarray(labels).reshape(2,2)\n",
    "    plt.figure()\n",
    "    plt.title(title)\n",
    "    sns.heatmap(cf_matrix, annot=labels, fmt='', cmap='Blues')"
   ]
  },
  {
   "cell_type": "code",
   "execution_count": 116,
   "metadata": {},
   "outputs": [],
   "source": [
    "def confusion_mat(NAME_FILE=NAME_FILE, JSON_FILE_PATH=JSON_FILE_PATH, VCF_FILE_PATH=VCF_FILE_PATH, output=False):\n",
    "    with open(NAME_FILE, 'r') as f:\n",
    "        sample_list = [line.rstrip('\\n') for line in f]\n",
    "\n",
    "    sample_list_json=[]\n",
    "    for i,x in enumerate(sample_list):\n",
    "        x = list(x)\n",
    "        x.append('.results.json')\n",
    "        string = ''.join([letter for letter in x] )\n",
    "        sample_list_json.append(string)\n",
    "        \n",
    "    sample_list_vcf=[]\n",
    "    for i,x in enumerate(sample_list):\n",
    "        x = list(x)\n",
    "        x.append('_q20.recode.vcf.gz')\n",
    "        string = ''.join([letter for letter in x] )\n",
    "        sample_list_vcf.append(string)\n",
    "\n",
    "    ratio = []\n",
    "    for i in sample_list_json:\n",
    "        temp = i.split('-')\n",
    "        ratio.append(temp[2])\n",
    "    \n",
    "    ratio1=[]\n",
    "    for i in ratio:\n",
    "        temp = i.split('.')\n",
    "        ratio1.append(temp[0])\n",
    "\n",
    "    ratio = ratio1\n",
    "\n",
    "    pos_lin_0 = {'rifampicin':0, 'isoniazid':1, 'ethambutol':2}\n",
    "    pos_lin_1 = {'rifampicin':0, 'streptomycin':1, 'isoniazid':2, 'ethionamide':3}\n",
    "    \n",
    "    ratio_list = []\n",
    "    f1_list = []\n",
    "\n",
    "\n",
    "\n",
    "    for j, vcf, ratio in zip(sample_list_json, sample_list_vcf, ratio):\n",
    "        JSON_FILE = os.path.join(JSON_FILE_PATH, j)\n",
    "        tb_out_, cut_off = tb_profiler_pred(JSON_FILE)\n",
    "\n",
    "        if ratio == '0100': \n",
    "            lin_ = [0,0,0,1,1,1,1] #lineage1 with rifampicin, streptomycin, isoniazid, ethionamide resistance\n",
    "        elif ratio == '1000':\n",
    "            lin_ = [1,1,1,0,0,0,0] #lineage4 with rifampicin, isoniazid, ethambutol resistance\n",
    "        else:\n",
    "            lin_ = [1,1,1,1,1,1,1]\n",
    "\n",
    "\n",
    "        VCF_FILE = os.path.join(VCF_FILE_PATH, vcf)\n",
    "        model_out_, gm = model_pred(vcf_file, ratio, tail_cutoff=cut_off)\n",
    "\n",
    "        strain0 = []\n",
    "        strain1 = []\n",
    "        strainU = []\n",
    "\n",
    "        json_results = json.load(open(JSON_FILE))\n",
    "        for var in json_results['dr_variants']:\n",
    "            cluster = assign_variant_to_distrib(gm,var['freq'], cutoff=0.95)\n",
    "            if cluster[0] == 0:\n",
    "                var['probs']= cluster\n",
    "                strain0.append(var)\n",
    "            elif cluster[0] == 1:\n",
    "                var['probs']= cluster\n",
    "                strain1.append(var)\n",
    "            else:\n",
    "                var['probs']= cluster[1:]\n",
    "                strainU.append(var)\n",
    "\n",
    "\n",
    "        strain_0 = [(v['drugs'][0]['drug']) for v in strain0]\n",
    "        strain_1 = [(v['drugs'][0]['drug']) for v in strain1]\n",
    "        \n",
    "        # print(ratio)\n",
    "        # print(strain_0)\n",
    "        # print(strain_1)\n",
    "        \n",
    "        if 'ethambutol' in strain_1:\n",
    "            strain_0 = [(v['drugs'][0]['drug']) for v in strain1]\n",
    "            strain_1 = [(v['drugs'][0]['drug']) for v in strain0]\n",
    "\n",
    "        if 'streptomycin' in strain_0 or 'ethionamide' in strain_0:\n",
    "            strain_1 = [(v['drugs'][0]['drug']) for v in strain0]\n",
    "            strain_0 = [(v['drugs'][0]['drug']) for v in strain1]\n",
    "\n",
    "        # strain_0 = list(set(strain_0))\n",
    "        # strain_1 = list(set(strain_1))\n",
    "        \n",
    "        # print(ratio)\n",
    "        # print(strain_0)\n",
    "        # print(strain_1)\n",
    "        \n",
    "        strain_0_pred = [0]*3\n",
    "        if 'streptomycin' in strain_0 or 'ethionamide' in strain_0:\n",
    "            print(ratio,'strain_0_error', strain_0)\n",
    "        else:\n",
    "            for d in strain_0:\n",
    "                strain_0_pred[pos_lin_0[d]] = 1\n",
    "\n",
    "        strain_1_pred = [0]*4\n",
    "        if 'ethambutol' in strain_1:\n",
    "            print(ratio,'strain_1_error', strain_1)\n",
    "        else:\n",
    "            for d in strain_1:\n",
    "                strain_1_pred[pos_lin_1[d]] = 1\n",
    "        \n",
    "        strain_pred = []\n",
    "        strain_pred.extend(strain_0_pred)\n",
    "        strain_pred.extend(strain_1_pred)\n",
    "        f1 = f1_score(lin_, strain_pred)\n",
    "        if output == True:\n",
    "            confusion_map(lin_, strain_pred, ratio)\n",
    "            print(f'f1-{ratio}:', f1)\n",
    "        \n",
    "        # print(lin_)\n",
    "        # print(strain_pred)\n",
    "        \n",
    "        ratio_list.append(ratio)\n",
    "        f1_list.append(f1)\n",
    "\n",
    "    return ratio_list, f1_list"
   ]
  },
  {
   "cell_type": "code",
   "execution_count": 117,
   "metadata": {},
   "outputs": [
    {
     "name": "stdout",
     "output_type": "stream",
     "text": [
      "f1-0100: 0.5714285714285715\n",
      "f1-0595: 0.6\n",
      "f1-1000: 1.0\n",
      "f1-1090: 0.6\n",
      "f1-1585: 0.6\n",
      "f1-2080: 0.6\n",
      "f1-2575: 0.8333333333333333\n",
      "f1-3070: 0.6\n",
      "f1-3565: 0.6\n",
      "f1-4060: 0.25\n",
      "f1-4555: 0.4444444444444445\n",
      "f1-5050: 0.6\n",
      "f1-5545: 0.6\n",
      "f1-6040: 0.6\n",
      "f1-6535: 0.8333333333333333\n",
      "f1-7030: 0.6\n",
      "f1-7525: 0.923076923076923\n",
      "f1-8020: 0.923076923076923\n",
      "f1-8515: 0.8333333333333333\n",
      "f1-9010: 0.6\n",
      "f1-9505: 0.6\n"
     ]
    },
    {
     "name": "stderr",
     "output_type": "stream",
     "text": [
      "/tmp/ipykernel_14787/3340613689.py:11: RuntimeWarning:\n",
      "\n",
      "More than 20 figures have been opened. Figures created through the pyplot interface (`matplotlib.pyplot.figure`) are retained until explicitly closed and may consume too much memory. (To control this warning, see the rcParam `figure.max_open_warning`).\n",
      "\n"
     ]
    },
    {
     "data": {
      "text/plain": [
       "(['0100',\n",
       "  '0595',\n",
       "  '1000',\n",
       "  '1090',\n",
       "  '1585',\n",
       "  '2080',\n",
       "  '2575',\n",
       "  '3070',\n",
       "  '3565',\n",
       "  '4060',\n",
       "  '4555',\n",
       "  '5050',\n",
       "  '5545',\n",
       "  '6040',\n",
       "  '6535',\n",
       "  '7030',\n",
       "  '7525',\n",
       "  '8020',\n",
       "  '8515',\n",
       "  '9010',\n",
       "  '9505'],\n",
       " [0.5714285714285715,\n",
       "  0.6,\n",
       "  1.0,\n",
       "  0.6,\n",
       "  0.6,\n",
       "  0.6,\n",
       "  0.8333333333333333,\n",
       "  0.6,\n",
       "  0.6,\n",
       "  0.25,\n",
       "  0.4444444444444445,\n",
       "  0.6,\n",
       "  0.6,\n",
       "  0.6,\n",
       "  0.8333333333333333,\n",
       "  0.6,\n",
       "  0.923076923076923,\n",
       "  0.923076923076923,\n",
       "  0.8333333333333333,\n",
       "  0.6,\n",
       "  0.6])"
      ]
     },
     "execution_count": 117,
     "metadata": {},
     "output_type": "execute_result"
    },
    {
     "data": {
      "image/png": "[encoded data removed]",
      "text/plain": [
       "<Figure size 432x288 with 2 Axes>"
      ]
     },
     "metadata": {
      "needs_background": "light"
     },
     "output_type": "display_data"
    },
    {
     "data": {
      "image/png": "[encoded data removed]",
      "text/plain": [
       "<Figure size 432x288 with 2 Axes>"
      ]
     },
     "metadata": {
      "needs_background": "light"
     },
     "output_type": "display_data"
    },
    {
     "data": {
      "image/png": "[encoded data removed]",
      "text/plain": [
       "<Figure size 432x288 with 2 Axes>"
      ]
     },
     "metadata": {
      "needs_background": "light"
     },
     "output_type": "display_data"
    },
    {
     "data": {
      "image/png": "[encoded data removed]",
      "text/plain": [
       "<Figure size 432x288 with 2 Axes>"
      ]
     },
     "metadata": {
      "needs_background": "light"
     },
     "output_type": "display_data"
    },
    {
     "data": {
      "image/png": "[encoded data removed]",
      "text/plain": [
       "<Figure size 432x288 with 2 Axes>"
      ]
     },
     "metadata": {
      "needs_background": "light"
     },
     "output_type": "display_data"
    },
    {
     "data": {
      "image/png": "[encoded data removed]",
      "text/plain": [
       "<Figure size 432x288 with 2 Axes>"
      ]
     },
     "metadata": {
      "needs_background": "light"
     },
     "output_type": "display_data"
    },
    {
     "data": {
      "image/png": "[encoded data removed]",
      "text/plain": [
       "<Figure size 432x288 with 2 Axes>"
      ]
     },
     "metadata": {
      "needs_background": "light"
     },
     "output_type": "display_data"
    },
    {
     "data": {
      "image/png": "[encoded data removed]",
      "text/plain": [
       "<Figure size 432x288 with 2 Axes>"
      ]
     },
     "metadata": {
      "needs_background": "light"
     },
     "output_type": "display_data"
    },
    {
     "data": {
      "image/png": "[encoded data removed]",
      "text/plain": [
       "<Figure size 432x288 with 2 Axes>"
      ]
     },
     "metadata": {
      "needs_background": "light"
     },
     "output_type": "display_data"
    },
    {
     "data": {
      "image/png": "[encoded data removed]",
      "text/plain": [
       "<Figure size 432x288 with 2 Axes>"
      ]
     },
     "metadata": {
      "needs_background": "light"
     },
     "output_type": "display_data"
    },
    {
     "data": {
      "image/png": "[encoded data removed]",
      "text/plain": [
       "<Figure size 432x288 with 2 Axes>"
      ]
     },
     "metadata": {
      "needs_background": "light"
     },
     "output_type": "display_data"
    },
    {
     "data": {
      "image/png": "[encoded data removed]",
      "text/plain": [
       "<Figure size 432x288 with 2 Axes>"
      ]
     },
     "metadata": {
      "needs_background": "light"
     },
     "output_type": "display_data"
    },
    {
     "data": {
      "image/png": "[encoded data removed]",
      "text/plain": [
       "<Figure size 432x288 with 2 Axes>"
      ]
     },
     "metadata": {
      "needs_background": "light"
     },
     "output_type": "display_data"
    },
    {
     "data": {
      "image/png": "[encoded data removed]",
      "text/plain": [
       "<Figure size 432x288 with 2 Axes>"
      ]
     },
     "metadata": {
      "needs_background": "light"
     },
     "output_type": "display_data"
    },
    {
     "data": {
      "image/png": "[encoded data removed]",
      "text/plain": [
       "<Figure size 432x288 with 2 Axes>"
      ]
     },
     "metadata": {
      "needs_background": "light"
     },
     "output_type": "display_data"
    },
    {
     "data": {
      "image/png": "[encoded data removed]",
      "text/plain": [
       "<Figure size 432x288 with 2 Axes>"
      ]
     },
     "metadata": {
      "needs_background": "light"
     },
     "output_type": "display_data"
    },
    {
     "data": {
      "image/png": "[encoded data removed]",
      "text/plain": [
       "<Figure size 432x288 with 2 Axes>"
      ]
     },
     "metadata": {
      "needs_background": "light"
     },
     "output_type": "display_data"
    },
    {
     "data": {
      "image/png": "[encoded data removed]",
      "text/plain": [
       "<Figure size 432x288 with 2 Axes>"
      ]
     },
     "metadata": {
      "needs_background": "light"
     },
     "output_type": "display_data"
    },
    {
     "data": {
      "image/png": "[encoded data removed]",
      "text/plain": [
       "<Figure size 432x288 with 2 Axes>"
      ]
     },
     "metadata": {
      "needs_background": "light"
     },
     "output_type": "display_data"
    },
    {
     "data": {
      "image/png": "[encoded data removed]",
      "text/plain": [
       "<Figure size 432x288 with 2 Axes>"
      ]
     },
     "metadata": {
      "needs_background": "light"
     },
     "output_type": "display_data"
    },
    {
     "data": {
      "image/png": "[encoded data removed]",
      "text/plain": [
       "<Figure size 432x288 with 2 Axes>"
      ]
     },
     "metadata": {
      "needs_background": "light"
     },
     "output_type": "display_data"
    }
   ],
   "source": [
    "confusion_mat(NAME_FILE=NAME_FILE, JSON_FILE_PATH=JSON_FILE_PATH, VCF_FILE_PATH=VCF_FILE_PATH, output=True)"
   ]
  },
  {
   "cell_type": "code",
   "execution_count": 105,
   "metadata": {},
   "outputs": [
    {
     "data": {
      "application/vnd.plotly.v1+json": {
       "config": {
        "plotlyServerURL": "https://plot.ly"
       },
       "data": [
        {
         "mode": "lines",
         "type": "scatter",
         "x": [
          "0100",
          "0595",
          "1000",
          "1090",
          "1585",
          "2080",
          "2575",
          "3070",
          "3565",
          "4060",
          "4555",
          "5050",
          "5545",
          "6040",
          "6535",
          "7030",
          "7525",
          "8020",
          "8515",
          "9010",
          "9505"
         ],
         "y": [
          0.5714285714285715,
          0.6,
          1,
          0.6,
          0.923076923076923,
          0.6,
          0.8333333333333333,
          0.6,
          0.6,
          0.25,
          0.4444444444444445,
          0.6,
          0.6,
          0.6,
          0.8333333333333333,
          0.6,
          0.923076923076923,
          0.923076923076923,
          0.923076923076923,
          0.6,
          0.6
         ]
        }
       ],
       "layout": {
        "autosize": true,
        "font": {
         "color": "RebeccaPurple",
         "family": "Courier New, monospace",
         "size": 18
        },
        "legend": {
         "title": {
          "text": ""
         }
        },
        "template": {
         "data": {
          "bar": [
           {
            "error_x": {
             "color": "#2a3f5f"
            },
            "error_y": {
             "color": "#2a3f5f"
            },
            "marker": {
             "line": {
              "color": "#E5ECF6",
              "width": 0.5
             },
             "pattern": {
              "fillmode": "overlay",
              "size": 10,
              "solidity": 0.2
             }
            },
            "type": "bar"
           }
          ],
          "barpolar": [
           {
            "marker": {
             "line": {
              "color": "#E5ECF6",
              "width": 0.5
             },
             "pattern": {
              "fillmode": "overlay",
              "size": 10,
              "solidity": 0.2
             }
            },
            "type": "barpolar"
           }
          ],
          "carpet": [
           {
            "aaxis": {
             "endlinecolor": "#2a3f5f",
             "gridcolor": "white",
             "linecolor": "white",
             "minorgridcolor": "white",
             "startlinecolor": "#2a3f5f"
            },
            "baxis": {
             "endlinecolor": "#2a3f5f",
             "gridcolor": "white",
             "linecolor": "white",
             "minorgridcolor": "white",
             "startlinecolor": "#2a3f5f"
            },
            "type": "carpet"
           }
          ],
          "choropleth": [
           {
            "colorbar": {
             "outlinewidth": 0,
             "ticks": ""
            },
            "type": "choropleth"
           }
          ],
          "contour": [
           {
            "colorbar": {
             "outlinewidth": 0,
             "ticks": ""
            },
            "colorscale": [
             [
              0,
              "#0d0887"
             ],
             [
              0.1111111111111111,
              "#46039f"
             ],
             [
              0.2222222222222222,
              "#7201a8"
             ],
             [
              0.3333333333333333,
              "#9c179e"
             ],
             [
              0.4444444444444444,
              "#bd3786"
             ],
             [
              0.5555555555555556,
              "#d8576b"
             ],
             [
              0.6666666666666666,
              "#ed7953"
             ],
             [
              0.7777777777777778,
              "#fb9f3a"
             ],
             [
              0.8888888888888888,
              "#fdca26"
             ],
             [
              1,
              "#f0f921"
             ]
            ],
            "type": "contour"
           }
          ],
          "contourcarpet": [
           {
            "colorbar": {
             "outlinewidth": 0,
             "ticks": ""
            },
            "type": "contourcarpet"
           }
          ],
          "heatmap": [
           {
            "colorbar": {
             "outlinewidth": 0,
             "ticks": ""
            },
            "colorscale": [
             [
              0,
              "#0d0887"
             ],
             [
              0.1111111111111111,
              "#46039f"
             ],
             [
              0.2222222222222222,
              "#7201a8"
             ],
             [
              0.3333333333333333,
              "#9c179e"
             ],
             [
              0.4444444444444444,
              "#bd3786"
             ],
             [
              0.5555555555555556,
              "#d8576b"
             ],
             [
              0.6666666666666666,
              "#ed7953"
             ],
             [
              0.7777777777777778,
              "#fb9f3a"
             ],
             [
              0.8888888888888888,
              "#fdca26"
             ],
             [
              1,
              "#f0f921"
             ]
            ],
            "type": "heatmap"
           }
          ],
          "heatmapgl": [
           {
            "colorbar": {
             "outlinewidth": 0,
             "ticks": ""
            },
            "colorscale": [
             [
              0,
              "#0d0887"
             ],
             [
              0.1111111111111111,
              "#46039f"
             ],
             [
              0.2222222222222222,
              "#7201a8"
             ],
             [
              0.3333333333333333,
              "#9c179e"
             ],
             [
              0.4444444444444444,
              "#bd3786"
             ],
             [
              0.5555555555555556,
              "#d8576b"
             ],
             [
              0.6666666666666666,
              "#ed7953"
             ],
             [
              0.7777777777777778,
              "#fb9f3a"
             ],
             [
              0.8888888888888888,
              "#fdca26"
             ],
             [
              1,
              "#f0f921"
             ]
            ],
            "type": "heatmapgl"
           }
          ],
          "histogram": [
           {
            "marker": {
             "pattern": {
              "fillmode": "overlay",
              "size": 10,
              "solidity": 0.2
             }
            },
            "type": "histogram"
           }
          ],
          "histogram2d": [
           {
            "colorbar": {
             "outlinewidth": 0,
             "ticks": ""
            },
            "colorscale": [
             [
              0,
              "#0d0887"
             ],
             [
              0.1111111111111111,
              "#46039f"
             ],
             [
              0.2222222222222222,
              "#7201a8"
             ],
             [
              0.3333333333333333,
              "#9c179e"
             ],
             [
              0.4444444444444444,
              "#bd3786"
             ],
             [
              0.5555555555555556,
              "#d8576b"
             ],
             [
              0.6666666666666666,
              "#ed7953"
             ],
             [
              0.7777777777777778,
              "#fb9f3a"
             ],
             [
              0.8888888888888888,
              "#fdca26"
             ],
             [
              1,
              "#f0f921"
             ]
            ],
            "type": "histogram2d"
           }
          ],
          "histogram2dcontour": [
           {
            "colorbar": {
             "outlinewidth": 0,
             "ticks": ""
            },
            "colorscale": [
             [
              0,
              "#0d0887"
             ],
             [
              0.1111111111111111,
              "#46039f"
             ],
             [
              0.2222222222222222,
              "#7201a8"
             ],
             [
              0.3333333333333333,
              "#9c179e"
             ],
             [
              0.4444444444444444,
              "#bd3786"
             ],
             [
              0.5555555555555556,
              "#d8576b"
             ],
             [
              0.6666666666666666,
              "#ed7953"
             ],
             [
              0.7777777777777778,
              "#fb9f3a"
             ],
             [
              0.8888888888888888,
              "#fdca26"
             ],
             [
              1,
              "#f0f921"
             ]
            ],
            "type": "histogram2dcontour"
           }
          ],
          "mesh3d": [
           {
            "colorbar": {
             "outlinewidth": 0,
             "ticks": ""
            },
            "type": "mesh3d"
           }
          ],
          "parcoords": [
           {
            "line": {
             "colorbar": {
              "outlinewidth": 0,
              "ticks": ""
             }
            },
            "type": "parcoords"
           }
          ],
          "pie": [
           {
            "automargin": true,
            "type": "pie"
           }
          ],
          "scatter": [
           {
            "marker": {
             "colorbar": {
              "outlinewidth": 0,
              "ticks": ""
             }
            },
            "type": "scatter"
           }
          ],
          "scatter3d": [
           {
            "line": {
             "colorbar": {
              "outlinewidth": 0,
              "ticks": ""
             }
            },
            "marker": {
             "colorbar": {
              "outlinewidth": 0,
              "ticks": ""
             }
            },
            "type": "scatter3d"
           }
          ],
          "scattercarpet": [
           {
            "marker": {
             "colorbar": {
              "outlinewidth": 0,
              "ticks": ""
             }
            },
            "type": "scattercarpet"
           }
          ],
          "scattergeo": [
           {
            "marker": {
             "colorbar": {
              "outlinewidth": 0,
              "ticks": ""
             }
            },
            "type": "scattergeo"
           }
          ],
          "scattergl": [
           {
            "marker": {
             "colorbar": {
              "outlinewidth": 0,
              "ticks": ""
             }
            },
            "type": "scattergl"
           }
          ],
          "scattermapbox": [
           {
            "marker": {
             "colorbar": {
              "outlinewidth": 0,
              "ticks": ""
             }
            },
            "type": "scattermapbox"
           }
          ],
          "scatterpolar": [
           {
            "marker": {
             "colorbar": {
              "outlinewidth": 0,
              "ticks": ""
             }
            },
            "type": "scatterpolar"
           }
          ],
          "scatterpolargl": [
           {
            "marker": {
             "colorbar": {
              "outlinewidth": 0,
              "ticks": ""
             }
            },
            "type": "scatterpolargl"
           }
          ],
          "scatterternary": [
           {
            "marker": {
             "colorbar": {
              "outlinewidth": 0,
              "ticks": ""
             }
            },
            "type": "scatterternary"
           }
          ],
          "surface": [
           {
            "colorbar": {
             "outlinewidth": 0,
             "ticks": ""
            },
            "colorscale": [
             [
              0,
              "#0d0887"
             ],
             [
              0.1111111111111111,
              "#46039f"
             ],
             [
              0.2222222222222222,
              "#7201a8"
             ],
             [
              0.3333333333333333,
              "#9c179e"
             ],
             [
              0.4444444444444444,
              "#bd3786"
             ],
             [
              0.5555555555555556,
              "#d8576b"
             ],
             [
              0.6666666666666666,
              "#ed7953"
             ],
             [
              0.7777777777777778,
              "#fb9f3a"
             ],
             [
              0.8888888888888888,
              "#fdca26"
             ],
             [
              1,
              "#f0f921"
             ]
            ],
            "type": "surface"
           }
          ],
          "table": [
           {
            "cells": {
             "fill": {
              "color": "#EBF0F8"
             },
             "line": {
              "color": "white"
             }
            },
            "header": {
             "fill": {
              "color": "#C8D4E3"
             },
             "line": {
              "color": "white"
             }
            },
            "type": "table"
           }
          ]
         },
         "layout": {
          "annotationdefaults": {
           "arrowcolor": "#2a3f5f",
           "arrowhead": 0,
           "arrowwidth": 1
          },
          "autotypenumbers": "strict",
          "coloraxis": {
           "colorbar": {
            "outlinewidth": 0,
            "ticks": ""
           }
          },
          "colorscale": {
           "diverging": [
            [
             0,
             "#8e0152"
            ],
            [
             0.1,
             "#c51b7d"
            ],
            [
             0.2,
             "#de77ae"
            ],
            [
             0.3,
             "#f1b6da"
            ],
            [
             0.4,
             "#fde0ef"
            ],
            [
             0.5,
             "#f7f7f7"
            ],
            [
             0.6,
             "#e6f5d0"
            ],
            [
             0.7,
             "#b8e186"
            ],
            [
             0.8,
             "#7fbc41"
            ],
            [
             0.9,
             "#4d9221"
            ],
            [
             1,
             "#276419"
            ]
           ],
           "sequential": [
            [
             0,
             "#0d0887"
            ],
            [
             0.1111111111111111,
             "#46039f"
            ],
            [
             0.2222222222222222,
             "#7201a8"
            ],
            [
             0.3333333333333333,
             "#9c179e"
            ],
            [
             0.4444444444444444,
             "#bd3786"
            ],
            [
             0.5555555555555556,
             "#d8576b"
            ],
            [
             0.6666666666666666,
             "#ed7953"
            ],
            [
             0.7777777777777778,
             "#fb9f3a"
            ],
            [
             0.8888888888888888,
             "#fdca26"
            ],
            [
             1,
             "#f0f921"
            ]
           ],
           "sequentialminus": [
            [
             0,
             "#0d0887"
            ],
            [
             0.1111111111111111,
             "#46039f"
            ],
            [
             0.2222222222222222,
             "#7201a8"
            ],
            [
             0.3333333333333333,
             "#9c179e"
            ],
            [
             0.4444444444444444,
             "#bd3786"
            ],
            [
             0.5555555555555556,
             "#d8576b"
            ],
            [
             0.6666666666666666,
             "#ed7953"
            ],
            [
             0.7777777777777778,
             "#fb9f3a"
            ],
            [
             0.8888888888888888,
             "#fdca26"
            ],
            [
             1,
             "#f0f921"
            ]
           ]
          },
          "colorway": [
           "#636efa",
           "#EF553B",
           "#00cc96",
           "#ab63fa",
           "#FFA15A",
           "#19d3f3",
           "#FF6692",
           "#B6E880",
           "#FF97FF",
           "#FECB52"
          ],
          "font": {
           "color": "#2a3f5f"
          },
          "geo": {
           "bgcolor": "white",
           "lakecolor": "white",
           "landcolor": "#E5ECF6",
           "showlakes": true,
           "showland": true,
           "subunitcolor": "white"
          },
          "hoverlabel": {
           "align": "left"
          },
          "hovermode": "closest",
          "mapbox": {
           "style": "light"
          },
          "paper_bgcolor": "white",
          "plot_bgcolor": "#E5ECF6",
          "polar": {
           "angularaxis": {
            "gridcolor": "white",
            "linecolor": "white",
            "ticks": ""
           },
           "bgcolor": "#E5ECF6",
           "radialaxis": {
            "gridcolor": "white",
            "linecolor": "white",
            "ticks": ""
           }
          },
          "scene": {
           "xaxis": {
            "backgroundcolor": "#E5ECF6",
            "gridcolor": "white",
            "gridwidth": 2,
            "linecolor": "white",
            "showbackground": true,
            "ticks": "",
            "zerolinecolor": "white"
           },
           "yaxis": {
            "backgroundcolor": "#E5ECF6",
            "gridcolor": "white",
            "gridwidth": 2,
            "linecolor": "white",
            "showbackground": true,
            "ticks": "",
            "zerolinecolor": "white"
           },
           "zaxis": {
            "backgroundcolor": "#E5ECF6",
            "gridcolor": "white",
            "gridwidth": 2,
            "linecolor": "white",
            "showbackground": true,
            "ticks": "",
            "zerolinecolor": "white"
           }
          },
          "shapedefaults": {
           "line": {
            "color": "#2a3f5f"
           }
          },
          "ternary": {
           "aaxis": {
            "gridcolor": "white",
            "linecolor": "white",
            "ticks": ""
           },
           "baxis": {
            "gridcolor": "white",
            "linecolor": "white",
            "ticks": ""
           },
           "bgcolor": "#E5ECF6",
           "caxis": {
            "gridcolor": "white",
            "linecolor": "white",
            "ticks": ""
           }
          },
          "title": {
           "x": 0.05
          },
          "xaxis": {
           "automargin": true,
           "gridcolor": "white",
           "linecolor": "white",
           "ticks": "",
           "title": {
            "standoff": 15
           },
           "zerolinecolor": "white",
           "zerolinewidth": 2
          },
          "yaxis": {
           "automargin": true,
           "gridcolor": "white",
           "linecolor": "white",
           "ticks": "",
           "title": {
            "standoff": 15
           },
           "zerolinecolor": "white",
           "zerolinewidth": 2
          }
         }
        },
        "title": {
         "text": "F1 score"
        },
        "xaxis": {
         "autorange": true,
         "range": [
          0,
          20
         ],
         "title": {
          "text": "Strain Ratio"
         },
         "type": "category"
        },
        "yaxis": {
         "autorange": true,
         "range": [
          0.20833333333333334,
          1.0416666666666667
         ],
         "title": {
          "text": "F1"
         },
         "type": "linear"
        }
       }
      },
      "image/png": "[encoded data removed]",
      "text/html": [
       "<div>                            <div id=\"1399fb49-f13f-4676-a78d-69fc39ab60b4\" class=\"plotly-graph-div\" style=\"height:525px; width:100%;\"></div>            <script type=\"text/javascript\">                require([\"plotly\"], function(Plotly) {                    window.PLOTLYENV=window.PLOTLYENV || {};                                    if (document.getElementById(\"1399fb49-f13f-4676-a78d-69fc39ab60b4\")) {                    Plotly.newPlot(                        \"1399fb49-f13f-4676-a78d-69fc39ab60b4\",                        [{\"mode\":\"lines\",\"x\":[\"0100\",\"0595\",\"1000\",\"1090\",\"1585\",\"2080\",\"2575\",\"3070\",\"3565\",\"4060\",\"4555\",\"5050\",\"5545\",\"6040\",\"6535\",\"7030\",\"7525\",\"8020\",\"8515\",\"9010\",\"9505\"],\"y\":[0.5714285714285715,0.6,1.0,0.6,0.923076923076923,0.6,0.8333333333333333,0.6,0.6,0.25,0.4444444444444445,0.6,0.6,0.6,0.8333333333333333,0.6,0.923076923076923,0.923076923076923,0.923076923076923,0.6,0.6],\"type\":\"scatter\"}],                        {\"template\":{\"data\":{\"bar\":[{\"error_x\":{\"color\":\"#2a3f5f\"},\"error_y\":{\"color\":\"#2a3f5f\"},\"marker\":{\"line\":{\"color\":\"#E5ECF6\",\"width\":0.5},\"pattern\":{\"fillmode\":\"overlay\",\"size\":10,\"solidity\":0.2}},\"type\":\"bar\"}],\"barpolar\":[{\"marker\":{\"line\":{\"color\":\"#E5ECF6\",\"width\":0.5},\"pattern\":{\"fillmode\":\"overlay\",\"size\":10,\"solidity\":0.2}},\"type\":\"barpolar\"}],\"carpet\":[{\"aaxis\":{\"endlinecolor\":\"#2a3f5f\",\"gridcolor\":\"white\",\"linecolor\":\"white\",\"minorgridcolor\":\"white\",\"startlinecolor\":\"#2a3f5f\"},\"baxis\":{\"endlinecolor\":\"#2a3f5f\",\"gridcolor\":\"white\",\"linecolor\":\"white\",\"minorgridcolor\":\"white\",\"startlinecolor\":\"#2a3f5f\"},\"type\":\"carpet\"}],\"choropleth\":[{\"colorbar\":{\"outlinewidth\":0,\"ticks\":\"\"},\"type\":\"choropleth\"}],\"contour\":[{\"colorbar\":{\"outlinewidth\":0,\"ticks\":\"\"},\"colorscale\":[[0.0,\"#0d0887\"],[0.1111111111111111,\"#46039f\"],[0.2222222222222222,\"#7201a8\"],[0.3333333333333333,\"#9c179e\"],[0.4444444444444444,\"#bd3786\"],[0.5555555555555556,\"#d8576b\"],[0.6666666666666666,\"#ed7953\"],[0.7777777777777778,\"#fb9f3a\"],[0.8888888888888888,\"#fdca26\"],[1.0,\"#f0f921\"]],\"type\":\"contour\"}],\"contourcarpet\":[{\"colorbar\":{\"outlinewidth\":0,\"ticks\":\"\"},\"type\":\"contourcarpet\"}],\"heatmap\":[{\"colorbar\":{\"outlinewidth\":0,\"ticks\":\"\"},\"colorscale\":[[0.0,\"#0d0887\"],[0.1111111111111111,\"#46039f\"],[0.2222222222222222,\"#7201a8\"],[0.3333333333333333,\"#9c179e\"],[0.4444444444444444,\"#bd3786\"],[0.5555555555555556,\"#d8576b\"],[0.6666666666666666,\"#ed7953\"],[0.7777777777777778,\"#fb9f3a\"],[0.8888888888888888,\"#fdca26\"],[1.0,\"#f0f921\"]],\"type\":\"heatmap\"}],\"heatmapgl\":[{\"colorbar\":{\"outlinewidth\":0,\"ticks\":\"\"},\"colorscale\":[[0.0,\"#0d0887\"],[0.1111111111111111,\"#46039f\"],[0.2222222222222222,\"#7201a8\"],[0.3333333333333333,\"#9c179e\"],[0.4444444444444444,\"#bd3786\"],[0.5555555555555556,\"#d8576b\"],[0.6666666666666666,\"#ed7953\"],[0.7777777777777778,\"#fb9f3a\"],[0.8888888888888888,\"#fdca26\"],[1.0,\"#f0f921\"]],\"type\":\"heatmapgl\"}],\"histogram\":[{\"marker\":{\"pattern\":{\"fillmode\":\"overlay\",\"size\":10,\"solidity\":0.2}},\"type\":\"histogram\"}],\"histogram2d\":[{\"colorbar\":{\"outlinewidth\":0,\"ticks\":\"\"},\"colorscale\":[[0.0,\"#0d0887\"],[0.1111111111111111,\"#46039f\"],[0.2222222222222222,\"#7201a8\"],[0.3333333333333333,\"#9c179e\"],[0.4444444444444444,\"#bd3786\"],[0.5555555555555556,\"#d8576b\"],[0.6666666666666666,\"#ed7953\"],[0.7777777777777778,\"#fb9f3a\"],[0.8888888888888888,\"#fdca26\"],[1.0,\"#f0f921\"]],\"type\":\"histogram2d\"}],\"histogram2dcontour\":[{\"colorbar\":{\"outlinewidth\":0,\"ticks\":\"\"},\"colorscale\":[[0.0,\"#0d0887\"],[0.1111111111111111,\"#46039f\"],[0.2222222222222222,\"#7201a8\"],[0.3333333333333333,\"#9c179e\"],[0.4444444444444444,\"#bd3786\"],[0.5555555555555556,\"#d8576b\"],[0.6666666666666666,\"#ed7953\"],[0.7777777777777778,\"#fb9f3a\"],[0.8888888888888888,\"#fdca26\"],[1.0,\"#f0f921\"]],\"type\":\"histogram2dcontour\"}],\"mesh3d\":[{\"colorbar\":{\"outlinewidth\":0,\"ticks\":\"\"},\"type\":\"mesh3d\"}],\"parcoords\":[{\"line\":{\"colorbar\":{\"outlinewidth\":0,\"ticks\":\"\"}},\"type\":\"parcoords\"}],\"pie\":[{\"automargin\":true,\"type\":\"pie\"}],\"scatter\":[{\"marker\":{\"colorbar\":{\"outlinewidth\":0,\"ticks\":\"\"}},\"type\":\"scatter\"}],\"scatter3d\":[{\"line\":{\"colorbar\":{\"outlinewidth\":0,\"ticks\":\"\"}},\"marker\":{\"colorbar\":{\"outlinewidth\":0,\"ticks\":\"\"}},\"type\":\"scatter3d\"}],\"scattercarpet\":[{\"marker\":{\"colorbar\":{\"outlinewidth\":0,\"ticks\":\"\"}},\"type\":\"scattercarpet\"}],\"scattergeo\":[{\"marker\":{\"colorbar\":{\"outlinewidth\":0,\"ticks\":\"\"}},\"type\":\"scattergeo\"}],\"scattergl\":[{\"marker\":{\"colorbar\":{\"outlinewidth\":0,\"ticks\":\"\"}},\"type\":\"scattergl\"}],\"scattermapbox\":[{\"marker\":{\"colorbar\":{\"outlinewidth\":0,\"ticks\":\"\"}},\"type\":\"scattermapbox\"}],\"scatterpolar\":[{\"marker\":{\"colorbar\":{\"outlinewidth\":0,\"ticks\":\"\"}},\"type\":\"scatterpolar\"}],\"scatterpolargl\":[{\"marker\":{\"colorbar\":{\"outlinewidth\":0,\"ticks\":\"\"}},\"type\":\"scatterpolargl\"}],\"scatterternary\":[{\"marker\":{\"colorbar\":{\"outlinewidth\":0,\"ticks\":\"\"}},\"type\":\"scatterternary\"}],\"surface\":[{\"colorbar\":{\"outlinewidth\":0,\"ticks\":\"\"},\"colorscale\":[[0.0,\"#0d0887\"],[0.1111111111111111,\"#46039f\"],[0.2222222222222222,\"#7201a8\"],[0.3333333333333333,\"#9c179e\"],[0.4444444444444444,\"#bd3786\"],[0.5555555555555556,\"#d8576b\"],[0.6666666666666666,\"#ed7953\"],[0.7777777777777778,\"#fb9f3a\"],[0.8888888888888888,\"#fdca26\"],[1.0,\"#f0f921\"]],\"type\":\"surface\"}],\"table\":[{\"cells\":{\"fill\":{\"color\":\"#EBF0F8\"},\"line\":{\"color\":\"white\"}},\"header\":{\"fill\":{\"color\":\"#C8D4E3\"},\"line\":{\"color\":\"white\"}},\"type\":\"table\"}]},\"layout\":{\"annotationdefaults\":{\"arrowcolor\":\"#2a3f5f\",\"arrowhead\":0,\"arrowwidth\":1},\"autotypenumbers\":\"strict\",\"coloraxis\":{\"colorbar\":{\"outlinewidth\":0,\"ticks\":\"\"}},\"colorscale\":{\"diverging\":[[0,\"#8e0152\"],[0.1,\"#c51b7d\"],[0.2,\"#de77ae\"],[0.3,\"#f1b6da\"],[0.4,\"#fde0ef\"],[0.5,\"#f7f7f7\"],[0.6,\"#e6f5d0\"],[0.7,\"#b8e186\"],[0.8,\"#7fbc41\"],[0.9,\"#4d9221\"],[1,\"#276419\"]],\"sequential\":[[0.0,\"#0d0887\"],[0.1111111111111111,\"#46039f\"],[0.2222222222222222,\"#7201a8\"],[0.3333333333333333,\"#9c179e\"],[0.4444444444444444,\"#bd3786\"],[0.5555555555555556,\"#d8576b\"],[0.6666666666666666,\"#ed7953\"],[0.7777777777777778,\"#fb9f3a\"],[0.8888888888888888,\"#fdca26\"],[1.0,\"#f0f921\"]],\"sequentialminus\":[[0.0,\"#0d0887\"],[0.1111111111111111,\"#46039f\"],[0.2222222222222222,\"#7201a8\"],[0.3333333333333333,\"#9c179e\"],[0.4444444444444444,\"#bd3786\"],[0.5555555555555556,\"#d8576b\"],[0.6666666666666666,\"#ed7953\"],[0.7777777777777778,\"#fb9f3a\"],[0.8888888888888888,\"#fdca26\"],[1.0,\"#f0f921\"]]},\"colorway\":[\"#636efa\",\"#EF553B\",\"#00cc96\",\"#ab63fa\",\"#FFA15A\",\"#19d3f3\",\"#FF6692\",\"#B6E880\",\"#FF97FF\",\"#FECB52\"],\"font\":{\"color\":\"#2a3f5f\"},\"geo\":{\"bgcolor\":\"white\",\"lakecolor\":\"white\",\"landcolor\":\"#E5ECF6\",\"showlakes\":true,\"showland\":true,\"subunitcolor\":\"white\"},\"hoverlabel\":{\"align\":\"left\"},\"hovermode\":\"closest\",\"mapbox\":{\"style\":\"light\"},\"paper_bgcolor\":\"white\",\"plot_bgcolor\":\"#E5ECF6\",\"polar\":{\"angularaxis\":{\"gridcolor\":\"white\",\"linecolor\":\"white\",\"ticks\":\"\"},\"bgcolor\":\"#E5ECF6\",\"radialaxis\":{\"gridcolor\":\"white\",\"linecolor\":\"white\",\"ticks\":\"\"}},\"scene\":{\"xaxis\":{\"backgroundcolor\":\"#E5ECF6\",\"gridcolor\":\"white\",\"gridwidth\":2,\"linecolor\":\"white\",\"showbackground\":true,\"ticks\":\"\",\"zerolinecolor\":\"white\"},\"yaxis\":{\"backgroundcolor\":\"#E5ECF6\",\"gridcolor\":\"white\",\"gridwidth\":2,\"linecolor\":\"white\",\"showbackground\":true,\"ticks\":\"\",\"zerolinecolor\":\"white\"},\"zaxis\":{\"backgroundcolor\":\"#E5ECF6\",\"gridcolor\":\"white\",\"gridwidth\":2,\"linecolor\":\"white\",\"showbackground\":true,\"ticks\":\"\",\"zerolinecolor\":\"white\"}},\"shapedefaults\":{\"line\":{\"color\":\"#2a3f5f\"}},\"ternary\":{\"aaxis\":{\"gridcolor\":\"white\",\"linecolor\":\"white\",\"ticks\":\"\"},\"baxis\":{\"gridcolor\":\"white\",\"linecolor\":\"white\",\"ticks\":\"\"},\"bgcolor\":\"#E5ECF6\",\"caxis\":{\"gridcolor\":\"white\",\"linecolor\":\"white\",\"ticks\":\"\"}},\"title\":{\"x\":0.05},\"xaxis\":{\"automargin\":true,\"gridcolor\":\"white\",\"linecolor\":\"white\",\"ticks\":\"\",\"title\":{\"standoff\":15},\"zerolinecolor\":\"white\",\"zerolinewidth\":2},\"yaxis\":{\"automargin\":true,\"gridcolor\":\"white\",\"linecolor\":\"white\",\"ticks\":\"\",\"title\":{\"standoff\":15},\"zerolinecolor\":\"white\",\"zerolinewidth\":2}}},\"font\":{\"family\":\"Courier New, monospace\",\"size\":18,\"color\":\"RebeccaPurple\"},\"title\":{\"text\":\"F1 score\"},\"xaxis\":{\"title\":{\"text\":\"Strain Ratio\"}},\"yaxis\":{\"title\":{\"text\":\"F1\"}},\"legend\":{\"title\":{\"text\":\"\"}}},                        {\"responsive\": true}                    ).then(function(){\n",
       "                            \n",
       "var gd = document.getElementById('1399fb49-f13f-4676-a78d-69fc39ab60b4');\n",
       "var x = new MutationObserver(function (mutations, observer) {{\n",
       "        var display = window.getComputedStyle(gd).display;\n",
       "        if (!display || display === 'none') {{\n",
       "            console.log([gd, 'removed!']);\n",
       "            Plotly.purge(gd);\n",
       "            observer.disconnect();\n",
       "        }}\n",
       "}});\n",
       "\n",
       "// Listen for the removal of the full notebook cells\n",
       "var notebookContainer = gd.closest('#notebook-container');\n",
       "if (notebookContainer) {{\n",
       "    x.observe(notebookContainer, {childList: true});\n",
       "}}\n",
       "\n",
       "// Listen for the clearing of the current output cell\n",
       "var outputEl = gd.closest('.output');\n",
       "if (outputEl) {{\n",
       "    x.observe(outputEl, {childList: true});\n",
       "}}\n",
       "\n",
       "                        })                };                });            </script>        </div>"
      ]
     },
     "metadata": {},
     "output_type": "display_data"
    }
   ],
   "source": [
    "def plot_f1_bar(ratio, f1):\n",
    "    fig = go.Figure()\n",
    "    fig.add_trace(go.Scatter(x=ratio ,y=f1, mode='lines',))\n",
    "    \n",
    "    fig.update_layout(\n",
    "        title=\"F1 score\",\n",
    "        xaxis_title=\"Strain Ratio\",\n",
    "        yaxis_title=\"F1\",\n",
    "        legend_title=\"\",\n",
    "        font=dict(\n",
    "            family=\"Courier New, monospace\",\n",
    "            size=18,\n",
    "            color=\"RebeccaPurple\"\n",
    "        )\n",
    "    )\n",
    "\n",
    "    fig.show()\n",
    "\n",
    "ratio, f1 = confusion_mat(NAME_FILE=NAME_FILE, JSON_FILE_PATH=JSON_FILE_PATH, VCF_FILE_PATH=VCF_FILE_PATH)    \n",
    "\n",
    "plot_f1_bar(ratio, f1)"
   ]
  },
  {
   "cell_type": "code",
   "execution_count": 88,
   "metadata": {},
   "outputs": [],
   "source": [
    "def plot_gm(gm,data):\n",
    "    gm.covariances_[0][0][0]\n",
    "    std0 = np.sqrt(gm.covariances_[0][0][0]) #(n_components, n_features, n_features)\n",
    "    print('std0:',std0)\n",
    "    mu0 = gm.means_[0][0]\n",
    "    print(mu0)\n",
    "    std1 = np.sqrt(gm.covariances_[1][0][0]) #component 1?\n",
    "    print('std1:',std1)\n",
    "    mu1 = gm.means_[1][0]\n",
    "    print(mu1)\n",
    "    x = np.linspace(0, 1, 100)\n",
    "    p0 = norm.pdf(x, mu0, std0)\n",
    "    p1 = norm.pdf(x, mu1, std1)\n",
    "    fig = make_subplots(specs=[[{\"secondary_y\": True}]])\n",
    "    fig.add_trace(go.Histogram(x=[x[0] for x in data]),secondary_y=False)\n",
    "    fig.add_trace(go.Scatter(x=x, y=p0, mode='lines'),secondary_y=True)\n",
    "    fig.add_trace(go.Scatter(x=x, y=p1, mode='lines'),secondary_y=True)\n",
    "    fig.show()"
   ]
  },
  {
   "cell_type": "code",
   "execution_count": 89,
   "metadata": {},
   "outputs": [],
   "source": [
    "def plot_gaussian():\n",
    "    pos = []\n",
    "    freqs = []\n",
    "    with open('mix_infection.csv', 'w') as f:\n",
    "        subprocess.run(\"bcftools view -c 1 -m2 -M2 -T ^new_exclusion.bed %s | bcftools query -f '%%POS\\\\t%%REF\\\\t%%ALT[\\\\t%%GT\\\\t%%AD\\\\n]'\" % vcf_file, shell=True, stdout=f, text=True)\n",
    "\n",
    "#count how many column there is in the ROAO_proportion.csv file this is needed in order to read the csv in a a panda dataframe\n",
    "\n",
    "    with open('mix_infection.csv', 'r') as f:\n",
    "        for l in f:\n",
    "            row = l.strip().split()\n",
    "            ads = [int(x) for x in row[4].split(\",\")]\n",
    "            afs = [x/sum(ads) for x in ads]\n",
    "            pos.append(int(row[0]))\n",
    "            freqs.append([afs[1]])\n",
    "\n",
    "        mean_ = np.mean([x[0] for x in freqs])\n",
    "        std_ = np.std([x[0] for x in freqs])\n",
    "        print('mean:', mean_)\n",
    "        print('std:', std_)\n",
    "        print('2sd up', mean_-2*std_)\n",
    "        print('2sd down', mean_+2*std_)\n",
    "\n",
    "        print('skew:', skew([x[0] for x in freqs]))\n",
    "        print('kurtosis:', kurtosis([x[0] for x in freqs]))\n",
    "\n",
    "\n",
    "        fig = make_subplots()\n",
    "        fig.add_trace(go.Histogram(x=[x[0] for x in freqs]),secondary_y=False)\n",
    "        fig.add_vline(mean_-2*std_, line_dash='dash',line_color='red')\n",
    "        fig.add_vline(mean_+2*std_, line_dash='dash',line_color='red')\n",
    "\n",
    "        fig.show()\n",
    "\n"
   ]
  },
  {
   "cell_type": "code",
   "execution_count": 90,
   "metadata": {},
   "outputs": [
    {
     "name": "stdout",
     "output_type": "stream",
     "text": [
      "mean: 0.9536660924885284\n",
      "std: 0.16794268617136177\n",
      "2sd up 0.6177807201458049\n",
      "2sd down 1.289551464831252\n",
      "skew: -3.8705171384692942\n",
      "kurtosis: 13.676365842600077\n"
     ]
    },
    {
     "data": {
      "application/vnd.plotly.v1+json": {
       "config": {
        "plotlyServerURL": "https://plot.ly"
       },
       "data": [
        {
         "type": "histogram",
         "x": [
          0.9941176470588236,
          1,
          1,
          1,
          0.9906976744186047,
          1,
          1,
          0.9888268156424581,
          1,
          1,
          0.9931506849315068,
          1,
          1,
          0.9872611464968153,
          1,
          1,
          1,
          0.9927536231884058,
          0.993006993006993,
          0.9782608695652174,
          0.993103448275862,
          1,
          1,
          0.9844961240310077,
          0.5416666666666666,
          1,
          0.9834254143646409,
          1,
          1,
          1,
          1,
          0.9444444444444444,
          1,
          0.9954545454545455,
          0.9922480620155039,
          1,
          0.993006993006993,
          1,
          0.9884393063583815,
          0.9530201342281879,
          0.9938271604938271,
          1,
          1,
          0.981042654028436,
          0.989010989010989,
          1,
          1,
          1,
          0.9712230215827338,
          1,
          1,
          1,
          1,
          1,
          1,
          1,
          1,
          0.9887005649717514,
          1,
          1,
          0.25,
          1,
          0.9939393939393939,
          1,
          0.9285714285714286,
          1,
          0.26666666666666666,
          1,
          0.9745222929936306,
          1,
          1,
          1,
          1,
          1,
          0.9851851851851852,
          1,
          1,
          1,
          1,
          1,
          1,
          0.9870967741935484,
          1,
          1,
          0.9932432432432432,
          1,
          0.9957627118644068,
          1,
          0.9851851851851852,
          1,
          0.9904761904761905,
          1,
          1,
          1,
          1,
          0.9929577464788732,
          1,
          0.9897435897435898,
          1,
          1,
          1,
          1,
          1,
          1,
          0.9836956521739131,
          1,
          1,
          1,
          1,
          1,
          0.983957219251337,
          0.9933774834437086,
          1,
          1,
          1,
          0.9746835443037974,
          1,
          1,
          0.9857142857142858,
          1,
          1,
          0.9844961240310077,
          1,
          1,
          1,
          0.9872611464968153,
          1,
          0.9939759036144579,
          0.9929577464788732,
          1,
          1,
          1,
          1,
          1,
          1,
          0.9947916666666666,
          1,
          1,
          1,
          1,
          0.6666666666666666,
          1,
          0.9939393939393939,
          1,
          1,
          0.9333333333333333,
          0.9827586206896551,
          1,
          1,
          1,
          1,
          1,
          1,
          1,
          1,
          1,
          1,
          0.9883040935672515,
          1,
          1,
          1,
          1,
          1,
          1,
          1,
          1,
          0.9942857142857143,
          1,
          1,
          1,
          1,
          1,
          1,
          1,
          0.9846153846153847,
          0.9929078014184397,
          1,
          0.2862903225806452,
          0.301255230125523,
          0.43278688524590164,
          0.3813559322033898,
          0.3881856540084388,
          0.28735632183908044,
          1,
          0.9934640522875817,
          1,
          1,
          1,
          1,
          1,
          0.978494623655914,
          1,
          0.9890710382513661,
          1,
          1,
          1,
          1,
          1,
          1,
          1,
          1,
          0.9949494949494949,
          0.9946524064171123,
          1,
          0.96,
          0.9775280898876404,
          1,
          1,
          0.9941520467836257,
          1,
          0.9834254143646409,
          1,
          1,
          1,
          1,
          0.9935897435897436,
          1,
          1,
          1,
          1,
          1,
          1,
          1,
          1,
          1,
          1,
          0.9935064935064936,
          1,
          1,
          0.9946236559139785,
          1,
          1,
          1,
          1,
          1,
          0.9822485207100592,
          1,
          0.9886363636363636,
          0.9915254237288136,
          0.9957983193277311,
          0.9954337899543378,
          1,
          0.9925373134328358,
          1,
          1,
          0.9869281045751634,
          1,
          0.99375,
          0.9886363636363636,
          0.9950248756218906,
          1,
          0.9939024390243902,
          0.9935064935064936,
          1,
          1,
          0.9932432432432432,
          1,
          0.9947916666666666,
          0.9823529411764705,
          0.9866666666666667,
          0.9662162162162162,
          0.9929577464788732,
          1,
          1,
          0.984,
          1,
          0.9935897435897436,
          1,
          0.9940119760479041,
          1,
          1,
          1,
          0.9485294117647058,
          1,
          1,
          1,
          1,
          0.9856459330143541,
          0.9935897435897436,
          0.9880239520958084,
          1,
          0.9813664596273292,
          1,
          0.9878048780487805,
          0.15384615384615385,
          1,
          0.9487179487179487,
          1,
          0.9836065573770492,
          1,
          1,
          1,
          0.9865470852017937,
          1,
          1,
          0.7262180974477959,
          0.15789473684210525,
          0.9942196531791907,
          1,
          0.13679245283018868,
          0.13425925925925927,
          0.1542056074766355,
          0.41132075471698115,
          0.3438914027149321,
          0.28761061946902655,
          0.2832618025751073,
          0.23893805309734514,
          0.21739130434782608,
          0.16379310344827586,
          0.14601769911504425,
          1,
          1,
          1,
          0.9940476190476191,
          1,
          1,
          1,
          1,
          0.9902912621359223,
          0.9935064935064936,
          1,
          1,
          0.9936708860759493,
          0.9747474747474747,
          0.9880952380952381,
          1,
          1,
          1,
          1,
          1,
          0.9933774834437086,
          1,
          1,
          1,
          0.9930555555555556,
          0.16363636363636364,
          1,
          1,
          0.9939393939393939,
          1,
          0.9940119760479041,
          1,
          1,
          1,
          1,
          1,
          1,
          1,
          1,
          1,
          1,
          1,
          1,
          0.9926470588235294,
          0.9876543209876543,
          1,
          1,
          1,
          1,
          1,
          1,
          1,
          0.9683544303797469,
          1,
          1,
          1,
          1,
          0.9798657718120806,
          1,
          0.98989898989899,
          0.989247311827957,
          0.994475138121547,
          1,
          0.9941176470588236,
          1,
          0.95,
          1,
          1,
          1,
          1,
          1,
          1,
          0.9916666666666667,
          0.9834254143646409,
          1,
          0.9887640449438202,
          1,
          0.9854014598540146,
          1,
          0.9883720930232558,
          1,
          1,
          0.9933333333333333,
          0.9947089947089947,
          1,
          0.1518987341772152,
          0.15021459227467812,
          0.11979166666666667,
          0.9880239520958084,
          1,
          1,
          1,
          1,
          0.9716312056737588,
          1,
          0.9887640449438202,
          1,
          1,
          1,
          1,
          1,
          1,
          1,
          1,
          1,
          0.9925925925925926,
          1,
          1,
          1,
          1,
          1,
          1,
          0.9840425531914894,
          1,
          0.9937888198757764,
          1,
          0.9943502824858758,
          0.9846153846153847,
          1,
          1,
          1,
          1,
          1,
          1,
          1,
          1,
          1,
          1,
          1,
          1,
          1,
          1,
          1,
          0.9942528735632183,
          1,
          0.9943502824858758,
          0.9857142857142858,
          1,
          1,
          1,
          1,
          1,
          1,
          1,
          1,
          1,
          0.9911504424778761,
          0.989247311827957,
          1,
          1,
          1,
          1,
          0.9928057553956835,
          1,
          1,
          1,
          1,
          1,
          1,
          1,
          0.9919354838709677,
          1,
          1,
          1,
          1,
          1,
          0.9830508474576272,
          1,
          0.9897959183673469,
          1,
          1,
          0.9895470383275261,
          1,
          1,
          1,
          1,
          0.9894179894179894,
          0.9940119760479041,
          1,
          1,
          1,
          1,
          1,
          1,
          1,
          1,
          0.9872611464968153,
          1,
          0.992,
          1,
          0.9885057471264368,
          0.9942857142857143,
          1,
          0.9940828402366864,
          0.994413407821229,
          1,
          0.9884393063583815,
          0.9911111111111112,
          1,
          0.9865771812080537,
          1,
          1,
          1,
          1,
          1,
          0.9833333333333333,
          1,
          1,
          1,
          0.9887005649717514,
          1,
          1,
          1,
          1,
          1,
          0.6,
          0.6666666666666666,
          0.6,
          0.9333333333333333,
          1,
          0.9727891156462585,
          1,
          1,
          1,
          0.9940828402366864,
          1,
          0.9545454545454546,
          0.9935483870967742,
          0.96,
          0.9935483870967742,
          1,
          0.9947643979057592,
          0.9939393939393939,
          1,
          1,
          1,
          1,
          1,
          1,
          0.9870967741935484,
          1,
          0.9787234042553191,
          1,
          1,
          0.9941176470588236,
          1,
          1,
          1,
          1,
          1,
          1,
          1,
          1,
          0.9931972789115646,
          0.9802631578947368,
          1,
          1,
          1,
          1,
          1,
          0.9868421052631579,
          0.9935483870967742,
          1,
          0.993006993006993,
          1,
          1,
          0.9950738916256158,
          1,
          1,
          0.9802631578947368,
          1,
          1,
          1,
          0.9882352941176471,
          1,
          1,
          1,
          1,
          1,
          1,
          1,
          1,
          1,
          0.11363636363636363,
          0.12222222222222222,
          0.13580246913580246,
          1,
          1,
          1,
          0.9900497512437811,
          0.9923664122137404,
          0.9927536231884058,
          1,
          0.98989898989899,
          0.9859154929577465,
          1,
          1,
          1,
          1,
          1,
          1,
          1,
          1,
          1,
          1,
          1,
          0.9867549668874173,
          0.9923664122137404,
          1,
          1,
          1,
          1,
          1,
          1,
          1,
          1,
          1,
          1,
          0.9893048128342246,
          0.9894179894179894,
          1,
          1,
          1,
          1,
          1,
          1,
          1,
          1,
          1,
          0.9950248756218906,
          0.9946236559139785,
          1,
          1,
          1,
          1,
          1,
          1,
          1,
          1,
          0.9879518072289156,
          0.9948453608247423,
          1,
          1,
          1,
          1,
          1,
          1,
          1,
          1,
          1,
          0.9890710382513661,
          1,
          0.9934640522875817,
          1,
          1,
          1,
          1,
          1,
          1,
          1,
          1,
          0.9949748743718593,
          0.9875776397515528,
          1,
          1,
          1,
          1,
          1,
          1,
          0.4817813765182186,
          0.4663677130044843,
          0.5047169811320755,
          0.4712230215827338,
          0.9847715736040609,
          1,
          1,
          1,
          1,
          1,
          0.9880952380952381,
          1,
          1,
          0.35344827586206895,
          1,
          1,
          1,
          1,
          0.9887005649717514,
          1,
          1,
          1,
          0.9825581395348837,
          1,
          0.9947368421052631,
          1,
          1,
          1,
          1,
          1,
          1,
          1,
          0.989247311827957,
          0.9885714285714285,
          1,
          1,
          1,
          1,
          1,
          0.6028368794326241,
          1,
          1,
          1,
          1,
          0.9911894273127754,
          1,
          1,
          1,
          0.9953917050691244,
          1,
          1,
          1,
          1,
          1,
          1,
          1,
          0.9939759036144579,
          0.9933333333333333,
          1,
          1,
          0.9663865546218487,
          0.9607843137254902,
          1,
          1,
          0.13636363636363635,
          0.9935483870967742,
          1,
          1,
          1,
          0.9926470588235294,
          1,
          0.9888268156424581,
          0.9827586206896551,
          1,
          0.9952830188679245,
          1,
          1,
          0.9918032786885246,
          1,
          0.9939393939393939,
          1,
          0.9717514124293786,
          0.9679144385026738,
          0.9867549668874173,
          0.9691358024691358,
          1,
          1,
          1,
          1,
          1,
          1,
          0.2916666666666667,
          0.4175257731958763,
          1,
          0.9761904761904762,
          1,
          1,
          1,
          1,
          1,
          1,
          1,
          0.9946524064171123,
          1,
          1,
          1,
          1,
          0.989247311827957,
          1,
          1,
          1,
          1,
          1,
          1,
          0.9900497512437811,
          0.9764705882352941,
          0.9944444444444445,
          1,
          1,
          1,
          1,
          1,
          1,
          0.9798657718120806,
          1,
          0.9923076923076923,
          1,
          1,
          1,
          0.9914529914529915,
          0.9950248756218906,
          1,
          0.995475113122172,
          0.9933333333333333,
          1,
          1,
          1,
          1,
          0.9938650306748467,
          0.9939024390243902,
          1,
          1,
          1,
          0.9871794871794872,
          1,
          1,
          1,
          1,
          0.9818181818181818,
          1,
          1,
          1,
          1,
          1,
          1,
          1,
          0.9868421052631579,
          1,
          0.9948717948717949,
          0.9791666666666666,
          1,
          1,
          0.9798657718120806,
          1,
          1,
          0.9423076923076923,
          1,
          1,
          1,
          1,
          1,
          1,
          1,
          1,
          1,
          1,
          0.9876543209876543,
          1,
          0.24324324324324326,
          1,
          1,
          1,
          1,
          1,
          1,
          1,
          0.9946524064171123,
          1,
          1,
          1,
          1,
          0.9883720930232558,
          1,
          1,
          1,
          1,
          1,
          1,
          0.9915254237288136,
          1,
          1,
          1,
          0.9942196531791907,
          1,
          0.985981308411215,
          1,
          1,
          0.987012987012987,
          0.9619047619047619,
          1,
          0.994535519125683,
          0.9900990099009901,
          1,
          1,
          1,
          0.9927007299270073,
          1,
          1,
          0.9947368421052631,
          1,
          1,
          1,
          1,
          1,
          1,
          0.9904761904761905,
          1,
          0.9939024390243902,
          1,
          1,
          0.9865771812080537,
          1,
          1,
          1,
          1,
          1,
          1,
          0.9885057471264368,
          1,
          1,
          0.11237785016286644,
          1,
          1,
          0.9837837837837838,
          1,
          0.9808917197452229,
          1,
          1,
          1,
          1,
          1,
          1,
          1,
          1,
          0.9848484848484849,
          1,
          0.9805825242718447,
          1,
          1,
          0.993006993006993,
          1,
          1,
          1,
          1,
          1,
          0.9930555555555556,
          1,
          1,
          1,
          1,
          0.7538461538461538,
          1,
          0.9896373056994818,
          1,
          1,
          1,
          1,
          1,
          1,
          1,
          1,
          1,
          0.6203703703703703,
          1,
          1,
          0.9901960784313726,
          1,
          0.9923076923076923,
          1,
          1,
          1,
          0.99375,
          1,
          1,
          0.9932885906040269,
          1,
          0.9931506849315068,
          0.98125,
          1,
          0.9939024390243902,
          1,
          0.9884393063583815,
          1,
          1,
          1,
          0.9946236559139785,
          0.9878048780487805,
          1,
          1,
          0.9904761904761905,
          1,
          0.989010989010989,
          0.7560975609756098,
          0.26903553299492383,
          1,
          1,
          0.9864864864864865,
          1,
          0.9847328244274809,
          1,
          1,
          0.6923076923076923,
          0.9895287958115183,
          1,
          1,
          1,
          0.9791666666666666,
          1,
          1,
          1,
          0.971830985915493,
          1,
          0.993421052631579,
          0.9813664596273292,
          0.9619565217391305,
          0.9928571428571429,
          0.9940828402366864,
          1,
          1,
          1,
          0.9938271604938271,
          0.984251968503937,
          1,
          1,
          1,
          1,
          1,
          1,
          0.9890710382513661,
          0.9947368421052631,
          1,
          0.9929577464788732,
          1,
          1,
          0.9883720930232558,
          1,
          1,
          1,
          0.9849624060150376,
          0.9931972789115646,
          0.9783549783549783,
          1,
          1,
          1,
          1,
          1,
          1,
          0.9894179894179894,
          1,
          1,
          0.27419354838709675,
          0.39375,
          0.3485915492957746,
          0.27380952380952384,
          0.2764227642276423,
          0.2682926829268293,
          1,
          1,
          1,
          0.9722222222222222,
          0.1282051282051282,
          0.5822368421052632,
          0.4528301886792453,
          0.42857142857142855,
          0.46866485013623976,
          0.4776536312849162,
          0.46629213483146065,
          0.46438746438746437,
          0.43373493975903615,
          0.45481049562682213,
          0.9859154929577465,
          1,
          1,
          1,
          1,
          1,
          1,
          0.9870967741935484,
          1,
          0.9947643979057592,
          1,
          1,
          1,
          1,
          1,
          1,
          1,
          1,
          1,
          1,
          1,
          1,
          1,
          1,
          1,
          1,
          1,
          1,
          1,
          1,
          1,
          1,
          0.9585798816568047,
          1,
          0.991869918699187,
          1,
          1,
          0.9819277108433735,
          1,
          1,
          1,
          1,
          1,
          1,
          1,
          1,
          1,
          1,
          0.975609756097561,
          0.9929577464788732,
          1,
          1,
          1,
          1,
          0.9928571428571429,
          1,
          1,
          1,
          1,
          1,
          1,
          1,
          1,
          1,
          1,
          1,
          1,
          0.9888888888888889,
          1,
          1,
          0.9850746268656716,
          1,
          1,
          1,
          0.9806451612903225,
          1,
          1,
          0.9875,
          0.9411764705882353,
          0.9946236559139785,
          1,
          0.9872611464968153,
          1,
          1,
          0.9703703703703703,
          1,
          0.9918032786885246,
          1,
          0.9764705882352941,
          0.9870967741935484,
          1,
          1,
          0.9881656804733728,
          1,
          0.9940476190476191,
          1,
          1,
          1,
          1,
          1,
          1,
          1,
          0.9642857142857143,
          1,
          0.7631578947368421,
          1,
          1,
          0.9623655913978495,
          0.9952153110047847,
          1,
          1,
          1,
          1,
          1,
          1,
          1,
          0.99375,
          1,
          0.99375,
          0.9923664122137404,
          1,
          0.9620253164556962,
          1,
          1,
          1,
          0.9873417721518988,
          0.9870967741935484,
          1,
          1,
          0.9948717948717949,
          0.9872611464968153,
          1,
          1,
          1,
          0.9942196531791907,
          1,
          1,
          1,
          1,
          1,
          0.9945652173913043,
          0.9932432432432432,
          1,
          1,
          1,
          0.9880239520958084,
          1,
          1,
          1,
          1,
          0.9942196531791907,
          0.9847328244274809,
          1,
          0.988950276243094,
          0.37202380952380953,
          0.2951388888888889,
          0.3151750972762646,
          0.25089605734767023,
          0.23015873015873015,
          0.2,
          0.15555555555555556,
          0.39545454545454545,
          0.42358078602620086,
          0.4307692307692308,
          0.4383561643835616,
          0.44537815126050423,
          0.4401114206128134,
          1,
          0.35094339622641507,
          0.3576923076923077,
          0.38235294117647056,
          0.9801324503311258,
          1,
          0.9941860465116279,
          0.9826589595375722,
          0.9878048780487805,
          0.984,
          0.9861111111111112,
          1,
          1,
          1,
          1,
          1,
          1,
          1,
          0.9748427672955975,
          1,
          1,
          1,
          1,
          1,
          1,
          1,
          0.9770114942528736,
          0.9935897435897436,
          1,
          0.9881656804733728,
          1,
          1,
          1,
          1,
          1,
          1,
          0.5948275862068966,
          0.09322033898305085,
          1,
          0.9897959183673469,
          0.9930555555555556,
          0.991869918699187,
          0.9923076923076923,
          1,
          1,
          1,
          0.984251968503937,
          1,
          1,
          1,
          1,
          0.12345679012345678,
          1,
          1,
          1,
          1,
          1,
          1,
          0.9870967741935484,
          1,
          0.9855072463768116,
          1,
          1,
          1,
          0.9945945945945946,
          1,
          1,
          1,
          1,
          1,
          0.9941176470588236,
          1,
          1,
          0.9933774834437086,
          1,
          1,
          0.9949494949494949,
          1,
          1,
          1,
          1,
          1,
          1,
          0.9878787878787879,
          0.9929577464788732,
          0.994475138121547,
          1,
          1,
          1,
          1,
          0.9748427672955975,
          1,
          1,
          1,
          1,
          1,
          1,
          0.9625,
          0.9938271604938271,
          1,
          1,
          1,
          1,
          0.987012987012987,
          1,
          0.9936305732484076,
          1,
          1,
          1,
          1,
          0.9944444444444445,
          1,
          1,
          1,
          1,
          1,
          0.9712643678160919,
          1,
          1,
          1,
          1,
          1,
          1,
          1,
          1,
          1,
          1,
          0.9953703703703703,
          1,
          1,
          0.9945945945945946,
          1,
          1,
          1,
          1,
          1,
          1,
          0.9741379310344828,
          0.9739130434782609,
          1,
          1,
          0.9940476190476191,
          1,
          1,
          1,
          1,
          1,
          1,
          1,
          1,
          0.9869281045751634,
          1,
          1,
          0.9883040935672515,
          1,
          0.9943181818181818,
          0.990909090909091,
          1,
          1,
          1,
          1,
          0.9882352941176471,
          1,
          1,
          1,
          1,
          0.9946808510638298,
          0.9881656804733728,
          1,
          1,
          1,
          1,
          0.9847328244274809,
          1,
          1,
          1,
          0.9778761061946902,
          1,
          1,
          0.990990990990991,
          1,
          1,
          1,
          1,
          0.9863945578231292,
          1,
          0.9867549668874173,
          1,
          0.664179104477612,
          0.288135593220339,
          1,
          1,
          1,
          1,
          0.9938650306748467,
          1,
          0.9915254237288136,
          0.9885057471264368,
          1,
          1,
          1,
          0.9813953488372092,
          1,
          1,
          0.9875,
          1,
          0.9933333333333333,
          1,
          0.989247311827957,
          1,
          1,
          1,
          1,
          1,
          1,
          1,
          0.9828571428571429,
          0.9823529411764705,
          0.9941176470588236,
          1,
          0.9763779527559056,
          1,
          0.9878787878787879,
          1,
          0.9647058823529412,
          0.9671052631578947,
          1,
          0.9950738916256158,
          0.983957219251337,
          1,
          0.99375,
          1,
          0.9937106918238994,
          0.9939759036144579,
          0.9836956521739131,
          1,
          1,
          1,
          0.9937888198757764,
          0.16216216216216217,
          1,
          1,
          1,
          0.9940828402366864,
          0.897196261682243,
          0.9935064935064936,
          1,
          1,
          0.967391304347826,
          0.9954545454545455,
          1,
          1,
          1,
          1,
          1,
          0.9897435897435898,
          1,
          1,
          1,
          1,
          1,
          1,
          1,
          1,
          0.9777777777777777,
          0.9772727272727273,
          1,
          0.9918032786885246,
          1,
          0.9844961240310077,
          1,
          0.9887640449438202,
          1,
          1,
          1,
          1,
          1,
          0.9941520467836257,
          1,
          1,
          1,
          1,
          1,
          1,
          1,
          1,
          1,
          0.9818181818181818,
          1,
          1,
          0.9651162790697675,
          0.8549618320610687,
          1,
          1,
          1,
          0.14,
          1,
          1,
          0.9805194805194806,
          1,
          1,
          0.9663461538461539,
          1,
          1,
          1,
          0.9951690821256038,
          1,
          0.9938271604938271,
          1,
          1,
          1,
          1,
          0.9948979591836735,
          1,
          1,
          1,
          1,
          0.9850746268656716,
          1,
          0.9893617021276596,
          0.989247311827957,
          0.9893617021276596,
          0.9856115107913669,
          1,
          1,
          0.9751552795031055,
          0.19254658385093168,
          0.17027027027027028,
          1,
          0.9953271028037384,
          0.9958677685950413,
          0.9961538461538462,
          1,
          0.9895833333333334,
          1,
          0.9844357976653697,
          1,
          1,
          1,
          1,
          1,
          1,
          0.9934640522875817,
          1,
          0.9736842105263158,
          1,
          1,
          1,
          1,
          1,
          0.9858156028368794,
          1,
          0.9878048780487805,
          0.9869281045751634,
          1,
          1,
          1,
          1,
          0.12359550561797752,
          1,
          1,
          0.696969696969697,
          0.1853932584269663,
          1,
          1,
          1,
          1,
          1,
          1,
          1,
          1,
          1,
          1,
          1,
          1,
          1,
          0.9939024390243902,
          1,
          1,
          0.9923664122137404,
          1,
          1,
          1,
          1,
          1,
          1,
          1,
          0.9881656804733728,
          1,
          0.994475138121547,
          1,
          1,
          1,
          1,
          0.993421052631579,
          1,
          0.9861111111111112,
          0.9938650306748467,
          1,
          1,
          1,
          0.988950276243094,
          1,
          0.9903381642512077,
          1,
          0.9847328244274809,
          1,
          1,
          0.9940828402366864,
          1,
          1,
          0.993421052631579,
          1,
          1,
          1,
          1,
          1,
          1,
          1,
          1,
          1,
          0.9712230215827338,
          1,
          0.9931506849315068,
          0.9949748743718593,
          1,
          0.9935483870967742,
          0.98,
          1,
          0.9933774834437086,
          1,
          1,
          1,
          0.9645390070921985,
          1,
          1,
          1,
          1,
          1,
          0.9958677685950413,
          1,
          0.9897959183673469,
          1,
          1,
          0.9900990099009901,
          1,
          1,
          0.9867549668874173,
          0.4240506329113924,
          0.4152542372881356,
          0.46153846153846156,
          0.9857142857142858,
          1,
          1,
          0.9714285714285714,
          0.9907407407407407,
          1,
          0.14814814814814814,
          0.16447368421052633,
          0.16181229773462782,
          0.15584415584415584,
          0.1830065359477124,
          0.26685393258426965,
          0.283987915407855,
          0.2844574780058651,
          0.2838283828382838,
          0.32802547770700635,
          1,
          1,
          1,
          1,
          1,
          1,
          0.9942528735632183,
          1,
          1,
          1,
          1,
          0.9827586206896551,
          0.9644970414201184,
          0.9924242424242424,
          1,
          1,
          1,
          1,
          1,
          0.9937106918238994,
          1,
          0.9929577464788732,
          1,
          0.9938271604938271,
          1,
          1,
          1,
          0.9935064935064936,
          1,
          0.9877300613496932,
          0.9942196531791907,
          1,
          1,
          0.9898477157360406,
          1,
          1,
          1,
          1,
          0.9645390070921985,
          0.9710982658959537,
          1,
          1,
          1,
          1,
          1,
          0.9933333333333333,
          1,
          0.9881656804733728,
          1,
          1,
          1,
          1,
          0.991869918699187,
          1,
          1,
          1,
          1,
          1,
          1,
          1,
          0.9925373134328358,
          0.9947089947089947,
          1,
          0.965034965034965,
          1,
          1,
          1,
          1,
          1,
          1,
          1,
          1,
          1,
          1,
          1,
          1,
          1,
          1,
          1,
          1,
          1,
          1,
          1,
          0.9878048780487805,
          0.9875,
          1,
          1,
          1,
          1,
          1,
          1,
          1,
          1,
          0.9764705882352941,
          1,
          1,
          1,
          1,
          1,
          1,
          1,
          1,
          0.9867549668874173,
          1,
          1,
          1,
          0.9919354838709677,
          1,
          0.9943502824858758,
          0.9886363636363636,
          1,
          1,
          0.992,
          0.9743589743589743,
          1,
          0.9888268156424581,
          1,
          1,
          1,
          1,
          1,
          1,
          1,
          1,
          1,
          1,
          1,
          1,
          0.9867549668874173,
          0.9937888198757764,
          1,
          1,
          0.9904761904761905,
          0.9894179894179894,
          1,
          1,
          1,
          0.9931506849315068,
          1,
          1,
          1,
          1,
          1,
          0.9880239520958084,
          1,
          1,
          1,
          1,
          1,
          1,
          1,
          1,
          1,
          0.9882352941176471,
          1,
          1,
          1,
          1,
          1,
          1,
          1,
          0.9939759036144579,
          1,
          1,
          1,
          1,
          1,
          0.9785714285714285,
          1,
          0.9893617021276596,
          0.984375,
          0.9901960784313726,
          1,
          0.9936708860759493,
          1,
          1,
          0.99375,
          1,
          1,
          1,
          1,
          1,
          1,
          1,
          1,
          1,
          0.9925925925925926,
          1,
          1,
          1,
          1,
          1,
          1,
          1,
          1,
          1,
          1,
          0.9951690821256038,
          1,
          1,
          1,
          1,
          0.9948979591836735,
          1,
          0.9944444444444445,
          0.9929577464788732,
          0.9940476190476191,
          1,
          1,
          1,
          0.9951923076923077,
          1,
          0.9877300613496932,
          0.9877300613496932,
          1,
          1,
          1,
          1,
          1,
          1,
          1,
          1,
          1,
          1,
          1,
          1,
          0.9862068965517241,
          0.09278350515463918,
          0.808,
          0.1657142857142857,
          1,
          1,
          0.9951456310679612,
          1,
          0.993006993006993,
          1,
          1,
          1,
          0.3486238532110092,
          0.10820895522388059,
          1,
          1,
          1,
          1,
          0.9813664596273292,
          1,
          0.9797297297297297,
          1,
          0.1111111111111111,
          1,
          1,
          1,
          1,
          1,
          1,
          1,
          1,
          1,
          0.9878787878787879,
          1,
          1,
          1,
          0.31970260223048325,
          0.3878787878787879,
          0.44508670520231214,
          0.48257372654155495,
          1,
          0.39271255060728744,
          0.2,
          0.20967741935483872,
          0.25660377358490566,
          0.26356589147286824,
          0.32167832167832167,
          0.339041095890411,
          0.3643122676579926,
          0.458128078817734,
          0.3852040816326531,
          0.3621621621621622,
          1,
          1,
          1,
          1,
          1,
          1,
          1,
          1,
          1,
          0.993006993006993,
          1,
          1,
          1
         ],
         "xaxis": "x",
         "yaxis": "y"
        }
       ],
       "layout": {
        "autosize": true,
        "shapes": [
         {
          "line": {
           "color": "red",
           "dash": "dash"
          },
          "type": "line",
          "x0": 0.6177807201458049,
          "x1": 0.6177807201458049,
          "xref": "x",
          "y0": 0,
          "y1": 1,
          "yref": "y domain"
         },
         {
          "line": {
           "color": "red",
           "dash": "dash"
          },
          "type": "line",
          "x0": 1.289551464831252,
          "x1": 1.289551464831252,
          "xref": "x",
          "y0": 0,
          "y1": 1,
          "yref": "y domain"
         }
        ],
        "template": {
         "data": {
          "bar": [
           {
            "error_x": {
             "color": "#2a3f5f"
            },
            "error_y": {
             "color": "#2a3f5f"
            },
            "marker": {
             "line": {
              "color": "#E5ECF6",
              "width": 0.5
             },
             "pattern": {
              "fillmode": "overlay",
              "size": 10,
              "solidity": 0.2
             }
            },
            "type": "bar"
           }
          ],
          "barpolar": [
           {
            "marker": {
             "line": {
              "color": "#E5ECF6",
              "width": 0.5
             },
             "pattern": {
              "fillmode": "overlay",
              "size": 10,
              "solidity": 0.2
             }
            },
            "type": "barpolar"
           }
          ],
          "carpet": [
           {
            "aaxis": {
             "endlinecolor": "#2a3f5f",
             "gridcolor": "white",
             "linecolor": "white",
             "minorgridcolor": "white",
             "startlinecolor": "#2a3f5f"
            },
            "baxis": {
             "endlinecolor": "#2a3f5f",
             "gridcolor": "white",
             "linecolor": "white",
             "minorgridcolor": "white",
             "startlinecolor": "#2a3f5f"
            },
            "type": "carpet"
           }
          ],
          "choropleth": [
           {
            "colorbar": {
             "outlinewidth": 0,
             "ticks": ""
            },
            "type": "choropleth"
           }
          ],
          "contour": [
           {
            "colorbar": {
             "outlinewidth": 0,
             "ticks": ""
            },
            "colorscale": [
             [
              0,
              "#0d0887"
             ],
             [
              0.1111111111111111,
              "#46039f"
             ],
             [
              0.2222222222222222,
              "#7201a8"
             ],
             [
              0.3333333333333333,
              "#9c179e"
             ],
             [
              0.4444444444444444,
              "#bd3786"
             ],
             [
              0.5555555555555556,
              "#d8576b"
             ],
             [
              0.6666666666666666,
              "#ed7953"
             ],
             [
              0.7777777777777778,
              "#fb9f3a"
             ],
             [
              0.8888888888888888,
              "#fdca26"
             ],
             [
              1,
              "#f0f921"
             ]
            ],
            "type": "contour"
           }
          ],
          "contourcarpet": [
           {
            "colorbar": {
             "outlinewidth": 0,
             "ticks": ""
            },
            "type": "contourcarpet"
           }
          ],
          "heatmap": [
           {
            "colorbar": {
             "outlinewidth": 0,
             "ticks": ""
            },
            "colorscale": [
             [
              0,
              "#0d0887"
             ],
             [
              0.1111111111111111,
              "#46039f"
             ],
             [
              0.2222222222222222,
              "#7201a8"
             ],
             [
              0.3333333333333333,
              "#9c179e"
             ],
             [
              0.4444444444444444,
              "#bd3786"
             ],
             [
              0.5555555555555556,
              "#d8576b"
             ],
             [
              0.6666666666666666,
              "#ed7953"
             ],
             [
              0.7777777777777778,
              "#fb9f3a"
             ],
             [
              0.8888888888888888,
              "#fdca26"
             ],
             [
              1,
              "#f0f921"
             ]
            ],
            "type": "heatmap"
           }
          ],
          "heatmapgl": [
           {
            "colorbar": {
             "outlinewidth": 0,
             "ticks": ""
            },
            "colorscale": [
             [
              0,
              "#0d0887"
             ],
             [
              0.1111111111111111,
              "#46039f"
             ],
             [
              0.2222222222222222,
              "#7201a8"
             ],
             [
              0.3333333333333333,
              "#9c179e"
             ],
             [
              0.4444444444444444,
              "#bd3786"
             ],
             [
              0.5555555555555556,
              "#d8576b"
             ],
             [
              0.6666666666666666,
              "#ed7953"
             ],
             [
              0.7777777777777778,
              "#fb9f3a"
             ],
             [
              0.8888888888888888,
              "#fdca26"
             ],
             [
              1,
              "#f0f921"
             ]
            ],
            "type": "heatmapgl"
           }
          ],
          "histogram": [
           {
            "marker": {
             "pattern": {
              "fillmode": "overlay",
              "size": 10,
              "solidity": 0.2
             }
            },
            "type": "histogram"
           }
          ],
          "histogram2d": [
           {
            "colorbar": {
             "outlinewidth": 0,
             "ticks": ""
            },
            "colorscale": [
             [
              0,
              "#0d0887"
             ],
             [
              0.1111111111111111,
              "#46039f"
             ],
             [
              0.2222222222222222,
              "#7201a8"
             ],
             [
              0.3333333333333333,
              "#9c179e"
             ],
             [
              0.4444444444444444,
              "#bd3786"
             ],
             [
              0.5555555555555556,
              "#d8576b"
             ],
             [
              0.6666666666666666,
              "#ed7953"
             ],
             [
              0.7777777777777778,
              "#fb9f3a"
             ],
             [
              0.8888888888888888,
              "#fdca26"
             ],
             [
              1,
              "#f0f921"
             ]
            ],
            "type": "histogram2d"
           }
          ],
          "histogram2dcontour": [
           {
            "colorbar": {
             "outlinewidth": 0,
             "ticks": ""
            },
            "colorscale": [
             [
              0,
              "#0d0887"
             ],
             [
              0.1111111111111111,
              "#46039f"
             ],
             [
              0.2222222222222222,
              "#7201a8"
             ],
             [
              0.3333333333333333,
              "#9c179e"
             ],
             [
              0.4444444444444444,
              "#bd3786"
             ],
             [
              0.5555555555555556,
              "#d8576b"
             ],
             [
              0.6666666666666666,
              "#ed7953"
             ],
             [
              0.7777777777777778,
              "#fb9f3a"
             ],
             [
              0.8888888888888888,
              "#fdca26"
             ],
             [
              1,
              "#f0f921"
             ]
            ],
            "type": "histogram2dcontour"
           }
          ],
          "mesh3d": [
           {
            "colorbar": {
             "outlinewidth": 0,
             "ticks": ""
            },
            "type": "mesh3d"
           }
          ],
          "parcoords": [
           {
            "line": {
             "colorbar": {
              "outlinewidth": 0,
              "ticks": ""
             }
            },
            "type": "parcoords"
           }
          ],
          "pie": [
           {
            "automargin": true,
            "type": "pie"
           }
          ],
          "scatter": [
           {
            "marker": {
             "colorbar": {
              "outlinewidth": 0,
              "ticks": ""
             }
            },
            "type": "scatter"
           }
          ],
          "scatter3d": [
           {
            "line": {
             "colorbar": {
              "outlinewidth": 0,
              "ticks": ""
             }
            },
            "marker": {
             "colorbar": {
              "outlinewidth": 0,
              "ticks": ""
             }
            },
            "type": "scatter3d"
           }
          ],
          "scattercarpet": [
           {
            "marker": {
             "colorbar": {
              "outlinewidth": 0,
              "ticks": ""
             }
            },
            "type": "scattercarpet"
           }
          ],
          "scattergeo": [
           {
            "marker": {
             "colorbar": {
              "outlinewidth": 0,
              "ticks": ""
             }
            },
            "type": "scattergeo"
           }
          ],
          "scattergl": [
           {
            "marker": {
             "colorbar": {
              "outlinewidth": 0,
              "ticks": ""
             }
            },
            "type": "scattergl"
           }
          ],
          "scattermapbox": [
           {
            "marker": {
             "colorbar": {
              "outlinewidth": 0,
              "ticks": ""
             }
            },
            "type": "scattermapbox"
           }
          ],
          "scatterpolar": [
           {
            "marker": {
             "colorbar": {
              "outlinewidth": 0,
              "ticks": ""
             }
            },
            "type": "scatterpolar"
           }
          ],
          "scatterpolargl": [
           {
            "marker": {
             "colorbar": {
              "outlinewidth": 0,
              "ticks": ""
             }
            },
            "type": "scatterpolargl"
           }
          ],
          "scatterternary": [
           {
            "marker": {
             "colorbar": {
              "outlinewidth": 0,
              "ticks": ""
             }
            },
            "type": "scatterternary"
           }
          ],
          "surface": [
           {
            "colorbar": {
             "outlinewidth": 0,
             "ticks": ""
            },
            "colorscale": [
             [
              0,
              "#0d0887"
             ],
             [
              0.1111111111111111,
              "#46039f"
             ],
             [
              0.2222222222222222,
              "#7201a8"
             ],
             [
              0.3333333333333333,
              "#9c179e"
             ],
             [
              0.4444444444444444,
              "#bd3786"
             ],
             [
              0.5555555555555556,
              "#d8576b"
             ],
             [
              0.6666666666666666,
              "#ed7953"
             ],
             [
              0.7777777777777778,
              "#fb9f3a"
             ],
             [
              0.8888888888888888,
              "#fdca26"
             ],
             [
              1,
              "#f0f921"
             ]
            ],
            "type": "surface"
           }
          ],
          "table": [
           {
            "cells": {
             "fill": {
              "color": "#EBF0F8"
             },
             "line": {
              "color": "white"
             }
            },
            "header": {
             "fill": {
              "color": "#C8D4E3"
             },
             "line": {
              "color": "white"
             }
            },
            "type": "table"
           }
          ]
         },
         "layout": {
          "annotationdefaults": {
           "arrowcolor": "#2a3f5f",
           "arrowhead": 0,
           "arrowwidth": 1
          },
          "autotypenumbers": "strict",
          "coloraxis": {
           "colorbar": {
            "outlinewidth": 0,
            "ticks": ""
           }
          },
          "colorscale": {
           "diverging": [
            [
             0,
             "#8e0152"
            ],
            [
             0.1,
             "#c51b7d"
            ],
            [
             0.2,
             "#de77ae"
            ],
            [
             0.3,
             "#f1b6da"
            ],
            [
             0.4,
             "#fde0ef"
            ],
            [
             0.5,
             "#f7f7f7"
            ],
            [
             0.6,
             "#e6f5d0"
            ],
            [
             0.7,
             "#b8e186"
            ],
            [
             0.8,
             "#7fbc41"
            ],
            [
             0.9,
             "#4d9221"
            ],
            [
             1,
             "#276419"
            ]
           ],
           "sequential": [
            [
             0,
             "#0d0887"
            ],
            [
             0.1111111111111111,
             "#46039f"
            ],
            [
             0.2222222222222222,
             "#7201a8"
            ],
            [
             0.3333333333333333,
             "#9c179e"
            ],
            [
             0.4444444444444444,
             "#bd3786"
            ],
            [
             0.5555555555555556,
             "#d8576b"
            ],
            [
             0.6666666666666666,
             "#ed7953"
            ],
            [
             0.7777777777777778,
             "#fb9f3a"
            ],
            [
             0.8888888888888888,
             "#fdca26"
            ],
            [
             1,
             "#f0f921"
            ]
           ],
           "sequentialminus": [
            [
             0,
             "#0d0887"
            ],
            [
             0.1111111111111111,
             "#46039f"
            ],
            [
             0.2222222222222222,
             "#7201a8"
            ],
            [
             0.3333333333333333,
             "#9c179e"
            ],
            [
             0.4444444444444444,
             "#bd3786"
            ],
            [
             0.5555555555555556,
             "#d8576b"
            ],
            [
             0.6666666666666666,
             "#ed7953"
            ],
            [
             0.7777777777777778,
             "#fb9f3a"
            ],
            [
             0.8888888888888888,
             "#fdca26"
            ],
            [
             1,
             "#f0f921"
            ]
           ]
          },
          "colorway": [
           "#636efa",
           "#EF553B",
           "#00cc96",
           "#ab63fa",
           "#FFA15A",
           "#19d3f3",
           "#FF6692",
           "#B6E880",
           "#FF97FF",
           "#FECB52"
          ],
          "font": {
           "color": "#2a3f5f"
          },
          "geo": {
           "bgcolor": "white",
           "lakecolor": "white",
           "landcolor": "#E5ECF6",
           "showlakes": true,
           "showland": true,
           "subunitcolor": "white"
          },
          "hoverlabel": {
           "align": "left"
          },
          "hovermode": "closest",
          "mapbox": {
           "style": "light"
          },
          "paper_bgcolor": "white",
          "plot_bgcolor": "#E5ECF6",
          "polar": {
           "angularaxis": {
            "gridcolor": "white",
            "linecolor": "white",
            "ticks": ""
           },
           "bgcolor": "#E5ECF6",
           "radialaxis": {
            "gridcolor": "white",
            "linecolor": "white",
            "ticks": ""
           }
          },
          "scene": {
           "xaxis": {
            "backgroundcolor": "#E5ECF6",
            "gridcolor": "white",
            "gridwidth": 2,
            "linecolor": "white",
            "showbackground": true,
            "ticks": "",
            "zerolinecolor": "white"
           },
           "yaxis": {
            "backgroundcolor": "#E5ECF6",
            "gridcolor": "white",
            "gridwidth": 2,
            "linecolor": "white",
            "showbackground": true,
            "ticks": "",
            "zerolinecolor": "white"
           },
           "zaxis": {
            "backgroundcolor": "#E5ECF6",
            "gridcolor": "white",
            "gridwidth": 2,
            "linecolor": "white",
            "showbackground": true,
            "ticks": "",
            "zerolinecolor": "white"
           }
          },
          "shapedefaults": {
           "line": {
            "color": "#2a3f5f"
           }
          },
          "ternary": {
           "aaxis": {
            "gridcolor": "white",
            "linecolor": "white",
            "ticks": ""
           },
           "baxis": {
            "gridcolor": "white",
            "linecolor": "white",
            "ticks": ""
           },
           "bgcolor": "#E5ECF6",
           "caxis": {
            "gridcolor": "white",
            "linecolor": "white",
            "ticks": ""
           }
          },
          "title": {
           "x": 0.05
          },
          "xaxis": {
           "automargin": true,
           "gridcolor": "white",
           "linecolor": "white",
           "ticks": "",
           "title": {
            "standoff": 15
           },
           "zerolinecolor": "white",
           "zerolinewidth": 2
          },
          "yaxis": {
           "automargin": true,
           "gridcolor": "white",
           "linecolor": "white",
           "ticks": "",
           "title": {
            "standoff": 15
           },
           "zerolinecolor": "white",
           "zerolinewidth": 2
          }
         }
        },
        "xaxis": {
         "anchor": "y",
         "autorange": true,
         "domain": [
          0,
          1
         ],
         "range": [
          0.09000000000000005,
          1.291260227601667
         ],
         "type": "linear"
        },
        "yaxis": {
         "anchor": "x",
         "autorange": true,
         "domain": [
          0,
          1
         ],
         "range": [
          0,
          1672.6315789473683
         ]
        }
       }
      },
      "text/html": [
       "<div>                            <div id=\"977774d4-5d2f-40d5-8879-6cb6d8d02b45\" class=\"plotly-graph-div\" style=\"height:525px; width:100%;\"></div>            <script type=\"text/javascript\">                require([\"plotly\"], function(Plotly) {                    window.PLOTLYENV=window.PLOTLYENV || {};                                    if (document.getElementById(\"977774d4-5d2f-40d5-8879-6cb6d8d02b45\")) {                    Plotly.newPlot(                        \"977774d4-5d2f-40d5-8879-6cb6d8d02b45\",                        [{\"x\":[0.9941176470588236,1.0,1.0,1.0,0.9906976744186047,1.0,1.0,0.9888268156424581,1.0,1.0,0.9931506849315068,1.0,1.0,0.9872611464968153,1.0,1.0,1.0,0.9927536231884058,0.993006993006993,0.9782608695652174,0.993103448275862,1.0,1.0,0.9844961240310077,0.5416666666666666,1.0,0.9834254143646409,1.0,1.0,1.0,1.0,0.9444444444444444,1.0,0.9954545454545455,0.9922480620155039,1.0,0.993006993006993,1.0,0.9884393063583815,0.9530201342281879,0.9938271604938271,1.0,1.0,0.981042654028436,0.989010989010989,1.0,1.0,1.0,0.9712230215827338,1.0,1.0,1.0,1.0,1.0,1.0,1.0,1.0,0.9887005649717514,1.0,1.0,0.25,1.0,0.9939393939393939,1.0,0.9285714285714286,1.0,0.26666666666666666,1.0,0.9745222929936306,1.0,1.0,1.0,1.0,1.0,0.9851851851851852,1.0,1.0,1.0,1.0,1.0,1.0,0.9870967741935484,1.0,1.0,0.9932432432432432,1.0,0.9957627118644068,1.0,0.9851851851851852,1.0,0.9904761904761905,1.0,1.0,1.0,1.0,0.9929577464788732,1.0,0.9897435897435898,1.0,1.0,1.0,1.0,1.0,1.0,0.9836956521739131,1.0,1.0,1.0,1.0,1.0,0.983957219251337,0.9933774834437086,1.0,1.0,1.0,0.9746835443037974,1.0,1.0,0.9857142857142858,1.0,1.0,0.9844961240310077,1.0,1.0,1.0,0.9872611464968153,1.0,0.9939759036144579,0.9929577464788732,1.0,1.0,1.0,1.0,1.0,1.0,0.9947916666666666,1.0,1.0,1.0,1.0,0.6666666666666666,1.0,0.9939393939393939,1.0,1.0,0.9333333333333333,0.9827586206896551,1.0,1.0,1.0,1.0,1.0,1.0,1.0,1.0,1.0,1.0,0.9883040935672515,1.0,1.0,1.0,1.0,1.0,1.0,1.0,1.0,0.9942857142857143,1.0,1.0,1.0,1.0,1.0,1.0,1.0,0.9846153846153847,0.9929078014184397,1.0,0.2862903225806452,0.301255230125523,0.43278688524590164,0.3813559322033898,0.3881856540084388,0.28735632183908044,1.0,0.9934640522875817,1.0,1.0,1.0,1.0,1.0,0.978494623655914,1.0,0.9890710382513661,1.0,1.0,1.0,1.0,1.0,1.0,1.0,1.0,0.9949494949494949,0.9946524064171123,1.0,0.96,0.9775280898876404,1.0,1.0,0.9941520467836257,1.0,0.9834254143646409,1.0,1.0,1.0,1.0,0.9935897435897436,1.0,1.0,1.0,1.0,1.0,1.0,1.0,1.0,1.0,1.0,0.9935064935064936,1.0,1.0,0.9946236559139785,1.0,1.0,1.0,1.0,1.0,0.9822485207100592,1.0,0.9886363636363636,0.9915254237288136,0.9957983193277311,0.9954337899543378,1.0,0.9925373134328358,1.0,1.0,0.9869281045751634,1.0,0.99375,0.9886363636363636,0.9950248756218906,1.0,0.9939024390243902,0.9935064935064936,1.0,1.0,0.9932432432432432,1.0,0.9947916666666666,0.9823529411764705,0.9866666666666667,0.9662162162162162,0.9929577464788732,1.0,1.0,0.984,1.0,0.9935897435897436,1.0,0.9940119760479041,1.0,1.0,1.0,0.9485294117647058,1.0,1.0,1.0,1.0,0.9856459330143541,0.9935897435897436,0.9880239520958084,1.0,0.9813664596273292,1.0,0.9878048780487805,0.15384615384615385,1.0,0.9487179487179487,1.0,0.9836065573770492,1.0,1.0,1.0,0.9865470852017937,1.0,1.0,0.7262180974477959,0.15789473684210525,0.9942196531791907,1.0,0.13679245283018868,0.13425925925925927,0.1542056074766355,0.41132075471698115,0.3438914027149321,0.28761061946902655,0.2832618025751073,0.23893805309734514,0.21739130434782608,0.16379310344827586,0.14601769911504425,1.0,1.0,1.0,0.9940476190476191,1.0,1.0,1.0,1.0,0.9902912621359223,0.9935064935064936,1.0,1.0,0.9936708860759493,0.9747474747474747,0.9880952380952381,1.0,1.0,1.0,1.0,1.0,0.9933774834437086,1.0,1.0,1.0,0.9930555555555556,0.16363636363636364,1.0,1.0,0.9939393939393939,1.0,0.9940119760479041,1.0,1.0,1.0,1.0,1.0,1.0,1.0,1.0,1.0,1.0,1.0,1.0,0.9926470588235294,0.9876543209876543,1.0,1.0,1.0,1.0,1.0,1.0,1.0,0.9683544303797469,1.0,1.0,1.0,1.0,0.9798657718120806,1.0,0.98989898989899,0.989247311827957,0.994475138121547,1.0,0.9941176470588236,1.0,0.95,1.0,1.0,1.0,1.0,1.0,1.0,0.9916666666666667,0.9834254143646409,1.0,0.9887640449438202,1.0,0.9854014598540146,1.0,0.9883720930232558,1.0,1.0,0.9933333333333333,0.9947089947089947,1.0,0.1518987341772152,0.15021459227467812,0.11979166666666667,0.9880239520958084,1.0,1.0,1.0,1.0,0.9716312056737588,1.0,0.9887640449438202,1.0,1.0,1.0,1.0,1.0,1.0,1.0,1.0,1.0,0.9925925925925926,1.0,1.0,1.0,1.0,1.0,1.0,0.9840425531914894,1.0,0.9937888198757764,1.0,0.9943502824858758,0.9846153846153847,1.0,1.0,1.0,1.0,1.0,1.0,1.0,1.0,1.0,1.0,1.0,1.0,1.0,1.0,1.0,0.9942528735632183,1.0,0.9943502824858758,0.9857142857142858,1.0,1.0,1.0,1.0,1.0,1.0,1.0,1.0,1.0,0.9911504424778761,0.989247311827957,1.0,1.0,1.0,1.0,0.9928057553956835,1.0,1.0,1.0,1.0,1.0,1.0,1.0,0.9919354838709677,1.0,1.0,1.0,1.0,1.0,0.9830508474576272,1.0,0.9897959183673469,1.0,1.0,0.9895470383275261,1.0,1.0,1.0,1.0,0.9894179894179894,0.9940119760479041,1.0,1.0,1.0,1.0,1.0,1.0,1.0,1.0,0.9872611464968153,1.0,0.992,1.0,0.9885057471264368,0.9942857142857143,1.0,0.9940828402366864,0.994413407821229,1.0,0.9884393063583815,0.9911111111111112,1.0,0.9865771812080537,1.0,1.0,1.0,1.0,1.0,0.9833333333333333,1.0,1.0,1.0,0.9887005649717514,1.0,1.0,1.0,1.0,1.0,0.6,0.6666666666666666,0.6,0.9333333333333333,1.0,0.9727891156462585,1.0,1.0,1.0,0.9940828402366864,1.0,0.9545454545454546,0.9935483870967742,0.96,0.9935483870967742,1.0,0.9947643979057592,0.9939393939393939,1.0,1.0,1.0,1.0,1.0,1.0,0.9870967741935484,1.0,0.9787234042553191,1.0,1.0,0.9941176470588236,1.0,1.0,1.0,1.0,1.0,1.0,1.0,1.0,0.9931972789115646,0.9802631578947368,1.0,1.0,1.0,1.0,1.0,0.9868421052631579,0.9935483870967742,1.0,0.993006993006993,1.0,1.0,0.9950738916256158,1.0,1.0,0.9802631578947368,1.0,1.0,1.0,0.9882352941176471,1.0,1.0,1.0,1.0,1.0,1.0,1.0,1.0,1.0,0.11363636363636363,0.12222222222222222,0.13580246913580246,1.0,1.0,1.0,0.9900497512437811,0.9923664122137404,0.9927536231884058,1.0,0.98989898989899,0.9859154929577465,1.0,1.0,1.0,1.0,1.0,1.0,1.0,1.0,1.0,1.0,1.0,0.9867549668874173,0.9923664122137404,1.0,1.0,1.0,1.0,1.0,1.0,1.0,1.0,1.0,1.0,0.9893048128342246,0.9894179894179894,1.0,1.0,1.0,1.0,1.0,1.0,1.0,1.0,1.0,0.9950248756218906,0.9946236559139785,1.0,1.0,1.0,1.0,1.0,1.0,1.0,1.0,0.9879518072289156,0.9948453608247423,1.0,1.0,1.0,1.0,1.0,1.0,1.0,1.0,1.0,0.9890710382513661,1.0,0.9934640522875817,1.0,1.0,1.0,1.0,1.0,1.0,1.0,1.0,0.9949748743718593,0.9875776397515528,1.0,1.0,1.0,1.0,1.0,1.0,0.4817813765182186,0.4663677130044843,0.5047169811320755,0.4712230215827338,0.9847715736040609,1.0,1.0,1.0,1.0,1.0,0.9880952380952381,1.0,1.0,0.35344827586206895,1.0,1.0,1.0,1.0,0.9887005649717514,1.0,1.0,1.0,0.9825581395348837,1.0,0.9947368421052631,1.0,1.0,1.0,1.0,1.0,1.0,1.0,0.989247311827957,0.9885714285714285,1.0,1.0,1.0,1.0,1.0,0.6028368794326241,1.0,1.0,1.0,1.0,0.9911894273127754,1.0,1.0,1.0,0.9953917050691244,1.0,1.0,1.0,1.0,1.0,1.0,1.0,0.9939759036144579,0.9933333333333333,1.0,1.0,0.9663865546218487,0.9607843137254902,1.0,1.0,0.13636363636363635,0.9935483870967742,1.0,1.0,1.0,0.9926470588235294,1.0,0.9888268156424581,0.9827586206896551,1.0,0.9952830188679245,1.0,1.0,0.9918032786885246,1.0,0.9939393939393939,1.0,0.9717514124293786,0.9679144385026738,0.9867549668874173,0.9691358024691358,1.0,1.0,1.0,1.0,1.0,1.0,0.2916666666666667,0.4175257731958763,1.0,0.9761904761904762,1.0,1.0,1.0,1.0,1.0,1.0,1.0,0.9946524064171123,1.0,1.0,1.0,1.0,0.989247311827957,1.0,1.0,1.0,1.0,1.0,1.0,0.9900497512437811,0.9764705882352941,0.9944444444444445,1.0,1.0,1.0,1.0,1.0,1.0,0.9798657718120806,1.0,0.9923076923076923,1.0,1.0,1.0,0.9914529914529915,0.9950248756218906,1.0,0.995475113122172,0.9933333333333333,1.0,1.0,1.0,1.0,0.9938650306748467,0.9939024390243902,1.0,1.0,1.0,0.9871794871794872,1.0,1.0,1.0,1.0,0.9818181818181818,1.0,1.0,1.0,1.0,1.0,1.0,1.0,0.9868421052631579,1.0,0.9948717948717949,0.9791666666666666,1.0,1.0,0.9798657718120806,1.0,1.0,0.9423076923076923,1.0,1.0,1.0,1.0,1.0,1.0,1.0,1.0,1.0,1.0,0.9876543209876543,1.0,0.24324324324324326,1.0,1.0,1.0,1.0,1.0,1.0,1.0,0.9946524064171123,1.0,1.0,1.0,1.0,0.9883720930232558,1.0,1.0,1.0,1.0,1.0,1.0,0.9915254237288136,1.0,1.0,1.0,0.9942196531791907,1.0,0.985981308411215,1.0,1.0,0.987012987012987,0.9619047619047619,1.0,0.994535519125683,0.9900990099009901,1.0,1.0,1.0,0.9927007299270073,1.0,1.0,0.9947368421052631,1.0,1.0,1.0,1.0,1.0,1.0,0.9904761904761905,1.0,0.9939024390243902,1.0,1.0,0.9865771812080537,1.0,1.0,1.0,1.0,1.0,1.0,0.9885057471264368,1.0,1.0,0.11237785016286644,1.0,1.0,0.9837837837837838,1.0,0.9808917197452229,1.0,1.0,1.0,1.0,1.0,1.0,1.0,1.0,0.9848484848484849,1.0,0.9805825242718447,1.0,1.0,0.993006993006993,1.0,1.0,1.0,1.0,1.0,0.9930555555555556,1.0,1.0,1.0,1.0,0.7538461538461538,1.0,0.9896373056994818,1.0,1.0,1.0,1.0,1.0,1.0,1.0,1.0,1.0,0.6203703703703703,1.0,1.0,0.9901960784313726,1.0,0.9923076923076923,1.0,1.0,1.0,0.99375,1.0,1.0,0.9932885906040269,1.0,0.9931506849315068,0.98125,1.0,0.9939024390243902,1.0,0.9884393063583815,1.0,1.0,1.0,0.9946236559139785,0.9878048780487805,1.0,1.0,0.9904761904761905,1.0,0.989010989010989,0.7560975609756098,0.26903553299492383,1.0,1.0,0.9864864864864865,1.0,0.9847328244274809,1.0,1.0,0.6923076923076923,0.9895287958115183,1.0,1.0,1.0,0.9791666666666666,1.0,1.0,1.0,0.971830985915493,1.0,0.993421052631579,0.9813664596273292,0.9619565217391305,0.9928571428571429,0.9940828402366864,1.0,1.0,1.0,0.9938271604938271,0.984251968503937,1.0,1.0,1.0,1.0,1.0,1.0,0.9890710382513661,0.9947368421052631,1.0,0.9929577464788732,1.0,1.0,0.9883720930232558,1.0,1.0,1.0,0.9849624060150376,0.9931972789115646,0.9783549783549783,1.0,1.0,1.0,1.0,1.0,1.0,0.9894179894179894,1.0,1.0,0.27419354838709675,0.39375,0.3485915492957746,0.27380952380952384,0.2764227642276423,0.2682926829268293,1.0,1.0,1.0,0.9722222222222222,0.1282051282051282,0.5822368421052632,0.4528301886792453,0.42857142857142855,0.46866485013623976,0.4776536312849162,0.46629213483146065,0.46438746438746437,0.43373493975903615,0.45481049562682213,0.9859154929577465,1.0,1.0,1.0,1.0,1.0,1.0,0.9870967741935484,1.0,0.9947643979057592,1.0,1.0,1.0,1.0,1.0,1.0,1.0,1.0,1.0,1.0,1.0,1.0,1.0,1.0,1.0,1.0,1.0,1.0,1.0,1.0,1.0,1.0,0.9585798816568047,1.0,0.991869918699187,1.0,1.0,0.9819277108433735,1.0,1.0,1.0,1.0,1.0,1.0,1.0,1.0,1.0,1.0,0.975609756097561,0.9929577464788732,1.0,1.0,1.0,1.0,0.9928571428571429,1.0,1.0,1.0,1.0,1.0,1.0,1.0,1.0,1.0,1.0,1.0,1.0,0.9888888888888889,1.0,1.0,0.9850746268656716,1.0,1.0,1.0,0.9806451612903225,1.0,1.0,0.9875,0.9411764705882353,0.9946236559139785,1.0,0.9872611464968153,1.0,1.0,0.9703703703703703,1.0,0.9918032786885246,1.0,0.9764705882352941,0.9870967741935484,1.0,1.0,0.9881656804733728,1.0,0.9940476190476191,1.0,1.0,1.0,1.0,1.0,1.0,1.0,0.9642857142857143,1.0,0.7631578947368421,1.0,1.0,0.9623655913978495,0.9952153110047847,1.0,1.0,1.0,1.0,1.0,1.0,1.0,0.99375,1.0,0.99375,0.9923664122137404,1.0,0.9620253164556962,1.0,1.0,1.0,0.9873417721518988,0.9870967741935484,1.0,1.0,0.9948717948717949,0.9872611464968153,1.0,1.0,1.0,0.9942196531791907,1.0,1.0,1.0,1.0,1.0,0.9945652173913043,0.9932432432432432,1.0,1.0,1.0,0.9880239520958084,1.0,1.0,1.0,1.0,0.9942196531791907,0.9847328244274809,1.0,0.988950276243094,0.37202380952380953,0.2951388888888889,0.3151750972762646,0.25089605734767023,0.23015873015873015,0.2,0.15555555555555556,0.39545454545454545,0.42358078602620086,0.4307692307692308,0.4383561643835616,0.44537815126050423,0.4401114206128134,1.0,0.35094339622641507,0.3576923076923077,0.38235294117647056,0.9801324503311258,1.0,0.9941860465116279,0.9826589595375722,0.9878048780487805,0.984,0.9861111111111112,1.0,1.0,1.0,1.0,1.0,1.0,1.0,0.9748427672955975,1.0,1.0,1.0,1.0,1.0,1.0,1.0,0.9770114942528736,0.9935897435897436,1.0,0.9881656804733728,1.0,1.0,1.0,1.0,1.0,1.0,0.5948275862068966,0.09322033898305085,1.0,0.9897959183673469,0.9930555555555556,0.991869918699187,0.9923076923076923,1.0,1.0,1.0,0.984251968503937,1.0,1.0,1.0,1.0,0.12345679012345678,1.0,1.0,1.0,1.0,1.0,1.0,0.9870967741935484,1.0,0.9855072463768116,1.0,1.0,1.0,0.9945945945945946,1.0,1.0,1.0,1.0,1.0,0.9941176470588236,1.0,1.0,0.9933774834437086,1.0,1.0,0.9949494949494949,1.0,1.0,1.0,1.0,1.0,1.0,0.9878787878787879,0.9929577464788732,0.994475138121547,1.0,1.0,1.0,1.0,0.9748427672955975,1.0,1.0,1.0,1.0,1.0,1.0,0.9625,0.9938271604938271,1.0,1.0,1.0,1.0,0.987012987012987,1.0,0.9936305732484076,1.0,1.0,1.0,1.0,0.9944444444444445,1.0,1.0,1.0,1.0,1.0,0.9712643678160919,1.0,1.0,1.0,1.0,1.0,1.0,1.0,1.0,1.0,1.0,0.9953703703703703,1.0,1.0,0.9945945945945946,1.0,1.0,1.0,1.0,1.0,1.0,0.9741379310344828,0.9739130434782609,1.0,1.0,0.9940476190476191,1.0,1.0,1.0,1.0,1.0,1.0,1.0,1.0,0.9869281045751634,1.0,1.0,0.9883040935672515,1.0,0.9943181818181818,0.990909090909091,1.0,1.0,1.0,1.0,0.9882352941176471,1.0,1.0,1.0,1.0,0.9946808510638298,0.9881656804733728,1.0,1.0,1.0,1.0,0.9847328244274809,1.0,1.0,1.0,0.9778761061946902,1.0,1.0,0.990990990990991,1.0,1.0,1.0,1.0,0.9863945578231292,1.0,0.9867549668874173,1.0,0.664179104477612,0.288135593220339,1.0,1.0,1.0,1.0,0.9938650306748467,1.0,0.9915254237288136,0.9885057471264368,1.0,1.0,1.0,0.9813953488372092,1.0,1.0,0.9875,1.0,0.9933333333333333,1.0,0.989247311827957,1.0,1.0,1.0,1.0,1.0,1.0,1.0,0.9828571428571429,0.9823529411764705,0.9941176470588236,1.0,0.9763779527559056,1.0,0.9878787878787879,1.0,0.9647058823529412,0.9671052631578947,1.0,0.9950738916256158,0.983957219251337,1.0,0.99375,1.0,0.9937106918238994,0.9939759036144579,0.9836956521739131,1.0,1.0,1.0,0.9937888198757764,0.16216216216216217,1.0,1.0,1.0,0.9940828402366864,0.897196261682243,0.9935064935064936,1.0,1.0,0.967391304347826,0.9954545454545455,1.0,1.0,1.0,1.0,1.0,0.9897435897435898,1.0,1.0,1.0,1.0,1.0,1.0,1.0,1.0,0.9777777777777777,0.9772727272727273,1.0,0.9918032786885246,1.0,0.9844961240310077,1.0,0.9887640449438202,1.0,1.0,1.0,1.0,1.0,0.9941520467836257,1.0,1.0,1.0,1.0,1.0,1.0,1.0,1.0,1.0,0.9818181818181818,1.0,1.0,0.9651162790697675,0.8549618320610687,1.0,1.0,1.0,0.14,1.0,1.0,0.9805194805194806,1.0,1.0,0.9663461538461539,1.0,1.0,1.0,0.9951690821256038,1.0,0.9938271604938271,1.0,1.0,1.0,1.0,0.9948979591836735,1.0,1.0,1.0,1.0,0.9850746268656716,1.0,0.9893617021276596,0.989247311827957,0.9893617021276596,0.9856115107913669,1.0,1.0,0.9751552795031055,0.19254658385093168,0.17027027027027028,1.0,0.9953271028037384,0.9958677685950413,0.9961538461538462,1.0,0.9895833333333334,1.0,0.9844357976653697,1.0,1.0,1.0,1.0,1.0,1.0,0.9934640522875817,1.0,0.9736842105263158,1.0,1.0,1.0,1.0,1.0,0.9858156028368794,1.0,0.9878048780487805,0.9869281045751634,1.0,1.0,1.0,1.0,0.12359550561797752,1.0,1.0,0.696969696969697,0.1853932584269663,1.0,1.0,1.0,1.0,1.0,1.0,1.0,1.0,1.0,1.0,1.0,1.0,1.0,0.9939024390243902,1.0,1.0,0.9923664122137404,1.0,1.0,1.0,1.0,1.0,1.0,1.0,0.9881656804733728,1.0,0.994475138121547,1.0,1.0,1.0,1.0,0.993421052631579,1.0,0.9861111111111112,0.9938650306748467,1.0,1.0,1.0,0.988950276243094,1.0,0.9903381642512077,1.0,0.9847328244274809,1.0,1.0,0.9940828402366864,1.0,1.0,0.993421052631579,1.0,1.0,1.0,1.0,1.0,1.0,1.0,1.0,1.0,0.9712230215827338,1.0,0.9931506849315068,0.9949748743718593,1.0,0.9935483870967742,0.98,1.0,0.9933774834437086,1.0,1.0,1.0,0.9645390070921985,1.0,1.0,1.0,1.0,1.0,0.9958677685950413,1.0,0.9897959183673469,1.0,1.0,0.9900990099009901,1.0,1.0,0.9867549668874173,0.4240506329113924,0.4152542372881356,0.46153846153846156,0.9857142857142858,1.0,1.0,0.9714285714285714,0.9907407407407407,1.0,0.14814814814814814,0.16447368421052633,0.16181229773462782,0.15584415584415584,0.1830065359477124,0.26685393258426965,0.283987915407855,0.2844574780058651,0.2838283828382838,0.32802547770700635,1.0,1.0,1.0,1.0,1.0,1.0,0.9942528735632183,1.0,1.0,1.0,1.0,0.9827586206896551,0.9644970414201184,0.9924242424242424,1.0,1.0,1.0,1.0,1.0,0.9937106918238994,1.0,0.9929577464788732,1.0,0.9938271604938271,1.0,1.0,1.0,0.9935064935064936,1.0,0.9877300613496932,0.9942196531791907,1.0,1.0,0.9898477157360406,1.0,1.0,1.0,1.0,0.9645390070921985,0.9710982658959537,1.0,1.0,1.0,1.0,1.0,0.9933333333333333,1.0,0.9881656804733728,1.0,1.0,1.0,1.0,0.991869918699187,1.0,1.0,1.0,1.0,1.0,1.0,1.0,0.9925373134328358,0.9947089947089947,1.0,0.965034965034965,1.0,1.0,1.0,1.0,1.0,1.0,1.0,1.0,1.0,1.0,1.0,1.0,1.0,1.0,1.0,1.0,1.0,1.0,1.0,0.9878048780487805,0.9875,1.0,1.0,1.0,1.0,1.0,1.0,1.0,1.0,0.9764705882352941,1.0,1.0,1.0,1.0,1.0,1.0,1.0,1.0,0.9867549668874173,1.0,1.0,1.0,0.9919354838709677,1.0,0.9943502824858758,0.9886363636363636,1.0,1.0,0.992,0.9743589743589743,1.0,0.9888268156424581,1.0,1.0,1.0,1.0,1.0,1.0,1.0,1.0,1.0,1.0,1.0,1.0,0.9867549668874173,0.9937888198757764,1.0,1.0,0.9904761904761905,0.9894179894179894,1.0,1.0,1.0,0.9931506849315068,1.0,1.0,1.0,1.0,1.0,0.9880239520958084,1.0,1.0,1.0,1.0,1.0,1.0,1.0,1.0,1.0,0.9882352941176471,1.0,1.0,1.0,1.0,1.0,1.0,1.0,0.9939759036144579,1.0,1.0,1.0,1.0,1.0,0.9785714285714285,1.0,0.9893617021276596,0.984375,0.9901960784313726,1.0,0.9936708860759493,1.0,1.0,0.99375,1.0,1.0,1.0,1.0,1.0,1.0,1.0,1.0,1.0,0.9925925925925926,1.0,1.0,1.0,1.0,1.0,1.0,1.0,1.0,1.0,1.0,0.9951690821256038,1.0,1.0,1.0,1.0,0.9948979591836735,1.0,0.9944444444444445,0.9929577464788732,0.9940476190476191,1.0,1.0,1.0,0.9951923076923077,1.0,0.9877300613496932,0.9877300613496932,1.0,1.0,1.0,1.0,1.0,1.0,1.0,1.0,1.0,1.0,1.0,1.0,0.9862068965517241,0.09278350515463918,0.808,0.1657142857142857,1.0,1.0,0.9951456310679612,1.0,0.993006993006993,1.0,1.0,1.0,0.3486238532110092,0.10820895522388059,1.0,1.0,1.0,1.0,0.9813664596273292,1.0,0.9797297297297297,1.0,0.1111111111111111,1.0,1.0,1.0,1.0,1.0,1.0,1.0,1.0,1.0,0.9878787878787879,1.0,1.0,1.0,0.31970260223048325,0.3878787878787879,0.44508670520231214,0.48257372654155495,1.0,0.39271255060728744,0.2,0.20967741935483872,0.25660377358490566,0.26356589147286824,0.32167832167832167,0.339041095890411,0.3643122676579926,0.458128078817734,0.3852040816326531,0.3621621621621622,1.0,1.0,1.0,1.0,1.0,1.0,1.0,1.0,1.0,0.993006993006993,1.0,1.0,1.0],\"type\":\"histogram\",\"xaxis\":\"x\",\"yaxis\":\"y\"}],                        {\"template\":{\"data\":{\"bar\":[{\"error_x\":{\"color\":\"#2a3f5f\"},\"error_y\":{\"color\":\"#2a3f5f\"},\"marker\":{\"line\":{\"color\":\"#E5ECF6\",\"width\":0.5},\"pattern\":{\"fillmode\":\"overlay\",\"size\":10,\"solidity\":0.2}},\"type\":\"bar\"}],\"barpolar\":[{\"marker\":{\"line\":{\"color\":\"#E5ECF6\",\"width\":0.5},\"pattern\":{\"fillmode\":\"overlay\",\"size\":10,\"solidity\":0.2}},\"type\":\"barpolar\"}],\"carpet\":[{\"aaxis\":{\"endlinecolor\":\"#2a3f5f\",\"gridcolor\":\"white\",\"linecolor\":\"white\",\"minorgridcolor\":\"white\",\"startlinecolor\":\"#2a3f5f\"},\"baxis\":{\"endlinecolor\":\"#2a3f5f\",\"gridcolor\":\"white\",\"linecolor\":\"white\",\"minorgridcolor\":\"white\",\"startlinecolor\":\"#2a3f5f\"},\"type\":\"carpet\"}],\"choropleth\":[{\"colorbar\":{\"outlinewidth\":0,\"ticks\":\"\"},\"type\":\"choropleth\"}],\"contour\":[{\"colorbar\":{\"outlinewidth\":0,\"ticks\":\"\"},\"colorscale\":[[0.0,\"#0d0887\"],[0.1111111111111111,\"#46039f\"],[0.2222222222222222,\"#7201a8\"],[0.3333333333333333,\"#9c179e\"],[0.4444444444444444,\"#bd3786\"],[0.5555555555555556,\"#d8576b\"],[0.6666666666666666,\"#ed7953\"],[0.7777777777777778,\"#fb9f3a\"],[0.8888888888888888,\"#fdca26\"],[1.0,\"#f0f921\"]],\"type\":\"contour\"}],\"contourcarpet\":[{\"colorbar\":{\"outlinewidth\":0,\"ticks\":\"\"},\"type\":\"contourcarpet\"}],\"heatmap\":[{\"colorbar\":{\"outlinewidth\":0,\"ticks\":\"\"},\"colorscale\":[[0.0,\"#0d0887\"],[0.1111111111111111,\"#46039f\"],[0.2222222222222222,\"#7201a8\"],[0.3333333333333333,\"#9c179e\"],[0.4444444444444444,\"#bd3786\"],[0.5555555555555556,\"#d8576b\"],[0.6666666666666666,\"#ed7953\"],[0.7777777777777778,\"#fb9f3a\"],[0.8888888888888888,\"#fdca26\"],[1.0,\"#f0f921\"]],\"type\":\"heatmap\"}],\"heatmapgl\":[{\"colorbar\":{\"outlinewidth\":0,\"ticks\":\"\"},\"colorscale\":[[0.0,\"#0d0887\"],[0.1111111111111111,\"#46039f\"],[0.2222222222222222,\"#7201a8\"],[0.3333333333333333,\"#9c179e\"],[0.4444444444444444,\"#bd3786\"],[0.5555555555555556,\"#d8576b\"],[0.6666666666666666,\"#ed7953\"],[0.7777777777777778,\"#fb9f3a\"],[0.8888888888888888,\"#fdca26\"],[1.0,\"#f0f921\"]],\"type\":\"heatmapgl\"}],\"histogram\":[{\"marker\":{\"pattern\":{\"fillmode\":\"overlay\",\"size\":10,\"solidity\":0.2}},\"type\":\"histogram\"}],\"histogram2d\":[{\"colorbar\":{\"outlinewidth\":0,\"ticks\":\"\"},\"colorscale\":[[0.0,\"#0d0887\"],[0.1111111111111111,\"#46039f\"],[0.2222222222222222,\"#7201a8\"],[0.3333333333333333,\"#9c179e\"],[0.4444444444444444,\"#bd3786\"],[0.5555555555555556,\"#d8576b\"],[0.6666666666666666,\"#ed7953\"],[0.7777777777777778,\"#fb9f3a\"],[0.8888888888888888,\"#fdca26\"],[1.0,\"#f0f921\"]],\"type\":\"histogram2d\"}],\"histogram2dcontour\":[{\"colorbar\":{\"outlinewidth\":0,\"ticks\":\"\"},\"colorscale\":[[0.0,\"#0d0887\"],[0.1111111111111111,\"#46039f\"],[0.2222222222222222,\"#7201a8\"],[0.3333333333333333,\"#9c179e\"],[0.4444444444444444,\"#bd3786\"],[0.5555555555555556,\"#d8576b\"],[0.6666666666666666,\"#ed7953\"],[0.7777777777777778,\"#fb9f3a\"],[0.8888888888888888,\"#fdca26\"],[1.0,\"#f0f921\"]],\"type\":\"histogram2dcontour\"}],\"mesh3d\":[{\"colorbar\":{\"outlinewidth\":0,\"ticks\":\"\"},\"type\":\"mesh3d\"}],\"parcoords\":[{\"line\":{\"colorbar\":{\"outlinewidth\":0,\"ticks\":\"\"}},\"type\":\"parcoords\"}],\"pie\":[{\"automargin\":true,\"type\":\"pie\"}],\"scatter\":[{\"marker\":{\"colorbar\":{\"outlinewidth\":0,\"ticks\":\"\"}},\"type\":\"scatter\"}],\"scatter3d\":[{\"line\":{\"colorbar\":{\"outlinewidth\":0,\"ticks\":\"\"}},\"marker\":{\"colorbar\":{\"outlinewidth\":0,\"ticks\":\"\"}},\"type\":\"scatter3d\"}],\"scattercarpet\":[{\"marker\":{\"colorbar\":{\"outlinewidth\":0,\"ticks\":\"\"}},\"type\":\"scattercarpet\"}],\"scattergeo\":[{\"marker\":{\"colorbar\":{\"outlinewidth\":0,\"ticks\":\"\"}},\"type\":\"scattergeo\"}],\"scattergl\":[{\"marker\":{\"colorbar\":{\"outlinewidth\":0,\"ticks\":\"\"}},\"type\":\"scattergl\"}],\"scattermapbox\":[{\"marker\":{\"colorbar\":{\"outlinewidth\":0,\"ticks\":\"\"}},\"type\":\"scattermapbox\"}],\"scatterpolar\":[{\"marker\":{\"colorbar\":{\"outlinewidth\":0,\"ticks\":\"\"}},\"type\":\"scatterpolar\"}],\"scatterpolargl\":[{\"marker\":{\"colorbar\":{\"outlinewidth\":0,\"ticks\":\"\"}},\"type\":\"scatterpolargl\"}],\"scatterternary\":[{\"marker\":{\"colorbar\":{\"outlinewidth\":0,\"ticks\":\"\"}},\"type\":\"scatterternary\"}],\"surface\":[{\"colorbar\":{\"outlinewidth\":0,\"ticks\":\"\"},\"colorscale\":[[0.0,\"#0d0887\"],[0.1111111111111111,\"#46039f\"],[0.2222222222222222,\"#7201a8\"],[0.3333333333333333,\"#9c179e\"],[0.4444444444444444,\"#bd3786\"],[0.5555555555555556,\"#d8576b\"],[0.6666666666666666,\"#ed7953\"],[0.7777777777777778,\"#fb9f3a\"],[0.8888888888888888,\"#fdca26\"],[1.0,\"#f0f921\"]],\"type\":\"surface\"}],\"table\":[{\"cells\":{\"fill\":{\"color\":\"#EBF0F8\"},\"line\":{\"color\":\"white\"}},\"header\":{\"fill\":{\"color\":\"#C8D4E3\"},\"line\":{\"color\":\"white\"}},\"type\":\"table\"}]},\"layout\":{\"annotationdefaults\":{\"arrowcolor\":\"#2a3f5f\",\"arrowhead\":0,\"arrowwidth\":1},\"autotypenumbers\":\"strict\",\"coloraxis\":{\"colorbar\":{\"outlinewidth\":0,\"ticks\":\"\"}},\"colorscale\":{\"diverging\":[[0,\"#8e0152\"],[0.1,\"#c51b7d\"],[0.2,\"#de77ae\"],[0.3,\"#f1b6da\"],[0.4,\"#fde0ef\"],[0.5,\"#f7f7f7\"],[0.6,\"#e6f5d0\"],[0.7,\"#b8e186\"],[0.8,\"#7fbc41\"],[0.9,\"#4d9221\"],[1,\"#276419\"]],\"sequential\":[[0.0,\"#0d0887\"],[0.1111111111111111,\"#46039f\"],[0.2222222222222222,\"#7201a8\"],[0.3333333333333333,\"#9c179e\"],[0.4444444444444444,\"#bd3786\"],[0.5555555555555556,\"#d8576b\"],[0.6666666666666666,\"#ed7953\"],[0.7777777777777778,\"#fb9f3a\"],[0.8888888888888888,\"#fdca26\"],[1.0,\"#f0f921\"]],\"sequentialminus\":[[0.0,\"#0d0887\"],[0.1111111111111111,\"#46039f\"],[0.2222222222222222,\"#7201a8\"],[0.3333333333333333,\"#9c179e\"],[0.4444444444444444,\"#bd3786\"],[0.5555555555555556,\"#d8576b\"],[0.6666666666666666,\"#ed7953\"],[0.7777777777777778,\"#fb9f3a\"],[0.8888888888888888,\"#fdca26\"],[1.0,\"#f0f921\"]]},\"colorway\":[\"#636efa\",\"#EF553B\",\"#00cc96\",\"#ab63fa\",\"#FFA15A\",\"#19d3f3\",\"#FF6692\",\"#B6E880\",\"#FF97FF\",\"#FECB52\"],\"font\":{\"color\":\"#2a3f5f\"},\"geo\":{\"bgcolor\":\"white\",\"lakecolor\":\"white\",\"landcolor\":\"#E5ECF6\",\"showlakes\":true,\"showland\":true,\"subunitcolor\":\"white\"},\"hoverlabel\":{\"align\":\"left\"},\"hovermode\":\"closest\",\"mapbox\":{\"style\":\"light\"},\"paper_bgcolor\":\"white\",\"plot_bgcolor\":\"#E5ECF6\",\"polar\":{\"angularaxis\":{\"gridcolor\":\"white\",\"linecolor\":\"white\",\"ticks\":\"\"},\"bgcolor\":\"#E5ECF6\",\"radialaxis\":{\"gridcolor\":\"white\",\"linecolor\":\"white\",\"ticks\":\"\"}},\"scene\":{\"xaxis\":{\"backgroundcolor\":\"#E5ECF6\",\"gridcolor\":\"white\",\"gridwidth\":2,\"linecolor\":\"white\",\"showbackground\":true,\"ticks\":\"\",\"zerolinecolor\":\"white\"},\"yaxis\":{\"backgroundcolor\":\"#E5ECF6\",\"gridcolor\":\"white\",\"gridwidth\":2,\"linecolor\":\"white\",\"showbackground\":true,\"ticks\":\"\",\"zerolinecolor\":\"white\"},\"zaxis\":{\"backgroundcolor\":\"#E5ECF6\",\"gridcolor\":\"white\",\"gridwidth\":2,\"linecolor\":\"white\",\"showbackground\":true,\"ticks\":\"\",\"zerolinecolor\":\"white\"}},\"shapedefaults\":{\"line\":{\"color\":\"#2a3f5f\"}},\"ternary\":{\"aaxis\":{\"gridcolor\":\"white\",\"linecolor\":\"white\",\"ticks\":\"\"},\"baxis\":{\"gridcolor\":\"white\",\"linecolor\":\"white\",\"ticks\":\"\"},\"bgcolor\":\"#E5ECF6\",\"caxis\":{\"gridcolor\":\"white\",\"linecolor\":\"white\",\"ticks\":\"\"}},\"title\":{\"x\":0.05},\"xaxis\":{\"automargin\":true,\"gridcolor\":\"white\",\"linecolor\":\"white\",\"ticks\":\"\",\"title\":{\"standoff\":15},\"zerolinecolor\":\"white\",\"zerolinewidth\":2},\"yaxis\":{\"automargin\":true,\"gridcolor\":\"white\",\"linecolor\":\"white\",\"ticks\":\"\",\"title\":{\"standoff\":15},\"zerolinecolor\":\"white\",\"zerolinewidth\":2}}},\"xaxis\":{\"anchor\":\"y\",\"domain\":[0.0,1.0]},\"yaxis\":{\"anchor\":\"x\",\"domain\":[0.0,1.0]},\"shapes\":[{\"line\":{\"color\":\"red\",\"dash\":\"dash\"},\"type\":\"line\",\"x0\":0.6177807201458049,\"x1\":0.6177807201458049,\"xref\":\"x\",\"y0\":0,\"y1\":1,\"yref\":\"y domain\"},{\"line\":{\"color\":\"red\",\"dash\":\"dash\"},\"type\":\"line\",\"x0\":1.289551464831252,\"x1\":1.289551464831252,\"xref\":\"x\",\"y0\":0,\"y1\":1,\"yref\":\"y domain\"}]},                        {\"responsive\": true}                    ).then(function(){\n",
       "                            \n",
       "var gd = document.getElementById('977774d4-5d2f-40d5-8879-6cb6d8d02b45');\n",
       "var x = new MutationObserver(function (mutations, observer) {{\n",
       "        var display = window.getComputedStyle(gd).display;\n",
       "        if (!display || display === 'none') {{\n",
       "            console.log([gd, 'removed!']);\n",
       "            Plotly.purge(gd);\n",
       "            observer.disconnect();\n",
       "        }}\n",
       "}});\n",
       "\n",
       "// Listen for the removal of the full notebook cells\n",
       "var notebookContainer = gd.closest('#notebook-container');\n",
       "if (notebookContainer) {{\n",
       "    x.observe(notebookContainer, {childList: true});\n",
       "}}\n",
       "\n",
       "// Listen for the clearing of the current output cell\n",
       "var outputEl = gd.closest('.output');\n",
       "if (outputEl) {{\n",
       "    x.observe(outputEl, {childList: true});\n",
       "}}\n",
       "\n",
       "                        })                };                });            </script>        </div>"
      ]
     },
     "metadata": {},
     "output_type": "display_data"
    }
   ],
   "source": [
    "plot_gaussian()"
   ]
  },
  {
   "cell_type": "code",
   "execution_count": 91,
   "metadata": {},
   "outputs": [],
   "source": [
    "def vcf_to_mix_model(vcf_file,plot=False,tail_cutoff=0.05,title=\"AF Histogram\",return_freqs = False):\n",
    "    pos = []\n",
    "    freqs = []\n",
    "    with open('mix_infection.csv', 'w') as f:\n",
    "        subprocess.run(\"bcftools view -c 1 -m2 -M2 -T ^new_exclusion.bed %s | bcftools query -f '%%POS\\\\t%%REF\\\\t%%ALT[\\\\t%%GT\\\\t%%AD\\\\n]'\" % vcf_file, shell=True, stdout=f, text=True)\n",
    "\n",
    "#count how many column there is in the ROAO_proportion.csv file this is needed in order to read the csv in a a panda dataframe\n",
    "\n",
    "    with open('mix_infection.csv', 'r') as f:\n",
    "        for l in f:\n",
    "            row = l.strip().split()\n",
    "            ads = [int(x) for x in row[4].split(\",\")]\n",
    "            afs = [x/sum(ads) for x in ads]\n",
    "            if afs[1]>1-tail_cutoff or afs[1]<tail_cutoff:\n",
    "                continue\n",
    "            pos.append(int(row[0]))\n",
    "            freqs.append([afs[1]])\n",
    "        # freqs = [[0.7],[0.6],[0.4]]    \n",
    "    gm = GaussianMixture(n_components=2, random_state=0).fit(freqs)\n",
    "    if plot:\n",
    "        plot_gm(gm,freqs)\n",
    "    if return_freqs:\n",
    "        return (gm,list(zip(pos,freqs)))\n",
    "    else:\n",
    "        return gm\n",
    "\n"
   ]
  },
  {
   "cell_type": "code",
   "execution_count": 92,
   "metadata": {},
   "outputs": [
    {
     "name": "stdout",
     "output_type": "stream",
     "text": [
      "std0: 0.11129875740351634\n",
      "0.6836992187547083\n",
      "std1: 0.12477868352910905\n",
      "0.2963206504295339\n"
     ]
    },
    {
     "data": {
      "application/vnd.plotly.v1+json": {
       "config": {
        "plotlyServerURL": "https://plot.ly"
       },
       "data": [
        {
         "type": "histogram",
         "x": [
          0.5416666666666666,
          0.25,
          0.26666666666666666,
          0.6666666666666666,
          0.2862903225806452,
          0.301255230125523,
          0.43278688524590164,
          0.3813559322033898,
          0.3881856540084388,
          0.28735632183908044,
          0.15384615384615385,
          0.7262180974477959,
          0.15789473684210525,
          0.13679245283018868,
          0.13425925925925927,
          0.1542056074766355,
          0.41132075471698115,
          0.3438914027149321,
          0.28761061946902655,
          0.2832618025751073,
          0.23893805309734514,
          0.21739130434782608,
          0.16379310344827586,
          0.14601769911504425,
          0.16363636363636364,
          0.1518987341772152,
          0.15021459227467812,
          0.11979166666666667,
          0.6,
          0.6666666666666666,
          0.6,
          0.11363636363636363,
          0.12222222222222222,
          0.13580246913580246,
          0.4817813765182186,
          0.4663677130044843,
          0.5047169811320755,
          0.4712230215827338,
          0.35344827586206895,
          0.6028368794326241,
          0.13636363636363635,
          0.2916666666666667,
          0.4175257731958763,
          0.24324324324324326,
          0.11237785016286644,
          0.7538461538461538,
          0.6203703703703703,
          0.7560975609756098,
          0.26903553299492383,
          0.6923076923076923,
          0.27419354838709675,
          0.39375,
          0.3485915492957746,
          0.27380952380952384,
          0.2764227642276423,
          0.2682926829268293,
          0.1282051282051282,
          0.5822368421052632,
          0.4528301886792453,
          0.42857142857142855,
          0.46866485013623976,
          0.4776536312849162,
          0.46629213483146065,
          0.46438746438746437,
          0.43373493975903615,
          0.45481049562682213,
          0.7631578947368421,
          0.37202380952380953,
          0.2951388888888889,
          0.3151750972762646,
          0.25089605734767023,
          0.23015873015873015,
          0.2,
          0.15555555555555556,
          0.39545454545454545,
          0.42358078602620086,
          0.4307692307692308,
          0.4383561643835616,
          0.44537815126050423,
          0.4401114206128134,
          0.35094339622641507,
          0.3576923076923077,
          0.38235294117647056,
          0.5948275862068966,
          0.12345679012345678,
          0.664179104477612,
          0.288135593220339,
          0.16216216216216217,
          0.897196261682243,
          0.8549618320610687,
          0.14,
          0.19254658385093168,
          0.17027027027027028,
          0.12359550561797752,
          0.696969696969697,
          0.1853932584269663,
          0.4240506329113924,
          0.4152542372881356,
          0.46153846153846156,
          0.14814814814814814,
          0.16447368421052633,
          0.16181229773462782,
          0.15584415584415584,
          0.1830065359477124,
          0.26685393258426965,
          0.283987915407855,
          0.2844574780058651,
          0.2838283828382838,
          0.32802547770700635,
          0.808,
          0.1657142857142857,
          0.3486238532110092,
          0.10820895522388059,
          0.1111111111111111,
          0.31970260223048325,
          0.3878787878787879,
          0.44508670520231214,
          0.48257372654155495,
          0.39271255060728744,
          0.2,
          0.20967741935483872,
          0.25660377358490566,
          0.26356589147286824,
          0.32167832167832167,
          0.339041095890411,
          0.3643122676579926,
          0.458128078817734,
          0.3852040816326531,
          0.3621621621621622
         ],
         "xaxis": "x",
         "yaxis": "y"
        },
        {
         "mode": "lines",
         "type": "scatter",
         "x": [
          0,
          0.010101010101010102,
          0.020202020202020204,
          0.030303030303030304,
          0.04040404040404041,
          0.05050505050505051,
          0.06060606060606061,
          0.07070707070707072,
          0.08080808080808081,
          0.09090909090909091,
          0.10101010101010102,
          0.11111111111111112,
          0.12121212121212122,
          0.13131313131313133,
          0.14141414141414144,
          0.15151515151515152,
          0.16161616161616163,
          0.17171717171717174,
          0.18181818181818182,
          0.19191919191919193,
          0.20202020202020204,
          0.21212121212121213,
          0.22222222222222224,
          0.23232323232323235,
          0.24242424242424243,
          0.25252525252525254,
          0.26262626262626265,
          0.27272727272727276,
          0.2828282828282829,
          0.29292929292929293,
          0.30303030303030304,
          0.31313131313131315,
          0.32323232323232326,
          0.33333333333333337,
          0.3434343434343435,
          0.3535353535353536,
          0.36363636363636365,
          0.37373737373737376,
          0.38383838383838387,
          0.393939393939394,
          0.4040404040404041,
          0.4141414141414142,
          0.42424242424242425,
          0.43434343434343436,
          0.4444444444444445,
          0.4545454545454546,
          0.4646464646464647,
          0.4747474747474748,
          0.48484848484848486,
          0.494949494949495,
          0.5050505050505051,
          0.5151515151515152,
          0.5252525252525253,
          0.5353535353535354,
          0.5454545454545455,
          0.5555555555555556,
          0.5656565656565657,
          0.5757575757575758,
          0.5858585858585859,
          0.595959595959596,
          0.6060606060606061,
          0.6161616161616162,
          0.6262626262626263,
          0.6363636363636365,
          0.6464646464646465,
          0.6565656565656566,
          0.6666666666666667,
          0.6767676767676768,
          0.686868686868687,
          0.696969696969697,
          0.7070707070707072,
          0.7171717171717172,
          0.7272727272727273,
          0.7373737373737375,
          0.7474747474747475,
          0.7575757575757577,
          0.7676767676767677,
          0.7777777777777778,
          0.787878787878788,
          0.797979797979798,
          0.8080808080808082,
          0.8181818181818182,
          0.8282828282828284,
          0.8383838383838385,
          0.8484848484848485,
          0.8585858585858587,
          0.8686868686868687,
          0.8787878787878789,
          0.888888888888889,
          0.8989898989898991,
          0.9090909090909092,
          0.9191919191919192,
          0.9292929292929294,
          0.9393939393939394,
          0.9494949494949496,
          0.9595959595959597,
          0.9696969696969697,
          0.9797979797979799,
          0.98989898989899,
          1
         ],
         "xaxis": "x",
         "y": [
          2.2922968005773538e-08,
          3.986611433793968e-08,
          6.876379700073684e-08,
          1.176355731772122e-07,
          1.995907352772019e-07,
          3.358651670690163e-07,
          5.605475178273839e-07,
          9.278607085687994e-07,
          1.52326694066691e-06,
          2.480230997292714e-06,
          4.0052638131393e-06,
          6.414945996049205e-06,
          1.0190084003846895e-05,
          1.6054079363360758e-05,
          2.5085105319984512e-05,
          3.887490437312186e-05,
          5.9751060869399023e-05,
          9.108456510816248e-05,
          0.00013771043161559193,
          0.000206496060967199,
          0.0003070998367896621,
          0.0004529708777733209,
          0.0006626494761914925,
          0.000961435864024965,
          0.0013835015804087203,
          0.0019745215707747837,
          0.00279490459292344,
          0.003923692586740426,
          0.005463184183141373,
          0.007544311164714691,
          0.010332757203069792,
          0.014035753692152491,
          0.018909416770053603,
          0.02526640256262388,
          0.0334835557002099,
          0.04400911260284975,
          0.057368901537083954,
          0.0741708641599953,
          0.09510711883189493,
          0.12095270727885606,
          0.1525601277175516,
          0.1908487744449738,
          0.23678849054795595,
          0.29137660881479954,
          0.3556081138867255,
          0.43043890775849025,
          0.5167425946238182,
          0.6152617042759916,
          0.7265548205366907,
          0.8509416377311135,
          0.9884484911979087,
          1.138757348822403,
          1.3011615593234462,
          1.4745317818676358,
          1.6572954306083023,
          1.8474326298694856,
          2.0424910812722112,
          2.2396214043926426,
          2.4356334615052626,
          2.6270729709262013,
          2.810316428464623,
          2.9816810832576377,
          3.137545551245081,
          3.274475694395536,
          3.3893497342779306,
          3.479476273691491,
          3.5426990125128475,
          3.5774824746784812,
          3.5829739890603824,
          3.559038431237566,
          3.5062637498071214,
          3.4259369616778046,
          3.3199919846921095,
          3.190932259812797,
          3.041732484780427,
          2.8757248413398155,
          2.6964757805935213,
          2.5076596998090963,
          2.3129356974483333,
          2.115833062672876,
          1.919650301104115,
          1.7273714019344741,
          1.541601807645577,
          1.3645252557801095,
          1.1978814169608558,
          1.042963136865558,
          0.9006311662550469,
          0.7713435748633689,
          0.6551966116021193,
          0.5519735929213951,
          0.4611984522300516,
          0.3821908302854763,
          0.3141199840456713,
          0.2560552897640866,
          0.20701166551996128,
          0.16598879363449104,
          0.1320035465221432,
          0.10411548156251739,
          0.08144565244382755,
          0.06318927652225509
         ],
         "yaxis": "y2"
        },
        {
         "mode": "lines",
         "type": "scatter",
         "x": [
          0,
          0.010101010101010102,
          0.020202020202020204,
          0.030303030303030304,
          0.04040404040404041,
          0.05050505050505051,
          0.06060606060606061,
          0.07070707070707072,
          0.08080808080808081,
          0.09090909090909091,
          0.10101010101010102,
          0.11111111111111112,
          0.12121212121212122,
          0.13131313131313133,
          0.14141414141414144,
          0.15151515151515152,
          0.16161616161616163,
          0.17171717171717174,
          0.18181818181818182,
          0.19191919191919193,
          0.20202020202020204,
          0.21212121212121213,
          0.22222222222222224,
          0.23232323232323235,
          0.24242424242424243,
          0.25252525252525254,
          0.26262626262626265,
          0.27272727272727276,
          0.2828282828282829,
          0.29292929292929293,
          0.30303030303030304,
          0.31313131313131315,
          0.32323232323232326,
          0.33333333333333337,
          0.3434343434343435,
          0.3535353535353536,
          0.36363636363636365,
          0.37373737373737376,
          0.38383838383838387,
          0.393939393939394,
          0.4040404040404041,
          0.4141414141414142,
          0.42424242424242425,
          0.43434343434343436,
          0.4444444444444445,
          0.4545454545454546,
          0.4646464646464647,
          0.4747474747474748,
          0.48484848484848486,
          0.494949494949495,
          0.5050505050505051,
          0.5151515151515152,
          0.5252525252525253,
          0.5353535353535354,
          0.5454545454545455,
          0.5555555555555556,
          0.5656565656565657,
          0.5757575757575758,
          0.5858585858585859,
          0.595959595959596,
          0.6060606060606061,
          0.6161616161616162,
          0.6262626262626263,
          0.6363636363636365,
          0.6464646464646465,
          0.6565656565656566,
          0.6666666666666667,
          0.6767676767676768,
          0.686868686868687,
          0.696969696969697,
          0.7070707070707072,
          0.7171717171717172,
          0.7272727272727273,
          0.7373737373737375,
          0.7474747474747475,
          0.7575757575757577,
          0.7676767676767677,
          0.7777777777777778,
          0.787878787878788,
          0.797979797979798,
          0.8080808080808082,
          0.8181818181818182,
          0.8282828282828284,
          0.8383838383838385,
          0.8484848484848485,
          0.8585858585858587,
          0.8686868686868687,
          0.8787878787878789,
          0.888888888888889,
          0.8989898989898991,
          0.9090909090909092,
          0.9191919191919192,
          0.9292929292929294,
          0.9393939393939394,
          0.9494949494949496,
          0.9595959595959597,
          0.9696969696969697,
          0.9797979797979799,
          0.98989898989899,
          1
         ],
         "xaxis": "x",
         "y": [
          0.1906166924879858,
          0.23026457183391097,
          0.2763422748961804,
          0.3294743010383795,
          0.3902561661998476,
          0.4592318637521916,
          0.5368689234268311,
          0.6235316874913243,
          0.7194536229233738,
          0.824709676842178,
          0.9391898460802154,
          1.0625752561081911,
          1.1943181155883327,
          1.3336269182246043,
          1.4794581936539883,
          1.6305159581093565,
          1.7852597825460579,
          1.9419220854455423,
          2.098534880008861,
          2.2529657770562634,
          2.4029625868811393,
          2.546205400806327,
          2.680364593999377,
          2.8031628036163436,
          2.9124386275638114,
          3.0062095826202886,
          3.082731774441864,
          3.1405537771441394,
          3.1785623995530767,
          3.1960183229481784,
          3.1925800166435963,
          3.1683148506942764,
          3.12369690060822,
          3.0595915439955084,
          2.9772275482984667,
          2.87815790724926,
          2.7642111695066944,
          2.6374353891729765,
          2.5000370946558363,
          2.35431780786423,
          2.202610646999771,
          2.0472194188674067,
          1.8903623641979,
          1.7341223820322733,
          1.5804051516566315,
          1.4309061205866556,
          1.2870868630843701,
          1.1501608627543463,
          1.0210883589802031,
          0.9005795399715383,
          0.7891050792903295,
          0.6869128064077671,
          0.5940491778239784,
          0.5103841709489493,
          0.43563825113202637,
          0.36941015225741164,
          0.31120435014586156,
          0.2604572813817936,
          0.2165615538004418,
          0.17888759527568537,
          0.1468023828275957,
          0.11968507475405195,
          0.09693952725795589,
          0.07800380917456151,
          0.062356931574079365,
          0.04952308301371367,
          0.03907370758030917,
          0.030627784463216495,
          0.023850668376804527,
          0.018451833935422733,
          0.014181838400441741,
          0.010828780209541113,
          0.008214489091350216,
          0.00619064053519538,
          0.00463494546447973,
          0.003447527043533615,
          0.002547561906572909,
          0.0018702334599852088,
          0.0013640205411581839,
          0.0009883255210004537,
          0.000711431550309767,
          0.0005087685345605185,
          0.000361460943898569,
          0.0002551270599600002,
          0.00017889808097264903,
          0.00012462605597132192,
          8.625137594750174e-05,
          5.930307654750165e-05,
          4.050815177388821e-05,
          2.7489171082179467e-05,
          1.8532536812538135e-05,
          1.2412581423201516e-05,
          8.25930227719685e-06,
          5.459823745694129e-06,
          3.5856500125331075e-06,
          2.3394360723432317e-06,
          1.5163815060657635e-06,
          9.76471984528431e-07,
          6.246907969247027e-07,
          3.970310201925069e-07
         ],
         "yaxis": "y2"
        }
       ],
       "layout": {
        "autosize": true,
        "template": {
         "data": {
          "bar": [
           {
            "error_x": {
             "color": "#2a3f5f"
            },
            "error_y": {
             "color": "#2a3f5f"
            },
            "marker": {
             "line": {
              "color": "#E5ECF6",
              "width": 0.5
             },
             "pattern": {
              "fillmode": "overlay",
              "size": 10,
              "solidity": 0.2
             }
            },
            "type": "bar"
           }
          ],
          "barpolar": [
           {
            "marker": {
             "line": {
              "color": "#E5ECF6",
              "width": 0.5
             },
             "pattern": {
              "fillmode": "overlay",
              "size": 10,
              "solidity": 0.2
             }
            },
            "type": "barpolar"
           }
          ],
          "carpet": [
           {
            "aaxis": {
             "endlinecolor": "#2a3f5f",
             "gridcolor": "white",
             "linecolor": "white",
             "minorgridcolor": "white",
             "startlinecolor": "#2a3f5f"
            },
            "baxis": {
             "endlinecolor": "#2a3f5f",
             "gridcolor": "white",
             "linecolor": "white",
             "minorgridcolor": "white",
             "startlinecolor": "#2a3f5f"
            },
            "type": "carpet"
           }
          ],
          "choropleth": [
           {
            "colorbar": {
             "outlinewidth": 0,
             "ticks": ""
            },
            "type": "choropleth"
           }
          ],
          "contour": [
           {
            "colorbar": {
             "outlinewidth": 0,
             "ticks": ""
            },
            "colorscale": [
             [
              0,
              "#0d0887"
             ],
             [
              0.1111111111111111,
              "#46039f"
             ],
             [
              0.2222222222222222,
              "#7201a8"
             ],
             [
              0.3333333333333333,
              "#9c179e"
             ],
             [
              0.4444444444444444,
              "#bd3786"
             ],
             [
              0.5555555555555556,
              "#d8576b"
             ],
             [
              0.6666666666666666,
              "#ed7953"
             ],
             [
              0.7777777777777778,
              "#fb9f3a"
             ],
             [
              0.8888888888888888,
              "#fdca26"
             ],
             [
              1,
              "#f0f921"
             ]
            ],
            "type": "contour"
           }
          ],
          "contourcarpet": [
           {
            "colorbar": {
             "outlinewidth": 0,
             "ticks": ""
            },
            "type": "contourcarpet"
           }
          ],
          "heatmap": [
           {
            "colorbar": {
             "outlinewidth": 0,
             "ticks": ""
            },
            "colorscale": [
             [
              0,
              "#0d0887"
             ],
             [
              0.1111111111111111,
              "#46039f"
             ],
             [
              0.2222222222222222,
              "#7201a8"
             ],
             [
              0.3333333333333333,
              "#9c179e"
             ],
             [
              0.4444444444444444,
              "#bd3786"
             ],
             [
              0.5555555555555556,
              "#d8576b"
             ],
             [
              0.6666666666666666,
              "#ed7953"
             ],
             [
              0.7777777777777778,
              "#fb9f3a"
             ],
             [
              0.8888888888888888,
              "#fdca26"
             ],
             [
              1,
              "#f0f921"
             ]
            ],
            "type": "heatmap"
           }
          ],
          "heatmapgl": [
           {
            "colorbar": {
             "outlinewidth": 0,
             "ticks": ""
            },
            "colorscale": [
             [
              0,
              "#0d0887"
             ],
             [
              0.1111111111111111,
              "#46039f"
             ],
             [
              0.2222222222222222,
              "#7201a8"
             ],
             [
              0.3333333333333333,
              "#9c179e"
             ],
             [
              0.4444444444444444,
              "#bd3786"
             ],
             [
              0.5555555555555556,
              "#d8576b"
             ],
             [
              0.6666666666666666,
              "#ed7953"
             ],
             [
              0.7777777777777778,
              "#fb9f3a"
             ],
             [
              0.8888888888888888,
              "#fdca26"
             ],
             [
              1,
              "#f0f921"
             ]
            ],
            "type": "heatmapgl"
           }
          ],
          "histogram": [
           {
            "marker": {
             "pattern": {
              "fillmode": "overlay",
              "size": 10,
              "solidity": 0.2
             }
            },
            "type": "histogram"
           }
          ],
          "histogram2d": [
           {
            "colorbar": {
             "outlinewidth": 0,
             "ticks": ""
            },
            "colorscale": [
             [
              0,
              "#0d0887"
             ],
             [
              0.1111111111111111,
              "#46039f"
             ],
             [
              0.2222222222222222,
              "#7201a8"
             ],
             [
              0.3333333333333333,
              "#9c179e"
             ],
             [
              0.4444444444444444,
              "#bd3786"
             ],
             [
              0.5555555555555556,
              "#d8576b"
             ],
             [
              0.6666666666666666,
              "#ed7953"
             ],
             [
              0.7777777777777778,
              "#fb9f3a"
             ],
             [
              0.8888888888888888,
              "#fdca26"
             ],
             [
              1,
              "#f0f921"
             ]
            ],
            "type": "histogram2d"
           }
          ],
          "histogram2dcontour": [
           {
            "colorbar": {
             "outlinewidth": 0,
             "ticks": ""
            },
            "colorscale": [
             [
              0,
              "#0d0887"
             ],
             [
              0.1111111111111111,
              "#46039f"
             ],
             [
              0.2222222222222222,
              "#7201a8"
             ],
             [
              0.3333333333333333,
              "#9c179e"
             ],
             [
              0.4444444444444444,
              "#bd3786"
             ],
             [
              0.5555555555555556,
              "#d8576b"
             ],
             [
              0.6666666666666666,
              "#ed7953"
             ],
             [
              0.7777777777777778,
              "#fb9f3a"
             ],
             [
              0.8888888888888888,
              "#fdca26"
             ],
             [
              1,
              "#f0f921"
             ]
            ],
            "type": "histogram2dcontour"
           }
          ],
          "mesh3d": [
           {
            "colorbar": {
             "outlinewidth": 0,
             "ticks": ""
            },
            "type": "mesh3d"
           }
          ],
          "parcoords": [
           {
            "line": {
             "colorbar": {
              "outlinewidth": 0,
              "ticks": ""
             }
            },
            "type": "parcoords"
           }
          ],
          "pie": [
           {
            "automargin": true,
            "type": "pie"
           }
          ],
          "scatter": [
           {
            "marker": {
             "colorbar": {
              "outlinewidth": 0,
              "ticks": ""
             }
            },
            "type": "scatter"
           }
          ],
          "scatter3d": [
           {
            "line": {
             "colorbar": {
              "outlinewidth": 0,
              "ticks": ""
             }
            },
            "marker": {
             "colorbar": {
              "outlinewidth": 0,
              "ticks": ""
             }
            },
            "type": "scatter3d"
           }
          ],
          "scattercarpet": [
           {
            "marker": {
             "colorbar": {
              "outlinewidth": 0,
              "ticks": ""
             }
            },
            "type": "scattercarpet"
           }
          ],
          "scattergeo": [
           {
            "marker": {
             "colorbar": {
              "outlinewidth": 0,
              "ticks": ""
             }
            },
            "type": "scattergeo"
           }
          ],
          "scattergl": [
           {
            "marker": {
             "colorbar": {
              "outlinewidth": 0,
              "ticks": ""
             }
            },
            "type": "scattergl"
           }
          ],
          "scattermapbox": [
           {
            "marker": {
             "colorbar": {
              "outlinewidth": 0,
              "ticks": ""
             }
            },
            "type": "scattermapbox"
           }
          ],
          "scatterpolar": [
           {
            "marker": {
             "colorbar": {
              "outlinewidth": 0,
              "ticks": ""
             }
            },
            "type": "scatterpolar"
           }
          ],
          "scatterpolargl": [
           {
            "marker": {
             "colorbar": {
              "outlinewidth": 0,
              "ticks": ""
             }
            },
            "type": "scatterpolargl"
           }
          ],
          "scatterternary": [
           {
            "marker": {
             "colorbar": {
              "outlinewidth": 0,
              "ticks": ""
             }
            },
            "type": "scatterternary"
           }
          ],
          "surface": [
           {
            "colorbar": {
             "outlinewidth": 0,
             "ticks": ""
            },
            "colorscale": [
             [
              0,
              "#0d0887"
             ],
             [
              0.1111111111111111,
              "#46039f"
             ],
             [
              0.2222222222222222,
              "#7201a8"
             ],
             [
              0.3333333333333333,
              "#9c179e"
             ],
             [
              0.4444444444444444,
              "#bd3786"
             ],
             [
              0.5555555555555556,
              "#d8576b"
             ],
             [
              0.6666666666666666,
              "#ed7953"
             ],
             [
              0.7777777777777778,
              "#fb9f3a"
             ],
             [
              0.8888888888888888,
              "#fdca26"
             ],
             [
              1,
              "#f0f921"
             ]
            ],
            "type": "surface"
           }
          ],
          "table": [
           {
            "cells": {
             "fill": {
              "color": "#EBF0F8"
             },
             "line": {
              "color": "white"
             }
            },
            "header": {
             "fill": {
              "color": "#C8D4E3"
             },
             "line": {
              "color": "white"
             }
            },
            "type": "table"
           }
          ]
         },
         "layout": {
          "annotationdefaults": {
           "arrowcolor": "#2a3f5f",
           "arrowhead": 0,
           "arrowwidth": 1
          },
          "autotypenumbers": "strict",
          "coloraxis": {
           "colorbar": {
            "outlinewidth": 0,
            "ticks": ""
           }
          },
          "colorscale": {
           "diverging": [
            [
             0,
             "#8e0152"
            ],
            [
             0.1,
             "#c51b7d"
            ],
            [
             0.2,
             "#de77ae"
            ],
            [
             0.3,
             "#f1b6da"
            ],
            [
             0.4,
             "#fde0ef"
            ],
            [
             0.5,
             "#f7f7f7"
            ],
            [
             0.6,
             "#e6f5d0"
            ],
            [
             0.7,
             "#b8e186"
            ],
            [
             0.8,
             "#7fbc41"
            ],
            [
             0.9,
             "#4d9221"
            ],
            [
             1,
             "#276419"
            ]
           ],
           "sequential": [
            [
             0,
             "#0d0887"
            ],
            [
             0.1111111111111111,
             "#46039f"
            ],
            [
             0.2222222222222222,
             "#7201a8"
            ],
            [
             0.3333333333333333,
             "#9c179e"
            ],
            [
             0.4444444444444444,
             "#bd3786"
            ],
            [
             0.5555555555555556,
             "#d8576b"
            ],
            [
             0.6666666666666666,
             "#ed7953"
            ],
            [
             0.7777777777777778,
             "#fb9f3a"
            ],
            [
             0.8888888888888888,
             "#fdca26"
            ],
            [
             1,
             "#f0f921"
            ]
           ],
           "sequentialminus": [
            [
             0,
             "#0d0887"
            ],
            [
             0.1111111111111111,
             "#46039f"
            ],
            [
             0.2222222222222222,
             "#7201a8"
            ],
            [
             0.3333333333333333,
             "#9c179e"
            ],
            [
             0.4444444444444444,
             "#bd3786"
            ],
            [
             0.5555555555555556,
             "#d8576b"
            ],
            [
             0.6666666666666666,
             "#ed7953"
            ],
            [
             0.7777777777777778,
             "#fb9f3a"
            ],
            [
             0.8888888888888888,
             "#fdca26"
            ],
            [
             1,
             "#f0f921"
            ]
           ]
          },
          "colorway": [
           "#636efa",
           "#EF553B",
           "#00cc96",
           "#ab63fa",
           "#FFA15A",
           "#19d3f3",
           "#FF6692",
           "#B6E880",
           "#FF97FF",
           "#FECB52"
          ],
          "font": {
           "color": "#2a3f5f"
          },
          "geo": {
           "bgcolor": "white",
           "lakecolor": "white",
           "landcolor": "#E5ECF6",
           "showlakes": true,
           "showland": true,
           "subunitcolor": "white"
          },
          "hoverlabel": {
           "align": "left"
          },
          "hovermode": "closest",
          "mapbox": {
           "style": "light"
          },
          "paper_bgcolor": "white",
          "plot_bgcolor": "#E5ECF6",
          "polar": {
           "angularaxis": {
            "gridcolor": "white",
            "linecolor": "white",
            "ticks": ""
           },
           "bgcolor": "#E5ECF6",
           "radialaxis": {
            "gridcolor": "white",
            "linecolor": "white",
            "ticks": ""
           }
          },
          "scene": {
           "xaxis": {
            "backgroundcolor": "#E5ECF6",
            "gridcolor": "white",
            "gridwidth": 2,
            "linecolor": "white",
            "showbackground": true,
            "ticks": "",
            "zerolinecolor": "white"
           },
           "yaxis": {
            "backgroundcolor": "#E5ECF6",
            "gridcolor": "white",
            "gridwidth": 2,
            "linecolor": "white",
            "showbackground": true,
            "ticks": "",
            "zerolinecolor": "white"
           },
           "zaxis": {
            "backgroundcolor": "#E5ECF6",
            "gridcolor": "white",
            "gridwidth": 2,
            "linecolor": "white",
            "showbackground": true,
            "ticks": "",
            "zerolinecolor": "white"
           }
          },
          "shapedefaults": {
           "line": {
            "color": "#2a3f5f"
           }
          },
          "ternary": {
           "aaxis": {
            "gridcolor": "white",
            "linecolor": "white",
            "ticks": ""
           },
           "baxis": {
            "gridcolor": "white",
            "linecolor": "white",
            "ticks": ""
           },
           "bgcolor": "#E5ECF6",
           "caxis": {
            "gridcolor": "white",
            "linecolor": "white",
            "ticks": ""
           }
          },
          "title": {
           "x": 0.05
          },
          "xaxis": {
           "automargin": true,
           "gridcolor": "white",
           "linecolor": "white",
           "ticks": "",
           "title": {
            "standoff": 15
           },
           "zerolinecolor": "white",
           "zerolinewidth": 2
          },
          "yaxis": {
           "automargin": true,
           "gridcolor": "white",
           "linecolor": "white",
           "ticks": "",
           "title": {
            "standoff": 15
           },
           "zerolinecolor": "white",
           "zerolinewidth": 2
          }
         }
        },
        "xaxis": {
         "anchor": "y",
         "autorange": true,
         "domain": [
          0,
          0.94
         ],
         "range": [
          0,
          1
         ],
         "type": "linear"
        },
        "yaxis": {
         "anchor": "x",
         "autorange": true,
         "domain": [
          0,
          1
         ],
         "range": [
          0,
          34.73684210526316
         ]
        },
        "yaxis2": {
         "anchor": "x",
         "autorange": true,
         "overlaying": "y",
         "range": [
          -0.19905408630688837,
          3.782028098290239
         ],
         "side": "right",
         "type": "linear"
        }
       }
      },
      "text/html": [
       "<div>                            <div id=\"2be982b4-6952-4dba-a2bc-2aa769bd7802\" class=\"plotly-graph-div\" style=\"height:525px; width:100%;\"></div>            <script type=\"text/javascript\">                require([\"plotly\"], function(Plotly) {                    window.PLOTLYENV=window.PLOTLYENV || {};                                    if (document.getElementById(\"2be982b4-6952-4dba-a2bc-2aa769bd7802\")) {                    Plotly.newPlot(                        \"2be982b4-6952-4dba-a2bc-2aa769bd7802\",                        [{\"x\":[0.5416666666666666,0.25,0.26666666666666666,0.6666666666666666,0.2862903225806452,0.301255230125523,0.43278688524590164,0.3813559322033898,0.3881856540084388,0.28735632183908044,0.15384615384615385,0.7262180974477959,0.15789473684210525,0.13679245283018868,0.13425925925925927,0.1542056074766355,0.41132075471698115,0.3438914027149321,0.28761061946902655,0.2832618025751073,0.23893805309734514,0.21739130434782608,0.16379310344827586,0.14601769911504425,0.16363636363636364,0.1518987341772152,0.15021459227467812,0.11979166666666667,0.6,0.6666666666666666,0.6,0.11363636363636363,0.12222222222222222,0.13580246913580246,0.4817813765182186,0.4663677130044843,0.5047169811320755,0.4712230215827338,0.35344827586206895,0.6028368794326241,0.13636363636363635,0.2916666666666667,0.4175257731958763,0.24324324324324326,0.11237785016286644,0.7538461538461538,0.6203703703703703,0.7560975609756098,0.26903553299492383,0.6923076923076923,0.27419354838709675,0.39375,0.3485915492957746,0.27380952380952384,0.2764227642276423,0.2682926829268293,0.1282051282051282,0.5822368421052632,0.4528301886792453,0.42857142857142855,0.46866485013623976,0.4776536312849162,0.46629213483146065,0.46438746438746437,0.43373493975903615,0.45481049562682213,0.7631578947368421,0.37202380952380953,0.2951388888888889,0.3151750972762646,0.25089605734767023,0.23015873015873015,0.2,0.15555555555555556,0.39545454545454545,0.42358078602620086,0.4307692307692308,0.4383561643835616,0.44537815126050423,0.4401114206128134,0.35094339622641507,0.3576923076923077,0.38235294117647056,0.5948275862068966,0.12345679012345678,0.664179104477612,0.288135593220339,0.16216216216216217,0.897196261682243,0.8549618320610687,0.14,0.19254658385093168,0.17027027027027028,0.12359550561797752,0.696969696969697,0.1853932584269663,0.4240506329113924,0.4152542372881356,0.46153846153846156,0.14814814814814814,0.16447368421052633,0.16181229773462782,0.15584415584415584,0.1830065359477124,0.26685393258426965,0.283987915407855,0.2844574780058651,0.2838283828382838,0.32802547770700635,0.808,0.1657142857142857,0.3486238532110092,0.10820895522388059,0.1111111111111111,0.31970260223048325,0.3878787878787879,0.44508670520231214,0.48257372654155495,0.39271255060728744,0.2,0.20967741935483872,0.25660377358490566,0.26356589147286824,0.32167832167832167,0.339041095890411,0.3643122676579926,0.458128078817734,0.3852040816326531,0.3621621621621622],\"type\":\"histogram\",\"xaxis\":\"x\",\"yaxis\":\"y\"},{\"mode\":\"lines\",\"x\":[0.0,0.010101010101010102,0.020202020202020204,0.030303030303030304,0.04040404040404041,0.05050505050505051,0.06060606060606061,0.07070707070707072,0.08080808080808081,0.09090909090909091,0.10101010101010102,0.11111111111111112,0.12121212121212122,0.13131313131313133,0.14141414141414144,0.15151515151515152,0.16161616161616163,0.17171717171717174,0.18181818181818182,0.19191919191919193,0.20202020202020204,0.21212121212121213,0.22222222222222224,0.23232323232323235,0.24242424242424243,0.25252525252525254,0.26262626262626265,0.27272727272727276,0.2828282828282829,0.29292929292929293,0.30303030303030304,0.31313131313131315,0.32323232323232326,0.33333333333333337,0.3434343434343435,0.3535353535353536,0.36363636363636365,0.37373737373737376,0.38383838383838387,0.393939393939394,0.4040404040404041,0.4141414141414142,0.42424242424242425,0.43434343434343436,0.4444444444444445,0.4545454545454546,0.4646464646464647,0.4747474747474748,0.48484848484848486,0.494949494949495,0.5050505050505051,0.5151515151515152,0.5252525252525253,0.5353535353535354,0.5454545454545455,0.5555555555555556,0.5656565656565657,0.5757575757575758,0.5858585858585859,0.595959595959596,0.6060606060606061,0.6161616161616162,0.6262626262626263,0.6363636363636365,0.6464646464646465,0.6565656565656566,0.6666666666666667,0.6767676767676768,0.686868686868687,0.696969696969697,0.7070707070707072,0.7171717171717172,0.7272727272727273,0.7373737373737375,0.7474747474747475,0.7575757575757577,0.7676767676767677,0.7777777777777778,0.787878787878788,0.797979797979798,0.8080808080808082,0.8181818181818182,0.8282828282828284,0.8383838383838385,0.8484848484848485,0.8585858585858587,0.8686868686868687,0.8787878787878789,0.888888888888889,0.8989898989898991,0.9090909090909092,0.9191919191919192,0.9292929292929294,0.9393939393939394,0.9494949494949496,0.9595959595959597,0.9696969696969697,0.9797979797979799,0.98989898989899,1.0],\"y\":[2.2922968005773538e-08,3.986611433793968e-08,6.876379700073684e-08,1.176355731772122e-07,1.995907352772019e-07,3.358651670690163e-07,5.605475178273839e-07,9.278607085687994e-07,1.52326694066691e-06,2.480230997292714e-06,4.0052638131393e-06,6.414945996049205e-06,1.0190084003846895e-05,1.6054079363360758e-05,2.5085105319984512e-05,3.887490437312186e-05,5.9751060869399023e-05,9.108456510816248e-05,0.00013771043161559193,0.000206496060967199,0.0003070998367896621,0.0004529708777733209,0.0006626494761914925,0.000961435864024965,0.0013835015804087203,0.0019745215707747837,0.00279490459292344,0.003923692586740426,0.005463184183141373,0.007544311164714691,0.010332757203069792,0.014035753692152491,0.018909416770053603,0.02526640256262388,0.0334835557002099,0.04400911260284975,0.057368901537083954,0.0741708641599953,0.09510711883189493,0.12095270727885606,0.1525601277175516,0.1908487744449738,0.23678849054795595,0.29137660881479954,0.3556081138867255,0.43043890775849025,0.5167425946238182,0.6152617042759916,0.7265548205366907,0.8509416377311135,0.9884484911979087,1.138757348822403,1.3011615593234462,1.4745317818676358,1.6572954306083023,1.8474326298694856,2.0424910812722112,2.2396214043926426,2.4356334615052626,2.6270729709262013,2.810316428464623,2.9816810832576377,3.137545551245081,3.274475694395536,3.3893497342779306,3.479476273691491,3.5426990125128475,3.5774824746784812,3.5829739890603824,3.559038431237566,3.5062637498071214,3.4259369616778046,3.3199919846921095,3.190932259812797,3.041732484780427,2.8757248413398155,2.6964757805935213,2.5076596998090963,2.3129356974483333,2.115833062672876,1.919650301104115,1.7273714019344741,1.541601807645577,1.3645252557801095,1.1978814169608558,1.042963136865558,0.9006311662550469,0.7713435748633689,0.6551966116021193,0.5519735929213951,0.4611984522300516,0.3821908302854763,0.3141199840456713,0.2560552897640866,0.20701166551996128,0.16598879363449104,0.1320035465221432,0.10411548156251739,0.08144565244382755,0.06318927652225509],\"type\":\"scatter\",\"xaxis\":\"x\",\"yaxis\":\"y2\"},{\"mode\":\"lines\",\"x\":[0.0,0.010101010101010102,0.020202020202020204,0.030303030303030304,0.04040404040404041,0.05050505050505051,0.06060606060606061,0.07070707070707072,0.08080808080808081,0.09090909090909091,0.10101010101010102,0.11111111111111112,0.12121212121212122,0.13131313131313133,0.14141414141414144,0.15151515151515152,0.16161616161616163,0.17171717171717174,0.18181818181818182,0.19191919191919193,0.20202020202020204,0.21212121212121213,0.22222222222222224,0.23232323232323235,0.24242424242424243,0.25252525252525254,0.26262626262626265,0.27272727272727276,0.2828282828282829,0.29292929292929293,0.30303030303030304,0.31313131313131315,0.32323232323232326,0.33333333333333337,0.3434343434343435,0.3535353535353536,0.36363636363636365,0.37373737373737376,0.38383838383838387,0.393939393939394,0.4040404040404041,0.4141414141414142,0.42424242424242425,0.43434343434343436,0.4444444444444445,0.4545454545454546,0.4646464646464647,0.4747474747474748,0.48484848484848486,0.494949494949495,0.5050505050505051,0.5151515151515152,0.5252525252525253,0.5353535353535354,0.5454545454545455,0.5555555555555556,0.5656565656565657,0.5757575757575758,0.5858585858585859,0.595959595959596,0.6060606060606061,0.6161616161616162,0.6262626262626263,0.6363636363636365,0.6464646464646465,0.6565656565656566,0.6666666666666667,0.6767676767676768,0.686868686868687,0.696969696969697,0.7070707070707072,0.7171717171717172,0.7272727272727273,0.7373737373737375,0.7474747474747475,0.7575757575757577,0.7676767676767677,0.7777777777777778,0.787878787878788,0.797979797979798,0.8080808080808082,0.8181818181818182,0.8282828282828284,0.8383838383838385,0.8484848484848485,0.8585858585858587,0.8686868686868687,0.8787878787878789,0.888888888888889,0.8989898989898991,0.9090909090909092,0.9191919191919192,0.9292929292929294,0.9393939393939394,0.9494949494949496,0.9595959595959597,0.9696969696969697,0.9797979797979799,0.98989898989899,1.0],\"y\":[0.1906166924879858,0.23026457183391097,0.2763422748961804,0.3294743010383795,0.3902561661998476,0.4592318637521916,0.5368689234268311,0.6235316874913243,0.7194536229233738,0.824709676842178,0.9391898460802154,1.0625752561081911,1.1943181155883327,1.3336269182246043,1.4794581936539883,1.6305159581093565,1.7852597825460579,1.9419220854455423,2.098534880008861,2.2529657770562634,2.4029625868811393,2.546205400806327,2.680364593999377,2.8031628036163436,2.9124386275638114,3.0062095826202886,3.082731774441864,3.1405537771441394,3.1785623995530767,3.1960183229481784,3.1925800166435963,3.1683148506942764,3.12369690060822,3.0595915439955084,2.9772275482984667,2.87815790724926,2.7642111695066944,2.6374353891729765,2.5000370946558363,2.35431780786423,2.202610646999771,2.0472194188674067,1.8903623641979,1.7341223820322733,1.5804051516566315,1.4309061205866556,1.2870868630843701,1.1501608627543463,1.0210883589802031,0.9005795399715383,0.7891050792903295,0.6869128064077671,0.5940491778239784,0.5103841709489493,0.43563825113202637,0.36941015225741164,0.31120435014586156,0.2604572813817936,0.2165615538004418,0.17888759527568537,0.1468023828275957,0.11968507475405195,0.09693952725795589,0.07800380917456151,0.062356931574079365,0.04952308301371367,0.03907370758030917,0.030627784463216495,0.023850668376804527,0.018451833935422733,0.014181838400441741,0.010828780209541113,0.008214489091350216,0.00619064053519538,0.00463494546447973,0.003447527043533615,0.002547561906572909,0.0018702334599852088,0.0013640205411581839,0.0009883255210004537,0.000711431550309767,0.0005087685345605185,0.000361460943898569,0.0002551270599600002,0.00017889808097264903,0.00012462605597132192,8.625137594750174e-05,5.930307654750165e-05,4.050815177388821e-05,2.7489171082179467e-05,1.8532536812538135e-05,1.2412581423201516e-05,8.25930227719685e-06,5.459823745694129e-06,3.5856500125331075e-06,2.3394360723432317e-06,1.5163815060657635e-06,9.76471984528431e-07,6.246907969247027e-07,3.970310201925069e-07],\"type\":\"scatter\",\"xaxis\":\"x\",\"yaxis\":\"y2\"}],                        {\"template\":{\"data\":{\"bar\":[{\"error_x\":{\"color\":\"#2a3f5f\"},\"error_y\":{\"color\":\"#2a3f5f\"},\"marker\":{\"line\":{\"color\":\"#E5ECF6\",\"width\":0.5},\"pattern\":{\"fillmode\":\"overlay\",\"size\":10,\"solidity\":0.2}},\"type\":\"bar\"}],\"barpolar\":[{\"marker\":{\"line\":{\"color\":\"#E5ECF6\",\"width\":0.5},\"pattern\":{\"fillmode\":\"overlay\",\"size\":10,\"solidity\":0.2}},\"type\":\"barpolar\"}],\"carpet\":[{\"aaxis\":{\"endlinecolor\":\"#2a3f5f\",\"gridcolor\":\"white\",\"linecolor\":\"white\",\"minorgridcolor\":\"white\",\"startlinecolor\":\"#2a3f5f\"},\"baxis\":{\"endlinecolor\":\"#2a3f5f\",\"gridcolor\":\"white\",\"linecolor\":\"white\",\"minorgridcolor\":\"white\",\"startlinecolor\":\"#2a3f5f\"},\"type\":\"carpet\"}],\"choropleth\":[{\"colorbar\":{\"outlinewidth\":0,\"ticks\":\"\"},\"type\":\"choropleth\"}],\"contour\":[{\"colorbar\":{\"outlinewidth\":0,\"ticks\":\"\"},\"colorscale\":[[0.0,\"#0d0887\"],[0.1111111111111111,\"#46039f\"],[0.2222222222222222,\"#7201a8\"],[0.3333333333333333,\"#9c179e\"],[0.4444444444444444,\"#bd3786\"],[0.5555555555555556,\"#d8576b\"],[0.6666666666666666,\"#ed7953\"],[0.7777777777777778,\"#fb9f3a\"],[0.8888888888888888,\"#fdca26\"],[1.0,\"#f0f921\"]],\"type\":\"contour\"}],\"contourcarpet\":[{\"colorbar\":{\"outlinewidth\":0,\"ticks\":\"\"},\"type\":\"contourcarpet\"}],\"heatmap\":[{\"colorbar\":{\"outlinewidth\":0,\"ticks\":\"\"},\"colorscale\":[[0.0,\"#0d0887\"],[0.1111111111111111,\"#46039f\"],[0.2222222222222222,\"#7201a8\"],[0.3333333333333333,\"#9c179e\"],[0.4444444444444444,\"#bd3786\"],[0.5555555555555556,\"#d8576b\"],[0.6666666666666666,\"#ed7953\"],[0.7777777777777778,\"#fb9f3a\"],[0.8888888888888888,\"#fdca26\"],[1.0,\"#f0f921\"]],\"type\":\"heatmap\"}],\"heatmapgl\":[{\"colorbar\":{\"outlinewidth\":0,\"ticks\":\"\"},\"colorscale\":[[0.0,\"#0d0887\"],[0.1111111111111111,\"#46039f\"],[0.2222222222222222,\"#7201a8\"],[0.3333333333333333,\"#9c179e\"],[0.4444444444444444,\"#bd3786\"],[0.5555555555555556,\"#d8576b\"],[0.6666666666666666,\"#ed7953\"],[0.7777777777777778,\"#fb9f3a\"],[0.8888888888888888,\"#fdca26\"],[1.0,\"#f0f921\"]],\"type\":\"heatmapgl\"}],\"histogram\":[{\"marker\":{\"pattern\":{\"fillmode\":\"overlay\",\"size\":10,\"solidity\":0.2}},\"type\":\"histogram\"}],\"histogram2d\":[{\"colorbar\":{\"outlinewidth\":0,\"ticks\":\"\"},\"colorscale\":[[0.0,\"#0d0887\"],[0.1111111111111111,\"#46039f\"],[0.2222222222222222,\"#7201a8\"],[0.3333333333333333,\"#9c179e\"],[0.4444444444444444,\"#bd3786\"],[0.5555555555555556,\"#d8576b\"],[0.6666666666666666,\"#ed7953\"],[0.7777777777777778,\"#fb9f3a\"],[0.8888888888888888,\"#fdca26\"],[1.0,\"#f0f921\"]],\"type\":\"histogram2d\"}],\"histogram2dcontour\":[{\"colorbar\":{\"outlinewidth\":0,\"ticks\":\"\"},\"colorscale\":[[0.0,\"#0d0887\"],[0.1111111111111111,\"#46039f\"],[0.2222222222222222,\"#7201a8\"],[0.3333333333333333,\"#9c179e\"],[0.4444444444444444,\"#bd3786\"],[0.5555555555555556,\"#d8576b\"],[0.6666666666666666,\"#ed7953\"],[0.7777777777777778,\"#fb9f3a\"],[0.8888888888888888,\"#fdca26\"],[1.0,\"#f0f921\"]],\"type\":\"histogram2dcontour\"}],\"mesh3d\":[{\"colorbar\":{\"outlinewidth\":0,\"ticks\":\"\"},\"type\":\"mesh3d\"}],\"parcoords\":[{\"line\":{\"colorbar\":{\"outlinewidth\":0,\"ticks\":\"\"}},\"type\":\"parcoords\"}],\"pie\":[{\"automargin\":true,\"type\":\"pie\"}],\"scatter\":[{\"marker\":{\"colorbar\":{\"outlinewidth\":0,\"ticks\":\"\"}},\"type\":\"scatter\"}],\"scatter3d\":[{\"line\":{\"colorbar\":{\"outlinewidth\":0,\"ticks\":\"\"}},\"marker\":{\"colorbar\":{\"outlinewidth\":0,\"ticks\":\"\"}},\"type\":\"scatter3d\"}],\"scattercarpet\":[{\"marker\":{\"colorbar\":{\"outlinewidth\":0,\"ticks\":\"\"}},\"type\":\"scattercarpet\"}],\"scattergeo\":[{\"marker\":{\"colorbar\":{\"outlinewidth\":0,\"ticks\":\"\"}},\"type\":\"scattergeo\"}],\"scattergl\":[{\"marker\":{\"colorbar\":{\"outlinewidth\":0,\"ticks\":\"\"}},\"type\":\"scattergl\"}],\"scattermapbox\":[{\"marker\":{\"colorbar\":{\"outlinewidth\":0,\"ticks\":\"\"}},\"type\":\"scattermapbox\"}],\"scatterpolar\":[{\"marker\":{\"colorbar\":{\"outlinewidth\":0,\"ticks\":\"\"}},\"type\":\"scatterpolar\"}],\"scatterpolargl\":[{\"marker\":{\"colorbar\":{\"outlinewidth\":0,\"ticks\":\"\"}},\"type\":\"scatterpolargl\"}],\"scatterternary\":[{\"marker\":{\"colorbar\":{\"outlinewidth\":0,\"ticks\":\"\"}},\"type\":\"scatterternary\"}],\"surface\":[{\"colorbar\":{\"outlinewidth\":0,\"ticks\":\"\"},\"colorscale\":[[0.0,\"#0d0887\"],[0.1111111111111111,\"#46039f\"],[0.2222222222222222,\"#7201a8\"],[0.3333333333333333,\"#9c179e\"],[0.4444444444444444,\"#bd3786\"],[0.5555555555555556,\"#d8576b\"],[0.6666666666666666,\"#ed7953\"],[0.7777777777777778,\"#fb9f3a\"],[0.8888888888888888,\"#fdca26\"],[1.0,\"#f0f921\"]],\"type\":\"surface\"}],\"table\":[{\"cells\":{\"fill\":{\"color\":\"#EBF0F8\"},\"line\":{\"color\":\"white\"}},\"header\":{\"fill\":{\"color\":\"#C8D4E3\"},\"line\":{\"color\":\"white\"}},\"type\":\"table\"}]},\"layout\":{\"annotationdefaults\":{\"arrowcolor\":\"#2a3f5f\",\"arrowhead\":0,\"arrowwidth\":1},\"autotypenumbers\":\"strict\",\"coloraxis\":{\"colorbar\":{\"outlinewidth\":0,\"ticks\":\"\"}},\"colorscale\":{\"diverging\":[[0,\"#8e0152\"],[0.1,\"#c51b7d\"],[0.2,\"#de77ae\"],[0.3,\"#f1b6da\"],[0.4,\"#fde0ef\"],[0.5,\"#f7f7f7\"],[0.6,\"#e6f5d0\"],[0.7,\"#b8e186\"],[0.8,\"#7fbc41\"],[0.9,\"#4d9221\"],[1,\"#276419\"]],\"sequential\":[[0.0,\"#0d0887\"],[0.1111111111111111,\"#46039f\"],[0.2222222222222222,\"#7201a8\"],[0.3333333333333333,\"#9c179e\"],[0.4444444444444444,\"#bd3786\"],[0.5555555555555556,\"#d8576b\"],[0.6666666666666666,\"#ed7953\"],[0.7777777777777778,\"#fb9f3a\"],[0.8888888888888888,\"#fdca26\"],[1.0,\"#f0f921\"]],\"sequentialminus\":[[0.0,\"#0d0887\"],[0.1111111111111111,\"#46039f\"],[0.2222222222222222,\"#7201a8\"],[0.3333333333333333,\"#9c179e\"],[0.4444444444444444,\"#bd3786\"],[0.5555555555555556,\"#d8576b\"],[0.6666666666666666,\"#ed7953\"],[0.7777777777777778,\"#fb9f3a\"],[0.8888888888888888,\"#fdca26\"],[1.0,\"#f0f921\"]]},\"colorway\":[\"#636efa\",\"#EF553B\",\"#00cc96\",\"#ab63fa\",\"#FFA15A\",\"#19d3f3\",\"#FF6692\",\"#B6E880\",\"#FF97FF\",\"#FECB52\"],\"font\":{\"color\":\"#2a3f5f\"},\"geo\":{\"bgcolor\":\"white\",\"lakecolor\":\"white\",\"landcolor\":\"#E5ECF6\",\"showlakes\":true,\"showland\":true,\"subunitcolor\":\"white\"},\"hoverlabel\":{\"align\":\"left\"},\"hovermode\":\"closest\",\"mapbox\":{\"style\":\"light\"},\"paper_bgcolor\":\"white\",\"plot_bgcolor\":\"#E5ECF6\",\"polar\":{\"angularaxis\":{\"gridcolor\":\"white\",\"linecolor\":\"white\",\"ticks\":\"\"},\"bgcolor\":\"#E5ECF6\",\"radialaxis\":{\"gridcolor\":\"white\",\"linecolor\":\"white\",\"ticks\":\"\"}},\"scene\":{\"xaxis\":{\"backgroundcolor\":\"#E5ECF6\",\"gridcolor\":\"white\",\"gridwidth\":2,\"linecolor\":\"white\",\"showbackground\":true,\"ticks\":\"\",\"zerolinecolor\":\"white\"},\"yaxis\":{\"backgroundcolor\":\"#E5ECF6\",\"gridcolor\":\"white\",\"gridwidth\":2,\"linecolor\":\"white\",\"showbackground\":true,\"ticks\":\"\",\"zerolinecolor\":\"white\"},\"zaxis\":{\"backgroundcolor\":\"#E5ECF6\",\"gridcolor\":\"white\",\"gridwidth\":2,\"linecolor\":\"white\",\"showbackground\":true,\"ticks\":\"\",\"zerolinecolor\":\"white\"}},\"shapedefaults\":{\"line\":{\"color\":\"#2a3f5f\"}},\"ternary\":{\"aaxis\":{\"gridcolor\":\"white\",\"linecolor\":\"white\",\"ticks\":\"\"},\"baxis\":{\"gridcolor\":\"white\",\"linecolor\":\"white\",\"ticks\":\"\"},\"bgcolor\":\"#E5ECF6\",\"caxis\":{\"gridcolor\":\"white\",\"linecolor\":\"white\",\"ticks\":\"\"}},\"title\":{\"x\":0.05},\"xaxis\":{\"automargin\":true,\"gridcolor\":\"white\",\"linecolor\":\"white\",\"ticks\":\"\",\"title\":{\"standoff\":15},\"zerolinecolor\":\"white\",\"zerolinewidth\":2},\"yaxis\":{\"automargin\":true,\"gridcolor\":\"white\",\"linecolor\":\"white\",\"ticks\":\"\",\"title\":{\"standoff\":15},\"zerolinecolor\":\"white\",\"zerolinewidth\":2}}},\"xaxis\":{\"anchor\":\"y\",\"domain\":[0.0,0.94]},\"yaxis\":{\"anchor\":\"x\",\"domain\":[0.0,1.0]},\"yaxis2\":{\"anchor\":\"x\",\"overlaying\":\"y\",\"side\":\"right\"}},                        {\"responsive\": true}                    ).then(function(){\n",
       "                            \n",
       "var gd = document.getElementById('2be982b4-6952-4dba-a2bc-2aa769bd7802');\n",
       "var x = new MutationObserver(function (mutations, observer) {{\n",
       "        var display = window.getComputedStyle(gd).display;\n",
       "        if (!display || display === 'none') {{\n",
       "            console.log([gd, 'removed!']);\n",
       "            Plotly.purge(gd);\n",
       "            observer.disconnect();\n",
       "        }}\n",
       "}});\n",
       "\n",
       "// Listen for the removal of the full notebook cells\n",
       "var notebookContainer = gd.closest('#notebook-container');\n",
       "if (notebookContainer) {{\n",
       "    x.observe(notebookContainer, {childList: true});\n",
       "}}\n",
       "\n",
       "// Listen for the clearing of the current output cell\n",
       "var outputEl = gd.closest('.output');\n",
       "if (outputEl) {{\n",
       "    x.observe(outputEl, {childList: true});\n",
       "}}\n",
       "\n",
       "                        })                };                });            </script>        </div>"
      ]
     },
     "metadata": {},
     "output_type": "display_data"
    }
   ],
   "source": [
    "gm = vcf_to_mix_model(vcf_file,plot=True,tail_cutoff=0.1)\n"
   ]
  },
  {
   "cell_type": "code",
   "execution_count": 93,
   "metadata": {},
   "outputs": [],
   "source": [
    "json_results = json.load(open(json_file))\n",
    "strain0 = []\n",
    "strain1 = []\n",
    "strainU = []\n",
    "\n",
    "for var in json_results['dr_variants']:\n",
    "    cluster = assign_variant_to_distrib(gm,var['freq'])\n",
    "    if cluster[0] == 0:\n",
    "        var['probs']= cluster\n",
    "        strain0.append(var)\n",
    "    elif cluster[0] == 1:\n",
    "        var['probs']= cluster\n",
    "        strain1.append(var)\n",
    "    else:\n",
    "        var['probs']= cluster[1:]\n",
    "        strainU.append(var)"
   ]
  },
  {
   "cell_type": "code",
   "execution_count": 94,
   "metadata": {},
   "outputs": [
    {
     "name": "stdout",
     "output_type": "stream",
     "text": [
      "[('rpoB', 'p.His445Leu', 0.9224137931034483, (0, 0.9998122377891878)), ('rrs', 'n.514A>T', 0.9393939393939394, (0, 0.9998681030084968)), ('fabG1', 'c.-15C>T', 0.8279569892473119, (0, 0.9985408970737873))]\n",
      "rifampicin\n",
      "streptomycin\n",
      "isoniazid\n",
      "ethionamide\n"
     ]
    }
   ],
   "source": [
    "print([(v['gene'],v['change'],v['freq'],v['probs']) for v in strain0])\n",
    "for x in strain0:\n",
    "    for y in x['drugs']:\n",
    "        print(y['drug'])"
   ]
  },
  {
   "cell_type": "code",
   "execution_count": 95,
   "metadata": {},
   "outputs": [
    {
     "name": "stdout",
     "output_type": "stream",
     "text": [
      "[('katG', 'p.Ser315Thr', 0.12637362637362637, (1, 0.9999983552855417)), ('embB', 'p.Met306Val', 0.11180124223602485, (1, 0.9999990007535386))]\n",
      "isoniazid\n",
      "ethambutol\n"
     ]
    }
   ],
   "source": [
    "print([(v['gene'],v['change'],v['freq'],v['probs']) for v in strain1])\n",
    "for x in strain1:\n",
    "    for y in x['drugs']:\n",
    "        print(y['drug'])\n"
   ]
  },
  {
   "cell_type": "code",
   "execution_count": 96,
   "metadata": {},
   "outputs": [
    {
     "name": "stdout",
     "output_type": "stream",
     "text": [
      "[]\n"
     ]
    }
   ],
   "source": [
    "print([(v['gene'],v['change'],v['freq'],v['probs']) for v in strainU])\n",
    "for x in strainU:\n",
    "    for y in x['drugs']:\n",
    "        print(y['drug'])"
   ]
  },
  {
   "cell_type": "code",
   "execution_count": null,
   "metadata": {},
   "outputs": [],
   "source": []
  },
  {
   "cell_type": "code",
   "execution_count": null,
   "metadata": {},
   "outputs": [],
   "source": []
  }
 ],
 "metadata": {
  "kernelspec": {
   "display_name": "Python 3 (ipykernel)",
   "language": "python",
   "name": "python3"
  },
  "language_info": {
   "codemirror_mode": {
    "name": "ipython",
    "version": 3
   },
   "file_extension": ".py",
   "mimetype": "text/x-python",
   "name": "python",
   "nbconvert_exporter": "python",
   "pygments_lexer": "ipython3",
   "version": "3.10.0"
  }
 },
 "nbformat": 4,
 "nbformat_minor": 4
}
