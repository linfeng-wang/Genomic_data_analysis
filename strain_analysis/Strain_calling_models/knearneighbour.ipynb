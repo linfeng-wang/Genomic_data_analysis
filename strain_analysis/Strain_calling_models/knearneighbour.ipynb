{
 "cells": [
  {
   "cell_type": "code",
   "execution_count": 1,
   "metadata": {},
   "outputs": [],
   "source": [
    "import numpy as np\n",
    "import matplotlib.pyplot as plt\n",
    "import pandas as pd\n",
    "import scipy\n",
    "import sklearn\n",
    "import os\n",
    "import subprocess\n",
    "import json\n",
    "import sys\n",
    "import csv\n",
    "from sklearn.mixture import GaussianMixture\n",
    "from sklearn.cluster import KMeans\n",
    "from sklearn.neighbors import KNeighborsClassifier\n",
    "from matplotlib.pyplot import subplots\n",
    "import csv\n",
    "import re"
   ]
  },
  {
   "cell_type": "code",
   "execution_count": 2,
   "metadata": {},
   "outputs": [],
   "source": [
    "with open('barcode.bed','r') as f:\n",
    "    barcode = []\n",
    "    for line in f:\n",
    "        data_line = line.rstrip().split('\\t')\n",
    "        data_line = [i for i in data_line]\n",
    "        barcode.append(data_line)\n",
    "\n",
    "df_bar = pd.DataFrame(barcode)\n",
    "df_bar.drop([0,5,6,7], axis=1, inplace=True)\n",
    "\n",
    "for i, x in enumerate(df_bar[3]):\n",
    "    x = x.split('.')\n",
    "    # if re.match(x[0], '^lineage*'):\n",
    "    if re.search(\"lineage[1-9]\", x[0]):\n",
    "        df_bar[3][i]=re.search('[1-9]',x[0]).group()\n",
    "    elif re.search(\"lineage[1-9]\", x[0])==None:\n",
    "        df_bar[3][i]='other'\n",
    "\n",
    "df_bar = df_bar[df_bar[3]!='other']\n",
    "df_bar_array = np.array(df_bar)"
   ]
  },
  {
   "cell_type": "code",
   "execution_count": 3,
   "metadata": {},
   "outputs": [],
   "source": [
    "with open('fst_results_clean_fst_1_for_paper.csv','r') as f:\n",
    "    barcode = []\n",
    "    for line in f:\n",
    "        data_line = line.rstrip().split(',')\n",
    "        data_line = [i for i in data_line]\n",
    "        barcode.append(data_line)\n",
    "\n",
    "df_bar = pd.DataFrame(barcode)\n",
    "df_bar = df_bar.iloc[1:, :8]\n",
    "df_bar.drop([0,3,4,5,6], axis=1, inplace=True)\n",
    "\n",
    "df_bar['lin_'] = 'other'\n",
    "for i, x in enumerate(df_bar[1]):\n",
    "    if re.search(\"^[1-9]\", x):\n",
    "        df_bar['lin_'][i]=re.search('^[1-9]',x).group()\n",
    "    # else re.search(\"^[1-9]\", x)==None:\n",
    "\n",
    "    else:\n",
    "        df_bar['lin_'][i]='other'\n",
    "\n",
    "df_bar = df_bar[df_bar['lin_']!='other']\n",
    "df_bar_array = np.array(df_bar)"
   ]
  },
  {
   "cell_type": "code",
   "execution_count": 4,
   "metadata": {},
   "outputs": [
    {
     "data": {
      "text/plain": [
       "array(['1', '2', '3', '4', '5', '6', '7', '8', '9'], dtype=object)"
      ]
     },
     "execution_count": 4,
     "metadata": {},
     "output_type": "execute_result"
    }
   ],
   "source": [
    "df_bar['lin_'].unique()"
   ]
  },
  {
   "cell_type": "code",
   "execution_count": 176,
   "metadata": {},
   "outputs": [],
   "source": [
    "VCF_FILE_NAME = 'ERR6634978-ERR6635032-3070.vcf.gz' #this needs to be changed as well \n",
    "VCF_PATH='/mnt/storage7/lwang/trial_tb_philippines/data/processed/seqtk/freebayesVCF'\n",
    "NAME_FILE='/mnt/storage7/lwang/trial_tb_philippines/data/seqtk/sample_name.txt'\n",
    "\n",
    "VCF_FILE_PATH = os.path.join(VCF_PATH, VCF_FILE_NAME)\n",
    "\n",
    "\n",
    "with open('ROAO_DP_ALT.csv', 'w') as f:\n",
    "    subprocess.run(\"bcftools view -c 1 -m2 -M2 -T ^new_exclusion.bed %s | bcftools query -f '[%%POS,%%REF,%%ALT,%%GT,%%AD,%%DP\\\\n]'\" % VCF_FILE_PATH, shell=True, stdout=f, text=True)\n",
    "        # subprocess.run(\"bcftools view -c 1 -m2 -M2 -T ^new_exclusion.bed %s | bcftools query -f '%%POS\\\\t%%REF\\\\t%%ALT[\\\\t%%GT\\\\t%%AD\\\\n]'\" % vcf_file, shell=True, stdout=f, text=True)\n",
    "\n",
    "#[%POS,%RO,%AO,%DP,%ALT\\n]"
   ]
  },
  {
   "cell_type": "code",
   "execution_count": 177,
   "metadata": {},
   "outputs": [],
   "source": [
    "with open('ROAO_DP_ALT.csv', 'r') as f:\n",
    "\n",
    "    data = []\n",
    "    num_col=0\n",
    "    for line in f:\n",
    "        data_line = line.rstrip().split('\\n')\n",
    "        data_line = data_line[0].split(',')\n",
    "        data_line = [i for i in data_line]\n",
    "        if len(data_line) > num_col:\n",
    "            num_col = len(data_line)\n",
    "        data.append(data_line)\n",
    "\n",
    "    #print(num_col) #outputing the length of column in the dataframe\n",
    "    num_RO = num_col - 1\n",
    "    #print(num_RO)\n"
   ]
  },
  {
   "cell_type": "code",
   "execution_count": 178,
   "metadata": {},
   "outputs": [],
   "source": [
    "#removing all the files with more than 1 AO count\n",
    "\n",
    "data1 = []\n",
    "\n",
    "for i in data:\n",
    "    if len(i) == 7:\n",
    "        data1.append(i)\n",
    "data1_array = np.array(data1)"
   ]
  },
  {
   "cell_type": "code",
   "execution_count": 179,
   "metadata": {},
   "outputs": [],
   "source": [
    "data1_array=np.delete(data1_array, 3, 1)"
   ]
  },
  {
   "cell_type": "code",
   "execution_count": 180,
   "metadata": {},
   "outputs": [
    {
     "data": {
      "text/plain": [
       "array([['1302', 'C', 'A', '180', '19', '199'],\n",
       "       ['1977', 'A', 'G', '0', '188', '188'],\n",
       "       ['2532', 'T', 'C', '168', '19', '187'],\n",
       "       ...,\n",
       "       ['4408156', 'A', 'C', '18', '156', '174'],\n",
       "       ['4410386', 'G', 'T', '200', '38', '238'],\n",
       "       ['4411016', 'G', 'A', '157', '17', '175']], dtype='<U64')"
      ]
     },
     "execution_count": 180,
     "metadata": {},
     "output_type": "execute_result"
    }
   ],
   "source": [
    "data1_array"
   ]
  },
  {
   "cell_type": "code",
   "execution_count": 181,
   "metadata": {},
   "outputs": [],
   "source": [
    "# #run this only once, otherwise it will take too long\n",
    "anchored = []\n",
    "for x in data1_array:\n",
    "    for y in df_bar_array:\n",
    "        if int(x[0]) >= int(y[1]) and int(x[0]) < int(y[1])+2 and x[2] == y[2]:\n",
    "            insert = np.append(x, y[3])\n",
    "            anchored.append(insert)\n",
    "            pass\n"
   ]
  },
  {
   "cell_type": "code",
   "execution_count": 182,
   "metadata": {},
   "outputs": [
    {
     "name": "stdout",
     "output_type": "stream",
     "text": [
      "lineage1 549 Percentage: 0.7449118046132972\n",
      "lineage4 187 Percentage: 0.2537313432835821\n",
      "lineage5 1 Percentage: 0.0013568521031207597\n",
      "737\n"
     ]
    }
   ],
   "source": [
    "anchored_array = np.array(anchored)\n",
    "for i in range(1,10):\n",
    "    if len(anchored_array[anchored_array[:, 6]==str(i)]) == 0:\n",
    "        pass\n",
    "    else:\n",
    "        print(f'lineage{i}', len(anchored_array[anchored_array[:, 6]==str(i)]), 'Percentage:',len(anchored_array[anchored_array[:, 6]==str(i)])/len(anchored))\n",
    "\n",
    "print(len(anchored))\n"
   ]
  },
  {
   "cell_type": "code",
   "execution_count": 186,
   "metadata": {},
   "outputs": [
    {
     "data": {
      "text/plain": [
       "1286"
      ]
     },
     "execution_count": 186,
     "metadata": {},
     "output_type": "execute_result"
    },
    {
     "data": {
      "image/png": "[encoded data removed]",
      "text/plain": [
       "<Figure size 432x288 with 1 Axes>"
      ]
     },
     "metadata": {
      "needs_background": "light"
     },
     "output_type": "display_data"
    }
   ],
   "source": [
    "\n",
    "data1_cutoff = []\n",
    "\n",
    "def cut_off (downcut, upcut):\n",
    "    graph =[]\n",
    "    for i in data1_array:\n",
    "        graph.append(int(i[4])/int(i[5]))\n",
    "        if int(i[4])/int(i[5]) > downcut and int(i[4])/int(i[5]) < upcut:\n",
    "            data1_cutoff.append(i)\n",
    "        \n",
    "    fig, ax = plt.subplots()\n",
    "    ax.hist(graph, bins=300)\n",
    "    ax.axvline(upcut, color='red')\n",
    "    ax.axvline(downcut, color='red')\n",
    "    ax.set_xlim((0,1))\n",
    "\n",
    "cut_off(0.08, 0.98)\n",
    "len(data1_cutoff)\n"
   ]
  },
  {
   "cell_type": "code",
   "execution_count": 187,
   "metadata": {},
   "outputs": [
    {
     "name": "stderr",
     "output_type": "stream",
     "text": [
      "/mnt/storage7/lwang/miniconda3/envs/ml-s7/lib/python3.10/site-packages/sklearn/neighbors/_classification.py:198: DataConversionWarning: A column-vector y was passed when a 1d array was expected. Please change the shape of y to (n_samples,), for example using ravel().\n",
      "  return self._fit(X, y)\n"
     ]
    }
   ],
   "source": [
    "#freq\n",
    "\n",
    "X = anchored_array[:,4:6].astype(float)\n",
    "y = anchored_array[:,6].reshape(-1, 1).astype(float)\n",
    "\n",
    "X = X[:,0]/X[:,1]#freq\n",
    "# X[:,0] = (X[:,0] - np.mean(X[:,0])) / np.std(X[:,0])\n",
    "# X[:,1] = (X[:,1] - np.mean(X[:,1])) / np.std(X[:,1])\n",
    "data1_array_test = np.array(data1_cutoff)[:,4:6].astype(float)\n",
    "\n",
    "data1_array_test = data1_array_test[:,0]/data1_array_test[:,1] #freq\n",
    "# data1_array_test[:,1] = (data1_array_test[:,1] - np.mean(data1_array_test[:,1])) / np.std(data1_array_test[:,1])\n",
    "# data1_array_test[:,2] = (data1_array_test[:,1] - np.mean(data1_array_test[:,2])) / np.std(data1_array_test[:,2])\n",
    "\n",
    "neigh = KNeighborsClassifier(n_neighbors=3)\n",
    "neigh.fit(X.reshape(-1, 1), y)\n",
    "predictions = []\n",
    "for i in data1_array_test:\n",
    "    pred = neigh.predict(i.reshape(-1, 1))\n",
    "    predictions.append(pred)\n",
    "    # X = np.append(X, i[1:3]).reshape(-1,2) #fiting predicted points back into model, doesn't really make a difference\n",
    "    # y = np.append(y, pred).reshape(-1,1)\n",
    "    # neigh.fit(X, y)\n",
    "\n"
   ]
  },
  {
   "cell_type": "code",
   "execution_count": 188,
   "metadata": {},
   "outputs": [
    {
     "name": "stdout",
     "output_type": "stream",
     "text": [
      "lineage1: 909\n",
      "lineage2: 0\n",
      "lineage3: 0\n",
      "lineage4: 377\n",
      "lineage5: 0\n",
      "lineage6: 0\n",
      "lineage7: 0\n",
      "lineage8: 0\n",
      "lineage9: 0\n",
      "0.7068429237947123 0.2931570762052877\n"
     ]
    }
   ],
   "source": [
    "prediction_list = []\n",
    "for i in predictions:\n",
    "    prediction_list.append(int(i))\n",
    "\n",
    "for i in range(1,10):\n",
    "    print(f'lineage{i}:', prediction_list.count(i))\n",
    "\n",
    "print(prediction_list.count(1)/len(prediction_list), prediction_list.count(4)/len(prediction_list))\n"
   ]
  },
  {
   "cell_type": "code",
   "execution_count": 174,
   "metadata": {},
   "outputs": [
    {
     "name": "stderr",
     "output_type": "stream",
     "text": [
      "/mnt/storage7/lwang/miniconda3/envs/ml-s7/lib/python3.10/site-packages/sklearn/neighbors/_classification.py:198: DataConversionWarning: A column-vector y was passed when a 1d array was expected. Please change the shape of y to (n_samples,), for example using ravel().\n",
      "  return self._fit(X, y)\n"
     ]
    }
   ],
   "source": [
    "#non freq\n",
    "X = anchored_array[:,4:6].astype(float)\n",
    "y = anchored_array[:,6].reshape(-1, 1).astype(float)\n",
    "\n",
    "# X[:,0] = (X[:,0] - np.mean(X[:,0])) / np.std(X[:,0])\n",
    "# X[:,1] = (X[:,1] - np.mean(X[:,1])) / np.std(X[:,1])\n",
    "data1_array_test = np.array(data1_cutoff)[:,4:6].astype(float)\n",
    "\n",
    "# data1_array_test[:,1] = (data1_array_test[:,1] - np.mean(data1_array_test[:,1])) / np.std(data1_array_test[:,1])\n",
    "# data1_array_test[:,2] = (data1_array_test[:,1] - np.mean(data1_array_test[:,2])) / np.std(data1_array_test[:,2])\n",
    "\n",
    "neigh = KNeighborsClassifier(n_neighbors=3)\n",
    "neigh.fit(X, y)\n",
    "predictions = []\n",
    "for i in data1_array_test:\n",
    "    pred = neigh.predict([i])\n",
    "    predictions.append(pred)\n",
    "    # X = np.append(X, i[1:3]).reshape(-1,2) #fiting predicted points back into model, doesn't really make a difference\n",
    "    # y = np.append(y, pred).reshape(-1,1)\n",
    "    # neigh.fit(X, y)"
   ]
  },
  {
   "cell_type": "code",
   "execution_count": 175,
   "metadata": {},
   "outputs": [
    {
     "name": "stdout",
     "output_type": "stream",
     "text": [
      "lineage1: 1454\n",
      "lineage2: 0\n",
      "lineage3: 0\n",
      "lineage4: 355\n",
      "lineage5: 0\n",
      "lineage6: 0\n",
      "lineage7: 0\n",
      "lineage8: 0\n",
      "lineage9: 0\n",
      "0.8037589828634605 0.19624101713653952\n"
     ]
    }
   ],
   "source": [
    "prediction_list = []\n",
    "for i in predictions:\n",
    "    prediction_list.append(int(i))\n",
    "\n",
    "for i in range(1,10):\n",
    "    print(f'lineage{i}:', prediction_list.count(i))\n",
    "\n",
    "print(prediction_list.count(1)/len(prediction_list), prediction_list.count(4)/len(prediction_list))\n"
   ]
  },
  {
   "cell_type": "code",
   "execution_count": null,
   "metadata": {},
   "outputs": [],
   "source": []
  },
  {
   "cell_type": "code",
   "execution_count": null,
   "metadata": {},
   "outputs": [],
   "source": []
  }
 ],
 "metadata": {
  "interpreter": {
   "hash": "12d9b80fa252b05f6dc974f9593fbd4d67e5b6232b89f517e1ed4a2121110dce"
  },
  "kernelspec": {
   "display_name": "Python 3 (ipykernel)",
   "language": "python",
   "name": "python3"
  },
  "language_info": {
   "codemirror_mode": {
    "name": "ipython",
    "version": 3
   },
   "file_extension": ".py",
   "mimetype": "text/x-python",
   "name": "python",
   "nbconvert_exporter": "python",
   "pygments_lexer": "ipython3",
   "version": "3.10.0"
  }
 },
 "nbformat": 4,
 "nbformat_minor": 4
}
