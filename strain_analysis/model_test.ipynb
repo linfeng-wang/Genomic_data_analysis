{
 "cells": [
  {
   "cell_type": "code",
   "execution_count": 1,
   "metadata": {},
   "outputs": [],
   "source": [
    "import numpy as np\n",
    "import matplotlib.pyplot as plt\n",
    "import pandas as pd\n",
    "import scipy\n",
    "import sklearn\n",
    "import os\n",
    "import subprocess\n",
    "import json\n",
    "import sys\n"
   ]
  },
  {
   "cell_type": "code",
   "execution_count": 11,
   "metadata": {},
   "outputs": [],
   "source": [
    "VCF_FILE_PATH='/mnt/storage7/lwang/trial_tb_philippines/data/processed/seqtk/freebayesVCF'\n",
    "JSON_FILE_PATH='/mnt/storage7/lwang/trial_tb_philippines/data/processed/seqtk/freebayesVCF/results'\n",
    "NAME_FILE='/mnt/storage7/lwang/trial_tb_philippines/data/seqtk/sample_name.txt'"
   ]
  },
  {
   "cell_type": "code",
   "execution_count": 36,
   "metadata": {},
   "outputs": [
    {
     "data": {
      "text/plain": [
       "['ERR6634978-ERR6635032-0100',\n",
       " 'ERR6634978-ERR6635032-1090',\n",
       " 'ERR6634978-ERR6635032-2080',\n",
       " 'ERR6634978-ERR6635032-3070',\n",
       " 'ERR6634978-ERR6635032-4060',\n",
       " 'ERR6634978-ERR6635032-5050',\n",
       " 'ERR6634978-ERR6635032-6040',\n",
       " 'ERR6634978-ERR6635032-7030',\n",
       " 'ERR6634978-ERR6635032-8020',\n",
       " 'ERR6634978-ERR6635032-9010']"
      ]
     },
     "execution_count": 36,
     "metadata": {},
     "output_type": "execute_result"
    }
   ],
   "source": [
    "with open(NAME_FILE, 'r') as f:\n",
    "    sample_list = [line.rstrip('\\n') for line in f]\n",
    "\n",
    "sample_list1=[]\n",
    "for i,x in enumerate(sample_list):\n",
    "    x = list(x)\n",
    "    x.append('.results.json')\n",
    "    string = ''.join([letter for letter in x] )\n",
    "    sample_list1.append(string)\n",
    "\n"
   ]
  },
  {
   "cell_type": "code",
   "execution_count": 40,
   "metadata": {},
   "outputs": [
    {
     "data": {
      "text/plain": [
       "['0100',\n",
       " '1090',\n",
       " '2080',\n",
       " '3070',\n",
       " '4060',\n",
       " '5050',\n",
       " '6040',\n",
       " '7030',\n",
       " '8020',\n",
       " '9010']"
      ]
     },
     "execution_count": 40,
     "metadata": {},
     "output_type": "execute_result"
    }
   ],
   "source": [
    "ratio = []\n",
    "for i in sample_list:\n",
    "    temp = i.split('-')\n",
    "    ratio.append(temp[2])\n",
    "    "
   ]
  },
  {
   "cell_type": "code",
   "execution_count": 29,
   "metadata": {},
   "outputs": [],
   "source": [
    "for i in sample_list:\n",
    "    JSON_FILE = os.path.join(JSON_FILE_PATH, i)\n",
    "\n",
    "    with open(JSON_FILE, 'r') as f:\n",
    "        json_labelling = json.load(f)"
   ]
  },
  {
   "cell_type": "code",
   "execution_count": 33,
   "metadata": {},
   "outputs": [
    {
     "name": "stdout",
     "output_type": "stream",
     "text": [
      "lineage4 Euro-American 0.9901719901719902\n",
      "lineage4.3.4 Euro-American (LAM) 0.3055555555555556\n"
     ]
    }
   ],
   "source": [
    "for reads in json_labelling['lineage']:\n",
    "    print(reads['lin'], reads['family'],reads['frac'])\n"
   ]
  },
  {
   "cell_type": "code",
   "execution_count": null,
   "metadata": {},
   "outputs": [],
   "source": []
  }
 ],
 "metadata": {
  "interpreter": {
   "hash": "12d9b80fa252b05f6dc974f9593fbd4d67e5b6232b89f517e1ed4a2121110dce"
  },
  "kernelspec": {
   "display_name": "Python 3.10.0 64-bit ('ml-s7': conda)",
   "language": "python",
   "name": "python3"
  },
  "language_info": {
   "codemirror_mode": {
    "name": "ipython",
    "version": 3
   },
   "file_extension": ".py",
   "mimetype": "text/x-python",
   "name": "python",
   "nbconvert_exporter": "python",
   "pygments_lexer": "ipython3",
   "version": "3.10.0"
  },
  "orig_nbformat": 4
 },
 "nbformat": 4,
 "nbformat_minor": 2
}
