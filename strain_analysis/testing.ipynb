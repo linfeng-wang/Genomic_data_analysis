{
 "cells": [
  {
   "cell_type": "code",
   "execution_count": 213,
   "metadata": {},
   "outputs": [],
   "source": [
    "import numpy as np\n",
    "import matplotlib.pyplot as plt\n",
    "import pandas as pd\n",
    "import scipy\n",
    "import sklearn\n",
    "import os\n",
    "import subprocess\n",
    "import json\n",
    "import sys\n"
   ]
  },
  {
   "cell_type": "code",
   "execution_count": 135,
   "metadata": {},
   "outputs": [],
   "source": [
    "#file names, should try to automate more\n",
    "VCF_FILE_NAME = 'ERR6634978_q20.recode.vcf.gz'\n",
    "VCF_PATH = '../../../data/processed/freebayesVCF'\n",
    "VCF_FILE_PATH = os.path.join(VCF_PATH, VCF_FILE_NAME)\n",
    "JSON_FILE_PATH = os.path.join(VCF_PATH, 'results/ERR6634978.results.json')"
   ]
  },
  {
   "cell_type": "code",
   "execution_count": 136,
   "metadata": {},
   "outputs": [],
   "source": [
    "#tried to recognise whether if the vcf file is in gz format, if not, compress it\n",
    "# import re\n",
    "\n",
    "# if re.match('*vcf$',VCF_FILE_NAME):\n",
    "#     print('Please input .vcf.gz format file compresed using bgzip')\n"
   ]
  },
  {
   "cell_type": "code",
   "execution_count": null,
   "metadata": {},
   "outputs": [],
   "source": [
    "#running tb-profiler to identify drug resistance for the sample\n",
    "#need to be run in tb-profiler environment, somehow failed to download tb-profiler in ml-s7, so far this part is run out side python in bash\n",
    "subprocess.call(['tb-profiler', 'vcf_profile', VCF_FILE_PATH])\n"
   ]
  },
  {
   "cell_type": "code",
   "execution_count": null,
   "metadata": {},
   "outputs": [],
   "source": [
    "#read in the drug resistance labeled file generated from tb-profiler\n",
    "with open(JSON_FILE_PATH, 'r') as f:\n",
    "    json_labelling = json.load(f)"
   ]
  },
  {
   "cell_type": "code",
   "execution_count": null,
   "metadata": {},
   "outputs": [
    {
     "name": "stderr",
     "output_type": "stream",
     "text": [
      "Could not find conda environment: tb-profiler\n",
      "You can list all discoverable environments with `conda info --envs`.\n",
      "\n"
     ]
    }
   ],
   "source": [
    "#get the reference read and alternative read count, changing environment is somehow not working in python\n",
    "env_command = 'eval \"$(conda shell.bash hook)\"; conda activate tb-profiler'\n",
    "subprocess.run(env_command, shell=True)\n",
    "\n",
    "with open('ROAO_proportion.csv', 'w') as f:\n",
    "    subprocess.run(['bcftools', 'query', '-f', '[%POS,%RO,%AO\\n]', VCF_FILE_PATH], shell=False, stdout=f, text=True)\n"
   ]
  },
  {
   "cell_type": "code",
   "execution_count": 139,
   "metadata": {},
   "outputs": [
    {
     "name": "stdout",
     "output_type": "stream",
     "text": [
      "4\n",
      "3\n"
     ]
    }
   ],
   "source": [
    "#count how many column there is in the ROAO_proportion.csv file this is needed in order to read the csv in a a panda dataframe\n",
    "import csv\n",
    "\n",
    "f = open('ROAO_proportion.csv')\n",
    "\n",
    "data = []\n",
    "num_col=0\n",
    "for line in f:\n",
    "    data_line = line.rstrip().split('\\n')\n",
    "    data_line = data_line[0].split(',')\n",
    "    data_line = [int(i) for i in data_line]\n",
    "    if len(data_line) > num_col:\n",
    "        num_col = len(data_line)\n",
    "    data.append(data_line)\n",
    "\n",
    "print(num_col)\n",
    "num_RO = num_col - 1\n",
    "print(num_RO)\n"
   ]
  },
  {
   "cell_type": "code",
   "execution_count": null,
   "metadata": {},
   "outputs": [],
   "source": [
    "for reads in json_labelling['dr_variants']:\n",
    "    print(reads['genome_pos'])\n",
    "    for i in reads['drugs']:\n",
    "        print(i['drug'])\n",
    "\n",
    "for reads in json_labelling['other_variants']:\n",
    "    print(reads['genome_pos'])\n",
    "    print(reads['gene_associated_drugs'])"
   ]
  },
  {
   "cell_type": "code",
   "execution_count": 150,
   "metadata": {},
   "outputs": [],
   "source": [
    "#reading csv as pandas dataframe and create a numpy array version of it\n",
    "df = pd.read_csv('ROAO_proportion.csv', names=range(num_col)) #doesn't include the 4th colum\n",
    "df.fillna(value=0, inplace=True)\n",
    "df[num_col] = None #create 4th column here as a empty column of zero, this column is for the drug resistance info\n",
    "df_np = df.to_numpy()\n",
    "\n"
   ]
  },
  {
   "cell_type": "code",
   "execution_count": 244,
   "metadata": {},
   "outputs": [
    {
     "name": "stdout",
     "output_type": "stream",
     "text": [
      "hit:  761155\n",
      "hit:  2155168\n",
      "hit:  4247429\n",
      "hit:  7362\n",
      "hit:  7585\n",
      "hit:  9304\n",
      "hit:  764817\n",
      "hit:  764995\n",
      "hit:  781395\n",
      "hit:  1416222\n",
      "hit:  1471659\n",
      "hit:  1917972\n",
      "hit:  3073868\n",
      "hit:  3086788\n",
      "hit:  4239763\n",
      "hit:  4242643\n",
      "hit:  4408156\n"
     ]
    }
   ],
   "source": [
    "\n",
    "#numpy array and json file compared against each other in terms of genome position and \n",
    "#the drug resistance info is added on to the 4th column of the numpy array if there is a match in genome position\n",
    "for ind, pos in enumerate(df_np[:,0]): \n",
    "    for reads in json_labelling['dr_variants']:\n",
    "        if pos == reads['genome_pos']:\n",
    "            # print('hit: ', pos)\n",
    "            for i in reads['drugs']:\n",
    "                df_np[ind, 4] = [i['drug']]\n",
    "\n",
    "for ind, pos in enumerate(df_np[:,0]):\n",
    "    for reads in json_labelling['other_variants']:\n",
    "        if pos == reads['genome_pos']:\n",
    "            # print('hit: ', pos)\n",
    "            df_np[ind, 4] = reads['gene_associated_drugs']\n"
   ]
  },
  {
   "cell_type": "code",
   "execution_count": 158,
   "metadata": {},
   "outputs": [],
   "source": [
    "#training gaussianMixture Model\n",
    "\n",
    "from sklearn.mixture import GaussianMixture\n",
    "\n",
    "model_input = df_np[:,1:num_col]\n",
    "gm = GaussianMixture(n_components=num_RO, random_state=0).fit(model_input)"
   ]
  },
  {
   "cell_type": "code",
   "execution_count": 245,
   "metadata": {},
   "outputs": [
    {
     "data": {
      "text/plain": [
       "{'strain1': [], 'strain2': [], 'strain3': []}"
      ]
     },
     "execution_count": 245,
     "metadata": {},
     "output_type": "execute_result"
    }
   ],
   "source": [
    "#create number of strain number of object in a dictionary\n",
    "resistance_dict = {}\n",
    "\n",
    "for x in range(1,num_RO+1):\n",
    "    resistance_dict['strain'+ str(x)] = []\n",
    "\n",
    "resistance_dict"
   ]
  },
  {
   "cell_type": "code",
   "execution_count": 246,
   "metadata": {},
   "outputs": [
    {
     "name": "stdout",
     "output_type": "stream",
     "text": [
      "['fluoroquinolones', 'levofloxacin', 'moxifloxacin', 'ciprofloxacin', 'ofloxacin'] added\n",
      "['fluoroquinolones', 'levofloxacin', 'moxifloxacin', 'ciprofloxacin', 'ofloxacin'] added\n",
      "['fluoroquinolones', 'levofloxacin', 'moxifloxacin', 'ciprofloxacin', 'ofloxacin'] added\n",
      "['rifampicin'] added\n",
      "['rifampicin'] added\n",
      "['rifampicin'] added\n",
      "['streptomycin'] added\n",
      "['ethambutol'] added\n",
      "['amikacin', 'aminoglycosides', 'kanamycin', 'streptomycin', 'capreomycin'] added\n",
      "['capreomycin'] added\n",
      "['isoniazid'] added\n",
      "['para-aminosalicylic_acid'] added\n",
      "['cycloserine'] added\n",
      "['ethambutol'] added\n",
      "['ethambutol'] added\n",
      "['ethambutol'] added\n",
      "['streptomycin'] added\n"
     ]
    },
    {
     "name": "stderr",
     "output_type": "stream",
     "text": [
      "/mnt/storage7/lwang/miniconda3/envs/ml-s7/lib/python3.10/site-packages/sklearn/base.py:561: FutureWarning: Arrays of bytes/strings is being converted to decimal numbers if dtype='numeric'. This behavior is deprecated in 0.24 and will be removed in 1.1 (renaming of 0.26). Please convert your data to numeric values explicitly instead.\n",
      "  X = check_array(X, **check_params)\n",
      "/mnt/storage7/lwang/miniconda3/envs/ml-s7/lib/python3.10/site-packages/sklearn/base.py:561: FutureWarning: Arrays of bytes/strings is being converted to decimal numbers if dtype='numeric'. This behavior is deprecated in 0.24 and will be removed in 1.1 (renaming of 0.26). Please convert your data to numeric values explicitly instead.\n",
      "  X = check_array(X, **check_params)\n",
      "/mnt/storage7/lwang/miniconda3/envs/ml-s7/lib/python3.10/site-packages/sklearn/base.py:561: FutureWarning: Arrays of bytes/strings is being converted to decimal numbers if dtype='numeric'. This behavior is deprecated in 0.24 and will be removed in 1.1 (renaming of 0.26). Please convert your data to numeric values explicitly instead.\n",
      "  X = check_array(X, **check_params)\n",
      "/mnt/storage7/lwang/miniconda3/envs/ml-s7/lib/python3.10/site-packages/sklearn/base.py:561: FutureWarning: Arrays of bytes/strings is being converted to decimal numbers if dtype='numeric'. This behavior is deprecated in 0.24 and will be removed in 1.1 (renaming of 0.26). Please convert your data to numeric values explicitly instead.\n",
      "  X = check_array(X, **check_params)\n",
      "/mnt/storage7/lwang/miniconda3/envs/ml-s7/lib/python3.10/site-packages/sklearn/base.py:561: FutureWarning: Arrays of bytes/strings is being converted to decimal numbers if dtype='numeric'. This behavior is deprecated in 0.24 and will be removed in 1.1 (renaming of 0.26). Please convert your data to numeric values explicitly instead.\n",
      "  X = check_array(X, **check_params)\n",
      "/mnt/storage7/lwang/miniconda3/envs/ml-s7/lib/python3.10/site-packages/sklearn/base.py:561: FutureWarning: Arrays of bytes/strings is being converted to decimal numbers if dtype='numeric'. This behavior is deprecated in 0.24 and will be removed in 1.1 (renaming of 0.26). Please convert your data to numeric values explicitly instead.\n",
      "  X = check_array(X, **check_params)\n",
      "/mnt/storage7/lwang/miniconda3/envs/ml-s7/lib/python3.10/site-packages/sklearn/base.py:561: FutureWarning: Arrays of bytes/strings is being converted to decimal numbers if dtype='numeric'. This behavior is deprecated in 0.24 and will be removed in 1.1 (renaming of 0.26). Please convert your data to numeric values explicitly instead.\n",
      "  X = check_array(X, **check_params)\n",
      "/mnt/storage7/lwang/miniconda3/envs/ml-s7/lib/python3.10/site-packages/sklearn/base.py:561: FutureWarning: Arrays of bytes/strings is being converted to decimal numbers if dtype='numeric'. This behavior is deprecated in 0.24 and will be removed in 1.1 (renaming of 0.26). Please convert your data to numeric values explicitly instead.\n",
      "  X = check_array(X, **check_params)\n",
      "/mnt/storage7/lwang/miniconda3/envs/ml-s7/lib/python3.10/site-packages/sklearn/base.py:561: FutureWarning: Arrays of bytes/strings is being converted to decimal numbers if dtype='numeric'. This behavior is deprecated in 0.24 and will be removed in 1.1 (renaming of 0.26). Please convert your data to numeric values explicitly instead.\n",
      "  X = check_array(X, **check_params)\n",
      "/mnt/storage7/lwang/miniconda3/envs/ml-s7/lib/python3.10/site-packages/sklearn/base.py:561: FutureWarning: Arrays of bytes/strings is being converted to decimal numbers if dtype='numeric'. This behavior is deprecated in 0.24 and will be removed in 1.1 (renaming of 0.26). Please convert your data to numeric values explicitly instead.\n",
      "  X = check_array(X, **check_params)\n",
      "/mnt/storage7/lwang/miniconda3/envs/ml-s7/lib/python3.10/site-packages/sklearn/base.py:561: FutureWarning: Arrays of bytes/strings is being converted to decimal numbers if dtype='numeric'. This behavior is deprecated in 0.24 and will be removed in 1.1 (renaming of 0.26). Please convert your data to numeric values explicitly instead.\n",
      "  X = check_array(X, **check_params)\n",
      "/mnt/storage7/lwang/miniconda3/envs/ml-s7/lib/python3.10/site-packages/sklearn/base.py:561: FutureWarning: Arrays of bytes/strings is being converted to decimal numbers if dtype='numeric'. This behavior is deprecated in 0.24 and will be removed in 1.1 (renaming of 0.26). Please convert your data to numeric values explicitly instead.\n",
      "  X = check_array(X, **check_params)\n",
      "/mnt/storage7/lwang/miniconda3/envs/ml-s7/lib/python3.10/site-packages/sklearn/base.py:561: FutureWarning: Arrays of bytes/strings is being converted to decimal numbers if dtype='numeric'. This behavior is deprecated in 0.24 and will be removed in 1.1 (renaming of 0.26). Please convert your data to numeric values explicitly instead.\n",
      "  X = check_array(X, **check_params)\n",
      "/mnt/storage7/lwang/miniconda3/envs/ml-s7/lib/python3.10/site-packages/sklearn/base.py:561: FutureWarning: Arrays of bytes/strings is being converted to decimal numbers if dtype='numeric'. This behavior is deprecated in 0.24 and will be removed in 1.1 (renaming of 0.26). Please convert your data to numeric values explicitly instead.\n",
      "  X = check_array(X, **check_params)\n",
      "/mnt/storage7/lwang/miniconda3/envs/ml-s7/lib/python3.10/site-packages/sklearn/base.py:561: FutureWarning: Arrays of bytes/strings is being converted to decimal numbers if dtype='numeric'. This behavior is deprecated in 0.24 and will be removed in 1.1 (renaming of 0.26). Please convert your data to numeric values explicitly instead.\n",
      "  X = check_array(X, **check_params)\n",
      "/mnt/storage7/lwang/miniconda3/envs/ml-s7/lib/python3.10/site-packages/sklearn/base.py:561: FutureWarning: Arrays of bytes/strings is being converted to decimal numbers if dtype='numeric'. This behavior is deprecated in 0.24 and will be removed in 1.1 (renaming of 0.26). Please convert your data to numeric values explicitly instead.\n",
      "  X = check_array(X, **check_params)\n",
      "/mnt/storage7/lwang/miniconda3/envs/ml-s7/lib/python3.10/site-packages/sklearn/base.py:561: FutureWarning: Arrays of bytes/strings is being converted to decimal numbers if dtype='numeric'. This behavior is deprecated in 0.24 and will be removed in 1.1 (renaming of 0.26). Please convert your data to numeric values explicitly instead.\n",
      "  X = check_array(X, **check_params)\n"
     ]
    }
   ],
   "source": [
    "#reads are assigned to different strains according to their ROAO by the gaussianMixture model\n",
    "#and added to the corresponding strain item in dictionary\n",
    "\n",
    "for x in df_np:\n",
    "    if x[num_col] != None:\n",
    "        output = gm.predict([x[1:num_col]])\n",
    "        # print(output)\n",
    "\n",
    "        for i in range(1,num_RO+1):\n",
    "            if output == [i-1]:\n",
    "                # if x[num_col] in resistance_dict['strain'+ str(i)]:\n",
    "                #     continue\n",
    "                resistance_dict['strain'+ str(i)].extend(x[num_col])\n",
    "                # print(x[num_col], 'added')\n"
   ]
  },
  {
   "cell_type": "code",
   "execution_count": 249,
   "metadata": {},
   "outputs": [
    {
     "data": {
      "text/html": [
       "<div>\n",
       "<style scoped>\n",
       "    .dataframe tbody tr th:only-of-type {\n",
       "        vertical-align: middle;\n",
       "    }\n",
       "\n",
       "    .dataframe tbody tr th {\n",
       "        vertical-align: top;\n",
       "    }\n",
       "\n",
       "    .dataframe thead th {\n",
       "        text-align: right;\n",
       "    }\n",
       "</style>\n",
       "<table border=\"1\" class=\"dataframe\">\n",
       "  <thead>\n",
       "    <tr style=\"text-align: right;\">\n",
       "      <th></th>\n",
       "      <th>strain1</th>\n",
       "      <th>strain2</th>\n",
       "      <th>strain3</th>\n",
       "    </tr>\n",
       "  </thead>\n",
       "  <tbody>\n",
       "    <tr>\n",
       "      <th>0</th>\n",
       "      <td>ethambutol</td>\n",
       "      <td>amikacin</td>\n",
       "      <td>NaN</td>\n",
       "    </tr>\n",
       "    <tr>\n",
       "      <th>1</th>\n",
       "      <td>NaN</td>\n",
       "      <td>aminoglycosides</td>\n",
       "      <td>NaN</td>\n",
       "    </tr>\n",
       "    <tr>\n",
       "      <th>2</th>\n",
       "      <td>NaN</td>\n",
       "      <td>capreomycin</td>\n",
       "      <td>NaN</td>\n",
       "    </tr>\n",
       "    <tr>\n",
       "      <th>3</th>\n",
       "      <td>NaN</td>\n",
       "      <td>ciprofloxacin</td>\n",
       "      <td>NaN</td>\n",
       "    </tr>\n",
       "    <tr>\n",
       "      <th>4</th>\n",
       "      <td>NaN</td>\n",
       "      <td>cycloserine</td>\n",
       "      <td>NaN</td>\n",
       "    </tr>\n",
       "    <tr>\n",
       "      <th>5</th>\n",
       "      <td>NaN</td>\n",
       "      <td>ethambutol</td>\n",
       "      <td>NaN</td>\n",
       "    </tr>\n",
       "    <tr>\n",
       "      <th>6</th>\n",
       "      <td>NaN</td>\n",
       "      <td>fluoroquinolones</td>\n",
       "      <td>NaN</td>\n",
       "    </tr>\n",
       "    <tr>\n",
       "      <th>7</th>\n",
       "      <td>NaN</td>\n",
       "      <td>isoniazid</td>\n",
       "      <td>NaN</td>\n",
       "    </tr>\n",
       "    <tr>\n",
       "      <th>8</th>\n",
       "      <td>NaN</td>\n",
       "      <td>kanamycin</td>\n",
       "      <td>NaN</td>\n",
       "    </tr>\n",
       "    <tr>\n",
       "      <th>9</th>\n",
       "      <td>NaN</td>\n",
       "      <td>levofloxacin</td>\n",
       "      <td>NaN</td>\n",
       "    </tr>\n",
       "    <tr>\n",
       "      <th>10</th>\n",
       "      <td>NaN</td>\n",
       "      <td>moxifloxacin</td>\n",
       "      <td>NaN</td>\n",
       "    </tr>\n",
       "    <tr>\n",
       "      <th>11</th>\n",
       "      <td>NaN</td>\n",
       "      <td>ofloxacin</td>\n",
       "      <td>NaN</td>\n",
       "    </tr>\n",
       "    <tr>\n",
       "      <th>12</th>\n",
       "      <td>NaN</td>\n",
       "      <td>para-aminosalicylic_acid</td>\n",
       "      <td>NaN</td>\n",
       "    </tr>\n",
       "    <tr>\n",
       "      <th>13</th>\n",
       "      <td>NaN</td>\n",
       "      <td>rifampicin</td>\n",
       "      <td>NaN</td>\n",
       "    </tr>\n",
       "    <tr>\n",
       "      <th>14</th>\n",
       "      <td>NaN</td>\n",
       "      <td>streptomycin</td>\n",
       "      <td>NaN</td>\n",
       "    </tr>\n",
       "  </tbody>\n",
       "</table>\n",
       "</div>"
      ],
      "text/plain": [
       "       strain1                   strain2  strain3\n",
       "0   ethambutol                  amikacin      NaN\n",
       "1          NaN           aminoglycosides      NaN\n",
       "2          NaN               capreomycin      NaN\n",
       "3          NaN             ciprofloxacin      NaN\n",
       "4          NaN               cycloserine      NaN\n",
       "5          NaN                ethambutol      NaN\n",
       "6          NaN          fluoroquinolones      NaN\n",
       "7          NaN                 isoniazid      NaN\n",
       "8          NaN                 kanamycin      NaN\n",
       "9          NaN              levofloxacin      NaN\n",
       "10         NaN              moxifloxacin      NaN\n",
       "11         NaN                 ofloxacin      NaN\n",
       "12         NaN  para-aminosalicylic_acid      NaN\n",
       "13         NaN                rifampicin      NaN\n",
       "14         NaN              streptomycin      NaN"
      ]
     },
     "execution_count": 249,
     "metadata": {},
     "output_type": "execute_result"
    }
   ],
   "source": [
    "#remove ducplicate items and show the dictionary as a df\n",
    "for x in range(1,num_RO+1):\n",
    "    resistance_dict['strain'+ str(x)] = np.unique(resistance_dict['strain'+ str(x)])\n",
    "\n",
    "pd.DataFrame(dict([ (k,pd.Series(v)) for k,v in resistance_dict.items() ]))"
   ]
  },
  {
   "cell_type": "code",
   "execution_count": 262,
   "metadata": {},
   "outputs": [
    {
     "data": {
      "text/plain": [
       "<BarContainer object of 1171 artists>"
      ]
     },
     "execution_count": 262,
     "metadata": {},
     "output_type": "execute_result"
    },
    {
     "data": {
      "image/png": "[encoded data removed]",
      "text/plain": [
       "<Figure size 432x288 with 1 Axes>"
      ]
     },
     "metadata": {
      "needs_background": "light"
     },
     "output_type": "display_data"
    }
   ],
   "source": [
    "#frequency graph assuming that there is only two strains\n",
    "df_2component = pd.read_csv('ROAO_proportion.csv', names=range(3))\n",
    "df_2component['proportion'] = df_2component[2]/(df_2component[1]+df_2component[2]) # alt/(ref+alt)\n",
    "\n",
    "fig, ax= plt.subplots()\n",
    "ax.bar(np.arange(len(df_2component[2])),df_2component['proportion'])\n"
   ]
  },
  {
   "cell_type": "code",
   "execution_count": null,
   "metadata": {},
   "outputs": [],
   "source": []
  }
 ],
 "metadata": {
  "interpreter": {
   "hash": "d6768d4663a47fff933bae7805b3d263e035a1f0db74783c60faa02117d87629"
  },
  "kernelspec": {
   "display_name": "Python 3.7.10 64-bit ('assembly': conda)",
   "language": "python",
   "name": "python3"
  },
  "language_info": {
   "codemirror_mode": {
    "name": "ipython",
    "version": 3
   },
   "file_extension": ".py",
   "mimetype": "text/x-python",
   "name": "python",
   "nbconvert_exporter": "python",
   "pygments_lexer": "ipython3",
   "version": "3.10.0"
  },
  "orig_nbformat": 4
 },
 "nbformat": 4,
 "nbformat_minor": 2
}
