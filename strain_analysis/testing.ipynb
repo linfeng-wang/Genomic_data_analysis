{
 "cells": [
  {
   "cell_type": "code",
   "execution_count": 2,
   "metadata": {},
   "outputs": [],
   "source": [
    "import numpy as np\n",
    "import matplotlib.pyplot as plt\n",
    "import pandas as pd\n",
    "import scipy\n",
    "import sklearn\n",
    "import os\n",
    "import subprocess\n",
    "import json\n",
    "import sys\n"
   ]
  },
  {
   "cell_type": "markdown",
   "metadata": {},
   "source": [
    "VCF input file: gz file of vcf compressed by bgzip needed"
   ]
  },
  {
   "cell_type": "code",
   "execution_count": 3,
   "metadata": {},
   "outputs": [],
   "source": [
    "#file names, should try to automate more\n",
    "VCF_FILE_NAME = 'ERR6635423_q20.recode.vcf.gz' #this needs to be changed as well \n",
    "VCF_PATH = '../../../data/processed/freebayesVCF'\n",
    "VCF_FILE_PATH = os.path.join(VCF_PATH, VCF_FILE_NAME)\n",
    "JSON_FILE_PATH = os.path.join(VCF_PATH, 'results/ERR6635423.results.json') #for the time being, change the file names here"
   ]
  },
  {
   "cell_type": "code",
   "execution_count": 4,
   "metadata": {},
   "outputs": [],
   "source": [
    "#tried to recognise whether if the vcf file is in gz format, if not, compress it\n",
    "# import re\n",
    "\n",
    "# if re.match('*vcf$',VCF_FILE_NAME):\n",
    "#     print('Please input .vcf.gz format file compresed using bgzip')\n"
   ]
  },
  {
   "cell_type": "code",
   "execution_count": 5,
   "metadata": {},
   "outputs": [],
   "source": [
    "#***for the time being, this can't be run***\n",
    "\n",
    "#running tb-profiler to identify drug resistance for the sample\n",
    "#need to be run in tb-profiler environment, somehow failed to download tb-profiler in ml-s7, so far this part is run out side python in bash\n",
    "\n",
    "# subprocess.call(['tb-profiler', 'vcf_profile', VCF_FILE_PATH])\n"
   ]
  },
  {
   "cell_type": "code",
   "execution_count": 6,
   "metadata": {},
   "outputs": [],
   "source": [
    "#read in the drug resistance labeled file generated from tb-profiler\n",
    "with open(JSON_FILE_PATH, 'r') as f:\n",
    "    json_labelling = json.load(f)"
   ]
  },
  {
   "cell_type": "code",
   "execution_count": 7,
   "metadata": {},
   "outputs": [
    {
     "name": "stderr",
     "output_type": "stream",
     "text": [
      "Could not find conda environment: tb-profiler\n",
      "You can list all discoverable environments with `conda info --envs`.\n",
      "\n"
     ]
    }
   ],
   "source": [
    "#get the reference read and alternative read count, changing environment is somehow not working in python\n",
    "env_command = 'eval \"$(conda shell.bash hook)\"; conda activate tb-profiler'\n",
    "subprocess.run(env_command, shell=True)\n",
    "\n",
    "with open('ROAO_proportion.csv', 'w') as f:\n",
    "    subprocess.run(['bcftools', 'query', '-f', '[%POS,%RO,%AO\\n]', VCF_FILE_PATH], shell=False, stdout=f, text=True)\n"
   ]
  },
  {
   "cell_type": "code",
   "execution_count": 8,
   "metadata": {},
   "outputs": [
    {
     "name": "stdout",
     "output_type": "stream",
     "text": [
      "4\n",
      "3\n"
     ]
    }
   ],
   "source": [
    "#count how many column there is in the ROAO_proportion.csv file this is needed in order to read the csv in a a panda dataframe\n",
    "import csv\n",
    "\n",
    "f = open('ROAO_proportion.csv')\n",
    "\n",
    "data = []\n",
    "num_col=0\n",
    "for line in f:\n",
    "    data_line = line.rstrip().split('\\n')\n",
    "    data_line = data_line[0].split(',')\n",
    "    data_line = [int(i) for i in data_line]\n",
    "    if len(data_line) > num_col:\n",
    "        num_col = len(data_line)\n",
    "    data.append(data_line)\n",
    "\n",
    "print(num_col) #outputing the length of column in the dataframe\n",
    "num_RO = num_col - 1\n",
    "print(num_RO)\n"
   ]
  },
  {
   "cell_type": "code",
   "execution_count": 9,
   "metadata": {},
   "outputs": [],
   "source": [
    "#this is to show the position of each variant a being read from the json file --- doesn't need to be run\n",
    "\n",
    "# for reads in json_labelling['dr_variants']:\n",
    "#     print(reads['genome_pos'])\n",
    "#     for i in reads['drugs']:\n",
    "#         print(i['drug'])\n",
    "\n",
    "# for reads in json_labelling['other_variants']:\n",
    "#     print(reads['genome_pos'])\n",
    "#     print(reads['gene_associated_drugs'])"
   ]
  },
  {
   "cell_type": "code",
   "execution_count": 10,
   "metadata": {},
   "outputs": [],
   "source": [
    "#reading csv as pandas dataframe and create a numpy array version of it\n",
    "df = pd.read_csv('ROAO_proportion.csv', names=range(num_col)) #doesn't include the 4th colum\n",
    "df.fillna(value=0, inplace=True)\n",
    "df[num_col] = None #create 4th column here as a empty column of zero, this column is for the drug resistance info\n",
    "df_np = df.to_numpy()\n",
    "\n"
   ]
  },
  {
   "cell_type": "code",
   "execution_count": 11,
   "metadata": {},
   "outputs": [],
   "source": [
    "\n",
    "#numpy array and json file compared against each other in terms of genome position and \n",
    "#the drug resistance info is added on to the 4th column of the numpy array if there is a match in genome position\n",
    "for ind, pos in enumerate(df_np[:,0]): \n",
    "    for reads in json_labelling['dr_variants']:\n",
    "        if pos == reads['genome_pos']:\n",
    "            # print('hit: ', pos)\n",
    "            for i in reads['drugs']:\n",
    "                df_np[ind, 4] = [i['drug']]\n",
    "\n",
    "#json_labelling['other_variants'] contain variant in region of variants that are responsible for drug resistance, but these variants are no the variants responsible for resistance even though they are in the region where resistance variants are found\n",
    "# for ind, pos in enumerate(df_np[:,0]):\n",
    "#     for reads in json_labelling['other_variants']:\n",
    "#         if pos == reads['genome_pos']:\n",
    "#             # print('hit: ', pos)\n",
    "#             df_np[ind, 4] = reads['gene_associated_drugs']\n"
   ]
  },
  {
   "cell_type": "code",
   "execution_count": 12,
   "metadata": {},
   "outputs": [
    {
     "data": {
      "text/plain": [
       "array([[1302, 77, 349, 0.0, None],\n",
       "       [1849, 380, 86, 0.0, None],\n",
       "       [1977, 0, 480, 0.0, None],\n",
       "       ...,\n",
       "       [4408920, 0, 281, 66.0, None],\n",
       "       [4410386, 112, 350, 0.0, None],\n",
       "       [4411016, 108, 310, 0.0, None]], dtype=object)"
      ]
     },
     "execution_count": 12,
     "metadata": {},
     "output_type": "execute_result"
    }
   ],
   "source": [
    "df_np"
   ]
  },
  {
   "cell_type": "code",
   "execution_count": 13,
   "metadata": {},
   "outputs": [],
   "source": [
    "#training gaussianMixture Model\n",
    "\n",
    "from sklearn.mixture import GaussianMixture\n",
    "\n",
    "model_input = df_np[:,1:num_col]\n",
    "gm = GaussianMixture(n_components=num_RO, random_state=0).fit(model_input)"
   ]
  },
  {
   "cell_type": "code",
   "execution_count": 14,
   "metadata": {},
   "outputs": [],
   "source": [
    "#create number of strain number of object in a dictionary\n",
    "resistance_dict = {}\n",
    "\n",
    "for x in range(1,num_RO+1):\n",
    "    resistance_dict['strain'+ str(x)] = []\n",
    "\n",
    "# resistance_dict"
   ]
  },
  {
   "cell_type": "code",
   "execution_count": 15,
   "metadata": {},
   "outputs": [],
   "source": [
    "# np.set_printoptions(threshold=sys.maxsize)\n",
    "# df_np\n"
   ]
  },
  {
   "cell_type": "code",
   "execution_count": 53,
   "metadata": {},
   "outputs": [
    {
     "name": "stdout",
     "output_type": "stream",
     "text": [
      "['rifampicin'] probs:  [[0. 0. 1.]]\n",
      "['rifampicin' '0.0' '0.0' '1.0']\n",
      "<class 'list'>\n",
      "['rifampicin'] probs:  [[0.    0.999 0.001]]\n",
      "['rifampicin' '0.0' '0.999' '0.001']\n",
      "<class 'list'>\n",
      "['streptomycin'] probs:  [[0. 0. 1.]]\n",
      "['streptomycin' '0.0' '0.0' '1.0']\n",
      "<class 'list'>\n",
      "['capreomycin'] probs:  [[0. 0. 1.]]\n",
      "['capreomycin' '0.0' '0.0' '1.0']\n",
      "<class 'list'>\n",
      "['isoniazid'] probs:  [[0. 1. 0.]]\n",
      "['isoniazid' '0.0' '1.0' '0.0']\n",
      "<class 'list'>\n",
      "['ethambutol'] probs:  [[0. 0. 1.]]\n",
      "['ethambutol' '0.0' '0.0' '1.0']\n",
      "<class 'list'>\n",
      "['ethionamide'] probs:  [[0. 0. 1.]]\n",
      "['ethionamide' '0.0' '0.0' '1.0']\n",
      "<class 'list'>\n"
     ]
    },
    {
     "name": "stderr",
     "output_type": "stream",
     "text": [
      "/mnt/storage7/lwang/miniconda3/envs/ml-s7/lib/python3.10/site-packages/sklearn/base.py:561: FutureWarning: Arrays of bytes/strings is being converted to decimal numbers if dtype='numeric'. This behavior is deprecated in 0.24 and will be removed in 1.1 (renaming of 0.26). Please convert your data to numeric values explicitly instead.\n",
      "  X = check_array(X, **check_params)\n",
      "/mnt/storage7/lwang/miniconda3/envs/ml-s7/lib/python3.10/site-packages/sklearn/base.py:561: FutureWarning: Arrays of bytes/strings is being converted to decimal numbers if dtype='numeric'. This behavior is deprecated in 0.24 and will be removed in 1.1 (renaming of 0.26). Please convert your data to numeric values explicitly instead.\n",
      "  X = check_array(X, **check_params)\n",
      "/mnt/storage7/lwang/miniconda3/envs/ml-s7/lib/python3.10/site-packages/sklearn/base.py:561: FutureWarning: Arrays of bytes/strings is being converted to decimal numbers if dtype='numeric'. This behavior is deprecated in 0.24 and will be removed in 1.1 (renaming of 0.26). Please convert your data to numeric values explicitly instead.\n",
      "  X = check_array(X, **check_params)\n",
      "/mnt/storage7/lwang/miniconda3/envs/ml-s7/lib/python3.10/site-packages/sklearn/base.py:561: FutureWarning: Arrays of bytes/strings is being converted to decimal numbers if dtype='numeric'. This behavior is deprecated in 0.24 and will be removed in 1.1 (renaming of 0.26). Please convert your data to numeric values explicitly instead.\n",
      "  X = check_array(X, **check_params)\n",
      "/mnt/storage7/lwang/miniconda3/envs/ml-s7/lib/python3.10/site-packages/sklearn/base.py:561: FutureWarning: Arrays of bytes/strings is being converted to decimal numbers if dtype='numeric'. This behavior is deprecated in 0.24 and will be removed in 1.1 (renaming of 0.26). Please convert your data to numeric values explicitly instead.\n",
      "  X = check_array(X, **check_params)\n",
      "/mnt/storage7/lwang/miniconda3/envs/ml-s7/lib/python3.10/site-packages/sklearn/base.py:561: FutureWarning: Arrays of bytes/strings is being converted to decimal numbers if dtype='numeric'. This behavior is deprecated in 0.24 and will be removed in 1.1 (renaming of 0.26). Please convert your data to numeric values explicitly instead.\n",
      "  X = check_array(X, **check_params)\n",
      "/mnt/storage7/lwang/miniconda3/envs/ml-s7/lib/python3.10/site-packages/sklearn/base.py:561: FutureWarning: Arrays of bytes/strings is being converted to decimal numbers if dtype='numeric'. This behavior is deprecated in 0.24 and will be removed in 1.1 (renaming of 0.26). Please convert your data to numeric values explicitly instead.\n",
      "  X = check_array(X, **check_params)\n",
      "/mnt/storage7/lwang/miniconda3/envs/ml-s7/lib/python3.10/site-packages/sklearn/base.py:561: FutureWarning: Arrays of bytes/strings is being converted to decimal numbers if dtype='numeric'. This behavior is deprecated in 0.24 and will be removed in 1.1 (renaming of 0.26). Please convert your data to numeric values explicitly instead.\n",
      "  X = check_array(X, **check_params)\n",
      "/mnt/storage7/lwang/miniconda3/envs/ml-s7/lib/python3.10/site-packages/sklearn/base.py:561: FutureWarning: Arrays of bytes/strings is being converted to decimal numbers if dtype='numeric'. This behavior is deprecated in 0.24 and will be removed in 1.1 (renaming of 0.26). Please convert your data to numeric values explicitly instead.\n",
      "  X = check_array(X, **check_params)\n",
      "/mnt/storage7/lwang/miniconda3/envs/ml-s7/lib/python3.10/site-packages/sklearn/base.py:561: FutureWarning: Arrays of bytes/strings is being converted to decimal numbers if dtype='numeric'. This behavior is deprecated in 0.24 and will be removed in 1.1 (renaming of 0.26). Please convert your data to numeric values explicitly instead.\n",
      "  X = check_array(X, **check_params)\n",
      "/mnt/storage7/lwang/miniconda3/envs/ml-s7/lib/python3.10/site-packages/sklearn/base.py:561: FutureWarning: Arrays of bytes/strings is being converted to decimal numbers if dtype='numeric'. This behavior is deprecated in 0.24 and will be removed in 1.1 (renaming of 0.26). Please convert your data to numeric values explicitly instead.\n",
      "  X = check_array(X, **check_params)\n",
      "/mnt/storage7/lwang/miniconda3/envs/ml-s7/lib/python3.10/site-packages/sklearn/base.py:561: FutureWarning: Arrays of bytes/strings is being converted to decimal numbers if dtype='numeric'. This behavior is deprecated in 0.24 and will be removed in 1.1 (renaming of 0.26). Please convert your data to numeric values explicitly instead.\n",
      "  X = check_array(X, **check_params)\n",
      "/mnt/storage7/lwang/miniconda3/envs/ml-s7/lib/python3.10/site-packages/sklearn/base.py:561: FutureWarning: Arrays of bytes/strings is being converted to decimal numbers if dtype='numeric'. This behavior is deprecated in 0.24 and will be removed in 1.1 (renaming of 0.26). Please convert your data to numeric values explicitly instead.\n",
      "  X = check_array(X, **check_params)\n",
      "/mnt/storage7/lwang/miniconda3/envs/ml-s7/lib/python3.10/site-packages/sklearn/base.py:561: FutureWarning: Arrays of bytes/strings is being converted to decimal numbers if dtype='numeric'. This behavior is deprecated in 0.24 and will be removed in 1.1 (renaming of 0.26). Please convert your data to numeric values explicitly instead.\n",
      "  X = check_array(X, **check_params)\n"
     ]
    }
   ],
   "source": [
    "#reads are assigned to different strains according to their ROAO by the gaussianMixture model\n",
    "#and added to the corresponding strain item in dictionary\n",
    "probs_array = []\n",
    "\n",
    "for x in df_np:\n",
    "    if x[num_col] != None:\n",
    "        output = gm.predict([x[1:num_col]])\n",
    "        probs = gm.predict_proba([x[1:num_col]])\n",
    "        print(x[num_col], 'probs: ', probs.round(3))\n",
    "        resistance = np.array(x[num_col])\n",
    "        insert = np.append(resistance, probs.round(3))\n",
    "        probs_array.append(insert)\n",
    "        print(insert)\n",
    "        print(type(probs_array))\n",
    "\n",
    "        for i in range(1,num_RO+1):\n",
    "            if output == [i-1]: \n",
    "                # if x[num_col] in resistance_dict['strain'+ str(i)]:\n",
    "                #     continue\n",
    "                resistance_dict['strain'+ str(i)].extend(x[num_col])\n",
    "                # print(x[num_col], 'added')\n",
    "\n",
    "np.array(probs_array)\n",
    "\n",
    "for x in df_np: #this bit has to be another separate for loop because it add the resistance to all strain that are not empty, strain must be added first to determine if they are truely empty or not\n",
    "    if x[num_col] != None:\n",
    "        for i in range(1,num_RO+1):\n",
    "            if output == [i-1]:\n",
    "                if max(x[1:num_col])/sum(x[1:num_col]) >= 0.99: #calculating frequency if the frequenct >= 0.99 we could say that this resistance exist in all strains\n",
    "                    for k, v in resistance_dict.items():\n",
    "                        if len(v) != 0: #if this is not a empty strain\n",
    "                            resistance_dict['strain'+ str(i)].extend(x[num_col]) #\n",
    "\n",
    "                \n",
    "\n",
    "\n"
   ]
  },
  {
   "cell_type": "code",
   "execution_count": 55,
   "metadata": {},
   "outputs": [
    {
     "data": {
      "text/plain": [
       "array([['rifampicin', '0.0', '0.0', '1.0'],\n",
       "       ['rifampicin', '0.0', '0.999', '0.001'],\n",
       "       ['streptomycin', '0.0', '0.0', '1.0'],\n",
       "       ['capreomycin', '0.0', '0.0', '1.0'],\n",
       "       ['isoniazid', '0.0', '1.0', '0.0'],\n",
       "       ['ethambutol', '0.0', '0.0', '1.0'],\n",
       "       ['ethionamide', '0.0', '0.0', '1.0']], dtype='<U32')"
      ]
     },
     "execution_count": 55,
     "metadata": {},
     "output_type": "execute_result"
    }
   ],
   "source": []
  },
  {
   "cell_type": "code",
   "execution_count": 22,
   "metadata": {},
   "outputs": [
    {
     "data": {
      "text/plain": [
       "array([[1302, 77, 349, 0.0, None],\n",
       "       [1849, 380, 86, 0.0, None],\n",
       "       [1977, 0, 480, 0.0, None],\n",
       "       ...,\n",
       "       [4408920, 0, 281, 66.0, None],\n",
       "       [4410386, 112, 350, 0.0, None],\n",
       "       [4411016, 108, 310, 0.0, None]], dtype=object)"
      ]
     },
     "execution_count": 22,
     "metadata": {},
     "output_type": "execute_result"
    }
   ],
   "source": [
    "df_np"
   ]
  },
  {
   "cell_type": "code",
   "execution_count": 61,
   "metadata": {},
   "outputs": [
    {
     "data": {
      "text/html": [
       "<div>\n",
       "<style scoped>\n",
       "    .dataframe tbody tr th:only-of-type {\n",
       "        vertical-align: middle;\n",
       "    }\n",
       "\n",
       "    .dataframe tbody tr th {\n",
       "        vertical-align: top;\n",
       "    }\n",
       "\n",
       "    .dataframe thead th {\n",
       "        text-align: right;\n",
       "    }\n",
       "</style>\n",
       "<table border=\"1\" class=\"dataframe\">\n",
       "  <thead>\n",
       "    <tr style=\"text-align: right;\">\n",
       "      <th></th>\n",
       "      <th>strain1</th>\n",
       "      <th>strain2</th>\n",
       "      <th>strain3</th>\n",
       "    </tr>\n",
       "  </thead>\n",
       "  <tbody>\n",
       "    <tr>\n",
       "      <th>0</th>\n",
       "      <td>NaN</td>\n",
       "      <td>isoniazid</td>\n",
       "      <td>capreomycin</td>\n",
       "    </tr>\n",
       "    <tr>\n",
       "      <th>1</th>\n",
       "      <td>NaN</td>\n",
       "      <td>rifampicin</td>\n",
       "      <td>ethambutol</td>\n",
       "    </tr>\n",
       "    <tr>\n",
       "      <th>2</th>\n",
       "      <td>NaN</td>\n",
       "      <td>NaN</td>\n",
       "      <td>ethionamide</td>\n",
       "    </tr>\n",
       "    <tr>\n",
       "      <th>3</th>\n",
       "      <td>NaN</td>\n",
       "      <td>NaN</td>\n",
       "      <td>isoniazid</td>\n",
       "    </tr>\n",
       "    <tr>\n",
       "      <th>4</th>\n",
       "      <td>NaN</td>\n",
       "      <td>NaN</td>\n",
       "      <td>rifampicin</td>\n",
       "    </tr>\n",
       "    <tr>\n",
       "      <th>5</th>\n",
       "      <td>NaN</td>\n",
       "      <td>NaN</td>\n",
       "      <td>streptomycin</td>\n",
       "    </tr>\n",
       "  </tbody>\n",
       "</table>\n",
       "</div>"
      ],
      "text/plain": [
       "   strain1     strain2       strain3\n",
       "0      NaN   isoniazid   capreomycin\n",
       "1      NaN  rifampicin    ethambutol\n",
       "2      NaN         NaN   ethionamide\n",
       "3      NaN         NaN     isoniazid\n",
       "4      NaN         NaN    rifampicin\n",
       "5      NaN         NaN  streptomycin"
      ]
     },
     "execution_count": 61,
     "metadata": {},
     "output_type": "execute_result"
    }
   ],
   "source": [
    "#remove ducplicate items and show the dictionary as a df\n",
    "for x in range(1,num_RO+1):\n",
    "    resistance_dict['strain'+ str(x)] = np.unique(resistance_dict['strain'+ str(x)])\n",
    "\n",
    "pd.DataFrame(dict([ (k,pd.Series(v)) for k,v in resistance_dict.items() ]))"
   ]
  },
  {
   "cell_type": "code",
   "execution_count": 56,
   "metadata": {},
   "outputs": [
    {
     "data": {
      "text/html": [
       "<div>\n",
       "<style scoped>\n",
       "    .dataframe tbody tr th:only-of-type {\n",
       "        vertical-align: middle;\n",
       "    }\n",
       "\n",
       "    .dataframe tbody tr th {\n",
       "        vertical-align: top;\n",
       "    }\n",
       "\n",
       "    .dataframe thead th {\n",
       "        text-align: right;\n",
       "    }\n",
       "</style>\n",
       "<table border=\"1\" class=\"dataframe\">\n",
       "  <thead>\n",
       "    <tr style=\"text-align: right;\">\n",
       "      <th></th>\n",
       "      <th>0</th>\n",
       "      <th>1</th>\n",
       "      <th>2</th>\n",
       "      <th>3</th>\n",
       "    </tr>\n",
       "  </thead>\n",
       "  <tbody>\n",
       "    <tr>\n",
       "      <th>0</th>\n",
       "      <td>rifampicin</td>\n",
       "      <td>0.0</td>\n",
       "      <td>0.0</td>\n",
       "      <td>1.0</td>\n",
       "    </tr>\n",
       "    <tr>\n",
       "      <th>1</th>\n",
       "      <td>rifampicin</td>\n",
       "      <td>0.0</td>\n",
       "      <td>0.999</td>\n",
       "      <td>0.001</td>\n",
       "    </tr>\n",
       "    <tr>\n",
       "      <th>2</th>\n",
       "      <td>streptomycin</td>\n",
       "      <td>0.0</td>\n",
       "      <td>0.0</td>\n",
       "      <td>1.0</td>\n",
       "    </tr>\n",
       "    <tr>\n",
       "      <th>3</th>\n",
       "      <td>capreomycin</td>\n",
       "      <td>0.0</td>\n",
       "      <td>0.0</td>\n",
       "      <td>1.0</td>\n",
       "    </tr>\n",
       "    <tr>\n",
       "      <th>4</th>\n",
       "      <td>isoniazid</td>\n",
       "      <td>0.0</td>\n",
       "      <td>1.0</td>\n",
       "      <td>0.0</td>\n",
       "    </tr>\n",
       "    <tr>\n",
       "      <th>5</th>\n",
       "      <td>ethambutol</td>\n",
       "      <td>0.0</td>\n",
       "      <td>0.0</td>\n",
       "      <td>1.0</td>\n",
       "    </tr>\n",
       "    <tr>\n",
       "      <th>6</th>\n",
       "      <td>ethionamide</td>\n",
       "      <td>0.0</td>\n",
       "      <td>0.0</td>\n",
       "      <td>1.0</td>\n",
       "    </tr>\n",
       "  </tbody>\n",
       "</table>\n",
       "</div>"
      ],
      "text/plain": [
       "              0    1      2      3\n",
       "0    rifampicin  0.0    0.0    1.0\n",
       "1    rifampicin  0.0  0.999  0.001\n",
       "2  streptomycin  0.0    0.0    1.0\n",
       "3   capreomycin  0.0    0.0    1.0\n",
       "4     isoniazid  0.0    1.0    0.0\n",
       "5    ethambutol  0.0    0.0    1.0\n",
       "6   ethionamide  0.0    0.0    1.0"
      ]
     },
     "execution_count": 56,
     "metadata": {},
     "output_type": "execute_result"
    }
   ],
   "source": [
    "pd.DataFrame(probs_array)"
   ]
  },
  {
   "cell_type": "code",
   "execution_count": 262,
   "metadata": {},
   "outputs": [
    {
     "data": {
      "text/plain": [
       "<BarContainer object of 1171 artists>"
      ]
     },
     "execution_count": 262,
     "metadata": {},
     "output_type": "execute_result"
    },
    {
     "data": {
      "image/png": "[encoded data removed]",
      "text/plain": [
       "<Figure size 432x288 with 1 Axes>"
      ]
     },
     "metadata": {
      "needs_background": "light"
     },
     "output_type": "display_data"
    }
   ],
   "source": [
    "#frequency graph assuming that there is only two strains\n",
    "df_2component = pd.read_csv('ROAO_proportion.csv', names=range(3))\n",
    "df_2component['proportion'] = df_2component[2]/(df_2component[1]+df_2component[2]) # alt/(ref+alt)\n",
    "\n",
    "fig, ax= plt.subplots()\n",
    "ax.bar(np.arange(len(df_2component[2])),df_2component['proportion'])\n"
   ]
  },
  {
   "cell_type": "code",
   "execution_count": null,
   "metadata": {},
   "outputs": [],
   "source": []
  }
 ],
 "metadata": {
  "interpreter": {
   "hash": "d6768d4663a47fff933bae7805b3d263e035a1f0db74783c60faa02117d87629"
  },
  "kernelspec": {
   "display_name": "Python 3.7.10 64-bit ('assembly': conda)",
   "language": "python",
   "name": "python3"
  },
  "language_info": {
   "codemirror_mode": {
    "name": "ipython",
    "version": 3
   },
   "file_extension": ".py",
   "mimetype": "text/x-python",
   "name": "python",
   "nbconvert_exporter": "python",
   "pygments_lexer": "ipython3",
   "version": "3.10.0"
  },
  "orig_nbformat": 4
 },
 "nbformat": 4,
 "nbformat_minor": 2
}
