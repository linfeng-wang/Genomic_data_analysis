{
 "cells": [
  {
   "cell_type": "code",
   "execution_count": 57,
   "metadata": {},
   "outputs": [],
   "source": [
    "import numpy as np\n",
    "import matplotlib.pyplot as plt\n",
    "import pandas as pd\n",
    "import scipy\n",
    "import sklearn\n",
    "import os\n",
    "import subprocess\n",
    "import json\n",
    "import sys\n"
   ]
  },
  {
   "cell_type": "markdown",
   "metadata": {},
   "source": [
    "VCF input file: gz file of vcf compressed by bgzip needed"
   ]
  },
  {
   "cell_type": "code",
   "execution_count": 58,
   "metadata": {},
   "outputs": [],
   "source": [
    "#file names, should try to automate more\n",
    "VCF_FILE_NAME = 'ERR6634978-ERR6635032-4060.vcf.gz' #this needs to be changed as well \n",
    "VCF_PATH = 'test_data/'\n",
    "VCF_FILE_PATH = os.path.join(VCF_PATH, VCF_FILE_NAME)\n",
    "JSON_FILE_PATH = os.path.join(VCF_PATH, 'ERR6634978-ERR6635032-4060.results.json') #for the time being, change the file names here"
   ]
  },
  {
   "cell_type": "code",
   "execution_count": 59,
   "metadata": {},
   "outputs": [],
   "source": [
    "#tried to recognise whether if the vcf file is in gz format, if not, compress it\n",
    "# import re\n",
    "\n",
    "# if re.match('*vcf$',VCF_FILE_NAME):\n",
    "#     print('Please input .vcf.gz format file compresed using bgzip')\n"
   ]
  },
  {
   "cell_type": "code",
   "execution_count": 60,
   "metadata": {},
   "outputs": [],
   "source": [
    "#***for the time being, this can't be run***\n",
    "\n",
    "#running tb-profiler to identify drug resistance for the sample\n",
    "#need to be run in tb-profiler environment, somehow failed to download tb-profiler in ml-s7, so far this part is run out side python in bash\n",
    "\n",
    "# subprocess.call(['tb-profiler', 'vcf_profile', VCF_FILE_PATH])\n"
   ]
  },
  {
   "cell_type": "code",
   "execution_count": 61,
   "metadata": {},
   "outputs": [],
   "source": [
    "#read in the drug resistance labeled file generated from tb-profiler\n",
    "with open(JSON_FILE_PATH, 'r') as f:\n",
    "    json_labelling = json.load(f)"
   ]
  },
  {
   "cell_type": "code",
   "execution_count": 62,
   "metadata": {},
   "outputs": [
    {
     "name": "stderr",
     "output_type": "stream",
     "text": [
      "Could not find conda environment: tb-profiler\n",
      "You can list all discoverable environments with `conda info --envs`.\n",
      "\n"
     ]
    }
   ],
   "source": [
    "#get the reference read and alternative read count, changing environment is somehow not working in python\n",
    "env_command = 'eval \"$(conda shell.bash hook)\"; conda activate tb-profiler'\n",
    "subprocess.run(env_command, shell=True)\n",
    "\n",
    "with open('ROAO_proportion.csv', 'w') as f:\n",
    "    subprocess.run(['bcftools', 'query', '-f', '[%POS,%RO,%AO\\n]', VCF_FILE_PATH], shell=False, stdout=f, text=True)\n"
   ]
  },
  {
   "cell_type": "code",
   "execution_count": 63,
   "metadata": {},
   "outputs": [
    {
     "name": "stdout",
     "output_type": "stream",
     "text": [
      "5\n",
      "4\n"
     ]
    }
   ],
   "source": [
    "#count how many column there is in the ROAO_proportion.csv file this is needed in order to read the csv in a a panda dataframe\n",
    "import csv\n",
    "\n",
    "f = open('ROAO_proportion.csv')\n",
    "\n",
    "data = []\n",
    "num_col=0\n",
    "for line in f:\n",
    "    data_line = line.rstrip().split('\\n')\n",
    "    data_line = data_line[0].split(',')\n",
    "    data_line = [int(i) for i in data_line]\n",
    "    if len(data_line) > num_col:\n",
    "        num_col = len(data_line)\n",
    "    data.append(data_line)\n",
    "\n",
    "print(num_col) #outputing the length of column in the dataframe\n",
    "num_RO = num_col - 1\n",
    "print(num_RO)\n"
   ]
  },
  {
   "cell_type": "code",
   "execution_count": 64,
   "metadata": {},
   "outputs": [],
   "source": [
    "#this is to show the position of each variant a being read from the json file --- doesn't need to be run\n",
    "\n",
    "# for reads in json_labelling['dr_variants']:\n",
    "#     print(reads['genome_pos'])\n",
    "#     for i in reads['drugs']:\n",
    "#         print(i['drug'])\n",
    "\n",
    "# for reads in json_labelling['other_variants']:\n",
    "#     print(reads['genome_pos'])\n",
    "#     print(reads['gene_associated_drugs'])"
   ]
  },
  {
   "cell_type": "code",
   "execution_count": 65,
   "metadata": {},
   "outputs": [],
   "source": [
    "#reading csv as pandas dataframe and create a numpy array version of it\n",
    "df = pd.read_csv('ROAO_proportion.csv', names=range(num_col)) #doesn't include the 4th colum\n",
    "df.fillna(value=0, inplace=True)\n",
    "df[num_col] = None #create 4th column here as a empty column of zero, this column is for the drug resistance info\n",
    "df_np = df.to_numpy()\n",
    "\n"
   ]
  },
  {
   "cell_type": "code",
   "execution_count": 66,
   "metadata": {},
   "outputs": [],
   "source": [
    "\n",
    "#numpy array and json file compared against each other in terms of genome position and \n",
    "#the drug resistance info is added on to the 4th column of the numpy array if there is a match in genome position\n",
    "for ind, pos in enumerate(df_np[:,0]): \n",
    "    for reads in json_labelling['dr_variants']:\n",
    "        if pos == reads['genome_pos']:\n",
    "            # print('hit: ', pos)\n",
    "            for i in reads['drugs']:\n",
    "                df_np[ind, 4] = [i['drug']]\n",
    "\n",
    "#json_labelling['other_variants'] contain variant in region of variants that are responsible for drug resistance, but these variants are no the variants responsible for resistance even though they are in the region where resistance variants are found\n",
    "# for ind, pos in enumerate(df_np[:,0]):\n",
    "#     for reads in json_labelling['other_variants']:\n",
    "#         if pos == reads['genome_pos']:\n",
    "#             # print('hit: ', pos)\n",
    "#             df_np[ind, 4] = reads['gene_associated_drugs']\n"
   ]
  },
  {
   "cell_type": "code",
   "execution_count": 67,
   "metadata": {},
   "outputs": [
    {
     "data": {
      "text/plain": [
       "array([[1302, 93, 95, 0.0, 0.0, None],\n",
       "       [1977, 0, 247, 0.0, 0.0, None],\n",
       "       [2532, 68, 130, 0.0, 0.0, None],\n",
       "       ...,\n",
       "       [4408920, 68, 65, 0.0, 0.0, None],\n",
       "       [4410386, 98, 137, 0.0, 0.0, None],\n",
       "       [4411016, 68, 114, 0.0, 0.0, None]], dtype=object)"
      ]
     },
     "execution_count": 67,
     "metadata": {},
     "output_type": "execute_result"
    }
   ],
   "source": [
    "df_np"
   ]
  },
  {
   "cell_type": "code",
   "execution_count": 68,
   "metadata": {},
   "outputs": [
    {
     "data": {
      "text/plain": [
       "array([[93],\n",
       "       [0],\n",
       "       [68],\n",
       "       ...,\n",
       "       [68],\n",
       "       [98],\n",
       "       [68]], dtype=object)"
      ]
     },
     "execution_count": 68,
     "metadata": {},
     "output_type": "execute_result"
    }
   ],
   "source": [
    "model_input"
   ]
  },
  {
   "cell_type": "code",
   "execution_count": 69,
   "metadata": {},
   "outputs": [],
   "source": [
    "#training gaussianMixture Model\n",
    "\n",
    "from sklearn.mixture import GaussianMixture\n",
    "\n",
    "model_input = df_np[:,1:2]\n",
    "gm = GaussianMixture(n_components=2, random_state=0).fit(model_input)"
   ]
  },
  {
   "cell_type": "code",
   "execution_count": 76,
   "metadata": {},
   "outputs": [],
   "source": [
    "#create number of strain number of object in a dictionary\n",
    "resistance_dict = {}\n",
    "\n",
    "for x in range(1,num_RO+1):\n",
    "    resistance_dict['strain'+ str(x)] = []\n",
    "\n",
    "# resistance_dict"
   ]
  },
  {
   "cell_type": "code",
   "execution_count": 71,
   "metadata": {},
   "outputs": [],
   "source": [
    "# np.set_printoptions(threshold=sys.maxsize)\n",
    "# df_np\n"
   ]
  },
  {
   "cell_type": "code",
   "execution_count": 81,
   "metadata": {},
   "outputs": [
    {
     "data": {
      "text/plain": [
       "5"
      ]
     },
     "execution_count": 81,
     "metadata": {},
     "output_type": "execute_result"
    }
   ],
   "source": [
    "num_col"
   ]
  },
  {
   "cell_type": "code",
   "execution_count": 80,
   "metadata": {},
   "outputs": [
    {
     "data": {
      "text/plain": [
       "array([[1302, 93, 95, 0.0, 0.0, None],\n",
       "       [1977, 0, 247, 0.0, 0.0, None],\n",
       "       [2532, 68, 130, 0.0, 0.0, None],\n",
       "       ...,\n",
       "       [4408920, 68, 65, 0.0, 0.0, None],\n",
       "       [4410386, 98, 137, 0.0, 0.0, None],\n",
       "       [4411016, 68, 114, 0.0, 0.0, None]], dtype=object)"
      ]
     },
     "execution_count": 80,
     "metadata": {},
     "output_type": "execute_result"
    }
   ],
   "source": [
    "df_np"
   ]
  },
  {
   "cell_type": "code",
   "execution_count": 89,
   "metadata": {},
   "outputs": [
    {
     "data": {
      "text/plain": [
       "4"
      ]
     },
     "execution_count": 89,
     "metadata": {},
     "output_type": "execute_result"
    }
   ],
   "source": [
    "num_RO"
   ]
  },
  {
   "cell_type": "code",
   "execution_count": 90,
   "metadata": {},
   "outputs": [],
   "source": [
    "#reads are assigned to different strains according to their ROAO by the gaussianMixture model\n",
    "#and added to the corresponding strain item in dictionary\n",
    "probs_array = []\n",
    "\n",
    "for x in df_np:\n",
    "    if x[num_col] != None:\n",
    "        output = gm.predict([x[1:3]])\n",
    "        probs = gm.predict_proba([x[1:3]])\n",
    "        print(x[num_col], 'probs: ', probs.round(3))\n",
    "        resistance = np.array(x[num_col])\n",
    "        insert = np.append(resistance, probs.round(3))\n",
    "        probs_array.append(insert)\n",
    "        print(insert)\n",
    "        print(type(probs_array))\n",
    "\n",
    "        for i in range(1,num_RO):\n",
    "            if output == [i-1]: \n",
    "                # if x[num_col] in resistance_dict['strain'+ str(i)]:\n",
    "                #     continue\n",
    "                resistance_dict['strain'+ str(i)].extend(x[num_col])\n",
    "                # print(x[num_col], 'added')\n",
    "\n",
    "np.array(probs_array)\n",
    "\n",
    "for x in df_np: #this bit has to be another separate for loop because it add the resistance to all strain that are not empty, strain must be added first to determine if they are truely empty or not\n",
    "    if x[num_col] != None:\n",
    "        for i in range(1,num_RO+1):\n",
    "            if output == [i-1]:\n",
    "                if max(x[1:num_col])/sum(x[1:num_col]) >= 0.99: #calculating frequency if the frequenct >= 0.99 we could say that this resistance exist in all strains\n",
    "                    for k, v in resistance_dict.items():\n",
    "                        if len(v) != 0: #if this is not a empty strain\n",
    "                            resistance_dict['strain'+ str(i)].extend(x[num_col]) #\n",
    "\n",
    "                \n",
    "\n",
    "\n"
   ]
  },
  {
   "cell_type": "code",
   "execution_count": 91,
   "metadata": {},
   "outputs": [
    {
     "data": {
      "text/plain": [
       "[]"
      ]
     },
     "execution_count": 91,
     "metadata": {},
     "output_type": "execute_result"
    }
   ],
   "source": [
    "probs_array"
   ]
  },
  {
   "cell_type": "code",
   "execution_count": 92,
   "metadata": {},
   "outputs": [
    {
     "data": {
      "text/plain": [
       "{'strain1': array([], dtype=float64),\n",
       " 'strain2': array([], dtype=float64),\n",
       " 'strain3': array([], dtype=float64),\n",
       " 'strain4': array([], dtype=float64)}"
      ]
     },
     "execution_count": 92,
     "metadata": {},
     "output_type": "execute_result"
    }
   ],
   "source": [
    "resistance_dict"
   ]
  },
  {
   "cell_type": "code",
   "execution_count": 86,
   "metadata": {},
   "outputs": [
    {
     "data": {
      "text/html": [
       "<div>\n",
       "<style scoped>\n",
       "    .dataframe tbody tr th:only-of-type {\n",
       "        vertical-align: middle;\n",
       "    }\n",
       "\n",
       "    .dataframe tbody tr th {\n",
       "        vertical-align: top;\n",
       "    }\n",
       "\n",
       "    .dataframe thead th {\n",
       "        text-align: right;\n",
       "    }\n",
       "</style>\n",
       "<table border=\"1\" class=\"dataframe\">\n",
       "  <thead>\n",
       "    <tr style=\"text-align: right;\">\n",
       "      <th></th>\n",
       "      <th>strain1</th>\n",
       "      <th>strain2</th>\n",
       "      <th>strain3</th>\n",
       "      <th>strain4</th>\n",
       "    </tr>\n",
       "  </thead>\n",
       "  <tbody>\n",
       "  </tbody>\n",
       "</table>\n",
       "</div>"
      ],
      "text/plain": [
       "Empty DataFrame\n",
       "Columns: [strain1, strain2, strain3, strain4]\n",
       "Index: []"
      ]
     },
     "execution_count": 86,
     "metadata": {},
     "output_type": "execute_result"
    }
   ],
   "source": [
    "#remove ducplicate items and show the dictionary as a df\n",
    "for x in range(1,num_RO+1):\n",
    "    resistance_dict['strain'+ str(x)] = np.unique(resistance_dict['strain'+ str(x)])\n",
    "\n",
    "pd.DataFrame(dict([ (k,pd.Series(v)) for k,v in resistance_dict.items() ]))"
   ]
  },
  {
   "cell_type": "code",
   "execution_count": 87,
   "metadata": {},
   "outputs": [
    {
     "data": {
      "text/html": [
       "<div>\n",
       "<style scoped>\n",
       "    .dataframe tbody tr th:only-of-type {\n",
       "        vertical-align: middle;\n",
       "    }\n",
       "\n",
       "    .dataframe tbody tr th {\n",
       "        vertical-align: top;\n",
       "    }\n",
       "\n",
       "    .dataframe thead th {\n",
       "        text-align: right;\n",
       "    }\n",
       "</style>\n",
       "<table border=\"1\" class=\"dataframe\">\n",
       "  <thead>\n",
       "    <tr style=\"text-align: right;\">\n",
       "      <th></th>\n",
       "    </tr>\n",
       "  </thead>\n",
       "  <tbody>\n",
       "  </tbody>\n",
       "</table>\n",
       "</div>"
      ],
      "text/plain": [
       "Empty DataFrame\n",
       "Columns: []\n",
       "Index: []"
      ]
     },
     "execution_count": 87,
     "metadata": {},
     "output_type": "execute_result"
    }
   ],
   "source": [
    "pd.DataFrame(probs_array)"
   ]
  },
  {
   "cell_type": "code",
   "execution_count": 53,
   "metadata": {},
   "outputs": [
    {
     "data": {
      "text/plain": [
       "<BarContainer object of 3591 artists>"
      ]
     },
     "execution_count": 53,
     "metadata": {},
     "output_type": "execute_result"
    },
    {
     "data": {
      "image/png": "[encoded data removed]",
      "text/plain": [
       "<Figure size 432x288 with 1 Axes>"
      ]
     },
     "metadata": {
      "needs_background": "light"
     },
     "output_type": "display_data"
    }
   ],
   "source": [
    "#frequency graph assuming that there is only two strains\n",
    "df_2component = pd.read_csv('ROAO_proportion.csv', names=range(3))\n",
    "df_2component['proportion'] = df_2component[2]/(df_2component[1]+df_2component[2]) # alt/(ref+alt)\n",
    "\n",
    "fig, ax= plt.subplots()\n",
    "ax.bar(np.arange(len(df_2component[2])),df_2component['proportion'])\n"
   ]
  },
  {
   "cell_type": "code",
   "execution_count": null,
   "metadata": {},
   "outputs": [],
   "source": []
  }
 ],
 "metadata": {
  "interpreter": {
   "hash": "d6768d4663a47fff933bae7805b3d263e035a1f0db74783c60faa02117d87629"
  },
  "kernelspec": {
   "display_name": "Python 3 (ipykernel)",
   "language": "python",
   "name": "python3"
  },
  "language_info": {
   "codemirror_mode": {
    "name": "ipython",
    "version": 3
   },
   "file_extension": ".py",
   "mimetype": "text/x-python",
   "name": "python",
   "nbconvert_exporter": "python",
   "pygments_lexer": "ipython3",
   "version": "3.10.0"
  }
 },
 "nbformat": 4,
 "nbformat_minor": 4
}
