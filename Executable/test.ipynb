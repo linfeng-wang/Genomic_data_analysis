{
 "cells": [
  {
   "cell_type": "code",
   "execution_count": 2,
   "metadata": {},
   "outputs": [],
   "source": [
    "\n",
    "import numpy as np\n",
    "import matplotlib\n",
    "import matplotlib.pyplot as plt\n",
    "\n",
    "import sklearn\n",
    "from sklearn import cluster, mixture\n",
    "import subprocess\n"
   ]
  },
  {
   "cell_type": "code",
   "execution_count": 5,
   "metadata": {},
   "outputs": [],
   "source": [
    "list_=[]\n",
    "with open('/mnt/storage7/jody/tb_data_2022_08_19.csv', \"r\") as f:\n",
    "    h = 1\n",
    "    for l in f:\n",
    "        if h == 1:\n",
    "            h = 0\n",
    "            continue\n",
    "\n",
    "        l = l.split(\",\")[0]\n",
    "        list_.append(l)\n",
    "\n",
    "with open('/mnt/storage7/lwang/trial_tb_philippines/pipelines/Genomic_data_analysis/Executable_eval/sample_name.txt', \"w\") as f:\n",
    "    for line in list_:\n",
    "        f.write(f\"{line}\\n\")"
   ]
  },
  {
   "cell_type": "code",
   "execution_count": 6,
   "metadata": {},
   "outputs": [
    {
     "data": {
      "text/plain": [
       "50723"
      ]
     },
     "execution_count": 6,
     "metadata": {},
     "output_type": "execute_result"
    }
   ],
   "source": [
    "len(list_)"
   ]
  },
  {
   "cell_type": "code",
   "execution_count": 9,
   "metadata": {},
   "outputs": [
    {
     "name": "stdout",
     "output_type": "stream",
     "text": [
      "<_io.TextIOWrapper name='/mnt/storage7/jody/tb_ena/per_sample/ERR2864229.g.vcf.gz' mode='r' encoding='UTF-8'>\n"
     ]
    }
   ],
   "source": [
    "\n",
    "\n",
    "with open('/mnt/storage7/jody/tb_ena/per_sample/ERR2864229.gatk.vcf.gz', \"r\") as f:\n",
    "    print(f)\n"
   ]
  },
  {
   "cell_type": "code",
   "execution_count": 5,
   "metadata": {},
   "outputs": [],
   "source": [
    "\n",
    "\n",
    "\n",
    "vcf_file = '/mnt/storage7//jody/tb_ena/per_sample/ERR2503421.g.vcf.gz'\n",
    "vcf_file1 = '/mnt/storage7//jody/tb_ena/per_sample/ERR2864229.gatk.vcf.gz'\n",
    "\n",
    "with open('test.txt', \"w\") as f:\n",
    "    f.write(vcf_file1)\n",
    "    subprocess.run(f\"bcftools view -c 1 -m2 -M2 -T ^new_exclusion.bed %s | bcftools query -f '%%POS\\\\t%%REF\\\\t%%ALT[\\\\t%%GT\\\\t%%AD\\\\n]'\" % vcf_file1, shell=True, stdout=f, text=True)"
   ]
  },
  {
   "cell_type": "markdown",
   "metadata": {},
   "source": []
  }
 ],
 "metadata": {
  "kernelspec": {
   "display_name": "Python 3.10.4 ('ml-s7': conda)",
   "language": "python",
   "name": "python3"
  },
  "language_info": {
   "codemirror_mode": {
    "name": "ipython",
    "version": 3
   },
   "file_extension": ".py",
   "mimetype": "text/x-python",
   "name": "python",
   "nbconvert_exporter": "python",
   "pygments_lexer": "ipython3",
   "version": "3.10.4"
  },
  "orig_nbformat": 4,
  "vscode": {
   "interpreter": {
    "hash": "12d9b80fa252b05f6dc974f9593fbd4d67e5b6232b89f517e1ed4a2121110dce"
   }
  }
 },
 "nbformat": 4,
 "nbformat_minor": 2
}
